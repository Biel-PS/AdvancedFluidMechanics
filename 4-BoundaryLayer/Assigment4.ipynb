{
  "cells": [
    {
      "cell_type": "markdown",
      "id": "7911c5a4-55a7-408b-8b51-0bc55dabb83e",
      "metadata": {
        "id": "7911c5a4-55a7-408b-8b51-0bc55dabb83e"
      },
      "source": [
        "# Assignment 4. Growth of Turbulent Boundary Layer\n",
        "\n",
        "In the Notebook we have found a function that computes, for every $c_f$ the corresponding value of $\\text{Re}_\\delta$ (and, consequently, $\\delta$).\n",
        "\n",
        "1. Use this function to find a power fit of the type\n",
        "\n",
        "$$\n",
        "c_f = K \\text{Re}_\\delta^n\n",
        "$$\n",
        "\n",
        "2.  Use this to define a function for the friction velocity as a function of $\\delta$ and $U$, `u_tau(delta, U)`\n",
        "\n",
        "3. Introduce this function into the log-law to find a cloud of points $(y,u)$ and fit again witha power law\n",
        "\n",
        "$$\n",
        "\\left(\\frac{u}{U}\\right) = K'\\left(\\frac{y}{\\delta}\\right)^m\n",
        "$$\n",
        "\n",
        "This is know as the power-law for the turbulent boundary layer. It is, as the log-law, valid only for $y^+ \\gtrapprox 30$\n",
        "\n",
        "4. Finally use the von Kármán equation for steady uniform flow, equation (27), to find how a turbulent boundary layer grows, $\\delta(x)$."
      ]
    },
    {
      "cell_type": "code",
      "source": [
        "import numpy as np\n",
        "import sympy as sp\n",
        "import matplotlib.pyplot as plt\n",
        "import scipy.optimize as opt\n",
        "\n",
        "def Re_fun(c_f):\n",
        "  Re_delta = 0.182058646604666*np.exp(0.579827560572969/np.sqrt(c_f))/np.sqrt(c_f)\n",
        "  return Re_delta\n",
        "\n",
        "def Re_sim(c_f):\n",
        "  Re_sim = K * Re_delta**n\n",
        "  return Re_sim\n",
        "\n",
        "start = 0.001\n",
        "end = 0.005\n",
        "num_points = 100\n",
        "vector = np.linspace(start, end, num_points)\n",
        "\n",
        "print(vector)\n",
        "\n",
        "popt, pcov = opt.curve_fit(Re_fun, vector)\n",
        "print(popt)\n",
        "\n",
        "plt.plot(vector,Re_fun(vector))\n",
        "plt.yscale(\"log\")\n",
        "plt.xlabel(\" c_f[log]\")\n",
        "plt.ylabel(\"Re_delta\")\n",
        "plt.legend()\n",
        "plt.show()\n"
      ],
      "metadata": {
        "id": "-0B9isOK-7TS",
        "outputId": "a4d82ab2-f0d5-48e5-b678-a1e96e9f12b7",
        "colab": {
          "base_uri": "https://localhost:8080/",
          "height": 496
        }
      },
      "id": "-0B9isOK-7TS",
      "execution_count": 9,
      "outputs": [
        {
          "output_type": "stream",
          "name": "stdout",
          "text": [
            "[0.001      0.0010404  0.00108081 0.00112121 0.00116162 0.00120202\n",
            " 0.00124242 0.00128283 0.00132323 0.00136364 0.00140404 0.00144444\n",
            " 0.00148485 0.00152525 0.00156566 0.00160606 0.00164646 0.00168687\n",
            " 0.00172727 0.00176768 0.00180808 0.00184848 0.00188889 0.00192929\n",
            " 0.0019697  0.0020101  0.00205051 0.00209091 0.00213131 0.00217172\n",
            " 0.00221212 0.00225253 0.00229293 0.00233333 0.00237374 0.00241414\n",
            " 0.00245455 0.00249495 0.00253535 0.00257576 0.00261616 0.00265657\n",
            " 0.00269697 0.00273737 0.00277778 0.00281818 0.00285859 0.00289899\n",
            " 0.00293939 0.0029798  0.0030202  0.00306061 0.00310101 0.00314141\n",
            " 0.00318182 0.00322222 0.00326263 0.00330303 0.00334343 0.00338384\n",
            " 0.00342424 0.00346465 0.00350505 0.00354545 0.00358586 0.00362626\n",
            " 0.00366667 0.00370707 0.00374747 0.00378788 0.00382828 0.00386869\n",
            " 0.00390909 0.00394949 0.0039899  0.0040303  0.00407071 0.00411111\n",
            " 0.00415152 0.00419192 0.00423232 0.00427273 0.00431313 0.00435354\n",
            " 0.00439394 0.00443434 0.00447475 0.00451515 0.00455556 0.00459596\n",
            " 0.00463636 0.00467677 0.00471717 0.00475758 0.00479798 0.00483838\n",
            " 0.00487879 0.00491919 0.0049596  0.005     ]\n"
          ]
        },
        {
          "output_type": "error",
          "ename": "TypeError",
          "evalue": "curve_fit() missing 1 required positional argument: 'ydata'",
          "traceback": [
            "\u001b[0;31m---------------------------------------------------------------------------\u001b[0m",
            "\u001b[0;31mTypeError\u001b[0m                                 Traceback (most recent call last)",
            "\u001b[0;32m<ipython-input-9-2dc68b8cbeb7>\u001b[0m in \u001b[0;36m<cell line: 0>\u001b[0;34m()\u001b[0m\n\u001b[1;32m     15\u001b[0m \u001b[0mprint\u001b[0m\u001b[0;34m(\u001b[0m\u001b[0mvector\u001b[0m\u001b[0;34m)\u001b[0m\u001b[0;34m\u001b[0m\u001b[0;34m\u001b[0m\u001b[0m\n\u001b[1;32m     16\u001b[0m \u001b[0;34m\u001b[0m\u001b[0m\n\u001b[0;32m---> 17\u001b[0;31m \u001b[0mpopt\u001b[0m\u001b[0;34m,\u001b[0m \u001b[0mpcov\u001b[0m \u001b[0;34m=\u001b[0m \u001b[0mopt\u001b[0m\u001b[0;34m.\u001b[0m\u001b[0mcurve_fit\u001b[0m\u001b[0;34m(\u001b[0m\u001b[0mRe_fun\u001b[0m\u001b[0;34m,\u001b[0m \u001b[0mvector\u001b[0m\u001b[0;34m)\u001b[0m\u001b[0;34m\u001b[0m\u001b[0;34m\u001b[0m\u001b[0m\n\u001b[0m\u001b[1;32m     18\u001b[0m \u001b[0mprint\u001b[0m\u001b[0;34m(\u001b[0m\u001b[0mpopt\u001b[0m\u001b[0;34m)\u001b[0m\u001b[0;34m\u001b[0m\u001b[0;34m\u001b[0m\u001b[0m\n\u001b[1;32m     19\u001b[0m \u001b[0;34m\u001b[0m\u001b[0m\n",
            "\u001b[0;31mTypeError\u001b[0m: curve_fit() missing 1 required positional argument: 'ydata'"
          ]
        }
      ]
    }
  ],
  "metadata": {
    "kernelspec": {
      "display_name": "Python 3 (ipykernel)",
      "language": "python",
      "name": "python3"
    },
    "language_info": {
      "codemirror_mode": {
        "name": "ipython",
        "version": 3
      },
      "file_extension": ".py",
      "mimetype": "text/x-python",
      "name": "python",
      "nbconvert_exporter": "python",
      "pygments_lexer": "ipython3",
      "version": "3.8.13"
    },
    "colab": {
      "provenance": []
    }
  },
  "nbformat": 4,
  "nbformat_minor": 5
}