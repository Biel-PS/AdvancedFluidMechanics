{
 "cells": [
  {
   "cell_type": "markdown",
   "id": "czech-colon",
   "metadata": {},
   "source": [
    "# Turbulent flows. Statistical description and characteristic scales"
   ]
  },
  {
   "cell_type": "markdown",
   "id": "nasty-mountain",
   "metadata": {},
   "source": [
    "This topic has been prepared principally based on chapter 3 of excellent Pope's book [\"Turbulent Flows\"](https://discovery.upc.edu/iii/encore/record/C__Rb1253705?lang=cat). "
   ]
  },
  {
   "cell_type": "markdown",
   "id": "empty-gazette",
   "metadata": {},
   "source": [
    "## Random variables"
   ]
  },
  {
   "cell_type": "markdown",
   "id": "experienced-directive",
   "metadata": {},
   "source": [
    "According to Wikipedia, a random variable is the outcome of a [random phenomenon](https://en.wikipedia.org/wiki/Randomness) which, apparently, lacks a pattern or predictability.\n",
    "\n",
    "The numpy module has a random number generator."
   ]
  },
  {
   "cell_type": "code",
   "execution_count": null,
   "id": "convertible-grain",
   "metadata": {},
   "outputs": [],
   "source": [
    "from numpy.random import default_rng\n",
    "import numpy as np"
   ]
  },
  {
   "cell_type": "code",
   "execution_count": null,
   "id": "foreign-cycle",
   "metadata": {},
   "outputs": [],
   "source": [
    "rng = default_rng()"
   ]
  },
  {
   "cell_type": "code",
   "execution_count": null,
   "id": "sacred-ireland",
   "metadata": {},
   "outputs": [],
   "source": [
    "rng.uniform()"
   ]
  },
  {
   "cell_type": "markdown",
   "id": "refined-stopping",
   "metadata": {},
   "source": [
    "Every time we call this function, it will generate a different value, in this case, with a uniform distribution between 0 and 1"
   ]
  },
  {
   "cell_type": "code",
   "execution_count": null,
   "id": "helpful-silver",
   "metadata": {},
   "outputs": [],
   "source": [
    "rng.uniform()"
   ]
  },
  {
   "cell_type": "markdown",
   "id": "advisory-passage",
   "metadata": {},
   "source": [
    "We cannot predict the value, but the probability of the numbers is the same."
   ]
  },
  {
   "cell_type": "code",
   "execution_count": null,
   "id": "comprehensive-median",
   "metadata": {},
   "outputs": [],
   "source": [
    "import matplotlib.pyplot as plt"
   ]
  },
  {
   "cell_type": "code",
   "execution_count": null,
   "id": "manufactured-chemistry",
   "metadata": {},
   "outputs": [],
   "source": [
    "rvar = rng.uniform(size=1000)\n",
    "x_plot = np.linspace(0,1,1000)\n",
    "fig,ax = plt.subplots(1,2,figsize=(16,4))\n",
    "ax[0].scatter(x_plot,rvar)\n",
    "ax[1].hist(rvar,bins=20,orientation=\"horizontal\",density=True);\n",
    "ax[1].set_xlim([0,5])"
   ]
  },
  {
   "cell_type": "markdown",
   "id": "affected-accent",
   "metadata": {},
   "source": [
    "We can generate random numbers with another probability distribution, for example, a [normal distribution](https://en.wikipedia.org/wiki/Normal_distribution)"
   ]
  },
  {
   "cell_type": "code",
   "execution_count": null,
   "id": "cleared-might",
   "metadata": {},
   "outputs": [],
   "source": [
    "rnvar = rng.normal(loc=0.5,scale=0.1,size=1000)\n",
    "fig,ax = plt.subplots(1,2,figsize=(16,4))\n",
    "ax[0].scatter(x_plot,rnvar)\n",
    "ax[1].hist(rnvar,bins=20,orientation=\"horizontal\",density=True);\n",
    "ax[1].set_xlim([0,5])"
   ]
  },
  {
   "cell_type": "markdown",
   "id": "simplified-guess",
   "metadata": {},
   "source": [
    "One of the characteristics of [turbulent](https://en.wikipedia.org/wiki/Turbulence) flow is that it is _chaotic_, meaning that, after a while, it becomes random. But, how can be random a phenomenon that, like laminar flow, is described by deterministic Navier-Stokes equations? The answer lies in the initial and boundary conditions. Unlike laminar flows (like the ones we saw in microflows part), turbulent flows are very sensitive to very small changes in initial and boundary conditions: small vibrations, slight changes in temperature, pressure, surface...\n",
    "\n",
    "Let's see that with a typical example: [Lorenz equations](https://en.wikipedia.org/wiki/Lorenz_system). Lorenz defined a system of 3 non linear ODEs:\n",
    "\n",
    "\\begin{aligned}\n",
    "\\frac {\\mathrm{d} x}{\\mathrm{d} t}&=\\sigma (y-x),\\\\[6pt]\n",
    "\\frac {\\mathrm{d} y}{\\mathrm{d} t}&=x(\\rho -z)-y,\\\\[6pt]\n",
    "\\frac {\\mathrm{d} z}{\\mathrm{d} t}&=xy-\\beta z.\n",
    "\\end{aligned}\n",
    "\n",
    "where $\\rho$, $\\beta$ and $\\sigma$ are constant parameters. It the values $\\rho = 28.0$, $\\sigma = 10.0$ and $\\beta = 8/3$, it gives the famous Lorenz attactor."
   ]
  },
  {
   "cell_type": "code",
   "execution_count": null,
   "id": "fifty-morning",
   "metadata": {},
   "outputs": [],
   "source": [
    "from scipy.integrate import odeint\n",
    "from mpl_toolkits.mplot3d import Axes3D\n",
    "\n",
    "rho = 28.0\n",
    "sigma = 10.0\n",
    "beta = 8.0 / 3.0\n",
    "\n",
    "def f(pos, t):\n",
    "    x, y, z = pos  # Unpack the state vector\n",
    "    return sigma * (y - x), x * (rho - z) - y, x * y - beta * z  # Derivatives\n",
    "\n",
    "pos0 = [0.1, 0.1, 0.1]\n",
    "t = np.arange(0.0, 100.0, 0.01)\n",
    "\n",
    "pos = odeint(f, pos0, t)\n",
    "\n",
    "fig = plt.figure(figsize=(10,10))\n",
    "ax = fig.gca(projection=\"3d\")\n",
    "ax.plot(pos[:, 0], pos[:, 1], pos[:, 2]);"
   ]
  },
  {
   "cell_type": "code",
   "execution_count": null,
   "id": "forced-kingston",
   "metadata": {},
   "outputs": [],
   "source": [
    "fig = plt.figure(figsize=(8,4))\n",
    "ax = fig.gca()\n",
    "ax.plot(t,pos[:,0])"
   ]
  },
  {
   "cell_type": "code",
   "execution_count": null,
   "id": "nonprofit-fireplace",
   "metadata": {},
   "outputs": [],
   "source": [
    "pos0 = [0.100000001, 0.1, 0.1]\n",
    "pos_new = odeint(f, pos0, t)"
   ]
  },
  {
   "cell_type": "code",
   "execution_count": null,
   "id": "structural-exercise",
   "metadata": {},
   "outputs": [],
   "source": [
    "fig = plt.figure(figsize=(8,4))\n",
    "ax = fig.gca()\n",
    "ax.plot(t,pos_new[:,0])"
   ]
  },
  {
   "cell_type": "code",
   "execution_count": null,
   "id": "dress-algebra",
   "metadata": {},
   "outputs": [],
   "source": [
    "delta_x = pos_new[:,0] - pos[:,0]"
   ]
  },
  {
   "cell_type": "code",
   "execution_count": null,
   "id": "proper-negative",
   "metadata": {},
   "outputs": [],
   "source": [
    "fig = plt.figure(figsize=(8,4))\n",
    "ax = fig.gca()\n",
    "ax.plot(t,delta_x)"
   ]
  },
  {
   "cell_type": "code",
   "execution_count": null,
   "id": "resident-sculpture",
   "metadata": {},
   "outputs": [],
   "source": []
  }
 ],
 "metadata": {
  "kernelspec": {
   "display_name": "Python 3",
   "language": "python",
   "name": "python3"
  },
  "language_info": {
   "codemirror_mode": {
    "name": "ipython",
    "version": 3
   },
   "file_extension": ".py",
   "mimetype": "text/x-python",
   "name": "python",
   "nbconvert_exporter": "python",
   "pygments_lexer": "ipython3",
   "version": "3.8.5"
  }
 },
 "nbformat": 4,
 "nbformat_minor": 5
}
