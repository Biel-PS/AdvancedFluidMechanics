{
 "cells": [
  {
   "cell_type": "markdown",
   "id": "varied-istanbul",
   "metadata": {},
   "source": [
    "# Statistical process of experimental measurments"
   ]
  },
  {
   "attachments": {
    "8bbafe3d-928a-4d24-b137-eb33de1720ad.png": {
     "image/png": "[encoded data removed]"
    }
   },
   "cell_type": "markdown",
   "id": "academic-station",
   "metadata": {},
   "source": [
    "In our lab some measurements of local velocity were made with a CTA probe (see for example the [Wikipedia page for hot-wire anemometry](https://en.wikipedia.org/wiki/Anemometer#Hot-wire_anemometers), or the [Dantec information](https://www.dantecdynamics.com/solutions-applications/solutions/fluid-mechanics/constant-temperature-anemometry-cta/measurement-principles-of-cta/))\n",
    "\n",
    "The measurements were performed in the wake behind a NACA profile with 5 degrees incidence angle\n",
    "\n",
    "![image.png](attachment:8bbafe3d-928a-4d24-b137-eb33de1720ad.png)\n",
    "\n",
    "The data provided have been acquired at a distance of, approximately, $\\frac{x}{c} \\approx 1.1$, where $c = 265 \\,\\text{mm}$ is the profile's chord. and there are 17 $y$ positions, \n",
    "from $y=-4 \\,\\text{cm}$ to $y=+4 \\,\\text{cm}$, in intervals of 5 mm. In each point the velocity has been acquired for a second with a frequency of 1 kHz (that is, 1000 velocities in each point). It has been measured only the $x$ component (main flow direction).\n",
    "\n",
    "Most of the topics covered in this notebook have been consulted in the [CFD-online Wiki page \"Introduction to turbulence\"](https://www.cfd-online.com/Wiki/Introduction_to_turbulence)"
   ]
  },
  {
   "cell_type": "code",
   "execution_count": null,
   "id": "operational-neighbor",
   "metadata": {},
   "outputs": [],
   "source": [
    "import pandas as pd\n",
    "import numpy as np"
   ]
  },
  {
   "cell_type": "markdown",
   "id": "abstract-wales",
   "metadata": {},
   "source": [
    "We define the names for the columns, according with the definition"
   ]
  },
  {
   "cell_type": "code",
   "execution_count": null,
   "id": "severe-companion",
   "metadata": {},
   "outputs": [],
   "source": [
    "columns = []\n",
    "for i in range(17):\n",
    "    y = (i-8)*5\n",
    "    columns.append(\"y = \"+np.str(y)+\"mm\")"
   ]
  },
  {
   "cell_type": "code",
   "execution_count": null,
   "id": "wooden-tribe",
   "metadata": {},
   "outputs": [],
   "source": [
    "turbulenceData = pd.read_csv('TurbVel.csv',delimiter=',', index_col=0,names=columns)"
   ]
  },
  {
   "cell_type": "code",
   "execution_count": null,
   "id": "employed-amazon",
   "metadata": {},
   "outputs": [],
   "source": [
    "turbulenceData.index.name=\"Time\""
   ]
  },
  {
   "cell_type": "code",
   "execution_count": null,
   "id": "imperial-illness",
   "metadata": {},
   "outputs": [],
   "source": [
    "turbulenceData.head()"
   ]
  },
  {
   "cell_type": "markdown",
   "id": "heard-protein",
   "metadata": {},
   "source": [
    "If we want to save this data in another file, keeping the information for index, columns, etc... instead of csv, we can use a more powerful format, as HDF. This is a Hierarchical Data Format, widely used to store big amounts of data in a organized way. More information, in the [HDF group web page](https://www.hdfgroup.org/solutions/hdf5) or in [Wikipedia](https://en.wikipedia.org/wiki/Hierarchical_Data_Format)."
   ]
  },
  {
   "cell_type": "code",
   "execution_count": null,
   "id": "accessory-thomson",
   "metadata": {},
   "outputs": [],
   "source": [
    "turbulenceData.to_hdf(\"TurbVel.hdf\",\"w\")"
   ]
  },
  {
   "cell_type": "markdown",
   "id": "parental-validation",
   "metadata": {},
   "source": [
    "We can then get again the data with the format provided"
   ]
  },
  {
   "cell_type": "code",
   "execution_count": null,
   "id": "apart-gardening",
   "metadata": {},
   "outputs": [],
   "source": [
    "newTurbulenceData = pd.read_hdf(\"TurbVel.hdf\")"
   ]
  },
  {
   "cell_type": "code",
   "execution_count": null,
   "id": "iraqi-garbage",
   "metadata": {},
   "outputs": [],
   "source": [
    "newTurbulenceData"
   ]
  },
  {
   "cell_type": "code",
   "execution_count": null,
   "id": "finished-hotel",
   "metadata": {},
   "outputs": [],
   "source": [
    "del(newTurbulenceData)"
   ]
  },
  {
   "cell_type": "markdown",
   "id": "relevant-intelligence",
   "metadata": {},
   "source": [
    "We can easily plot velocity time series in any point"
   ]
  },
  {
   "cell_type": "code",
   "execution_count": null,
   "id": "interesting-disaster",
   "metadata": {},
   "outputs": [],
   "source": [
    "turbulenceData[\"y = 0mm\"].plot(ylabel=\"u\")"
   ]
  },
  {
   "cell_type": "markdown",
   "id": "catholic-soundtrack",
   "metadata": {},
   "source": [
    "And also we can get the main features"
   ]
  },
  {
   "cell_type": "code",
   "execution_count": null,
   "id": "statewide-shirt",
   "metadata": {},
   "outputs": [],
   "source": [
    "statData = turbulenceData.describe()\n",
    "statData"
   ]
  },
  {
   "cell_type": "code",
   "execution_count": null,
   "id": "superb-wyoming",
   "metadata": {},
   "outputs": [],
   "source": [
    "statData.loc[\"mean\"].plot(title=\"Mean velocities\")"
   ]
  },
  {
   "cell_type": "markdown",
   "id": "moving-error",
   "metadata": {},
   "source": [
    "## Computation of turbulence intensities"
   ]
  },
  {
   "cell_type": "markdown",
   "id": "cathedral-fellow",
   "metadata": {},
   "source": [
    "Remember the definition of turbulence intensity: \n",
    "\n",
    "$$ I = \\frac{\\sqrt{\\overline{u'^2}}}{\\bar{u}} $$\n",
    "\n",
    "where the numerator is, precisely, the `std` index of our statistical data."
   ]
  },
  {
   "cell_type": "code",
   "execution_count": null,
   "id": "religious-facility",
   "metadata": {},
   "outputs": [],
   "source": [
    "turbIntensity = statData.loc[\"std\"]/statData.loc[\"mean\"]"
   ]
  },
  {
   "cell_type": "code",
   "execution_count": null,
   "id": "looking-absorption",
   "metadata": {},
   "outputs": [],
   "source": [
    "turbIntensity.plot(title=\"Turbulence Intensity\")"
   ]
  },
  {
   "cell_type": "markdown",
   "id": "eligible-instrumentation",
   "metadata": {},
   "source": [
    "## Computation of fluctuations"
   ]
  },
  {
   "cell_type": "markdown",
   "id": "selective-funds",
   "metadata": {},
   "source": [
    "By definition, in each point the fluctuation of velocity is \n",
    "\n",
    "$$ u' = u  - \\overline{u} $$"
   ]
  },
  {
   "cell_type": "code",
   "execution_count": null,
   "id": "numerous-volunteer",
   "metadata": {},
   "outputs": [],
   "source": [
    "turbVelFluct = turbulenceData-statData.loc[\"mean\"]"
   ]
  },
  {
   "cell_type": "code",
   "execution_count": null,
   "id": "executed-donor",
   "metadata": {},
   "outputs": [],
   "source": [
    "turbVelFluct.plot(subplots=True,layout=(4,5),figsize=(20,20),color=\"b\",sharey=True);"
   ]
  },
  {
   "cell_type": "markdown",
   "id": "twenty-species",
   "metadata": {},
   "source": [
    "## Computation of turbulence kinetic energy"
   ]
  },
  {
   "cell_type": "markdown",
   "id": "historical-shareware",
   "metadata": {},
   "source": [
    "The turbulent kinetic energy (TKE), $k$ is computed as\n",
    "\n",
    "$$ k = \\frac{1}{2}\\overline{\\boldsymbol{u'}\\cdot\\boldsymbol{u'}} = \\frac{1}{2} \\overline{u'_i u'_i}$$\n",
    "\n",
    "and we should need also $v'$ and $w'$. We are then only computing the contribution of $u'$ to TKE. Note that although main flow is in the $x$ direction and components of velocities $u$ and $v$ can be neglected, it is not possible for fluctuating velocities $v'$ and $w'$. They can be as important as $u'$. We can make the assumption that turbulence, at small scales, is isotropic and, hence $\\overline{u'}^2 \\approx \\overline{v'}^2 \\approx \\overline{w'}^2 $ and\n",
    "\n",
    "$$ k \\approx \\frac{3}{2}\\overline{u'}^2 $$"
   ]
  },
  {
   "cell_type": "code",
   "execution_count": null,
   "id": "automatic-nursing",
   "metadata": {},
   "outputs": [],
   "source": [
    "TKE = 1.5*statData.loc[\"std\"]**2"
   ]
  },
  {
   "cell_type": "code",
   "execution_count": null,
   "id": "pressed-influence",
   "metadata": {},
   "outputs": [],
   "source": [
    "TKE.plot()"
   ]
  },
  {
   "cell_type": "markdown",
   "id": "extensive-jaguar",
   "metadata": {},
   "source": [
    "## Some time scales"
   ]
  },
  {
   "cell_type": "markdown",
   "id": "productive-signal",
   "metadata": {},
   "source": [
    "For the moment, we focus on $y = 0 \\,\\text{mm}$ time series. The TKE in this point is"
   ]
  },
  {
   "cell_type": "code",
   "execution_count": null,
   "id": "veterinary-australian",
   "metadata": {},
   "outputs": [],
   "source": [
    "k = TKE.loc[\"y = 0mm\"]\n",
    "k"
   ]
  },
  {
   "cell_type": "markdown",
   "id": "complex-faith",
   "metadata": {},
   "source": [
    "The turbulence Reynolds number, locally defined in this point, is calculated with a length scale, which can be estimated, for now, as the larger eddy in the flow, of the order of the profile's chord. \n",
    "\n",
    "$$ \\text{Re}_t = \\frac{\\sqrt{k}c}{\\nu} $$\n",
    "\n",
    "We need also the viscosity of air."
   ]
  },
  {
   "cell_type": "code",
   "execution_count": null,
   "id": "surprising-discovery",
   "metadata": {},
   "outputs": [],
   "source": [
    "nu = 1.5e-5 # m^2/s\n",
    "c = 0.265 # m\n",
    "Re_t = np.sqrt(k)*c/nu\n",
    "print('Re_t = {:.5g}'.format(Re_t))"
   ]
  },
  {
   "cell_type": "markdown",
   "id": "exceptional-cattle",
   "metadata": {},
   "source": [
    "The [Kolmogorov time scale](https://en.wikipedia.org/wiki/Kolmogorov_microscales) can be estimated as\n",
    "\n",
    "$$ \\tau_k = \\sqrt{\\frac{\\nu}{\\varepsilon}} $$\n",
    "\n",
    "where $\\varepsilon$ is the energy dissipation rate, that can be estimated as \n",
    "\n",
    "$$ \\varepsilon = \\frac{k^{\\frac{3}{2}}}{c} $$ \n",
    "\n",
    "(it is considered that energy is injected at larger scales)"
   ]
  },
  {
   "cell_type": "code",
   "execution_count": null,
   "id": "qualified-validity",
   "metadata": {},
   "outputs": [],
   "source": [
    "epsilon = k**1.5/c\n",
    "epsilon # m^2/s^3"
   ]
  },
  {
   "cell_type": "markdown",
   "id": "wired-council",
   "metadata": {},
   "source": [
    "And the Kolmogorov time scale is, approximately,"
   ]
  },
  {
   "cell_type": "code",
   "execution_count": null,
   "id": "suffering-eugene",
   "metadata": {},
   "outputs": [],
   "source": [
    "tau_k = np.sqrt(nu/epsilon)\n",
    "tau_k"
   ]
  },
  {
   "cell_type": "markdown",
   "id": "dominant-genome",
   "metadata": {},
   "source": [
    "that is of the order of our time resolution."
   ]
  },
  {
   "cell_type": "markdown",
   "id": "realistic-alert",
   "metadata": {},
   "source": [
    "An integral time scale is defined with the autocorrelation of time signal. \n",
    "\n",
    "$$ R(\\tau) = \\overline{u'(t)u'(t+\\tau)} $$\n",
    "\n",
    "Computing autocorrelation is very time consuming, but pandas has a [plotting method](https://pandas.pydata.org/pandas-docs/stable/reference/api/pandas.plotting.autocorrelation_plot.html) that performs this computation much faster. The problem is that the output is directly a plot, and it is tricky to get the autocorrelation values from it."
   ]
  },
  {
   "cell_type": "code",
   "execution_count": null,
   "id": "intermediate-financing",
   "metadata": {},
   "outputs": [],
   "source": [
    "uPrime = turbVelFluct[\"y = 0mm\"].values\n",
    "pd.plotting.autocorrelation_plot(uPrime);"
   ]
  },
  {
   "cell_type": "code",
   "execution_count": null,
   "id": "offshore-reply",
   "metadata": {},
   "outputs": [],
   "source": [
    "autocorr = pd.plotting.autocorrelation_plot(uPrime).get_lines()[5].get_xydata()"
   ]
  },
  {
   "cell_type": "markdown",
   "id": "indie-round",
   "metadata": {},
   "source": [
    "We change the \"lag\" $x$ numbers with time lag, form the Data Frame"
   ]
  },
  {
   "cell_type": "code",
   "execution_count": null,
   "id": "composite-durham",
   "metadata": {},
   "outputs": [],
   "source": [
    "autocorr[:,0]=turbVelFluct.index.values"
   ]
  },
  {
   "cell_type": "markdown",
   "id": "national-torture",
   "metadata": {},
   "source": [
    "And also zoom for a narrower $x$ span. Note that the pandas function gives the normalized correlation $\\rho(\\tau)=\\frac{R(\\tau)}{R(0)} $."
   ]
  },
  {
   "cell_type": "code",
   "execution_count": null,
   "id": "absent-courtesy",
   "metadata": {},
   "outputs": [],
   "source": [
    "import matplotlib.pyplot as plt\n",
    "plt.plot(autocorr[:,0],autocorr[:,1],'o-')\n",
    "ax = plt.gca()\n",
    "ax.set_xlim(0,0.2)\n",
    "ax.set_ylabel(r\"$R(\\tau)$\")\n",
    "ax.set_xlabel(r\"\\tau\")\n",
    "ax.set_title(\"Autocorrelation for y = 0 mm\");"
   ]
  },
  {
   "cell_type": "markdown",
   "id": "stunning-application",
   "metadata": {},
   "source": [
    "The integral time scale is defined as the integral of autocorrelation function"
   ]
  },
  {
   "cell_type": "code",
   "execution_count": null,
   "id": "steady-reason",
   "metadata": {},
   "outputs": [],
   "source": [
    "from scipy import integrate"
   ]
  },
  {
   "cell_type": "code",
   "execution_count": null,
   "id": "pending-niger",
   "metadata": {},
   "outputs": [],
   "source": [
    "T = integrate.trapezoid(autocorr[:,1],autocorr[:,0])"
   ]
  },
  {
   "cell_type": "code",
   "execution_count": null,
   "id": "appointed-samoa",
   "metadata": {},
   "outputs": [],
   "source": [
    "T"
   ]
  },
  {
   "cell_type": "markdown",
   "id": "closing-nicaragua",
   "metadata": {},
   "source": [
    "It gives a very small (negative) value because the number of samples (1000) is still very low to get a good autocorrelation for large lag. It is assumed that after the second or third root, the autocorrelation is zero. So, we change the limits of integration:"
   ]
  },
  {
   "cell_type": "code",
   "execution_count": null,
   "id": "equal-stand",
   "metadata": {},
   "outputs": [],
   "source": [
    "T = integrate.trapezoid(autocorr[0:50,1],autocorr[0:50,0])"
   ]
  },
  {
   "cell_type": "code",
   "execution_count": null,
   "id": "accomplished-composite",
   "metadata": {},
   "outputs": [],
   "source": [
    "T"
   ]
  },
  {
   "cell_type": "markdown",
   "id": "willing-market",
   "metadata": {},
   "source": [
    "This method has the inconvenient that there is not the lag 0. It should be included in the very first point.\n",
    "\n",
    "Alternatively, the statistic models package provides a better way to estimate autocorrelation, even with the option of choosing the number of lags for the computation."
   ]
  },
  {
   "cell_type": "code",
   "execution_count": null,
   "id": "consistent-depression",
   "metadata": {},
   "outputs": [],
   "source": [
    "import statsmodels.api as sm"
   ]
  },
  {
   "cell_type": "code",
   "execution_count": null,
   "id": "rolled-fabric",
   "metadata": {},
   "outputs": [],
   "source": [
    "rho = sm.tsa.acf(uPrime,nlags=50,fft=False)\n",
    "rho"
   ]
  },
  {
   "cell_type": "code",
   "execution_count": null,
   "id": "russian-radical",
   "metadata": {},
   "outputs": [],
   "source": [
    "import statsmodels.graphics.api as smg"
   ]
  },
  {
   "cell_type": "code",
   "execution_count": null,
   "id": "chubby-daughter",
   "metadata": {},
   "outputs": [],
   "source": [
    "smg.tsa.plot_acf(autocorr[:,1],lags=200,fft=False)"
   ]
  },
  {
   "cell_type": "markdown",
   "id": "complimentary-shower",
   "metadata": {},
   "source": [
    "The computation of the integral time is more accurate because of the 0-lag point."
   ]
  },
  {
   "cell_type": "code",
   "execution_count": null,
   "id": "forward-walter",
   "metadata": {},
   "outputs": [],
   "source": [
    "T = integrate.trapezoid(rho[0:50],autocorr[0:50,0])\n",
    "T"
   ]
  },
  {
   "cell_type": "markdown",
   "id": "numerical-tucson",
   "metadata": {},
   "source": [
    "## Histogram and PDF"
   ]
  },
  {
   "cell_type": "markdown",
   "id": "collaborative-pressing",
   "metadata": {},
   "source": [
    "PDF is the Probability Density Function. It defines the probability of an event between to values. For example, if the pdf of our velocity fluctuation is  $f(x)$, then the probability that a value of the fluctuation lies between $u'_1$ and $u'_2$ is \n",
    "\n",
    "$$ P\\left(u'_1 < u' < u'_2\\right) = \\int_{u'_1}^{u'_2} f(x) dx $$ "
   ]
  },
  {
   "cell_type": "code",
   "execution_count": null,
   "id": "weird-papua",
   "metadata": {},
   "outputs": [],
   "source": [
    "import scipy.stats as stats"
   ]
  },
  {
   "cell_type": "code",
   "execution_count": null,
   "id": "selective-second",
   "metadata": {},
   "outputs": [],
   "source": [
    "X = stats.norm(0,1)"
   ]
  },
  {
   "cell_type": "code",
   "execution_count": null,
   "id": "north-alberta",
   "metadata": {},
   "outputs": [],
   "source": [
    "X_samples= X.rvs(100)"
   ]
  },
  {
   "cell_type": "code",
   "execution_count": null,
   "id": "aggressive-trademark",
   "metadata": {},
   "outputs": [],
   "source": [
    "F, bins, patches = plt.hist(uPrime,bins=100,density=True) # Integral = 1"
   ]
  },
  {
   "cell_type": "markdown",
   "id": "approved-stream",
   "metadata": {},
   "source": [
    "Since we have included the option `density=True`, the integral (moment of order 0) of this PDF is 1.\n",
    "\n",
    "$$ M_0 = \\int_{-\\infty}^{+\\infty} f(u') du' = 1 $$"
   ]
  },
  {
   "cell_type": "code",
   "execution_count": null,
   "id": "monthly-defense",
   "metadata": {},
   "outputs": [],
   "source": [
    "deltaUPrime = np.diff(bins) "
   ]
  },
  {
   "cell_type": "code",
   "execution_count": null,
   "id": "corporate-triangle",
   "metadata": {},
   "outputs": [],
   "source": [
    "M0 = np.sum(F*deltaUPrime)\n",
    "M0"
   ]
  },
  {
   "cell_type": "markdown",
   "id": "quick-wildlife",
   "metadata": {},
   "source": [
    "The moment of order 1 is the average of the samples, that should be 0\n",
    "\n",
    "$$ M_1 = \\overline{u'} = \\int_{-\\infty}^{+\\infty} u' f(u') du' = 0 $$"
   ]
  },
  {
   "cell_type": "code",
   "execution_count": null,
   "id": "impaired-given",
   "metadata": {},
   "outputs": [],
   "source": [
    "UPrimePDF = bins[:-1] + deltaUPrime/2"
   ]
  },
  {
   "cell_type": "code",
   "execution_count": null,
   "id": "sound-hacker",
   "metadata": {},
   "outputs": [],
   "source": [
    "M1 = np.sum(UPrimePDF*F*deltaUPrime)\n",
    "M1"
   ]
  },
  {
   "cell_type": "markdown",
   "id": "dressed-shoulder",
   "metadata": {},
   "source": [
    "The moment of order 2 is the variance of the samples, that should be the square of the standard deviation given by pandas before...\n",
    "\n",
    "$$ M_2 = \\overline{u'^2} = \\int_{-\\infty}^{+\\infty} u'^2 f(u') du' $$"
   ]
  },
  {
   "cell_type": "code",
   "execution_count": null,
   "id": "organized-fleece",
   "metadata": {},
   "outputs": [],
   "source": [
    "M2 = np.sum(UPrimePDF**2*F*deltaUPrime)\n",
    "M2"
   ]
  },
  {
   "cell_type": "code",
   "execution_count": null,
   "id": "virgin-dutch",
   "metadata": {},
   "outputs": [],
   "source": [
    "statData[\"y = 0mm\"].loc[\"std\"]**2"
   ]
  },
  {
   "cell_type": "markdown",
   "id": "magnetic-illustration",
   "metadata": {},
   "source": [
    "The moment of order 3 is \n",
    "\n",
    "$$ M_3 = \\overline{u'^3} = \\int_{-\\infty}^{+\\infty} u'^3 f(u') du' $$\n",
    "\n",
    "The _skewness_ of the $u'$ distribution is defined as \n",
    "\n",
    "$$ S = \\frac{M_3}{M_2^\\frac{3}{2}} $$"
   ]
  },
  {
   "cell_type": "code",
   "execution_count": null,
   "id": "distinguished-acrylic",
   "metadata": {},
   "outputs": [],
   "source": [
    "M3 = np.sum(UPrimePDF**3*F*deltaUPrime)\n",
    "M3"
   ]
  },
  {
   "cell_type": "code",
   "execution_count": null,
   "id": "finished-property",
   "metadata": {},
   "outputs": [],
   "source": [
    "S = M3/M2**1.5\n",
    "S"
   ]
  },
  {
   "cell_type": "markdown",
   "id": "confidential-charles",
   "metadata": {},
   "source": [
    "The moment of order 4 is \n",
    "\n",
    "$$ M_4= \\overline{u'^4} = \\int_{-\\infty}^{+\\infty} u'^4 f(u') du' $$\n",
    "\n",
    "The _kurtosis_ of the $u'$ distribution is defined as \n",
    "\n",
    "$$ K = \\frac{M_4}{M_2^2} $$\n",
    "\n",
    "For a normal distribution, it should be 3 (check it)"
   ]
  },
  {
   "cell_type": "code",
   "execution_count": null,
   "id": "waiting-skiing",
   "metadata": {},
   "outputs": [],
   "source": [
    "M4 = np.sum(UPrimePDF**4*F*deltaUPrime)\n",
    "M4"
   ]
  },
  {
   "cell_type": "code",
   "execution_count": null,
   "id": "worldwide-parker",
   "metadata": {},
   "outputs": [],
   "source": [
    "K = M4/M2**2\n",
    "K"
   ]
  },
  {
   "cell_type": "markdown",
   "id": "included-yahoo",
   "metadata": {},
   "source": [
    "## Power spectrum"
   ]
  },
  {
   "cell_type": "markdown",
   "id": "atmospheric-approach",
   "metadata": {},
   "source": [
    "Finally, from the time series signal, we can get the spectrum in frequency by performing a Fast Fourier Transform "
   ]
  },
  {
   "cell_type": "code",
   "execution_count": null,
   "id": "artificial-blocking",
   "metadata": {},
   "outputs": [],
   "source": [
    "E = np.abs(np.fft.fft(uPrime))\n",
    "\n",
    "plt.plot(E)"
   ]
  },
  {
   "cell_type": "code",
   "execution_count": null,
   "id": "owned-chase",
   "metadata": {},
   "outputs": [],
   "source": [
    "freq = np.fft.fftfreq(uPrime.size,0.001)\n",
    "plt.plot(freq,E)"
   ]
  },
  {
   "cell_type": "code",
   "execution_count": null,
   "id": "latin-possible",
   "metadata": {},
   "outputs": [],
   "source": [
    "E = E[:int(len(E)/2)]\n",
    "freq = freq[:int(len(freq)/2)]\n",
    "plt.plot(freq,E)"
   ]
  },
  {
   "cell_type": "code",
   "execution_count": null,
   "id": "baking-replacement",
   "metadata": {},
   "outputs": [],
   "source": [
    "P = E**2\n",
    "plt.plot(freq,E)"
   ]
  },
  {
   "cell_type": "code",
   "execution_count": null,
   "id": "generous-nebraska",
   "metadata": {},
   "outputs": [],
   "source": [
    "fig, ax = plt.subplots(1)\n",
    "ax.set_ylim(1,1e5)\n",
    "ax.loglog(freq,P)\n",
    "f_plot = np.logspace(1,2.7,100)\n",
    "f_ref = 10\n",
    "P_ref = 1e5\n",
    "P_plot = P_ref/f_ref**(-5/3)*f_plot**(-5/3)\n",
    "ax.loglog(f_plot,P_plot,'--')\n",
    "ax.text(30,20000,'-5/3')"
   ]
  },
  {
   "cell_type": "code",
   "execution_count": null,
   "id": "atlantic-piano",
   "metadata": {},
   "outputs": [],
   "source": [
    "rho = sm.tsa.acf(uPrime,nlags=999,fft=False)\n",
    "smg.tsa.plot_acf(uPrime,lags=999,fft=False)"
   ]
  },
  {
   "cell_type": "code",
   "execution_count": null,
   "id": "affecting-hurricane",
   "metadata": {},
   "outputs": [],
   "source": [
    "Pr = np.abs(np.fft.fft(rho))\n",
    "plt.plot(Pr)"
   ]
  },
  {
   "cell_type": "code",
   "execution_count": null,
   "id": "collectible-visit",
   "metadata": {},
   "outputs": [],
   "source": [
    "freq = np.fft.fftfreq(rho.size,0.001)\n",
    "Pr = E[:int(len(Pr)/2)]\n",
    "freq = freq[:int(len(freq)/2)]"
   ]
  },
  {
   "cell_type": "code",
   "execution_count": null,
   "id": "amino-genetics",
   "metadata": {},
   "outputs": [],
   "source": [
    "fig, ax = plt.subplots(1)\n",
    "ax.set_ylim(1,1000)\n",
    "ax.loglog(freq,Pr)\n",
    "f_plot = np.logspace(1,2.7,100)\n",
    "f_ref = 30\n",
    "P_ref = 500\n",
    "P_plot = P_ref/f_ref**(-5/3)*f_plot**(-5/3)\n",
    "ax.loglog(f_plot,P_plot,'--')\n",
    "ax.text(100,100,'-5/3')"
   ]
  },
  {
   "cell_type": "markdown",
   "id": "provincial-valve",
   "metadata": {},
   "source": [
    "***\n",
    "## **Assignment** : Computation of length scales and $k$ spectrum"
   ]
  },
  {
   "cell_type": "markdown",
   "id": "adjusted-repair",
   "metadata": {},
   "source": [
    "We have fluctuations of velocity in time, but not in space. In order to get fluctuations of velocity in space (for a given time $t_0$) we should have an array of anemometers very close to each other (microns, probably), which is quite difficult (it is much more easier for CFD results). \n",
    "\n",
    "Fortunately, there is the [Taylor hypothesis] (https://www-sciencedirect-com.recursos.biblioteca.upc.edu/science/article/pii/B9780080443508500014#p15)( see also [Pope\\[2000\\]](https://discovery.upc.edu/iii/encore/record/C__Rb1253705?lang=cat) p. 223), which says that if turbulence can be considered (average) steady and fluctuations are much smaller than average velocity, time can be replaced by $x/\\overline{u}$.\n",
    "\n",
    "The assignment is to make all this analysis and find, in space:\n",
    "\n",
    "- Kolmogorov's scale\n",
    "- Taylor's scale\n",
    "- Autocorrelation function\n",
    "- Integral scale\n",
    "- Power spectrum (in $k$) and check the Kolmogorov's power law.\n",
    "\n",
    "***\n"
   ]
  },
  {
   "cell_type": "code",
   "execution_count": null,
   "id": "composite-mitchell",
   "metadata": {},
   "outputs": [],
   "source": []
  }
 ],
 "metadata": {
  "kernelspec": {
   "display_name": "Python 3",
   "language": "python",
   "name": "python3"
  },
  "language_info": {
   "codemirror_mode": {
    "name": "ipython",
    "version": 3
   },
   "file_extension": ".py",
   "mimetype": "text/x-python",
   "name": "python",
   "nbconvert_exporter": "python",
   "pygments_lexer": "ipython3",
   "version": "3.8.5"
  }
 },
 "nbformat": 4,
 "nbformat_minor": 5
}
