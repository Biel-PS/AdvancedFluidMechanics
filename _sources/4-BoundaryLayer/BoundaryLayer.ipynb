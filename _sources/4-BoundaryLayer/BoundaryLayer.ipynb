{
 "cells": [
  {
   "cell_type": "markdown",
   "id": "34a2a3e9-4060-4c70-ab2f-d1381c58ae73",
   "metadata": {},
   "source": [
    "# Boundary Layer. An introduction\n",
    "\n",
    "## 1. Blasius theory\n",
    "\n",
    "We consider a uniform flow in the $x$ direction, $\\boldsymbol{u} = (U,0,0)$, and a plane semi-infinite plate on $x-z$ plane, normal to $y$ axis, and with one edge on the $z$ axis.\n",
    "\n",
    "The non-slip condition of the flow on the plate, $\\boldsymbol{u} = (0,0,0)$ for $y=0$, produces a development of the flow on the $y$ direction on a region known as [**boundary layer**](https://en.wikipedia.org/wiki/Boundary_layer) (BL). This perturbed flow extend up to a distance $\\delta$, the BL thickness, that is, in general, function of $x$. If the flow $U$ is slow, compared with a reference viscosity-related velocity, $\\frac{\\nu}{x}$ or $\\frac{\\nu}{\\delta}$, the viscosity will keep the inertial term low and it prevent the boundary layer from becoming turbulent. But when the BL reachs a certain point $x$, the inertial term (mainly the convective one) will gain importance and the BL will eventually  evolve to a turbulent regime.\n",
    "\n",
    "![Image](Boundary-Layer.png)\n",
    "\n",
    "\n",
    "In this section we are going to focus on the laminar regime. The turbulent BL will be studied in the next part.\n",
    "\n",
    "As usual, we start with N-S and continuity equations for the non-perturbed (outside the BL) flow, assumed inviscid. \n",
    "\n",
    "$$\n",
    "\\frac{\\partial U}{\\partial t} + U\\frac{\\partial U}{\\partial x} = -\\frac{1}{\\rho}\\frac{\\partial p}{\\partial x}\\tag{1}\n",
    "$$\n",
    "\n",
    "$$\n",
    "\\frac{\\partial U}{\\partial x} + \\frac{\\partial V}{\\partial y} = 0 \\; \\text{with}\\, U \\gg V \\tag{2}\n",
    "$$\n",
    "\n",
    "and in the perturbed flow (inside the BL)\n",
    "\n",
    "$$\n",
    "\\frac{\\partial u}{\\partial t} + u\\frac{\\partial u}{\\partial x} + v\\frac{\\partial u}{\\partial y} = -\\frac{1}{\\rho}\\frac{\\partial p}{\\partial x} \\tag{3}\n",
    "+ \\nu \\left( \\frac{\\partial^2 u}{\\partial x^2} + \\frac{\\partial^2 u}{\\partial y^2} \\right)\n",
    "$$\n",
    "\n",
    "$$\n",
    "\\frac{\\partial v}{\\partial t} + u\\frac{\\partial v}{\\partial x} + v\\frac{\\partial v}{\\partial y} = -\\frac{1}{\\rho}\\frac{\\partial p}{\\partial y} \\tag{4}\n",
    "+ \\nu \\left( \\frac{\\partial^2 v}{\\partial x^2} + \\frac{\\partial^2 v}{\\partial y^2} \\right)\n",
    "$$\n",
    "\n",
    "$$\n",
    "\\frac{\\partial u}{\\partial x} + \\frac{\\partial v}{\\partial y} = 0 \\tag{5}\n",
    "$$\n",
    "\n",
    "En general, we are going to consider only steady flows (or with very smooth variation in time) and, for a certain position $x = L$, we can make a first estimation of scales by considering\n",
    "\n",
    "$$\n",
    "u \\sim U \\hspace{10mm}  v \\sim V \\\\\n",
    "\\frac{\\partial u}{\\partial x} \\sim \\frac{U}{L}  \\hspace{10mm}\n",
    "\\frac{\\partial u}{\\partial y} \\sim \\frac{U}{\\delta} \\\\\n",
    "\\frac{\\partial v}{\\partial x} \\sim \\frac{V}{L}  \\hspace{10mm}\n",
    "\\frac{\\partial v}{\\partial y} \\sim \\frac{V}{\\delta} \\\\\n",
    "\\frac{\\partial^2 u}{\\partial x^2} \\sim \\frac{U}{L^2}  \\hspace{10mm}\n",
    "\\frac{\\partial^2 u}{\\partial y^2} \\sim \\frac{U}{\\delta^2} \\\\\n",
    "\\frac{\\partial^2 v}{\\partial x^2} \\sim \\frac{V}{L^2}  \\hspace{10mm}\n",
    "\\frac{\\partial^2 v}{\\partial y^2} \\sim \\frac{V}{\\delta^2}\n",
    "$$\n",
    "\n",
    "Then continuity equation (4) holds $ V \\sim U \\frac{\\delta}{L}$, and, hence, it is deduced that the BL is very thin compared with length of flow development $\\delta \\ll L$.\n",
    "Replacing the scales estimations in $x$ N-S equation, (2), and using that $\\frac{U}{L^2} \\ll \\frac{U}{\\delta^2}$, we get that convective and viscous terms are of the same order if \n",
    "\n",
    "$$\n",
    "\\frac{U^2}{L} \\sim \\nu\\frac{U}{\\delta^2} \\; \\Rightarrow \\; \\delta^2 \\sim \\frac{\\nu L}{U} \\tag{6}\n",
    "$$\n",
    "\n",
    "$$\n",
    "\\Rightarrow \\; \\delta \\sim \\sqrt{\\frac{\\nu L}{U}} = \\frac{L}{\\sqrt{\\frac{UL}{\\nu}}} = \\frac{L}{\\sqrt{\\text{Re}_L}}  \\tag{7}\n",
    "$$\n",
    "\n",
    "From this simple scales analysis we get an important result that indicates the growth of the BL thickness\n",
    "\n",
    "$$\n",
    "\\boxed{ \\delta \\sim \\frac{L}{\\sqrt{\\text{Re}_L}} }  \\tag{8}\n",
    "$$\n",
    "\n",
    "By comparing scales between equations (3) and (4) it can be shown that $\\frac{\\partial p}{\\partial x} \\gg \\frac{\\partial p}{\\partial y}$ and, hence, the pressure inside the BL is, in the practice, determined by the pressure in the unperturbed flow outside the BL.\n",
    "\n",
    "After scaling N-S and continuity equations, BL layer can be described with\n",
    "\n",
    "continuity :\n",
    "$$\n",
    "\\frac{\\partial u}{\\partial x} + \\frac{\\partial v}{\\partial y} = 0 \\tag{9}\n",
    "$$\n",
    "\n",
    "x-momentum :\n",
    "$$\n",
    "\\frac{\\partial u}{\\partial t} + u\\frac{\\partial u}{\\partial x} + v\\frac{\\partial u}{\\partial y} = \n",
    "-\\frac{1}{\\rho}\\frac{\\partial p}{\\partial x} + \\nu \\frac{\\partial^2 u}{\\partial y^2} \\tag{10}\n",
    "$$\n",
    "\n",
    "\n",
    "y-momentum :\n",
    "$$\n",
    "\\frac{\\partial p}{\\partial y} = 0 \\tag{11}\n",
    "$$\n",
    "\n",
    "and, for the non-perturbed flow, again,\n",
    "\n",
    "$$\n",
    "\\frac{\\partial U}{\\partial t} + U\\frac{\\partial U}{\\partial x} = -\\frac{1}{\\rho}\\frac{\\partial p}{\\partial x} \\tag{12}\n",
    "$$\n",
    "\n",
    "It is important to note that gradient pressure term in BL equations is determined by the flow outside BL. \n",
    "\n",
    "These equations are valid for plane surface or with a very low curvature.\n",
    "\n",
    "For the particular case of steady flow without pressure gradient, [Blasius (1908)](https://en.wikipedia.org/wiki/Blasius_boundary_layer) found an analytical solution by introducing dimensionless variables for $y$:\n",
    "\n",
    "$$\n",
    "\\eta = y\\sqrt{\\frac{U}{\\nu x}} \\left( \\sim \\frac{y}{\\delta} \\right) \\tag{13}\n",
    "$$\n",
    "\n",
    "and for $u(x,y)$:\n",
    "\n",
    "$$\n",
    "g(\\eta) = \\frac{u}{U} \\tag{14}\n",
    "$$\n",
    "\n",
    "Since it is a 2D incompressible flow, it is possible to write in terms of a stream function $\\psi(x,y)$ so that\n",
    "\n",
    "$$\n",
    "u = U g(\\eta) = \\frac{\\partial \\psi}{\\partial y} = \\sqrt{\\frac{U}{\\nu x}}\\frac{\\partial\\psi}{\\partial\\eta} \\tag{15}\n",
    "$$\n",
    "\n",
    "From here, we get that\n",
    "\n",
    "$$\n",
    "\\psi(x,y) = \\sqrt{\\nu U x} f(\\eta) \\tag{16}\n",
    "$$\n",
    "\n",
    "where $f(\\eta) = \\int g(\\eta) d \\eta$. Velocities are then written in terms of $f$ as\n",
    "\n",
    "$$\n",
    "u  =  \\frac{\\partial \\psi}{\\partial y} = U f'(\\eta) \\tag{17}\n",
    "$$\n",
    "\n",
    "$$\n",
    "v  =  -\\frac{\\partial \\psi}{\\partial x} = \\frac{1}{2}\\sqrt{\\frac{\\nu U}{x}}\\left[\\eta f'(\\eta) - f(\\eta)\\right] \\tag{18}\n",
    "$$\n",
    "\n",
    "And gathering everything in the N-S equations, we get an only equation\n",
    "\n",
    "$$\n",
    "\\boxed{2f''' + f f'' = 0} \\tag{19}\n",
    "$$\n",
    "\n",
    "with the boundary conditions\n",
    "\n",
    "$$\n",
    "f = \\frac{d f}{d \\eta} = 0 \\;\\text{for}\\,\\eta = 0 \\\\\n",
    "\\frac{d f}{d \\eta} \\rightarrow 1  \\;\\text{for}\\,\\eta \\rightarrow \\infty\n",
    "$$\n",
    "\n",
    "## 2. Solution of the Blasius equation\n",
    "\n",
    "This equation cannot be solved with `odeint`, since it is not an initial value problem, but a [boundary value problem](https://en.wikipedia.org/wiki/Boundary_value_problem). We are going to solve it with the `solve_bvp` method in the [scipy.ode package](https://docs.scipy.org/doc/scipy/reference/generated/scipy.integrate.solve_bvp.html).\n",
    "\n",
    "First, we decompose the 3rd order ODE in a system of 3 first-order ODE's, as\n",
    "\n",
    "$$\n",
    "f_0'  =  f_1 \\\\\n",
    "f_1'  =  f_2 \\\\\n",
    "f_2'  =  -\\frac{1}{2}f_0f_2\n",
    "$$\n",
    "\n",
    "with $f_0=f$ and the boundary conditions\n",
    "\n",
    "$$\n",
    "f_0(\\eta=0)  =  0 \\\\\n",
    "f_1(\\eta=0)  =  0 \\\\\n",
    "f_1(\\eta \\rightarrow \\infty)  =  1 \n",
    "$$\n",
    "\n",
    "First, we import the needed modules "
   ]
  },
  {
   "cell_type": "code",
   "execution_count": 1,
   "id": "underlying-calibration",
   "metadata": {},
   "outputs": [],
   "source": [
    "from scipy.integrate import solve_bvp\n",
    "import numpy as np"
   ]
  },
  {
   "cell_type": "markdown",
   "id": "second-stanley",
   "metadata": {},
   "source": [
    "Now, we define our system of ODE's, with a function that return the derivatives of $f$"
   ]
  },
  {
   "cell_type": "code",
   "execution_count": 2,
   "id": "interpreted-heater",
   "metadata": {},
   "outputs": [],
   "source": [
    "def func(x,f):\n",
    "    return np.vstack((f[1],f[2],-0.5*f[0]*f[2]))"
   ]
  },
  {
   "cell_type": "markdown",
   "id": "decreased-astrology",
   "metadata": {},
   "source": [
    "and, also, we define the boundary values, as residuals (that has to tend to 0) for initial ($a$) and final ($b$) values of the functions. The number of elements in the return array has to be the same as the number of equations."
   ]
  },
  {
   "cell_type": "code",
   "execution_count": 3,
   "id": "reserved-details",
   "metadata": {},
   "outputs": [],
   "source": [
    "def bc(fa,fb):\n",
    "    return np.array([fa[0],fa[1],1.0-fb[1]])"
   ]
  },
  {
   "cell_type": "markdown",
   "id": "quiet-component",
   "metadata": {},
   "source": [
    "Here we prepare the solution. The domain of $\\eta$ has been chosen as [0,10], and initially, $f_i = 0$ in all the domain."
   ]
  },
  {
   "cell_type": "code",
   "execution_count": 4,
   "id": "dimensional-ultimate",
   "metadata": {
    "tags": []
   },
   "outputs": [],
   "source": [
    "eta = np.linspace(0,10,100)\n",
    "f_init = np.zeros((3,eta.size))"
   ]
  },
  {
   "cell_type": "markdown",
   "id": "excessive-onion",
   "metadata": {},
   "source": [
    "Finally, we call the solver"
   ]
  },
  {
   "cell_type": "code",
   "execution_count": 5,
   "id": "focal-disaster",
   "metadata": {},
   "outputs": [],
   "source": [
    "sol = solve_bvp(func,bc,eta,f_init)"
   ]
  },
  {
   "cell_type": "markdown",
   "id": "recorded-denmark",
   "metadata": {},
   "source": [
    "The return has a lot of information. The most important are `sol.y[i]`, which is the solution for $f_i$ in the points defined by the `eta` array (which is stored in `sol.x`), and `sol.sol`, which is an interpolation instance as cubic spline, that allows to estimate the values for any value of $\\eta$ in the domain.\n",
    "\n",
    "Let's we make some plots."
   ]
  },
  {
   "cell_type": "code",
   "execution_count": 6,
   "id": "bizarre-pavilion",
   "metadata": {},
   "outputs": [
    {
     "data": {
      "text/plain": [
       "Text(0.5, 0, '$\\\\frac{d^2 f}{d \\\\eta^2}$')"
      ]
     },
     "execution_count": 6,
     "metadata": {},
     "output_type": "execute_result"
    },
    {
     "data": {
      "image/png": "[encoded data removed]",
      "text/plain": [
       "<Figure size 2160x720 with 3 Axes>"
      ]
     },
     "metadata": {
      "needs_background": "light"
     },
     "output_type": "display_data"
    }
   ],
   "source": [
    "import matplotlib.pyplot as plt\n",
    "fig,ax = plt.subplots(1,3,figsize=(30,10),sharey=True)\n",
    "ax[0].plot(sol.y[0],eta)\n",
    "ax[1].plot(sol.y[1],eta)\n",
    "ax[2].plot(sol.y[2],eta)\n",
    "ax[0].set_ylabel(r'$\\eta$',fontsize = 16)\n",
    "ax[0].set_xlabel(r'$f$',fontsize = 16)\n",
    "ax[1].set_xlabel(r'$\\frac{df}{d\\eta} = \\frac{u}{U}$',fontsize = 16)\n",
    "ax[2].set_xlabel(r'$\\frac{d^2 f}{d \\eta^2}$',fontsize = 16)"
   ]
  },
  {
   "cell_type": "markdown",
   "id": "agreed-cream",
   "metadata": {},
   "source": [
    "This theoretical solution gives an infinite thickness of the BL, since, strictly speaking, $u=U$ is reached asymptotically for $\\eta \\rightarrow \\infty$. Hence, it has been agreed that the thickness of the BL extends up to $0.99U$. We find now which value of $\\eta$ gives this velocity, using the method for root finding `brentq` from the [scipy.optimize package](https://docs.scipy.org/doc/scipy/reference/generated/scipy.optimize.brentq.html)."
   ]
  },
  {
   "cell_type": "code",
   "execution_count": 7,
   "id": "hazardous-english",
   "metadata": {},
   "outputs": [],
   "source": [
    "from scipy.optimize import brentq"
   ]
  },
  {
   "cell_type": "code",
   "execution_count": 8,
   "id": "preliminary-cooperative",
   "metadata": {},
   "outputs": [],
   "source": [
    "def etaBL(x):\n",
    "    return (sol.sol(x)[1]-0.99)"
   ]
  },
  {
   "cell_type": "code",
   "execution_count": 9,
   "id": "6c1559ea-8e3f-4ba8-86dd-c77787576fda",
   "metadata": {},
   "outputs": [
    {
     "data": {
      "text/plain": [
       "4.910933508124787"
      ]
     },
     "execution_count": 9,
     "metadata": {},
     "output_type": "execute_result"
    }
   ],
   "source": [
    "etaBLSol = brentq(etaBL,4,6)\n",
    "etaBLSol"
   ]
  },
  {
   "cell_type": "markdown",
   "id": "transsexual-round",
   "metadata": {},
   "source": [
    "Hence, the Blasius BL extends up to $\\eta = 4.91 \\approx 5$, that is, $\\delta \\approx \\frac{5}{\\sqrt{\\frac{U}{\\nu x}}}$, \n",
    "\n",
    "$$\n",
    "\\boxed{\\delta \\approx \\frac{5 x}{\\sqrt{\\text{Re}_x}}} \\tag{20}\n",
    "$$"
   ]
  },
  {
   "cell_type": "markdown",
   "id": "insured-junction",
   "metadata": {},
   "source": [
    "We re-escale now the $\\eta$ variable, so that $\\eta=1$ is the BL thickness"
   ]
  },
  {
   "cell_type": "code",
   "execution_count": 10,
   "id": "graduate-inside",
   "metadata": {},
   "outputs": [],
   "source": [
    "eta = eta/etaBLSol"
   ]
  },
  {
   "cell_type": "code",
   "execution_count": 11,
   "id": "controversial-custody",
   "metadata": {},
   "outputs": [
    {
     "data": {
      "text/plain": [
       "Text(0.5, 0, '$\\\\frac{d^2 f}{d \\\\eta^2}$')"
      ]
     },
     "execution_count": 11,
     "metadata": {},
     "output_type": "execute_result"
    },
    {
     "data": {
      "image/png": "[encoded data removed]",
      "text/plain": [
       "<Figure size 2160x720 with 3 Axes>"
      ]
     },
     "metadata": {
      "needs_background": "light"
     },
     "output_type": "display_data"
    }
   ],
   "source": [
    "fig,ax = plt.subplots(1,3,figsize=(30,10),sharey=True)\n",
    "ax[0].plot(sol.y[0],eta)\n",
    "ax[1].plot(sol.y[1],eta)\n",
    "ax[2].plot(sol.y[2],eta)\n",
    "ax[0].set_ylabel(r'$\\eta$',fontsize = 16)\n",
    "ax[0].set_xlabel(r'$f$',fontsize = 16)\n",
    "ax[1].set_xlabel(r'$\\frac{df}{d\\eta} = \\frac{u}{U}$',fontsize = 16)\n",
    "ax[2].set_xlabel(r'$\\frac{d^2 f}{d \\eta^2}$',fontsize = 16)"
   ]
  },
  {
   "cell_type": "markdown",
   "id": "efficient-dealer",
   "metadata": {},
   "source": [
    "### Exercise (easy):\n",
    "Compute the stress on the wall in the Blasius BL.\n"
   ]
  },
  {
   "cell_type": "markdown",
   "id": "b36af9c3-8a7d-4e04-9a9f-764711eed96c",
   "metadata": {
    "tags": []
   },
   "source": [
    "## 3. Integral Analysis of BL. The von Kármán equation.\n",
    "\n",
    "Direct analytical solution of the BL is only possible, with a medium difficulty, for laminar, (quasi)uniform and steady flow, as we have previously seen.\n",
    "\n",
    "Nevertheless, most of the times, a good approximation can be achieved if velocity profile is assumed known and BL equation (9) is integrated in the BL thickness. Then the wall friction can be estimated for any kind of flow (unsteady, turbulent, with pressure gradient...)\n",
    "\n",
    "The Volume Control is not exactly integral, but semi-integral, with an extension $\\text{d}x$ in the flow direction. It is sketched here:\n",
    "\n",
    "![Image](VC_vonKarman.png)\n",
    "\n",
    "We integrate BL equation from $y=0$ (the wall) to $y=h$ where $h\\rightarrow \\infty$\n",
    "\n",
    "$$\n",
    "\\int_0^\\infty\\frac{\\partial u}{\\partial t} \\text{d}y + \\int_0^\\infty u\\frac{\\partial u}{\\partial x} \\text{d}y + \\int_0^\\infty v\\frac{\\partial u}{\\partial y} \\text{d}y =\n",
    "\\int_0^\\infty -\\frac{1}{\\rho}\\frac{\\partial p}{\\partial x} \\text{d}y + \n",
    "\\underbrace{\\int_0^\\infty \\nu \\frac{\\partial^2 u}{\\partial y^2} \\text{d}y}_{=\\nu \\left.\\frac{\\partial u}{\\partial y}\\right|_0^\\infty = -\\frac{\\tau_w}{\\rho}} \\tag{21}\n",
    "$$\n",
    "\n",
    "The term of pressure gradient can be replaced by the behavior of (inviscid) flow outside of the BL (equation (6))\n",
    "\n",
    "$$\n",
    "\\int_0^\\infty-\\frac{1}{\\rho}\\frac{\\partial p}{\\partial x} \\text{d}y = \\int_0^\\infty \\frac{\\partial U}{\\partial t}\\text{d}y + \\int_0^\\infty U\\frac{\\partial U}{\\partial x} \\text{d}y \\tag{22}\n",
    "$$\n",
    "\n",
    "yielding\n",
    "\n",
    "$$\n",
    "\\int_0^\\infty \\frac{\\partial u}{\\partial t} \\text{d}y + \\int_0^\\infty u\\frac{\\partial u}{\\partial x} \\text{d}y + \\int_0^\\infty v\\frac{\\partial u}{\\partial y} \\text{d}y =\n",
    "\\int_0^\\infty \\frac{\\partial U}{\\partial t}\\text{d}y + \\int_0^\\infty U\\frac{\\partial U}{\\partial x} \\text{d}y - \\frac{\\tau_w}{\\rho} \\tag{23}\n",
    "$$\n",
    "\n",
    "The component $v$ of velocity can be obtained in term of $u$ by integrating continuity equation (4), $v = -\\int_0^\\infty\\frac{\\partial u}{\\partial x} dy$ and, hence, after integrating by parts,\n",
    "\n",
    "$$\n",
    "\\int_0^\\infty v\\frac{\\partial u}{\\partial y} \\text{d}y = -\\int_0^\\infty \\left(\\int_0^\\infty \\frac{\\partial u}{\\partial x} \\text{d}y \\right) \n",
    "\\frac{\\partial u}{\\partial y} \\text{d}y = -U\\int_0^\\infty \\frac{\\partial u}{\\partial x} \\text{d}y + \\int_0^\\infty u\\frac{\\partial u}{\\partial x} \\text{d}y \\tag{24}\n",
    "$$\n",
    "\n",
    "\n",
    "\n",
    "Collecting all together, we get\n",
    "\n",
    "$$\n",
    "\\int_0^\\infty \\frac{\\partial u}{\\partial t} \\text{d}y + 2\\int_0^\\infty u\\frac{\\partial u}{\\partial x} \\text{d}y \n",
    "-U\\int_0^\\infty \\frac{\\partial u}{\\partial x} \\text{d}y =\n",
    "\\int_0^\\infty \\frac{\\partial U}{\\partial t}\\text{d}y + \\int_0^\\infty U\\frac{\\partial U}{\\partial x} \\text{d}y - \\frac{\\tau_w}{\\rho} \\tag{25}\n",
    "$$\n",
    "\n",
    "and, after, rearranging terms and factorizing,\n",
    "\n",
    "$$\n",
    "\\frac{\\partial}{\\partial t} \\int_0^\\infty U\\left(1-\\frac{u}{U}\\right) \\text{d}y + \n",
    "\\int_0^\\infty \\frac{\\partial}{\\partial x} U^2\\left[\\frac{u}{U}\\left(1-\\frac{u}{U}\\right)\\right]\\text{d}y + \n",
    "U\\frac{\\partial U}{\\partial x}\\int_0^\\infty \\left(1-\\frac{u}{U}\\right) \\text{d}y =  \\frac{\\tau_w}{\\rho} \\tag{26}\n",
    "$$\n",
    "\n",
    "and defining the _displacement thickness_, $\\delta'$, and _momentum thickness_, $\\theta$, as\n",
    "\n",
    "$$\n",
    "\\delta'  =  \\int_0^\\infty \\left(1-\\frac{u}{U}\\right) \\text{d}y \\\\\n",
    "\\theta  =  \\int_0^\\infty \\frac{u}{U}\\left(1-\\frac{u}{U}\\right) \\text{d}y \\\\\n",
    "$$\n",
    "\n",
    "the von Kármán (1921) equation is finally obtained\n",
    "\n",
    "$$\n",
    "\\boxed{\n",
    "\\frac{\\partial}{\\partial t}\\left( U \\delta'\\right) + \\frac{\\partial}{\\partial x}\\left( U^2 \\theta\\right)+ U \\delta'\\frac{\\partial U}{\\partial x} = \\frac{\\tau_w}{\\rho} \n",
    "}\n",
    "\\tag{27}\n",
    "$$\n",
    "\n",
    "This equation relates, knowing the velocity profile $\\frac{u}{U}\\left(\\frac{y}{\\delta}\\right)$, the BL thickness, $\\delta$ with the wall friction $\\tau_w$.\n",
    "\n",
    "As an example, for steady uniform non-perturbed flow $U$, this simplifies to\n",
    "\n",
    "$$\n",
    "\\tau_w = \\rho U^2 \\frac{\\partial \\theta}{\\partial x} \\tag{28}\n",
    "$$\n",
    "\n",
    "regardless the turbulent regime of the flow.\n",
    "\n",
    "The momentum thickness $\\theta$ is usually considered as an important scale for the description of the BL."
   ]
  },
  {
   "cell_type": "markdown",
   "id": "downtown-delta",
   "metadata": {},
   "source": [
    "Let's compute the displacement and momentum thicknesses for the Blasius BL."
   ]
  },
  {
   "cell_type": "code",
   "execution_count": 12,
   "id": "taken-psychiatry",
   "metadata": {},
   "outputs": [],
   "source": [
    "from scipy.integrate import simpson\n",
    "from IPython.display import Latex"
   ]
  },
  {
   "cell_type": "code",
   "execution_count": 13,
   "id": "beginning-marker",
   "metadata": {},
   "outputs": [
    {
     "data": {
      "text/latex": [
       "$\\delta^\\prime = 0.35\\,\\delta$"
      ],
      "text/plain": [
       "<IPython.core.display.Latex object>"
      ]
     },
     "execution_count": 13,
     "metadata": {},
     "output_type": "execute_result"
    }
   ],
   "source": [
    "displThicknessBlasius = simpson((1-sol.y[1]),eta)\n",
    "Latex(r'$\\delta^\\prime = {:.3g}\\,\\delta$'.format(displThicknessBlasius))"
   ]
  },
  {
   "cell_type": "code",
   "execution_count": 14,
   "id": "general-inventory",
   "metadata": {},
   "outputs": [
    {
     "data": {
      "text/latex": [
       "$\\theta = 0.135\\,\\delta$"
      ],
      "text/plain": [
       "<IPython.core.display.Latex object>"
      ]
     },
     "execution_count": 14,
     "metadata": {},
     "output_type": "execute_result"
    }
   ],
   "source": [
    "momentumThicknessBlasius = simpson(sol.y[1]*(1-sol.y[1]),eta)\n",
    "Latex(r'$\\theta = {:.3g}\\,\\delta$'.format(momentumThicknessBlasius))"
   ]
  },
  {
   "cell_type": "markdown",
   "id": "4ebae5b1-bea8-43ec-8f13-bfa4b11b2bdc",
   "metadata": {},
   "source": [
    "When the velocity profile in the BL is unknown, it is usual to model it with an arbitrary function $\\frac{u}{U}=f(\\eta)$ that fulfills the conditions:\n",
    "\n",
    "$$\n",
    "f(0)  =  0 \\\\\n",
    "f(\\eta \\rightarrow \\infty)  \\rightarrow  1 \\\\\n",
    "\\left.\\frac{d^n f}{d \\eta^n}\\right|_{\\eta \\rightarrow \\infty}  \\rightarrow  0\n",
    "$$\n",
    "\n",
    "The simplest example is a the piecewise second degree polynomial \n",
    "\n",
    "$$\n",
    "f(\\eta) = \n",
    "\\begin{cases} \n",
    "2\\eta - \\eta^2 & \\;\\text{for } \\eta < 1 \\\\\n",
    "1 & \\;\\text{for }\\eta \\geq 1\n",
    "\\end{cases}\n",
    "$$\n",
    "\n",
    "Let's compare it with the Blasius velocity profile.\n",
    "\n",
    "Remember that we have a `sol.sol` function that returns the velocity profile for any value of the original $\\eta$  (not normalized with BL thickness). We construct a function that returns the actual value in function of the present $\\eta$  for Blasius and the 2nd degree polynomial"
   ]
  },
  {
   "cell_type": "code",
   "execution_count": 15,
   "id": "occupational-perception",
   "metadata": {},
   "outputs": [],
   "source": [
    "def uoverUBlasius(eta):\n",
    "    return sol.sol(eta*etaBLSol)[1]\n",
    "\n",
    "def uoverU2ndDeg(eta):\n",
    "    return np.piecewise(eta,[eta<1,eta>=1],[lambda eta:(2*eta-eta*eta),1])"
   ]
  },
  {
   "cell_type": "code",
   "execution_count": 16,
   "id": "mexican-entertainment",
   "metadata": {},
   "outputs": [
    {
     "data": {
      "image/png": "[encoded data removed]",
      "text/plain": [
       "<Figure size 576x576 with 1 Axes>"
      ]
     },
     "metadata": {
      "needs_background": "light"
     },
     "output_type": "display_data"
    }
   ],
   "source": [
    "eta = np.linspace(0,2,100)\n",
    "fig,ax = plt.subplots(1,1,figsize=(8,8))\n",
    "ax.plot(uoverUBlasius(eta),eta, label = 'Blasius')\n",
    "ax.plot(uoverU2ndDeg(eta),eta, label = '2nd degree')\n",
    "ax.set_xlabel(r'$\\frac{u}{U}$',fontsize = 16)\n",
    "ax.legend();"
   ]
  },
  {
   "cell_type": "markdown",
   "id": "clinical-dayton",
   "metadata": {},
   "source": [
    "### Exercise:\n",
    "\n",
    "Compute $\\delta^\\prime$ and $\\theta$ for the 2nd degree approximation. Use (9) to compute $\\delta(x)$ and compare with Blasus\n"
   ]
  },
  {
   "cell_type": "markdown",
   "id": "11bf261c-ca14-4554-bce8-fdd2cd6b23a2",
   "metadata": {},
   "source": [
    "## 4. Turbulent BL\n",
    "\n",
    "When flow is turbulent,  according to the [Reynolds Averaged Navier-Stokes equations](https://en.wikipedia.org/wiki/Reynolds-averaged_Navier%E2%80%93Stokes_equations), equation for the BL is practically the same as (5), but $u$ is replaced by $\\overline{u}$ (we get an equation for averaged velocity) and an extra term $\\frac{\\partial}{\\partial y}\\left(-\\rho \\overline{u'v'}\\right)$. known as [Reynolds turbulent stress tensor](https://en.wikipedia.org/wiki/Reynolds_stress),  appears.Hence,\n",
    "\n",
    "$$\n",
    "\\frac{\\partial \\overline u}{\\partial x} + \\frac{\\partial \\overline v}{\\partial y} = 0 \\tag{29}\n",
    "$$\n",
    "\n",
    "$$\n",
    "\\frac{\\partial \\overline u}{\\partial t} + \\overline u\\frac{\\partial \\overline u}{\\partial x} + \\overline v\\frac{\\partial \\overline u}{\\partial y} = \n",
    "-\\frac{1}{\\rho}\\frac{\\partial \\overline p}{\\partial x} + \\nu \\frac{\\partial^2 \\overline u}{\\partial y^2} - \\frac{\\partial}{\\partial y}\\left(\\overline{u'v'}\\right) \\tag{30}\n",
    "$$\n",
    "\n",
    "One way to model this term is with the definition of an [eddy viscosity](https://en.wikipedia.org/wiki/Turbulence_modeling#Eddy_viscosity) , according to the _Boussinesq aproximation_. The Reynolds term is then written in terms of the average velocity as\n",
    "\n",
    "$$\n",
    "- \\frac{\\partial}{\\partial y}\\left(\\overline{u'v'}\\right) = \\nu_t\\left(\\frac{\\partial \\overline u}{\\partial y}\\right) \\tag{31}\n",
    "$$\n",
    "\n",
    "Note that $\\nu_t$ is not a property of the fluid (like molecular viscosity) but of the flow (like velocity) and, so, it is function of space and time. The effective viscosity is, therefore, the sum of both of them, and the viscous term can be written as\n",
    "\n",
    "$$\n",
    "\\frac{\\tau}{\\rho} = \\left(\\nu + \\nu_t\\right)\\left(\\frac{\\partial \\overline u}{\\partial y}\\right) \\tag{32}\n",
    "$$\n",
    "\n",
    "But with that the problem is not solved, only it has been transferred to another unknown, $\\nu_t$. A successful approach is the [Prandtl's mixing length](https://en.wikipedia.org/wiki/Turbulence_modeling#Prandtl's_mixing-length_concept). \n",
    "\n",
    "$$\n",
    "\\nu_t = l^2\\left|\\frac{\\partial \\overline u}{\\partial y}\\right| \\tag{33}\n",
    "$$\n",
    "\n",
    "where, in the case of turbulent BL, the mixing length $l$ can be estimated in function of the distance to the wall. \n",
    "\n",
    "In a turbulent BL several regions can be defined.\n",
    "\n",
    "![Image](TurbulentBL.png)\n",
    "\n",
    "But, before, we have to define the normalization of this kind of BL. In a turbulent BL the effect of the wall is very important,so, it is very usual to normalize the velocity inside the BL, $\\overline u$ using the wall friction instead of the free stream velocity. Therefore, a _friction velocity_ $u_\\tau = \\sqrt{\\frac{\\tau_w}{\\rho}}$ is defined, and a dimensionless distance $y^+$ and velocity $u^+$ are defined as\n",
    "\n",
    "$$\n",
    "y^+  =  \\frac{y u_\\tau}{\\nu} \\tag{34}\n",
    "$$\n",
    "\n",
    "$$\n",
    "u^+  =  \\frac{\\overline u}{u_\\tau} \\tag{35}\n",
    "$$\n",
    "\n",
    "The two main regions of the TBL are the _Inner layer_, which extends up to $y^+ \\approx 35$, and the _Outer layer_, that begins around $y^+ \\approx 350$. Between these regions there is an _Overlap layer_.\n",
    "\n",
    "In the Inner layer the influence of the wall is specially important, and the mixing length depends strongly on its distance. In the overlap layer it is considered that the mixing layer increase linearly with the distance to the wall and, finally, in the Outer layer, the wall is so far away that there is no dependence on the distance.  \n",
    "\n",
    "$$\n",
    "l \\sim y^2 \\; \\text{in the Inner layer} \\\\\n",
    "l \\sim y \\; \\text{in the Overlap layer} \\\\\n",
    "l \\sim \\text{ct} \\; \\text{in the Outer layer}\n",
    "$$\n",
    "\n",
    "In the most adjacent layer, the **viscous sublayer**, the turbulence is low and the flow is dominated by viscosity, yielding a Couette-like flow with a linear profile $u^+ = k_l y^+$, where $k_l$ is a constant, that is has been measured as $k_l \\approx 1$. This behavior is typically valid up to $y^+ \\approx 5 \\div 10$ \n",
    "\n",
    "On the **overlap region**, though, turbulent viscosity is much bigger than molecular viscosity, and it can be assumed that $\\nu + \\nu_t \\approx \\nu_t$. Hence, with the mixing length model,\n",
    "\n",
    "$$\n",
    "\\nu_t\\left(\\frac{\\partial \\overline u}{\\partial y}\\right) = l^2\\left(\\frac{\\partial \\overline u}{\\partial y}\\right)^2 = a^2y^2\\left(\\frac{\\partial \\overline u}{\\partial y}\\right)^2 \\tag{36}\n",
    "$$\n",
    "\n",
    "Assuming that this stress is the same than in the wall, $\\tau_t \\approx \\tau_w$ we can get the relationship\n",
    "\n",
    "$$\n",
    "u_\\tau^2 = a^2y^2\\left(\\frac{\\partial \\overline u}{\\partial y}\\right)^2 \\tag{37}\n",
    "$$\n",
    "\n",
    "that leads to \n",
    "\n",
    "$$\n",
    "\\boxed{\n",
    "u^+ = \\frac{1}{a}\\ln{y^+}+b\n",
    "}\n",
    "\\tag{38}\n",
    "$$\n",
    "\n",
    "where $a\\approx 0.41$ and $b\\approx 5.0$\n",
    "\n",
    "Between viscous sublayer and the overlap region there is the buffer layer, up to $y^+ \\approx 30$, where neither law hold.\n",
    "\n",
    "![Image](LogLaw.png)\n",
    "\n",
    "In the **outer layer**, the velocity defect, $U-\\overline{u}(y)$ is considered to be function only of the distance to wall, $y$. In dimensionless way it is written as \n",
    "\n",
    "$$\n",
    "\\frac{U-\\overline{u}}{u_\\tau} = F(\\eta) \\tag{39}\n",
    "$$\n",
    "\n",
    "\n",
    "Now the question is: how can we get $\\tau_w$ from these expressions? We cannot use Newton's law $\\tau_w = \\mu u_{,y}(y=0)$, since the log law does not reach the wall and the slope for he linear low in the viscous sublayer is unknown. So, we have to use indirect relationship through the definition of $u_\\tau$ that describes the log law.\n",
    "\n",
    "We introduce the definition of the skin factor\n",
    "\n",
    "$$\n",
    "c_f = \\frac{\\tau_w}{\\frac{1}{2}\\rho U^2} = 2\\left(\\frac{u_\\tau}{U}\\right)^2 \\tag{40}\n",
    "$$\n",
    "\n",
    "and, also we are going to use $Re_\\delta = \\frac{\\delta U}{\\nu}$ \n"
   ]
  },
  {
   "cell_type": "code",
   "execution_count": 17,
   "id": "480020b8-90e2-4a3f-9741-df2aa74c8ddf",
   "metadata": {},
   "outputs": [],
   "source": [
    "import sympy as sp\n",
    "\n",
    "uPlus, yPlus, a, b = sp.symbols('u^+,y^+,a,b',positive=True)"
   ]
  },
  {
   "cell_type": "code",
   "execution_count": 18,
   "id": "frank-covering",
   "metadata": {},
   "outputs": [
    {
     "data": {
      "text/latex": [
       "$\\displaystyle u^{+} = b + \\frac{\\log{\\left(y^{+} \\right)}}{a}$"
      ],
      "text/plain": [
       "Eq(u^+, b + log(y^+)/a)"
      ]
     },
     "execution_count": 18,
     "metadata": {},
     "output_type": "execute_result"
    }
   ],
   "source": [
    "LogLaw = sp.Eq(uPlus,1/a*sp.ln(yPlus)+b)\n",
    "LogLaw"
   ]
  },
  {
   "cell_type": "code",
   "execution_count": 19,
   "id": "eca29ff9-1f69-49bf-9e85-a1b5c361c96a",
   "metadata": {},
   "outputs": [
    {
     "data": {
      "text/latex": [
       "$\\displaystyle \\frac{\\sqrt{\\rho} u}{\\sqrt{\\tau_{w}}} = b + \\frac{\\log{\\left(\\frac{\\sqrt{\\tau_{w}} y}{\\nu \\sqrt{\\rho}} \\right)}}{a}$"
      ],
      "text/plain": [
       "Eq(sqrt(rho)*u/sqrt(tau_w), b + log(sqrt(tau_w)*y/(nu*sqrt(rho)))/a)"
      ]
     },
     "execution_count": 19,
     "metadata": {},
     "output_type": "execute_result"
    }
   ],
   "source": [
    "y,u,rho,tauW,nu = sp.symbols('y,u,rho,tau_w,nu',positive=True)\n",
    "LogLaw = LogLaw.replace(uPlus,u*sp.sqrt(rho/tauW)).replace(yPlus,y/nu*sp.sqrt(tauW/rho))\n",
    "LogLaw"
   ]
  },
  {
   "cell_type": "code",
   "execution_count": 20,
   "id": "ba1550bc-684f-4413-8d31-4b4e02eac1e3",
   "metadata": {},
   "outputs": [
    {
     "data": {
      "text/latex": [
       "$\\displaystyle \\frac{U \\sqrt{\\rho}}{\\sqrt{\\tau_{w}}} = b + \\frac{\\log{\\left(\\frac{\\delta \\sqrt{\\tau_{w}}}{\\nu \\sqrt{\\rho}} \\right)}}{a}$"
      ],
      "text/plain": [
       "Eq(U*sqrt(rho)/sqrt(tau_w), b + log(delta*sqrt(tau_w)/(nu*sqrt(rho)))/a)"
      ]
     },
     "execution_count": 20,
     "metadata": {},
     "output_type": "execute_result"
    }
   ],
   "source": [
    "delta, U = sp.symbols('delta,U',positive=True)\n",
    "LogLawDelta = LogLaw.replace(y,delta).replace(u,U)\n",
    "LogLawDelta"
   ]
  },
  {
   "cell_type": "code",
   "execution_count": 21,
   "id": "a0b1610c-1d14-4f01-968d-83340310b945",
   "metadata": {},
   "outputs": [
    {
     "data": {
      "text/latex": [
       "$\\displaystyle \\frac{\\sqrt{2}}{\\sqrt{c_{f}}} = b + \\frac{\\log{\\left(\\frac{\\sqrt{2} U \\sqrt{c_{f}} \\delta}{2 \\nu} \\right)}}{a}$"
      ],
      "text/plain": [
       "Eq(sqrt(2)/sqrt(c_f), b + log(sqrt(2)*U*sqrt(c_f)*delta/(2*nu))/a)"
      ]
     },
     "execution_count": 21,
     "metadata": {},
     "output_type": "execute_result"
    }
   ],
   "source": [
    "cf, ReDelta = sp.symbols('c_f,Re_delta',positive=True)\n",
    "LogLawDelta = LogLawDelta.replace(tauW,cf*sp.Rational(1,2)*rho*U**2).simplify()\n",
    "LogLawDelta"
   ]
  },
  {
   "cell_type": "code",
   "execution_count": 22,
   "id": "4ac9d9f2-bed6-4277-bec7-e70688efe189",
   "metadata": {},
   "outputs": [
    {
     "data": {
      "text/latex": [
       "$\\displaystyle \\frac{\\sqrt{2}}{\\sqrt{c_{f}}} = \\frac{a b + \\log{\\left(Re_{\\delta} \\right)} + \\frac{\\log{\\left(c_{f} \\right)}}{2} - \\frac{\\log{\\left(2 \\right)}}{2}}{a}$"
      ],
      "text/plain": [
       "Eq(sqrt(2)/sqrt(c_f), (a*b + log(Re_delta) + log(c_f)/2 - log(2)/2)/a)"
      ]
     },
     "execution_count": 22,
     "metadata": {},
     "output_type": "execute_result"
    }
   ],
   "source": [
    "LogLawDelta = LogLawDelta.replace(delta, ReDelta*nu/U).simplify()\n",
    "LogLawDelta"
   ]
  },
  {
   "cell_type": "code",
   "execution_count": 23,
   "id": "upper-dayton",
   "metadata": {},
   "outputs": [
    {
     "data": {
      "text/latex": [
       "$\\displaystyle \\frac{\\sqrt{2}}{\\sqrt{c_{f}}} = 2.4390243902439 \\log{\\left(Re_{\\delta} \\right)} + 1.21951219512195 \\log{\\left(c_{f} \\right)} - 1.21951219512195 \\log{\\left(2 \\right)} + 5.0$"
      ],
      "text/plain": [
       "Eq(sqrt(2)/sqrt(c_f), 2.4390243902439*log(Re_delta) + 1.21951219512195*log(c_f) - 1.21951219512195*log(2) + 5.0)"
      ]
     },
     "execution_count": 23,
     "metadata": {},
     "output_type": "execute_result"
    }
   ],
   "source": [
    "LogLawDelta = LogLawDelta.replace(a,0.41).replace(b,5)\n",
    "LogLawDelta"
   ]
  },
  {
   "cell_type": "code",
   "execution_count": 24,
   "id": "manual-lying",
   "metadata": {},
   "outputs": [
    {
     "data": {
      "text/latex": [
       "$\\displaystyle \\frac{0.182058646604666 e^{\\frac{0.579827560572969}{\\sqrt{c_{f}}}}}{\\sqrt{c_{f}}}$"
      ],
      "text/plain": [
       "0.182058646604666*exp(0.579827560572969/sqrt(c_f))/sqrt(c_f)"
      ]
     },
     "execution_count": 24,
     "metadata": {},
     "output_type": "execute_result"
    }
   ],
   "source": [
    "ReDeltaSol = sp.solve(LogLawDelta,ReDelta)\n",
    "ReDeltaSol[0]"
   ]
  },
  {
   "cell_type": "code",
   "execution_count": 25,
   "id": "smooth-decimal",
   "metadata": {},
   "outputs": [],
   "source": [
    "ReDelta_n = sp.lambdify(cf,ReDeltaSol)"
   ]
  },
  {
   "cell_type": "code",
   "execution_count": 26,
   "id": "0da2fca5-c0fa-45a3-8cb0-a7abb4840d06",
   "metadata": {},
   "outputs": [
    {
     "data": {
      "text/plain": [
       "[0.3892288855272373]"
      ]
     },
     "execution_count": 26,
     "metadata": {},
     "output_type": "execute_result"
    }
   ],
   "source": [
    "cf = 0.8\n",
    "ReDelta_n(cf)"
   ]
  }
 ],
 "metadata": {
  "kernelspec": {
   "display_name": "Python 3 (ipykernel)",
   "language": "python",
   "name": "python3"
  },
  "language_info": {
   "codemirror_mode": {
    "name": "ipython",
    "version": 3
   },
   "file_extension": ".py",
   "mimetype": "text/x-python",
   "name": "python",
   "nbconvert_exporter": "python",
   "pygments_lexer": "ipython3",
   "version": "3.8.13"
  }
 },
 "nbformat": 4,
 "nbformat_minor": 5
}
