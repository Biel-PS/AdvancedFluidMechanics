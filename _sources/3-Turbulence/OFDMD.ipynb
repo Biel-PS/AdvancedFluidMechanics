{
 "cells": [
  {
   "cell_type": "markdown",
   "id": "02127cb6-d6f5-4ed1-97b5-f3ec13d8fbc3",
   "metadata": {},
   "source": [
    "## Using python for proper orthogonal decomposition and dynamic mode decomposition (DMD)\n",
    "\n",
    "Partial Orthogonal Decomposition (POD) and  Dynamic Mode Decomposition (DMD) are numerical techniques which are used to extract dominant features of dynamical systems from time-series data.\n",
    "\n",
    "Reduced order models of the dynamical systems being studied can be obtained from both, and both can be thought of as extensions of the Singular Value Decomposition (SVD), so they are relatively similar tools. Their main differences are that DMD modes are invariant in time, while POD modes are not, POD modes are orthogonal, while DMD modes are not and, while POD always uses SVD, some popular applications of DMD use krylov decomposition.\n",
    "\n",
    "So why would we want to use this techniques?\n",
    "\n",
    "As mentioned before, turbulent flows are complex non-linear systems, which require special tools in order to analyze them profoundly. With both POD and DMD, meaningful structures within a scalar or vector field can be extracted. For instance, by performing a DMD on a vorticity field, the underlying oscillatory modes of the turbulence structure can be obtained and understood."
   ]
  },
  {
   "cell_type": "markdown",
   "id": "c8a4d3bc-fcbf-4fc5-85ad-e72076507d74",
   "metadata": {},
   "source": [
    "Let's consider the simulation of a 2D rotor, performed by the [tutorial](tutorials/incompressibleFluid/rotor2D) of OpenFOAM 11."
   ]
  },
  {
   "cell_type": "markdown",
   "id": "e8963124-9d1b-4b9c-98d0-73cce9e53643",
   "metadata": {
    "tags": []
   },
   "source": [
    "![image](./OF11/rotor2D/rotor2D.gif \"rotor2D\")"
   ]
  },
  {
   "cell_type": "markdown",
   "id": "aec0fb98-c4d9-4a72-a23f-95eb9cf2be21",
   "metadata": {},
   "source": [
    "First we import the need module. The package [pyDMD](https://pydmd.github.io/PyDMD/index.html) used to analyze and extract coherent structures, and OpenFoam python parser, [Ofpp](https://github.com/xu-xianghua/ofpp), used to read results from the OpenFOAM case."
   ]
  },
  {
   "cell_type": "code",
   "execution_count": 1,
   "id": "cf7f6b54-220d-4ab1-aa72-af775482fe16",
   "metadata": {
    "tags": []
   },
   "outputs": [],
   "source": [
    "import numpy as np\n",
    "try:\n",
    "    from pydmd import MrDMD, DMD, BOPDMD\n",
    "    from pydmd.plotter import plot_eigs, plot_summary\n",
    "    from pydmd.preprocessing import hankel_preprocessing\n",
    "    from pydmd.plotter import plot_modes_2D\n",
    "except:\n",
    "    !pip install pydmd\n",
    "    from pydmd import MrDMD, DMD, BOPDMD\n",
    "    from pydmd.plotter import plot_eigs, plot_summary\n",
    "    from pydmd.preprocessing import hankel_preprocessing\n",
    "    from pydmd.plotter import plot_modes_2D\n",
    "try:\n",
    "    import os\n",
    "except:\n",
    "    !pip install os\n",
    "    import os\n",
    "try:\n",
    "    import Ofpp\n",
    "except:\n",
    "    !pip install Ofpp\n",
    "    import Ofpp\n",
    "import matplotlib.pyplot as plt\n",
    "import scipy"
   ]
  },
  {
   "cell_type": "markdown",
   "id": "a90e09c3-763e-40cd-9708-8d3df9c22faf",
   "metadata": {},
   "source": [
    "The case path and the field are defined, and the list of time directories is stored"
   ]
  },
  {
   "cell_type": "code",
   "execution_count": 2,
   "id": "f3bbe8f5-dc18-4ff4-b0c0-0d4353aeb01e",
   "metadata": {
    "tags": []
   },
   "outputs": [],
   "source": [
    "filepath=\"./OF11/rotor2D/\"\n",
    "field=\"U\"\n",
    "## Buscar timesteps del cas, eliminant el 0 perque son condicions inicials ##\n",
    "TstepDirList=[]\n",
    "for directory in os.listdir(filepath): # iterate \n",
    "    if (directory[0].isnumeric()):\n",
    "        if(\".\" in directory):\n",
    "            TstepDirList.append(float(directory))\n",
    "        else:\n",
    "            TstepDirList.append(int(directory))\n",
    "TstepDirList.remove(0)\n",
    "TstepDirList.sort()\n",
    "nTsteps=len(TstepDirList)"
   ]
  },
  {
   "cell_type": "markdown",
   "id": "f6c597c5-3c99-493c-9fb8-9c8a7659a8c5",
   "metadata": {},
   "source": [
    "The field is read for eaach time step and it is stored in an array $U$ of $n$ rows and $T$ columns, where $n$ is the number of cells of the simulation and $T$ is the number of time snapshots."
   ]
  },
  {
   "cell_type": "code",
   "execution_count": 3,
   "id": "53d5b103-ab63-41fa-8884-ddb84e6223cf",
   "metadata": {
    "tags": []
   },
   "outputs": [],
   "source": [
    "#initial field\n",
    "U = np.linalg.norm(\n",
    "                  Ofpp.parse_internal_field('{}/{}/{}'.format(filepath,TstepDirList[0],field)),\n",
    "                  axis=1)\n",
    "#We append the next timesteps\n",
    "for currTime in TstepDirList[1:]:\n",
    "    U = np.c_[U,\n",
    "              np.linalg.norm(\n",
    "                  Ofpp.parse_internal_field('{}/{}/{}'.format(filepath,currTime,field)),\n",
    "                  axis=1)\n",
    "             ]"
   ]
  },
  {
   "cell_type": "markdown",
   "id": "6da3755b-0eb9-4af4-983c-528b540788d2",
   "metadata": {},
   "source": [
    "First the SVD (Singular Value Decomposition) can be computed with `scipy`.  "
   ]
  },
  {
   "cell_type": "code",
   "execution_count": 4,
   "id": "b5f75c01-3acc-4b6d-9aa6-0a2e14d86b45",
   "metadata": {
    "tags": []
   },
   "outputs": [
    {
     "data": {
      "image/png": "[encoded data removed]",
      "text/plain": [
       "<Figure size 432x288 with 1 Axes>"
      ]
     },
     "metadata": {
      "needs_background": "light"
     },
     "output_type": "display_data"
    }
   ],
   "source": [
    "fig = plt.plot(\n",
    "    scipy.linalg.svdvals(\n",
    "        np.array([snapshot.flatten() for snapshot in U]).T\n",
    "    ),\n",
    "    \"o\",\n",
    ")"
   ]
  },
  {
   "cell_type": "markdown",
   "id": "a92fb01a-be01-4e3c-b5b1-1e9099061f2f",
   "metadata": {},
   "source": [
    "A [Multi Resolution DMD](https://en.wikipedia.org/wiki/Dynamic_mode_decomposition#Theoretical_and_algorithmic_advancements) is performed, based on a standard DMD, where no truncation of SVD is applied.\n",
    "\n",
    "The funcion `fit` is the one that actually performs the DMD."
   ]
  },
  {
   "cell_type": "code",
   "execution_count": 5,
   "id": "e4fd4b24-a3c8-4260-bf87-1c883eca24a7",
   "metadata": {
    "tags": []
   },
   "outputs": [
    {
     "name": "stderr",
     "output_type": "stream",
     "text": [
      "/home/robert/.config/jupyterlab-desktop/jlab_server/lib/python3.8/site-packages/pydmd/mrdmd.py:490: ComplexWarning: Casting complex values to real discards the imaginary part\n",
      "  newX = np.hstack(\n"
     ]
    },
    {
     "data": {
      "text/plain": [
       "<pydmd.mrdmd.MrDMD at 0x7f4bed401490>"
      ]
     },
     "execution_count": 5,
     "metadata": {},
     "output_type": "execute_result"
    }
   ],
   "source": [
    "sub_dmd = DMD(svd_rank=-1,tlsq_rank=2, exact=True, opt=True)\n",
    "dmd = MrDMD(sub_dmd, max_level=4, max_cycles=1)\n",
    "dmd.fit(U)"
   ]
  },
  {
   "cell_type": "markdown",
   "id": "7845f71f-e600-49d7-bdff-bec521fb695b",
   "metadata": {},
   "source": [
    "The modes can be now reconstructed as OpenFOAM cases."
   ]
  },
  {
   "cell_type": "code",
   "execution_count": 6,
   "id": "c0cc3d3d-6227-493f-8495-52db53154824",
   "metadata": {
    "tags": []
   },
   "outputs": [],
   "source": [
    "header = '''/*--------------------------------*- C++ -*----------------------------------*\\\n",
    "  =========                 |\n",
    "  \\\\      /  F ield         | OpenFOAM: The Open Source CFD Toolbox\n",
    "   \\\\    /   O peration     | Website:  https://openfoam.org\n",
    "    \\\\  /    A nd           | Version:  11\n",
    "     \\\\/     M anipulation  |\n",
    "\\*---------------------------------------------------------------------------*/\n",
    "FoamFile\n",
    "{\n",
    "    format      ascii;\n",
    "    class       volScalarField;\n",
    "    object      U;\n",
    "}\n",
    "// * * * * * * * * * * * * * * * * * * * * * * * * * * * * * * * * * * * * * //\n",
    "\n",
    "dimensions      [0 1 -1 0 0 0 0];\n",
    "\n",
    "internalField   nonuniform List<scalar> \n",
    "'''\n",
    "BC = ''' \n",
    "boundaryField\n",
    "{\n",
    "    rotor\n",
    "    {\n",
    "        type            movingWallVelocity;\n",
    "        value           uniform 0;\n",
    "    }\n",
    "        freestream\n",
    "    {\n",
    "        type            freestreamVelocity;\n",
    "        freestreamValue uniform (1 0 0);\n",
    "        value           uniform 0;\n",
    "    }\n",
    "    frontAndBack\n",
    "    {\n",
    "        type            empty;\n",
    "    }\n",
    "}    \n",
    "'''\n",
    "for i in range(4):\n",
    "    if i==0:\n",
    "        pdata = dmd.partial_reconstructed_data(level=0)\n",
    "    else:\n",
    "        pdata += dmd.partial_reconstructed_data(level=i)\n",
    "    i1=0\n",
    "    while i1<len(TstepDirList):\n",
    "        i2=0\n",
    "        try:\n",
    "            os.makedirs('{caseDir}DMD/{dmdlevel}/{tstep}'.format(caseDir=filepath,dmdlevel=i,tstep=TstepDirList[i1]))\n",
    "        except OSError:\n",
    "            pass\n",
    "        with open('{caseDir}DMD/{dmdlevel}/{tstep}/{field}'.format(caseDir=filepath,dmdlevel=i,tstep=TstepDirList[i1],field=field),'w') as recFieldFile:\n",
    "            os.popen('cp -r {caseDir}/{tstep}/polyMesh {caseDir}DMD/{dmdlevel}/{tstep}'.format(caseDir=filepath,dmdlevel=i,tstep=TstepDirList[i1],field=field))\n",
    "            for row in header:\n",
    "                recFieldFile.write(row)\n",
    "            recFieldFile.write(str(pdata.shape[0]))\n",
    "            recFieldFile.write('\\n')\n",
    "            recFieldFile.write('( \\n')\n",
    "            while i2<pdata.shape[0]:\n",
    "                recFieldFile.write(str(pdata[i2][i1].real))\n",
    "                recFieldFile.write('\\n')\n",
    "                i2+=1 \n",
    "            recFieldFile.write(') \\n')\n",
    "            recFieldFile.write(';')\n",
    "            for row in BC:\n",
    "                recFieldFile.write(row)\n",
    "            i1+=1"
   ]
  },
  {
   "cell_type": "markdown",
   "id": "b74aaca3-1626-459d-b785-089599a236c5",
   "metadata": {},
   "source": [
    "And these are the 4 modes:\n",
    "\n",
    "![image](./OF11/rotor2D/DMD/0/mode0.gif \"mode0\")\n",
    "\n",
    "![image](./OF11/rotor2D/DMD/1/mode1.gif \"mode0\")\n",
    "\n",
    "![image](./OF11/rotor2D/DMD/2/mode2.gif \"mode0\")\n",
    "\n",
    "![image](./OF11/rotor2D/DMD/3/mode3.gif \"mode0\")"
   ]
  },
  {
   "cell_type": "code",
   "execution_count": null,
   "id": "c2546275-7669-42a9-800e-378d0fb12770",
   "metadata": {},
   "outputs": [],
   "source": []
  }
 ],
 "metadata": {
  "kernelspec": {
   "display_name": "Python 3 (ipykernel)",
   "language": "python",
   "name": "python3"
  },
  "language_info": {
   "codemirror_mode": {
    "name": "ipython",
    "version": 3
   },
   "file_extension": ".py",
   "mimetype": "text/x-python",
   "name": "python",
   "nbconvert_exporter": "python",
   "pygments_lexer": "ipython3",
   "version": "3.8.13"
  }
 },
 "nbformat": 4,
 "nbformat_minor": 5
}
