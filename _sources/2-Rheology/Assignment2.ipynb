{
 "cells": [
  {
   "cell_type": "markdown",
   "id": "b7a0c9cf-b589-4da1-8b4b-e8e6fde7f631",
   "metadata": {},
   "source": [
    "# Assignment 2. Rheological behaviour of cosmetic creams\n",
    "\n",
    "It is a sample of rheological behaviour of some cosmetic creams, taken from [here](https://www.rheologylab.com/articles/emulsion-stability/)\n",
    "\n",
    "![image.png](CSVP-of-Lotions-and-Creams-names-removed.webp)\n",
    "\n",
    "What conclusions would you get from that about the behaviour of day creams in front of body creams? \n",
    "\n",
    "Let's consider the case of the body lotion C. Fit the Power Law model, get coefficients and plot it. You will see that it is not good. You will see that it does not agree with very low (_zero-shear rate viscosity_) or high (_infinity-shear rate viscosity_) shear stress. There are some other models that deals with this behaviour. The molt usual is the [Carreau model](https://en.wikipedia.org/wiki/Carreau_fluid). Apply this law to obtain a more accurate model of this fluid and discuss it.\n"
   ]
  },
  {
   "cell_type": "code",
   "execution_count": null,
   "id": "4b8910e9-bf44-4876-855b-9088968a4213",
   "metadata": {},
   "outputs": [],
   "source": []
  }
 ],
 "metadata": {
  "kernelspec": {
   "display_name": "Python 3 (ipykernel)",
   "language": "python",
   "name": "python3"
  },
  "language_info": {
   "codemirror_mode": {
    "name": "ipython",
    "version": 3
   },
   "file_extension": ".py",
   "mimetype": "text/x-python",
   "name": "python",
   "nbconvert_exporter": "python",
   "pygments_lexer": "ipython3",
   "version": "3.8.13"
  }
 },
 "nbformat": 4,
 "nbformat_minor": 5
}
