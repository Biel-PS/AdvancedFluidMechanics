{
 "cells": [
  {
   "cell_type": "markdown",
   "id": "76c8030b-1f59-413d-836c-c73319301013",
   "metadata": {},
   "source": [
    "# Assignment 0: Conical tank emptying time\n",
    "\n",
    "---\n",
    "\n",
    "Let's calculate how long it takes to [empty a conical tank](https://www.youtube.com/watch?v=2jQ1jA8uJuU)\n",
    "\n",
    "The simplification of the continuity equation leads, for a generic $h$, to\n",
    "\n",
    "\\begin{equation}\n",
    "u_1 D_h^2 = u_1 \\left(d + 2h \\tan \\theta \\right)^2 = u_2 d^2 \\tag{1} \\label{eq_cont}\n",
    "\\end{equation}\n",
    "\n",
    "\\begin{equation}\n",
    "\\Rightarrow \\; u_2 = u_1\\left(1 + 2\\frac{h}{d} \\tan \\theta \\right)^2\n",
    "\\end{equation}\n",
    "\n",
    "On the other hand, Bernoulli's equation, considering quasi-steady flow and without viscosity,\n",
    "\n",
    "\\begin{equation}\n",
    "u_1^2 + 2gh = u_2^2 = u_1^2 \\left(1 + 2\\frac{h}{d} \\tan \\theta \\right)^4\n",
    "\\end{equation}\n",
    "\n",
    "\\begin{equation}\n",
    "\\Rightarrow \\; u_1^2 \\left[ \\left(1 + 2\\frac{h}{d} \\tan \\theta \\right)^4 -1 \\right] = 2gh\n",
    "\\end{equation}\n",
    "\n",
    "\\begin{equation}\n",
    "\\Rightarrow \\; u_1 = \\left[ \\frac{2gh}{\\left(1 + 2\\frac{h}{d} \\tan \\theta \\right)^4 -1} \\right]^\\frac{1}{2} = -\\frac{\\textrm{d} h}{\\textrm{d} t}\n",
    "\\end{equation}\n",
    "\n",
    "\\begin{equation}\n",
    "\\Rightarrow \\; \\boxed{dt = - \\left[ \\frac{\\left(1 + 2\\frac{h}{d} \\tan \\theta \\right)^4 -1}{2gh}\\right]^\\frac{1} {2} \\textrm{d} h} \\tag{2} \\label{eq:int}\n",
    "\\end{equation}\n",
    "\n",
    "This can be written dimensionless with a time characteristic $\\tau = \\sqrt{\\frac{d}{2g}}$, a change to dimensionless variable $\\xi = \\frac{h}{d}$, and a parameter $A = 2\\tan \\theta$, becoming\n",
    "\n",
    "\\begin{equation}\n",
    "\\frac{\\textrm{d} t}{\\tau} = - \\left[ \\frac{\\left(1 + A \\xi \\right)^4 -1}{\\xi}\\right]^\\frac{1 }{2} \\textrm{d} \\xi\n",
    "\\end{equation}\n",
    "\n",
    "Use sympy to analytically compute this time, making an estimation with  $d \\ll h$ so that it can be supposed that  $\\xi \\gg 1$."
   ]
  },
  {
   "cell_type": "markdown",
   "id": "2511db5b-cbae-4c6c-92cd-feb24605611f",
   "metadata": {},
   "source": [
    "## Simplified form\n",
    "\n",
    "A first simplification is to assume that $d \\ll h$ at all times, so that $\\xi$ is very large. In this case, $(1+A\\xi)^4-1 \\approx (1+A\\xi)^4$ can be considered. This is what would be obtained from directly applying Torricelli's equation,\n",
    "\n",
    "\\begin{equation}\n",
    "u_2 = \\sqrt{2gh}\n",
    "\\end{equation}"
   ]
  },
  {
   "cell_type": "code",
   "execution_count": 1,
   "id": "5ac8318a-92f3-448a-b7ee-babfdd6c6b40",
   "metadata": {},
   "outputs": [],
   "source": [
    "import sympy as sp\n",
    "import numpy as np"
   ]
  },
  {
   "cell_type": "code",
   "execution_count": 2,
   "id": "e9280b3e-3b02-4881-bc67-b25fce0e3c7e",
   "metadata": {},
   "outputs": [],
   "source": [
    "t,tau,xi,A,xi_0,xi_f = sp.symbols('t,tau,xi,A,xi_0,xi_f',positive=True, real=True)"
   ]
  },
  {
   "cell_type": "code",
   "execution_count": 3,
   "id": "a2be26ae-e69a-4f8b-b842-6258359ba706",
   "metadata": {},
   "outputs": [],
   "source": [
    "f1 = (1+A*xi)**2/sp.sqrt(xi)"
   ]
  },
  {
   "cell_type": "code",
   "execution_count": 4,
   "id": "14596072-bbd4-4968-9502-c3c758b033a4",
   "metadata": {},
   "outputs": [
    {
     "data": {
      "text/latex": [
       "$\\displaystyle \\frac{\\left(A \\xi + 1\\right)^{2}}{\\sqrt{\\xi}}$"
      ],
      "text/plain": [
       "(A*xi + 1)**2/sqrt(xi)"
      ]
     },
     "execution_count": 4,
     "metadata": {},
     "output_type": "execute_result"
    }
   ],
   "source": [
    "f1"
   ]
  },
  {
   "cell_type": "code",
   "execution_count": 5,
   "id": "0617b454-e9e3-48da-b52e-8992b4ab7d29",
   "metadata": {},
   "outputs": [],
   "source": [
    "f1I = sp.integrate(f1,(xi,xi_0,xi_f))"
   ]
  },
  {
   "cell_type": "code",
   "execution_count": 6,
   "id": "51330d82-8102-4b17-b7f6-016b16f020d6",
   "metadata": {},
   "outputs": [],
   "source": [
    "f1I = f1I.simplify()"
   ]
  },
  {
   "cell_type": "code",
   "execution_count": 7,
   "id": "ae9dc1bb-cfc0-4729-81b7-ad4c4089c0db",
   "metadata": {},
   "outputs": [
    {
     "data": {
      "text/latex": [
       "$\\displaystyle - \\frac{2 A^{2} \\xi_{0}^{\\frac{5}{2}}}{5} + \\frac{2 A^{2} \\xi_{f}^{\\frac{5}{2}}}{5} - \\frac{4 A \\xi_{0}^{\\frac{3}{2}}}{3} + \\frac{4 A \\xi_{f}^{\\frac{3}{2}}}{3} - 2 \\sqrt{\\xi_{0}} + 2 \\sqrt{\\xi_{f}}$"
      ],
      "text/plain": [
       "-2*A**2*xi_0**(5/2)/5 + 2*A**2*xi_f**(5/2)/5 - 4*A*xi_0**(3/2)/3 + 4*A*xi_f**(3/2)/3 - 2*sqrt(xi_0) + 2*sqrt(xi_f)"
      ]
     },
     "execution_count": 7,
     "metadata": {},
     "output_type": "execute_result"
    }
   ],
   "source": [
    "f1I"
   ]
  },
  {
   "cell_type": "code",
   "execution_count": 8,
   "id": "fd40a8ee-a6c7-4bbb-b758-1866a153df96",
   "metadata": {},
   "outputs": [],
   "source": [
    "t1 = -tau*f1I"
   ]
  },
  {
   "cell_type": "code",
   "execution_count": 9,
   "id": "8bb5b6e6-2a9e-4770-bae3-b4120c1294c6",
   "metadata": {},
   "outputs": [
    {
     "data": {
      "text/latex": [
       "$\\displaystyle - \\tau \\left(- \\frac{2 A^{2} \\xi_{0}^{\\frac{5}{2}}}{5} + \\frac{2 A^{2} \\xi_{f}^{\\frac{5}{2}}}{5} - \\frac{4 A \\xi_{0}^{\\frac{3}{2}}}{3} + \\frac{4 A \\xi_{f}^{\\frac{3}{2}}}{3} - 2 \\sqrt{\\xi_{0}} + 2 \\sqrt{\\xi_{f}}\\right)$"
      ],
      "text/plain": [
       "-tau*(-2*A**2*xi_0**(5/2)/5 + 2*A**2*xi_f**(5/2)/5 - 4*A*xi_0**(3/2)/3 + 4*A*xi_f**(3/2)/3 - 2*sqrt(xi_0) + 2*sqrt(xi_f))"
      ]
     },
     "execution_count": 9,
     "metadata": {},
     "output_type": "execute_result"
    }
   ],
   "source": [
    "t1"
   ]
  },
  {
   "cell_type": "markdown",
   "id": "2122e99f-2eca-4115-a277-e2ec5af1728a",
   "metadata": {},
   "source": [
    "Let's assign some values to the variables and get an example numerical result"
   ]
  },
  {
   "cell_type": "code",
   "execution_count": 10,
   "id": "c7f38799-2b4f-4211-a477-e0a57f0d7723",
   "metadata": {},
   "outputs": [],
   "source": [
    "t1f = sp.lambdify((tau,A,xi_0,xi_f),t1)"
   ]
  },
  {
   "cell_type": "code",
   "execution_count": 11,
   "id": "e0263c02-4bb6-4933-852f-6f30ae0c0cc7",
   "metadata": {},
   "outputs": [],
   "source": [
    "d = 0.01 # d = 10 mm\n",
    "H0 = 0.2 # H0 = 20 cm\n",
    "Hf = 0\n",
    "theta = np.deg2rad(20) # theta = 20 grados\n",
    "g = 9.81 # la gravedad\n",
    "tauValue = np.sqrt(d/(2*g))\n",
    "AValue = 2*np.tan(theta)\n",
    "xi_0Value = H0/d\n",
    "xi_fValue = Hf/d"
   ]
  },
  {
   "cell_type": "code",
   "execution_count": 12,
   "id": "1632cbb0-4d83-4898-aa6b-98aea6d62023",
   "metadata": {},
   "outputs": [
    {
     "data": {
      "text/latex": [
       "$\\displaystyle 10.722$"
      ],
      "text/plain": [
       "10.722"
      ]
     },
     "execution_count": 12,
     "metadata": {},
     "output_type": "execute_result"
    }
   ],
   "source": [
    "t1Value = sp.Float(t1f(tauValue,AValue,xi_0Value,xi_fValue),5)\n",
    "t1Value"
   ]
  },
  {
   "cell_type": "markdown",
   "id": "b3f3334b-3460-44ef-ab42-305dfc42f965",
   "metadata": {},
   "source": [
    "## More accurate way\n",
    "\n",
    "Let us assume, however, that we do not make the above approximation. "
   ]
  },
  {
   "cell_type": "code",
   "execution_count": 13,
   "id": "4a44bd31-bed3-4d15-a240-26adbbb76349",
   "metadata": {},
   "outputs": [],
   "source": [
    "f2 = sp.sqrt(((1+A*xi)**4-1)/xi)"
   ]
  },
  {
   "cell_type": "code",
   "execution_count": 14,
   "id": "da32ae64-bcb1-42a6-b986-a51e382cbe62",
   "metadata": {},
   "outputs": [
    {
     "data": {
      "text/latex": [
       "$\\displaystyle \\frac{\\sqrt{\\left(A \\xi + 1\\right)^{4} - 1}}{\\sqrt{\\xi}}$"
      ],
      "text/plain": [
       "sqrt((A*xi + 1)**4 - 1)/sqrt(xi)"
      ]
     },
     "execution_count": 14,
     "metadata": {},
     "output_type": "execute_result"
    }
   ],
   "source": [
    "f2"
   ]
  },
  {
   "cell_type": "markdown",
   "id": "f448c096-76e3-4a36-90cf-4bcc2168f9e1",
   "metadata": {},
   "source": [
    "This expression is not so easy to integrate"
   ]
  },
  {
   "cell_type": "code",
   "execution_count": 15,
   "id": "42a3e73c-8c06-4687-b858-3ac15964427f",
   "metadata": {},
   "outputs": [],
   "source": [
    "f2I = sp.integrate(f2,(xi,xi_0,xi_f))"
   ]
  },
  {
   "cell_type": "code",
   "execution_count": 16,
   "id": "48e85ec2-1c4c-4f56-8b14-56ff7d4a6559",
   "metadata": {},
   "outputs": [
    {
     "data": {
      "text/latex": [
       "$\\displaystyle \\sqrt{A} \\int\\limits_{\\xi_{0}}^{\\xi_{f}} \\sqrt{A \\xi + 2} \\sqrt{A^{2} \\xi^{2} + 2 A \\xi + 2}\\, d\\xi$"
      ],
      "text/plain": [
       "sqrt(A)*Integral(sqrt(A*xi + 2)*sqrt(A**2*xi**2 + 2*A*xi + 2), (xi, xi_0, xi_f))"
      ]
     },
     "execution_count": 16,
     "metadata": {},
     "output_type": "execute_result"
    }
   ],
   "source": [
    "f2I"
   ]
  },
  {
   "cell_type": "markdown",
   "id": "1becd5d2-e14a-4350-a25b-dce2def7e549",
   "metadata": {},
   "source": [
    "In fact, it does not have a simple analytic integral, and it must be done numerically. We use mpmath, a library that allows you to do arbitrary precision operations. See http://mpmath.org"
   ]
  },
  {
   "cell_type": "code",
   "execution_count": 17,
   "id": "63c44514-5482-4e65-aab8-f1acaf4c3cec",
   "metadata": {},
   "outputs": [],
   "source": [
    "import mpmath\n",
    "f2_mpmath = sp.lambdify((A,xi),f2)"
   ]
  },
  {
   "cell_type": "code",
   "execution_count": 18,
   "id": "b156b06c-af2e-4113-a56b-e31e75758c47",
   "metadata": {},
   "outputs": [],
   "source": [
    "H0 = 0.2 # H0 = 20 cm\n",
    "Hf = 0\n",
    "xi_0 = H0/d\n",
    "xi_f = Hf/d\n",
    "f2I = mpmath.quad(lambda xi:f2_mpmath(AValue,xi),(xi_0,xi_f))"
   ]
  },
  {
   "cell_type": "code",
   "execution_count": 19,
   "id": "4614608d-4427-4fba-a19b-96a11c46da9a",
   "metadata": {},
   "outputs": [],
   "source": [
    "t2Value = -tauValue*f2I"
   ]
  },
  {
   "cell_type": "code",
   "execution_count": 20,
   "id": "b6bc43fe-ac3a-4fca-bc1d-0a13615c61bc",
   "metadata": {},
   "outputs": [
    {
     "data": {
      "text/latex": [
       "$\\displaystyle 10.696$"
      ],
      "text/plain": [
       "10.696"
      ]
     },
     "execution_count": 20,
     "metadata": {},
     "output_type": "execute_result"
    }
   ],
   "source": [
    "t2Value = sp.Float(t2Value,5)\n",
    "t2Value"
   ]
  },
  {
   "cell_type": "markdown",
   "id": "f35b4e3d-ab97-4724-aa39-2092ba543e4c",
   "metadata": {},
   "source": [
    "As you can see, it takes a little less time to empty. But the difference is negligible."
   ]
  },
  {
   "cell_type": "code",
   "execution_count": 21,
   "id": "dac806fc-dfdf-4787-8c7f-42dd0f5f3066",
   "metadata": {},
   "outputs": [
    {
     "data": {
      "text/latex": [
       "$\\displaystyle 0.0024492$"
      ],
      "text/plain": [
       "0.0024492"
      ]
     },
     "execution_count": 21,
     "metadata": {},
     "output_type": "execute_result"
    }
   ],
   "source": [
    "error = np.abs((t1Value-t2Value)/t1Value)\n",
    "error"
   ]
  },
  {
   "cell_type": "markdown",
   "id": "c14216ee-95c5-42e8-b379-81dc0bf872db",
   "metadata": {},
   "source": [
    "Barely 0.25%"
   ]
  }
 ],
 "metadata": {
  "kernelspec": {
   "display_name": "Python 3 (ipykernel)",
   "language": "python",
   "name": "python3"
  },
  "language_info": {
   "codemirror_mode": {
    "name": "ipython",
    "version": 3
   },
   "file_extension": ".py",
   "mimetype": "text/x-python",
   "name": "python",
   "nbconvert_exporter": "python",
   "pygments_lexer": "ipython3",
   "version": "3.8.12"
  }
 },
 "nbformat": 4,
 "nbformat_minor": 5
}
