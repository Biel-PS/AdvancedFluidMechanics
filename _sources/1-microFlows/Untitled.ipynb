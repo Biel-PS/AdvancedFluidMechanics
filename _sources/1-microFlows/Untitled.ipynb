{
 "cells": [
  {
   "cell_type": "code",
   "execution_count": 1,
   "id": "fe2aac2f-9bfc-4e43-8f2b-9d56ed268a00",
   "metadata": {},
   "outputs": [],
   "source": [
    "import sympy as sp\n",
    "x,y = sp.symbols('x y')\n",
    "f = sp.Function('f')\n",
    "g = sp.Function('g')"
   ]
  },
  {
   "cell_type": "code",
   "execution_count": 2,
   "id": "06bc256e-b36f-4a59-a6b8-ead4ad160d2e",
   "metadata": {},
   "outputs": [
    {
     "data": {
      "text/latex": [
       "$\\displaystyle f{\\left(x \\right)} = C_{1} - x g{\\left(y \\right)}$"
      ],
      "text/plain": [
       "Eq(f(x), C1 - x*g(y))"
      ]
     },
     "execution_count": 2,
     "metadata": {},
     "output_type": "execute_result"
    }
   ],
   "source": [
    "sp.dsolve(sp.diff(f(x),x)+g(y),f(x))"
   ]
  },
  {
   "cell_type": "code",
   "execution_count": 3,
   "id": "24112364-938d-40e1-a75c-09dd6949a269",
   "metadata": {},
   "outputs": [
    {
     "name": "stdout",
     "output_type": "stream",
     "text": [
      "f{\\left(x \\right)} = C_{1} - x g{\\left(y \\right)}\n"
     ]
    }
   ],
   "source": [
    "print(sp.latex(sp.dsolve(sp.diff(f(x),x)+g(y),f(x))))"
   ]
  },
  {
   "cell_type": "code",
   "execution_count": 4,
   "id": "75344e02-d187-4341-be20-0fe522a2d373",
   "metadata": {},
   "outputs": [
    {
     "ename": "TypeError",
     "evalue": "\nCannot give expansion for symbolic count. If you just want a list of\nall variables of differentiation, use _wrt_variables.",
     "output_type": "error",
     "traceback": [
      "\u001b[0;31m---------------------------------------------------------------------------\u001b[0m",
      "\u001b[0;31mTypeError\u001b[0m                                 Traceback (most recent call last)",
      "Input \u001b[0;32mIn [4]\u001b[0m, in \u001b[0;36m<cell line: 1>\u001b[0;34m()\u001b[0m\n\u001b[0;32m----> 1\u001b[0m \u001b[43msp\u001b[49m\u001b[38;5;241;43m.\u001b[39;49m\u001b[43mdsolve\u001b[49m\u001b[43m(\u001b[49m\u001b[43msp\u001b[49m\u001b[38;5;241;43m.\u001b[39;49m\u001b[43mdiff\u001b[49m\u001b[43m(\u001b[49m\u001b[43mf\u001b[49m\u001b[43m(\u001b[49m\u001b[43mx\u001b[49m\u001b[43m)\u001b[49m\u001b[43m,\u001b[49m\u001b[43mx\u001b[49m\u001b[43m)\u001b[49m\u001b[38;5;241;43m+\u001b[39;49m\u001b[43msp\u001b[49m\u001b[38;5;241;43m.\u001b[39;49m\u001b[43mdiff\u001b[49m\u001b[43m(\u001b[49m\u001b[43mg\u001b[49m\u001b[43m(\u001b[49m\u001b[43my\u001b[49m\u001b[43m)\u001b[49m\u001b[43m,\u001b[49m\u001b[43my\u001b[49m\u001b[43m)\u001b[49m\u001b[43m,\u001b[49m\u001b[43mf\u001b[49m\u001b[43m(\u001b[49m\u001b[43mx\u001b[49m\u001b[43m)\u001b[49m\u001b[43m)\u001b[49m\n",
      "File \u001b[0;32m~/anaconda3/lib/python3.9/site-packages/sympy/solvers/ode/ode.py:640\u001b[0m, in \u001b[0;36mdsolve\u001b[0;34m(eq, func, hint, simplify, ics, xi, eta, x0, n, **kwargs)\u001b[0m\n\u001b[1;32m    637\u001b[0m \u001b[38;5;28;01melse\u001b[39;00m:\n\u001b[1;32m    638\u001b[0m     \u001b[38;5;66;03m# The key 'hint' stores the hint needed to be solved for.\u001b[39;00m\n\u001b[1;32m    639\u001b[0m     hint \u001b[38;5;241m=\u001b[39m hints[\u001b[38;5;124m'\u001b[39m\u001b[38;5;124mhint\u001b[39m\u001b[38;5;124m'\u001b[39m]\n\u001b[0;32m--> 640\u001b[0m     \u001b[38;5;28;01mreturn\u001b[39;00m \u001b[43m_helper_simplify\u001b[49m\u001b[43m(\u001b[49m\u001b[43meq\u001b[49m\u001b[43m,\u001b[49m\u001b[43m \u001b[49m\u001b[43mhint\u001b[49m\u001b[43m,\u001b[49m\u001b[43m \u001b[49m\u001b[43mhints\u001b[49m\u001b[43m,\u001b[49m\u001b[43m \u001b[49m\u001b[43msimplify\u001b[49m\u001b[43m,\u001b[49m\u001b[43m \u001b[49m\u001b[43mics\u001b[49m\u001b[38;5;241;43m=\u001b[39;49m\u001b[43mics\u001b[49m\u001b[43m)\u001b[49m\n",
      "File \u001b[0;32m~/anaconda3/lib/python3.9/site-packages/sympy/solvers/ode/ode.py:669\u001b[0m, in \u001b[0;36m_helper_simplify\u001b[0;34m(eq, hint, match, simplify, ics, **kwargs)\u001b[0m\n\u001b[1;32m    664\u001b[0m \u001b[38;5;28;01mif\u001b[39;00m simplify:\n\u001b[1;32m    665\u001b[0m     \u001b[38;5;66;03m# odesimp() will attempt to integrate, if necessary, apply constantsimp(),\u001b[39;00m\n\u001b[1;32m    666\u001b[0m     \u001b[38;5;66;03m# attempt to solve for func, and apply any other hint specific\u001b[39;00m\n\u001b[1;32m    667\u001b[0m     \u001b[38;5;66;03m# simplifications\u001b[39;00m\n\u001b[1;32m    668\u001b[0m     \u001b[38;5;28;01mif\u001b[39;00m \u001b[38;5;28misinstance\u001b[39m(solvefunc, SingleODESolver):\n\u001b[0;32m--> 669\u001b[0m         sols \u001b[38;5;241m=\u001b[39m \u001b[43msolvefunc\u001b[49m\u001b[38;5;241;43m.\u001b[39;49m\u001b[43mget_general_solution\u001b[49m\u001b[43m(\u001b[49m\u001b[43m)\u001b[49m\n\u001b[1;32m    670\u001b[0m     \u001b[38;5;28;01melse\u001b[39;00m:\n\u001b[1;32m    671\u001b[0m         sols \u001b[38;5;241m=\u001b[39m solvefunc(eq, func, order, match)\n",
      "File \u001b[0;32m~/anaconda3/lib/python3.9/site-packages/sympy/solvers/ode/single.py:296\u001b[0m, in \u001b[0;36mSingleODESolver.get_general_solution\u001b[0;34m(self, simplify)\u001b[0m\n\u001b[1;32m    294\u001b[0m     msg \u001b[38;5;241m=\u001b[39m \u001b[38;5;124m\"\u001b[39m\u001b[38;5;132;01m%s\u001b[39;00m\u001b[38;5;124m solver cannot solve:\u001b[39m\u001b[38;5;130;01m\\n\u001b[39;00m\u001b[38;5;132;01m%s\u001b[39;00m\u001b[38;5;124m\"\u001b[39m\n\u001b[1;32m    295\u001b[0m     \u001b[38;5;28;01mraise\u001b[39;00m ODEMatchError(msg \u001b[38;5;241m%\u001b[39m (\u001b[38;5;28mself\u001b[39m\u001b[38;5;241m.\u001b[39mhint, \u001b[38;5;28mself\u001b[39m\u001b[38;5;241m.\u001b[39mode_problem\u001b[38;5;241m.\u001b[39meq))\n\u001b[0;32m--> 296\u001b[0m \u001b[38;5;28;01mreturn\u001b[39;00m \u001b[38;5;28;43mself\u001b[39;49m\u001b[38;5;241;43m.\u001b[39;49m\u001b[43m_get_general_solution\u001b[49m\u001b[43m(\u001b[49m\u001b[43msimplify_flag\u001b[49m\u001b[38;5;241;43m=\u001b[39;49m\u001b[43msimplify\u001b[49m\u001b[43m)\u001b[49m\n",
      "File \u001b[0;32m~/anaconda3/lib/python3.9/site-packages/sympy/solvers/ode/single.py:2398\u001b[0m, in \u001b[0;36mNthLinearConstantCoeffUndeterminedCoefficients._get_general_solution\u001b[0;34m(self, simplify_flag)\u001b[0m\n\u001b[1;32m   2396\u001b[0m gsol \u001b[38;5;241m=\u001b[39m _solve_undetermined_coefficients(eq, f(x), order, \u001b[38;5;28mself\u001b[39m\u001b[38;5;241m.\u001b[39mr, \u001b[38;5;28mself\u001b[39m\u001b[38;5;241m.\u001b[39mtrialset)\n\u001b[1;32m   2397\u001b[0m \u001b[38;5;28;01mif\u001b[39;00m simplify_flag:\n\u001b[0;32m-> 2398\u001b[0m     gsol \u001b[38;5;241m=\u001b[39m \u001b[43m_get_simplified_sol\u001b[49m\u001b[43m(\u001b[49m\u001b[43m[\u001b[49m\u001b[43mgsol\u001b[49m\u001b[43m]\u001b[49m\u001b[43m,\u001b[49m\u001b[43m \u001b[49m\u001b[43mf\u001b[49m\u001b[43m(\u001b[49m\u001b[43mx\u001b[49m\u001b[43m)\u001b[49m\u001b[43m,\u001b[49m\u001b[43m \u001b[49m\u001b[43mcollectterms\u001b[49m\u001b[43m)\u001b[49m\n\u001b[1;32m   2399\u001b[0m \u001b[38;5;28;01mreturn\u001b[39;00m [gsol]\n",
      "File \u001b[0;32m~/anaconda3/lib/python3.9/site-packages/sympy/solvers/ode/nonhomogeneous.py:271\u001b[0m, in \u001b[0;36m_get_simplified_sol\u001b[0;34m(sol, func, collectterms)\u001b[0m\n\u001b[1;32m    269\u001b[0m \u001b[38;5;28;01mfor\u001b[39;00m i, reroot, imroot \u001b[38;5;129;01min\u001b[39;00m collectterms:\n\u001b[1;32m    270\u001b[0m     sol \u001b[38;5;241m=\u001b[39m collect(sol, x\u001b[38;5;241m*\u001b[39m\u001b[38;5;241m*\u001b[39mi\u001b[38;5;241m*\u001b[39mexp(reroot\u001b[38;5;241m*\u001b[39mx)\u001b[38;5;241m*\u001b[39msin(\u001b[38;5;28mabs\u001b[39m(imroot)\u001b[38;5;241m*\u001b[39mx))\n\u001b[0;32m--> 271\u001b[0m     sol \u001b[38;5;241m=\u001b[39m \u001b[43mcollect\u001b[49m\u001b[43m(\u001b[49m\u001b[43msol\u001b[49m\u001b[43m,\u001b[49m\u001b[43m \u001b[49m\u001b[43mx\u001b[49m\u001b[38;5;241;43m*\u001b[39;49m\u001b[38;5;241;43m*\u001b[39;49m\u001b[43mi\u001b[49m\u001b[38;5;241;43m*\u001b[39;49m\u001b[43mexp\u001b[49m\u001b[43m(\u001b[49m\u001b[43mreroot\u001b[49m\u001b[38;5;241;43m*\u001b[39;49m\u001b[43mx\u001b[49m\u001b[43m)\u001b[49m\u001b[38;5;241;43m*\u001b[39;49m\u001b[43mcos\u001b[49m\u001b[43m(\u001b[49m\u001b[43mimroot\u001b[49m\u001b[38;5;241;43m*\u001b[39;49m\u001b[43mx\u001b[49m\u001b[43m)\u001b[49m\u001b[43m)\u001b[49m\n\u001b[1;32m    272\u001b[0m \u001b[38;5;28;01mfor\u001b[39;00m i, reroot, imroot \u001b[38;5;129;01min\u001b[39;00m collectterms:\n\u001b[1;32m    273\u001b[0m     sol \u001b[38;5;241m=\u001b[39m collect(sol, x\u001b[38;5;241m*\u001b[39m\u001b[38;5;241m*\u001b[39mi\u001b[38;5;241m*\u001b[39mexp(reroot\u001b[38;5;241m*\u001b[39mx))\n",
      "File \u001b[0;32m~/anaconda3/lib/python3.9/site-packages/sympy/simplify/radsimp.py:175\u001b[0m, in \u001b[0;36mcollect\u001b[0;34m(expr, syms, func, evaluate, exact, distribute_order_term)\u001b[0m\n\u001b[1;32m    173\u001b[0m reps \u001b[38;5;241m=\u001b[39m \u001b[38;5;28mdict\u001b[39m(\u001b[38;5;28mzip\u001b[39m(nonsyms, [Dummy(\u001b[38;5;241m*\u001b[39m\u001b[38;5;241m*\u001b[39massumptions(i)) \u001b[38;5;28;01mfor\u001b[39;00m i \u001b[38;5;129;01min\u001b[39;00m nonsyms]))\n\u001b[1;32m    174\u001b[0m syms \u001b[38;5;241m=\u001b[39m [reps\u001b[38;5;241m.\u001b[39mget(s, s) \u001b[38;5;28;01mfor\u001b[39;00m s \u001b[38;5;129;01min\u001b[39;00m syms]\n\u001b[0;32m--> 175\u001b[0m rv \u001b[38;5;241m=\u001b[39m \u001b[43mcollect\u001b[49m\u001b[43m(\u001b[49m\u001b[43mexpr\u001b[49m\u001b[38;5;241;43m.\u001b[39;49m\u001b[43msubs\u001b[49m\u001b[43m(\u001b[49m\u001b[43mreps\u001b[49m\u001b[43m)\u001b[49m\u001b[43m,\u001b[49m\u001b[43m \u001b[49m\u001b[43msyms\u001b[49m\u001b[43m,\u001b[49m\n\u001b[1;32m    176\u001b[0m \u001b[43m    \u001b[49m\u001b[43mfunc\u001b[49m\u001b[38;5;241;43m=\u001b[39;49m\u001b[43mfunc\u001b[49m\u001b[43m,\u001b[49m\u001b[43m \u001b[49m\u001b[43mevaluate\u001b[49m\u001b[38;5;241;43m=\u001b[39;49m\u001b[43mevaluate\u001b[49m\u001b[43m,\u001b[49m\u001b[43m \u001b[49m\u001b[43mexact\u001b[49m\u001b[38;5;241;43m=\u001b[39;49m\u001b[43mexact\u001b[49m\u001b[43m,\u001b[49m\n\u001b[1;32m    177\u001b[0m \u001b[43m    \u001b[49m\u001b[43mdistribute_order_term\u001b[49m\u001b[38;5;241;43m=\u001b[39;49m\u001b[43mdistribute_order_term\u001b[49m\u001b[43m)\u001b[49m\n\u001b[1;32m    178\u001b[0m urep \u001b[38;5;241m=\u001b[39m {v: k \u001b[38;5;28;01mfor\u001b[39;00m k, v \u001b[38;5;129;01min\u001b[39;00m reps\u001b[38;5;241m.\u001b[39mitems()}\n\u001b[1;32m    179\u001b[0m \u001b[38;5;28;01mif\u001b[39;00m \u001b[38;5;129;01mnot\u001b[39;00m \u001b[38;5;28misinstance\u001b[39m(rv, \u001b[38;5;28mdict\u001b[39m):\n",
      "File \u001b[0;32m~/anaconda3/lib/python3.9/site-packages/sympy/simplify/radsimp.py:360\u001b[0m, in \u001b[0;36mcollect\u001b[0;34m(expr, syms, func, evaluate, exact, distribute_order_term)\u001b[0m\n\u001b[1;32m    358\u001b[0m \u001b[38;5;28;01mif\u001b[39;00m expr\u001b[38;5;241m.\u001b[39mis_Add:\n\u001b[1;32m    359\u001b[0m     o \u001b[38;5;241m=\u001b[39m expr\u001b[38;5;241m.\u001b[39mgetO() \u001b[38;5;129;01mor\u001b[39;00m \u001b[38;5;241m0\u001b[39m\n\u001b[0;32m--> 360\u001b[0m     expr \u001b[38;5;241m=\u001b[39m expr\u001b[38;5;241m.\u001b[39mfunc(\u001b[38;5;241m*\u001b[39m[\n\u001b[1;32m    361\u001b[0m             collect(a, syms, func, \u001b[38;5;28;01mTrue\u001b[39;00m, exact, distribute_order_term)\n\u001b[1;32m    362\u001b[0m             \u001b[38;5;28;01mfor\u001b[39;00m a \u001b[38;5;129;01min\u001b[39;00m expr\u001b[38;5;241m.\u001b[39margs \u001b[38;5;28;01mif\u001b[39;00m a \u001b[38;5;241m!=\u001b[39m o]) \u001b[38;5;241m+\u001b[39m o\n\u001b[1;32m    363\u001b[0m \u001b[38;5;28;01melif\u001b[39;00m expr\u001b[38;5;241m.\u001b[39mis_Mul:\n\u001b[1;32m    364\u001b[0m     \u001b[38;5;28;01mreturn\u001b[39;00m expr\u001b[38;5;241m.\u001b[39mfunc(\u001b[38;5;241m*\u001b[39m[\n\u001b[1;32m    365\u001b[0m         collect(term, syms, func, \u001b[38;5;28;01mTrue\u001b[39;00m, exact, distribute_order_term)\n\u001b[1;32m    366\u001b[0m         \u001b[38;5;28;01mfor\u001b[39;00m term \u001b[38;5;129;01min\u001b[39;00m expr\u001b[38;5;241m.\u001b[39margs])\n",
      "File \u001b[0;32m~/anaconda3/lib/python3.9/site-packages/sympy/simplify/radsimp.py:361\u001b[0m, in \u001b[0;36m<listcomp>\u001b[0;34m(.0)\u001b[0m\n\u001b[1;32m    358\u001b[0m \u001b[38;5;28;01mif\u001b[39;00m expr\u001b[38;5;241m.\u001b[39mis_Add:\n\u001b[1;32m    359\u001b[0m     o \u001b[38;5;241m=\u001b[39m expr\u001b[38;5;241m.\u001b[39mgetO() \u001b[38;5;129;01mor\u001b[39;00m \u001b[38;5;241m0\u001b[39m\n\u001b[1;32m    360\u001b[0m     expr \u001b[38;5;241m=\u001b[39m expr\u001b[38;5;241m.\u001b[39mfunc(\u001b[38;5;241m*\u001b[39m[\n\u001b[0;32m--> 361\u001b[0m             \u001b[43mcollect\u001b[49m\u001b[43m(\u001b[49m\u001b[43ma\u001b[49m\u001b[43m,\u001b[49m\u001b[43m \u001b[49m\u001b[43msyms\u001b[49m\u001b[43m,\u001b[49m\u001b[43m \u001b[49m\u001b[43mfunc\u001b[49m\u001b[43m,\u001b[49m\u001b[43m \u001b[49m\u001b[38;5;28;43;01mTrue\u001b[39;49;00m\u001b[43m,\u001b[49m\u001b[43m \u001b[49m\u001b[43mexact\u001b[49m\u001b[43m,\u001b[49m\u001b[43m \u001b[49m\u001b[43mdistribute_order_term\u001b[49m\u001b[43m)\u001b[49m\n\u001b[1;32m    362\u001b[0m             \u001b[38;5;28;01mfor\u001b[39;00m a \u001b[38;5;129;01min\u001b[39;00m expr\u001b[38;5;241m.\u001b[39margs \u001b[38;5;28;01mif\u001b[39;00m a \u001b[38;5;241m!=\u001b[39m o]) \u001b[38;5;241m+\u001b[39m o\n\u001b[1;32m    363\u001b[0m \u001b[38;5;28;01melif\u001b[39;00m expr\u001b[38;5;241m.\u001b[39mis_Mul:\n\u001b[1;32m    364\u001b[0m     \u001b[38;5;28;01mreturn\u001b[39;00m expr\u001b[38;5;241m.\u001b[39mfunc(\u001b[38;5;241m*\u001b[39m[\n\u001b[1;32m    365\u001b[0m         collect(term, syms, func, \u001b[38;5;28;01mTrue\u001b[39;00m, exact, distribute_order_term)\n\u001b[1;32m    366\u001b[0m         \u001b[38;5;28;01mfor\u001b[39;00m term \u001b[38;5;129;01min\u001b[39;00m expr\u001b[38;5;241m.\u001b[39margs])\n",
      "File \u001b[0;32m~/anaconda3/lib/python3.9/site-packages/sympy/simplify/radsimp.py:364\u001b[0m, in \u001b[0;36mcollect\u001b[0;34m(expr, syms, func, evaluate, exact, distribute_order_term)\u001b[0m\n\u001b[1;32m    360\u001b[0m     expr \u001b[38;5;241m=\u001b[39m expr\u001b[38;5;241m.\u001b[39mfunc(\u001b[38;5;241m*\u001b[39m[\n\u001b[1;32m    361\u001b[0m             collect(a, syms, func, \u001b[38;5;28;01mTrue\u001b[39;00m, exact, distribute_order_term)\n\u001b[1;32m    362\u001b[0m             \u001b[38;5;28;01mfor\u001b[39;00m a \u001b[38;5;129;01min\u001b[39;00m expr\u001b[38;5;241m.\u001b[39margs \u001b[38;5;28;01mif\u001b[39;00m a \u001b[38;5;241m!=\u001b[39m o]) \u001b[38;5;241m+\u001b[39m o\n\u001b[1;32m    363\u001b[0m \u001b[38;5;28;01melif\u001b[39;00m expr\u001b[38;5;241m.\u001b[39mis_Mul:\n\u001b[0;32m--> 364\u001b[0m     \u001b[38;5;28;01mreturn\u001b[39;00m expr\u001b[38;5;241m.\u001b[39mfunc(\u001b[38;5;241m*\u001b[39m[\n\u001b[1;32m    365\u001b[0m         collect(term, syms, func, \u001b[38;5;28;01mTrue\u001b[39;00m, exact, distribute_order_term)\n\u001b[1;32m    366\u001b[0m         \u001b[38;5;28;01mfor\u001b[39;00m term \u001b[38;5;129;01min\u001b[39;00m expr\u001b[38;5;241m.\u001b[39margs])\n\u001b[1;32m    367\u001b[0m \u001b[38;5;28;01melif\u001b[39;00m expr\u001b[38;5;241m.\u001b[39mis_Pow:\n\u001b[1;32m    368\u001b[0m     b \u001b[38;5;241m=\u001b[39m collect(\n\u001b[1;32m    369\u001b[0m         expr\u001b[38;5;241m.\u001b[39mbase, syms, func, \u001b[38;5;28;01mTrue\u001b[39;00m, exact, distribute_order_term)\n",
      "File \u001b[0;32m~/anaconda3/lib/python3.9/site-packages/sympy/simplify/radsimp.py:365\u001b[0m, in \u001b[0;36m<listcomp>\u001b[0;34m(.0)\u001b[0m\n\u001b[1;32m    360\u001b[0m     expr \u001b[38;5;241m=\u001b[39m expr\u001b[38;5;241m.\u001b[39mfunc(\u001b[38;5;241m*\u001b[39m[\n\u001b[1;32m    361\u001b[0m             collect(a, syms, func, \u001b[38;5;28;01mTrue\u001b[39;00m, exact, distribute_order_term)\n\u001b[1;32m    362\u001b[0m             \u001b[38;5;28;01mfor\u001b[39;00m a \u001b[38;5;129;01min\u001b[39;00m expr\u001b[38;5;241m.\u001b[39margs \u001b[38;5;28;01mif\u001b[39;00m a \u001b[38;5;241m!=\u001b[39m o]) \u001b[38;5;241m+\u001b[39m o\n\u001b[1;32m    363\u001b[0m \u001b[38;5;28;01melif\u001b[39;00m expr\u001b[38;5;241m.\u001b[39mis_Mul:\n\u001b[1;32m    364\u001b[0m     \u001b[38;5;28;01mreturn\u001b[39;00m expr\u001b[38;5;241m.\u001b[39mfunc(\u001b[38;5;241m*\u001b[39m[\n\u001b[0;32m--> 365\u001b[0m         \u001b[43mcollect\u001b[49m\u001b[43m(\u001b[49m\u001b[43mterm\u001b[49m\u001b[43m,\u001b[49m\u001b[43m \u001b[49m\u001b[43msyms\u001b[49m\u001b[43m,\u001b[49m\u001b[43m \u001b[49m\u001b[43mfunc\u001b[49m\u001b[43m,\u001b[49m\u001b[43m \u001b[49m\u001b[38;5;28;43;01mTrue\u001b[39;49;00m\u001b[43m,\u001b[49m\u001b[43m \u001b[49m\u001b[43mexact\u001b[49m\u001b[43m,\u001b[49m\u001b[43m \u001b[49m\u001b[43mdistribute_order_term\u001b[49m\u001b[43m)\u001b[49m\n\u001b[1;32m    366\u001b[0m         \u001b[38;5;28;01mfor\u001b[39;00m term \u001b[38;5;129;01min\u001b[39;00m expr\u001b[38;5;241m.\u001b[39margs])\n\u001b[1;32m    367\u001b[0m \u001b[38;5;28;01melif\u001b[39;00m expr\u001b[38;5;241m.\u001b[39mis_Pow:\n\u001b[1;32m    368\u001b[0m     b \u001b[38;5;241m=\u001b[39m collect(\n\u001b[1;32m    369\u001b[0m         expr\u001b[38;5;241m.\u001b[39mbase, syms, func, \u001b[38;5;28;01mTrue\u001b[39;00m, exact, distribute_order_term)\n",
      "File \u001b[0;32m~/anaconda3/lib/python3.9/site-packages/sympy/simplify/radsimp.py:391\u001b[0m, in \u001b[0;36mcollect\u001b[0;34m(expr, syms, func, evaluate, exact, distribute_order_term)\u001b[0m\n\u001b[1;32m    389\u001b[0m c, nc \u001b[38;5;241m=\u001b[39m product\u001b[38;5;241m.\u001b[39margs_cnc(split_1\u001b[38;5;241m=\u001b[39m\u001b[38;5;28;01mFalse\u001b[39;00m)\n\u001b[1;32m    390\u001b[0m args \u001b[38;5;241m=\u001b[39m \u001b[38;5;28mlist\u001b[39m(ordered(c)) \u001b[38;5;241m+\u001b[39m nc\n\u001b[0;32m--> 391\u001b[0m terms \u001b[38;5;241m=\u001b[39m [parse_term(i) \u001b[38;5;28;01mfor\u001b[39;00m i \u001b[38;5;129;01min\u001b[39;00m args]\n\u001b[1;32m    392\u001b[0m small_first \u001b[38;5;241m=\u001b[39m \u001b[38;5;28;01mTrue\u001b[39;00m\n\u001b[1;32m    394\u001b[0m \u001b[38;5;28;01mfor\u001b[39;00m symbol \u001b[38;5;129;01min\u001b[39;00m syms:\n",
      "File \u001b[0;32m~/anaconda3/lib/python3.9/site-packages/sympy/simplify/radsimp.py:391\u001b[0m, in \u001b[0;36m<listcomp>\u001b[0;34m(.0)\u001b[0m\n\u001b[1;32m    389\u001b[0m c, nc \u001b[38;5;241m=\u001b[39m product\u001b[38;5;241m.\u001b[39margs_cnc(split_1\u001b[38;5;241m=\u001b[39m\u001b[38;5;28;01mFalse\u001b[39;00m)\n\u001b[1;32m    390\u001b[0m args \u001b[38;5;241m=\u001b[39m \u001b[38;5;28mlist\u001b[39m(ordered(c)) \u001b[38;5;241m+\u001b[39m nc\n\u001b[0;32m--> 391\u001b[0m terms \u001b[38;5;241m=\u001b[39m [\u001b[43mparse_term\u001b[49m\u001b[43m(\u001b[49m\u001b[43mi\u001b[49m\u001b[43m)\u001b[49m \u001b[38;5;28;01mfor\u001b[39;00m i \u001b[38;5;129;01min\u001b[39;00m args]\n\u001b[1;32m    392\u001b[0m small_first \u001b[38;5;241m=\u001b[39m \u001b[38;5;28;01mTrue\u001b[39;00m\n\u001b[1;32m    394\u001b[0m \u001b[38;5;28;01mfor\u001b[39;00m symbol \u001b[38;5;129;01min\u001b[39;00m syms:\n",
      "File \u001b[0;32m~/anaconda3/lib/python3.9/site-packages/sympy/simplify/radsimp.py:281\u001b[0m, in \u001b[0;36mcollect.<locals>.parse_term\u001b[0;34m(expr)\u001b[0m\n\u001b[1;32m    279\u001b[0m         sexpr, rat_expo \u001b[38;5;241m=\u001b[39m exp(tail), coeff\n\u001b[1;32m    280\u001b[0m \u001b[38;5;28;01melif\u001b[39;00m \u001b[38;5;28misinstance\u001b[39m(expr, Derivative):\n\u001b[0;32m--> 281\u001b[0m     sexpr, deriv \u001b[38;5;241m=\u001b[39m \u001b[43mparse_derivative\u001b[49m\u001b[43m(\u001b[49m\u001b[43mexpr\u001b[49m\u001b[43m)\u001b[49m\n\u001b[1;32m    283\u001b[0m \u001b[38;5;28;01mreturn\u001b[39;00m sexpr, rat_expo, sym_expo, deriv\n",
      "File \u001b[0;32m~/anaconda3/lib/python3.9/site-packages/sympy/simplify/radsimp.py:211\u001b[0m, in \u001b[0;36mcollect.<locals>.parse_derivative\u001b[0;34m(deriv)\u001b[0m\n\u001b[1;32m    208\u001b[0m \u001b[38;5;28;01mdef\u001b[39;00m \u001b[38;5;21mparse_derivative\u001b[39m(deriv):\n\u001b[1;32m    209\u001b[0m     \u001b[38;5;66;03m# scan derivatives tower in the input expression and return\u001b[39;00m\n\u001b[1;32m    210\u001b[0m     \u001b[38;5;66;03m# underlying function and maximal differentiation order\u001b[39;00m\n\u001b[0;32m--> 211\u001b[0m     expr, sym, order \u001b[38;5;241m=\u001b[39m deriv\u001b[38;5;241m.\u001b[39mexpr, \u001b[43mderiv\u001b[49m\u001b[38;5;241;43m.\u001b[39;49m\u001b[43mvariables\u001b[49m[\u001b[38;5;241m0\u001b[39m], \u001b[38;5;241m1\u001b[39m\n\u001b[1;32m    213\u001b[0m     \u001b[38;5;28;01mfor\u001b[39;00m s \u001b[38;5;129;01min\u001b[39;00m deriv\u001b[38;5;241m.\u001b[39mvariables[\u001b[38;5;241m1\u001b[39m:]:\n\u001b[1;32m    214\u001b[0m         \u001b[38;5;28;01mif\u001b[39;00m s \u001b[38;5;241m==\u001b[39m sym:\n",
      "File \u001b[0;32m~/anaconda3/lib/python3.9/site-packages/sympy/core/function.py:1664\u001b[0m, in \u001b[0;36mDerivative.variables\u001b[0;34m(self)\u001b[0m\n\u001b[1;32m   1662\u001b[0m \u001b[38;5;28;01mfor\u001b[39;00m v, count \u001b[38;5;129;01min\u001b[39;00m \u001b[38;5;28mself\u001b[39m\u001b[38;5;241m.\u001b[39mvariable_count:\n\u001b[1;32m   1663\u001b[0m     \u001b[38;5;28;01mif\u001b[39;00m \u001b[38;5;129;01mnot\u001b[39;00m count\u001b[38;5;241m.\u001b[39mis_Integer:\n\u001b[0;32m-> 1664\u001b[0m         \u001b[38;5;28;01mraise\u001b[39;00m \u001b[38;5;167;01mTypeError\u001b[39;00m(filldedent(\u001b[38;5;124m'''\u001b[39m\n\u001b[1;32m   1665\u001b[0m \u001b[38;5;124m        Cannot give expansion for symbolic count. If you just\u001b[39m\n\u001b[1;32m   1666\u001b[0m \u001b[38;5;124m        want a list of all variables of differentiation, use\u001b[39m\n\u001b[1;32m   1667\u001b[0m \u001b[38;5;124m        _wrt_variables.\u001b[39m\u001b[38;5;124m'''\u001b[39m))\n\u001b[1;32m   1668\u001b[0m     rv\u001b[38;5;241m.\u001b[39mextend([v]\u001b[38;5;241m*\u001b[39mcount)\n\u001b[1;32m   1669\u001b[0m \u001b[38;5;28;01mreturn\u001b[39;00m \u001b[38;5;28mtuple\u001b[39m(rv)\n",
      "\u001b[0;31mTypeError\u001b[0m: \nCannot give expansion for symbolic count. If you just want a list of\nall variables of differentiation, use _wrt_variables."
     ]
    }
   ],
   "source": [
    "sp.dsolve(sp.diff(f(x),x)+sp.diff(g(y),y),f(x))"
   ]
  },
  {
   "cell_type": "code",
   "execution_count": 5,
   "id": "bf3a0708-d554-4fc0-8bea-59ec0c37c337",
   "metadata": {},
   "outputs": [
    {
     "name": "stdout",
     "output_type": "stream",
     "text": [
      "f{\\left(x \\right)} = C_{1} - x \\frac{d}{d y} g{\\left(y \\right)}\n"
     ]
    }
   ],
   "source": [
    "print(sp.latex(_))"
   ]
  },
  {
   "cell_type": "code",
   "execution_count": 6,
   "id": "29ea8e07-a327-48df-8171-36f534a62081",
   "metadata": {},
   "outputs": [
    {
     "data": {
      "text/plain": [
       "\u001b[0;31mSignature:\u001b[0m      \n",
       "\u001b[0msp\u001b[0m\u001b[0;34m.\u001b[0m\u001b[0mlatex\u001b[0m\u001b[0;34m(\u001b[0m\u001b[0;34m\u001b[0m\n",
       "\u001b[0;34m\u001b[0m    \u001b[0mexpr\u001b[0m\u001b[0;34m,\u001b[0m\u001b[0;34m\u001b[0m\n",
       "\u001b[0;34m\u001b[0m    \u001b[0;34m*\u001b[0m\u001b[0;34m,\u001b[0m\u001b[0;34m\u001b[0m\n",
       "\u001b[0;34m\u001b[0m    \u001b[0mfull_prec\u001b[0m\u001b[0;34m=\u001b[0m\u001b[0;32mFalse\u001b[0m\u001b[0;34m,\u001b[0m\u001b[0;34m\u001b[0m\n",
       "\u001b[0;34m\u001b[0m    \u001b[0mfold_frac_powers\u001b[0m\u001b[0;34m=\u001b[0m\u001b[0;32mFalse\u001b[0m\u001b[0;34m,\u001b[0m\u001b[0;34m\u001b[0m\n",
       "\u001b[0;34m\u001b[0m    \u001b[0mfold_func_brackets\u001b[0m\u001b[0;34m=\u001b[0m\u001b[0;32mFalse\u001b[0m\u001b[0;34m,\u001b[0m\u001b[0;34m\u001b[0m\n",
       "\u001b[0;34m\u001b[0m    \u001b[0mfold_short_frac\u001b[0m\u001b[0;34m=\u001b[0m\u001b[0;32mNone\u001b[0m\u001b[0;34m,\u001b[0m\u001b[0;34m\u001b[0m\n",
       "\u001b[0;34m\u001b[0m    \u001b[0minv_trig_style\u001b[0m\u001b[0;34m=\u001b[0m\u001b[0;34m'abbreviated'\u001b[0m\u001b[0;34m,\u001b[0m\u001b[0;34m\u001b[0m\n",
       "\u001b[0;34m\u001b[0m    \u001b[0mitex\u001b[0m\u001b[0;34m=\u001b[0m\u001b[0;32mFalse\u001b[0m\u001b[0;34m,\u001b[0m\u001b[0;34m\u001b[0m\n",
       "\u001b[0;34m\u001b[0m    \u001b[0mln_notation\u001b[0m\u001b[0;34m=\u001b[0m\u001b[0;32mFalse\u001b[0m\u001b[0;34m,\u001b[0m\u001b[0;34m\u001b[0m\n",
       "\u001b[0;34m\u001b[0m    \u001b[0mlong_frac_ratio\u001b[0m\u001b[0;34m=\u001b[0m\u001b[0;32mNone\u001b[0m\u001b[0;34m,\u001b[0m\u001b[0;34m\u001b[0m\n",
       "\u001b[0;34m\u001b[0m    \u001b[0mmat_delim\u001b[0m\u001b[0;34m=\u001b[0m\u001b[0;34m'['\u001b[0m\u001b[0;34m,\u001b[0m\u001b[0;34m\u001b[0m\n",
       "\u001b[0;34m\u001b[0m    \u001b[0mmat_str\u001b[0m\u001b[0;34m=\u001b[0m\u001b[0;32mNone\u001b[0m\u001b[0;34m,\u001b[0m\u001b[0;34m\u001b[0m\n",
       "\u001b[0;34m\u001b[0m    \u001b[0mmode\u001b[0m\u001b[0;34m=\u001b[0m\u001b[0;34m'plain'\u001b[0m\u001b[0;34m,\u001b[0m\u001b[0;34m\u001b[0m\n",
       "\u001b[0;34m\u001b[0m    \u001b[0mmul_symbol\u001b[0m\u001b[0;34m=\u001b[0m\u001b[0;32mNone\u001b[0m\u001b[0;34m,\u001b[0m\u001b[0;34m\u001b[0m\n",
       "\u001b[0;34m\u001b[0m    \u001b[0morder\u001b[0m\u001b[0;34m=\u001b[0m\u001b[0;32mNone\u001b[0m\u001b[0;34m,\u001b[0m\u001b[0;34m\u001b[0m\n",
       "\u001b[0;34m\u001b[0m    \u001b[0msymbol_names\u001b[0m\u001b[0;34m=\u001b[0m\u001b[0;34m{\u001b[0m\u001b[0;34m}\u001b[0m\u001b[0;34m,\u001b[0m\u001b[0;34m\u001b[0m\n",
       "\u001b[0;34m\u001b[0m    \u001b[0mroot_notation\u001b[0m\u001b[0;34m=\u001b[0m\u001b[0;32mTrue\u001b[0m\u001b[0;34m,\u001b[0m\u001b[0;34m\u001b[0m\n",
       "\u001b[0;34m\u001b[0m    \u001b[0mmat_symbol_style\u001b[0m\u001b[0;34m=\u001b[0m\u001b[0;34m'plain'\u001b[0m\u001b[0;34m,\u001b[0m\u001b[0;34m\u001b[0m\n",
       "\u001b[0;34m\u001b[0m    \u001b[0mimaginary_unit\u001b[0m\u001b[0;34m=\u001b[0m\u001b[0;34m'i'\u001b[0m\u001b[0;34m,\u001b[0m\u001b[0;34m\u001b[0m\n",
       "\u001b[0;34m\u001b[0m    \u001b[0mgothic_re_im\u001b[0m\u001b[0;34m=\u001b[0m\u001b[0;32mFalse\u001b[0m\u001b[0;34m,\u001b[0m\u001b[0;34m\u001b[0m\n",
       "\u001b[0;34m\u001b[0m    \u001b[0mdecimal_separator\u001b[0m\u001b[0;34m=\u001b[0m\u001b[0;34m'period'\u001b[0m\u001b[0;34m,\u001b[0m\u001b[0;34m\u001b[0m\n",
       "\u001b[0;34m\u001b[0m    \u001b[0mperm_cyclic\u001b[0m\u001b[0;34m=\u001b[0m\u001b[0;32mTrue\u001b[0m\u001b[0;34m,\u001b[0m\u001b[0;34m\u001b[0m\n",
       "\u001b[0;34m\u001b[0m    \u001b[0mparenthesize_super\u001b[0m\u001b[0;34m=\u001b[0m\u001b[0;32mTrue\u001b[0m\u001b[0;34m,\u001b[0m\u001b[0;34m\u001b[0m\n",
       "\u001b[0;34m\u001b[0m    \u001b[0mmin\u001b[0m\u001b[0;34m=\u001b[0m\u001b[0;32mNone\u001b[0m\u001b[0;34m,\u001b[0m\u001b[0;34m\u001b[0m\n",
       "\u001b[0;34m\u001b[0m    \u001b[0mmax\u001b[0m\u001b[0;34m=\u001b[0m\u001b[0;32mNone\u001b[0m\u001b[0;34m,\u001b[0m\u001b[0;34m\u001b[0m\n",
       "\u001b[0;34m\u001b[0m\u001b[0;34m)\u001b[0m\u001b[0;34m\u001b[0m\u001b[0;34m\u001b[0m\u001b[0m\n",
       "\u001b[0;31mCall signature:\u001b[0m  \u001b[0msp\u001b[0m\u001b[0;34m.\u001b[0m\u001b[0mlatex\u001b[0m\u001b[0;34m(\u001b[0m\u001b[0;34m*\u001b[0m\u001b[0margs\u001b[0m\u001b[0;34m,\u001b[0m \u001b[0;34m**\u001b[0m\u001b[0mkwargs\u001b[0m\u001b[0;34m)\u001b[0m\u001b[0;34m\u001b[0m\u001b[0;34m\u001b[0m\u001b[0m\n",
       "\u001b[0;31mType:\u001b[0m            _PrintFunction\n",
       "\u001b[0;31mString form:\u001b[0m     <function latex at 0x7fdc8a4c3820>\n",
       "\u001b[0;31mFile:\u001b[0m            ~/anaconda3/lib/python3.9/site-packages/sympy/printing/latex.py\n",
       "\u001b[0;31mDocstring:\u001b[0m      \n",
       "Convert the given expression to LaTeX string representation.\n",
       "\n",
       "Parameters\n",
       "==========\n",
       "full_prec: boolean, optional\n",
       "    If set to True, a floating point number is printed with full precision.\n",
       "fold_frac_powers : boolean, optional\n",
       "    Emit ``^{p/q}`` instead of ``^{\\frac{p}{q}}`` for fractional powers.\n",
       "fold_func_brackets : boolean, optional\n",
       "    Fold function brackets where applicable.\n",
       "fold_short_frac : boolean, optional\n",
       "    Emit ``p / q`` instead of ``\\frac{p}{q}`` when the denominator is\n",
       "    simple enough (at most two terms and no powers). The default value is\n",
       "    ``True`` for inline mode, ``False`` otherwise.\n",
       "inv_trig_style : string, optional\n",
       "    How inverse trig functions should be displayed. Can be one of\n",
       "    ``abbreviated``, ``full``, or ``power``. Defaults to ``abbreviated``.\n",
       "itex : boolean, optional\n",
       "    Specifies if itex-specific syntax is used, including emitting\n",
       "    ``$$...$$``.\n",
       "ln_notation : boolean, optional\n",
       "    If set to ``True``, ``\\ln`` is used instead of default ``\\log``.\n",
       "long_frac_ratio : float or None, optional\n",
       "    The allowed ratio of the width of the numerator to the width of the\n",
       "    denominator before the printer breaks off long fractions. If ``None``\n",
       "    (the default value), long fractions are not broken up.\n",
       "mat_delim : string, optional\n",
       "    The delimiter to wrap around matrices. Can be one of ``[``, ``(``, or\n",
       "    the empty string. Defaults to ``[``.\n",
       "mat_str : string, optional\n",
       "    Which matrix environment string to emit. ``smallmatrix``, ``matrix``,\n",
       "    ``array``, etc. Defaults to ``smallmatrix`` for inline mode, ``matrix``\n",
       "    for matrices of no more than 10 columns, and ``array`` otherwise.\n",
       "mode: string, optional\n",
       "    Specifies how the generated code will be delimited. ``mode`` can be one\n",
       "    of ``plain``, ``inline``, ``equation`` or ``equation*``.  If ``mode``\n",
       "    is set to ``plain``, then the resulting code will not be delimited at\n",
       "    all (this is the default). If ``mode`` is set to ``inline`` then inline\n",
       "    LaTeX ``$...$`` will be used. If ``mode`` is set to ``equation`` or\n",
       "    ``equation*``, the resulting code will be enclosed in the ``equation``\n",
       "    or ``equation*`` environment (remember to import ``amsmath`` for\n",
       "    ``equation*``), unless the ``itex`` option is set. In the latter case,\n",
       "    the ``$$...$$`` syntax is used.\n",
       "mul_symbol : string or None, optional\n",
       "    The symbol to use for multiplication. Can be one of ``None``, ``ldot``,\n",
       "    ``dot``, or ``times``.\n",
       "order: string, optional\n",
       "    Any of the supported monomial orderings (currently ``lex``, ``grlex``,\n",
       "    or ``grevlex``), ``old``, and ``none``. This parameter does nothing for\n",
       "    Mul objects. Setting order to ``old`` uses the compatibility ordering\n",
       "    for Add defined in Printer. For very large expressions, set the\n",
       "    ``order`` keyword to ``none`` if speed is a concern.\n",
       "symbol_names : dictionary of strings mapped to symbols, optional\n",
       "    Dictionary of symbols and the custom strings they should be emitted as.\n",
       "root_notation : boolean, optional\n",
       "    If set to ``False``, exponents of the form 1/n are printed in fractonal\n",
       "    form. Default is ``True``, to print exponent in root form.\n",
       "mat_symbol_style : string, optional\n",
       "    Can be either ``plain`` (default) or ``bold``. If set to ``bold``,\n",
       "    a MatrixSymbol A will be printed as ``\\mathbf{A}``, otherwise as ``A``.\n",
       "imaginary_unit : string, optional\n",
       "    String to use for the imaginary unit. Defined options are \"i\" (default)\n",
       "    and \"j\". Adding \"r\" or \"t\" in front gives ``\\mathrm`` or ``\\text``, so\n",
       "    \"ri\" leads to ``\\mathrm{i}`` which gives `\\mathrm{i}`.\n",
       "gothic_re_im : boolean, optional\n",
       "    If set to ``True``, `\\Re` and `\\Im` is used for ``re`` and ``im``, respectively.\n",
       "    The default is ``False`` leading to `\\operatorname{re}` and `\\operatorname{im}`.\n",
       "decimal_separator : string, optional\n",
       "    Specifies what separator to use to separate the whole and fractional parts of a\n",
       "    floating point number as in `2.5` for the default, ``period`` or `2{,}5`\n",
       "    when ``comma`` is specified. Lists, sets, and tuple are printed with semicolon\n",
       "    separating the elements when ``comma`` is chosen. For example, [1; 2; 3] when\n",
       "    ``comma`` is chosen and [1,2,3] for when ``period`` is chosen.\n",
       "parenthesize_super : boolean, optional\n",
       "    If set to ``False``, superscripted expressions will not be parenthesized when\n",
       "    powered. Default is ``True``, which parenthesizes the expression when powered.\n",
       "min: Integer or None, optional\n",
       "    Sets the lower bound for the exponent to print floating point numbers in\n",
       "    fixed-point format.\n",
       "max: Integer or None, optional\n",
       "    Sets the upper bound for the exponent to print floating point numbers in\n",
       "    fixed-point format.\n",
       "\n",
       "Notes\n",
       "=====\n",
       "\n",
       "Not using a print statement for printing, results in double backslashes for\n",
       "latex commands since that's the way Python escapes backslashes in strings.\n",
       "\n",
       ">>> from sympy import latex, Rational\n",
       ">>> from sympy.abc import tau\n",
       ">>> latex((2*tau)**Rational(7,2))\n",
       "'8 \\\\sqrt{2} \\\\tau^{\\\\frac{7}{2}}'\n",
       ">>> print(latex((2*tau)**Rational(7,2)))\n",
       "8 \\sqrt{2} \\tau^{\\frac{7}{2}}\n",
       "\n",
       "Examples\n",
       "========\n",
       "\n",
       ">>> from sympy import latex, pi, sin, asin, Integral, Matrix, Rational, log\n",
       ">>> from sympy.abc import x, y, mu, r, tau\n",
       "\n",
       "Basic usage:\n",
       "\n",
       ">>> print(latex((2*tau)**Rational(7,2)))\n",
       "8 \\sqrt{2} \\tau^{\\frac{7}{2}}\n",
       "\n",
       "``mode`` and ``itex`` options:\n",
       "\n",
       ">>> print(latex((2*mu)**Rational(7,2), mode='plain'))\n",
       "8 \\sqrt{2} \\mu^{\\frac{7}{2}}\n",
       ">>> print(latex((2*tau)**Rational(7,2), mode='inline'))\n",
       "$8 \\sqrt{2} \\tau^{7 / 2}$\n",
       ">>> print(latex((2*mu)**Rational(7,2), mode='equation*'))\n",
       "\\begin{equation*}8 \\sqrt{2} \\mu^{\\frac{7}{2}}\\end{equation*}\n",
       ">>> print(latex((2*mu)**Rational(7,2), mode='equation'))\n",
       "\\begin{equation}8 \\sqrt{2} \\mu^{\\frac{7}{2}}\\end{equation}\n",
       ">>> print(latex((2*mu)**Rational(7,2), mode='equation', itex=True))\n",
       "$$8 \\sqrt{2} \\mu^{\\frac{7}{2}}$$\n",
       ">>> print(latex((2*mu)**Rational(7,2), mode='plain'))\n",
       "8 \\sqrt{2} \\mu^{\\frac{7}{2}}\n",
       ">>> print(latex((2*tau)**Rational(7,2), mode='inline'))\n",
       "$8 \\sqrt{2} \\tau^{7 / 2}$\n",
       ">>> print(latex((2*mu)**Rational(7,2), mode='equation*'))\n",
       "\\begin{equation*}8 \\sqrt{2} \\mu^{\\frac{7}{2}}\\end{equation*}\n",
       ">>> print(latex((2*mu)**Rational(7,2), mode='equation'))\n",
       "\\begin{equation}8 \\sqrt{2} \\mu^{\\frac{7}{2}}\\end{equation}\n",
       ">>> print(latex((2*mu)**Rational(7,2), mode='equation', itex=True))\n",
       "$$8 \\sqrt{2} \\mu^{\\frac{7}{2}}$$\n",
       "\n",
       "Fraction options:\n",
       "\n",
       ">>> print(latex((2*tau)**Rational(7,2), fold_frac_powers=True))\n",
       "8 \\sqrt{2} \\tau^{7/2}\n",
       ">>> print(latex((2*tau)**sin(Rational(7,2))))\n",
       "\\left(2 \\tau\\right)^{\\sin{\\left(\\frac{7}{2} \\right)}}\n",
       ">>> print(latex((2*tau)**sin(Rational(7,2)), fold_func_brackets=True))\n",
       "\\left(2 \\tau\\right)^{\\sin {\\frac{7}{2}}}\n",
       ">>> print(latex(3*x**2/y))\n",
       "\\frac{3 x^{2}}{y}\n",
       ">>> print(latex(3*x**2/y, fold_short_frac=True))\n",
       "3 x^{2} / y\n",
       ">>> print(latex(Integral(r, r)/2/pi, long_frac_ratio=2))\n",
       "\\frac{\\int r\\, dr}{2 \\pi}\n",
       ">>> print(latex(Integral(r, r)/2/pi, long_frac_ratio=0))\n",
       "\\frac{1}{2 \\pi} \\int r\\, dr\n",
       "\n",
       "Multiplication options:\n",
       "\n",
       ">>> print(latex((2*tau)**sin(Rational(7,2)), mul_symbol=\"times\"))\n",
       "\\left(2 \\times \\tau\\right)^{\\sin{\\left(\\frac{7}{2} \\right)}}\n",
       "\n",
       "Trig options:\n",
       "\n",
       ">>> print(latex(asin(Rational(7,2))))\n",
       "\\operatorname{asin}{\\left(\\frac{7}{2} \\right)}\n",
       ">>> print(latex(asin(Rational(7,2)), inv_trig_style=\"full\"))\n",
       "\\arcsin{\\left(\\frac{7}{2} \\right)}\n",
       ">>> print(latex(asin(Rational(7,2)), inv_trig_style=\"power\"))\n",
       "\\sin^{-1}{\\left(\\frac{7}{2} \\right)}\n",
       "\n",
       "Matrix options:\n",
       "\n",
       ">>> print(latex(Matrix(2, 1, [x, y])))\n",
       "\\left[\\begin{matrix}x\\\\y\\end{matrix}\\right]\n",
       ">>> print(latex(Matrix(2, 1, [x, y]), mat_str = \"array\"))\n",
       "\\left[\\begin{array}{c}x\\\\y\\end{array}\\right]\n",
       ">>> print(latex(Matrix(2, 1, [x, y]), mat_delim=\"(\"))\n",
       "\\left(\\begin{matrix}x\\\\y\\end{matrix}\\right)\n",
       "\n",
       "Custom printing of symbols:\n",
       "\n",
       ">>> print(latex(x**2, symbol_names={x: 'x_i'}))\n",
       "x_i^{2}\n",
       "\n",
       "Logarithms:\n",
       "\n",
       ">>> print(latex(log(10)))\n",
       "\\log{\\left(10 \\right)}\n",
       ">>> print(latex(log(10), ln_notation=True))\n",
       "\\ln{\\left(10 \\right)}\n",
       "\n",
       "``latex()`` also supports the builtin container types :class:`list`,\n",
       ":class:`tuple`, and :class:`dict`:\n",
       "\n",
       ">>> print(latex([2/x, y], mode='inline'))\n",
       "$\\left[ 2 / x, \\  y\\right]$\n",
       "\n",
       "Unsupported types are rendered as monospaced plaintext:\n",
       "\n",
       ">>> print(latex(int))\n",
       "\\mathtt{\\text{<class 'int'>}}\n",
       ">>> print(latex(\"plain % text\"))\n",
       "\\mathtt{\\text{plain \\% text}}\n",
       "\n",
       "See :ref:`printer_method_example` for an example of how to override\n",
       "this behavior for your own types by implementing ``_latex``.\n",
       "\n",
       ".. versionchanged:: 1.7.0\n",
       "    Unsupported types no longer have their ``str`` representation treated as valid latex.\n",
       "\u001b[0;31mClass docstring:\u001b[0m Function wrapper to replace ``**settings`` in the signature with printer defaults\n"
      ]
     },
     "metadata": {},
     "output_type": "display_data"
    }
   ],
   "source": [
    "sp.latex?"
   ]
  },
  {
   "cell_type": "code",
   "execution_count": null,
   "id": "565748bb-4ac6-4607-ad74-95ec0c4e0a7a",
   "metadata": {},
   "outputs": [
    {
     "name": "stdout",
     "output_type": "stream",
     "text": [
      "Collecting sympy==1.7.1\n",
      "  Using cached sympy-1.7.1-py3-none-any.whl (5.9 MB)\n",
      "Requirement already satisfied: mpmath>=0.19 in /home/robert/anaconda3/lib/python3.9/site-packages (from sympy==1.7.1) (1.2.1)\n",
      "Installing collected packages: sympy\n",
      "  Attempting uninstall: sympy\n",
      "    Found existing installation: sympy 1.10.1\n",
      "    Uninstalling sympy-1.10.1:\n",
      "      Successfully uninstalled sympy-1.10.1\n"
     ]
    }
   ],
   "source": [
    "!pip install sympy==1.7.1"
   ]
  },
  {
   "cell_type": "code",
   "execution_count": 19,
   "id": "fc539635-1538-49b7-a40e-2cc59a08cedc",
   "metadata": {},
   "outputs": [],
   "source": [
    "import sympy as sp\n",
    "x,y = sp.symbols('x y')\n",
    "f = sp.Function('f')\n",
    "g = sp.Function('g')"
   ]
  },
  {
   "cell_type": "code",
   "execution_count": 20,
   "id": "db2256a9-9494-4710-bfcf-f0da1d34f568",
   "metadata": {},
   "outputs": [
    {
     "data": {
      "text/latex": [
       "$\\displaystyle f{\\left(x \\right)} = C_{1} + C_{2} x - \\frac{x^{2} g{\\left(y \\right)}}{2}$"
      ],
      "text/plain": [
       "Eq(f(x), C1 + C2*x - x**2*g(y)/2)"
      ]
     },
     "execution_count": 20,
     "metadata": {},
     "output_type": "execute_result"
    }
   ],
   "source": [
    "sp.dsolve(sp.diff(f(x),x,2)+g(y),f(x))"
   ]
  },
  {
   "cell_type": "code",
   "execution_count": 21,
   "id": "2f716183-e14d-4aad-afb3-d696f39e983d",
   "metadata": {},
   "outputs": [
    {
     "ename": "TypeError",
     "evalue": "\nCannot give expansion for symbolic count. If you just want a list of\nall variables of differentiation, use _wrt_variables.",
     "output_type": "error",
     "traceback": [
      "\u001b[0;31m---------------------------------------------------------------------------\u001b[0m",
      "\u001b[0;31mTypeError\u001b[0m                                 Traceback (most recent call last)",
      "Input \u001b[0;32mIn [21]\u001b[0m, in \u001b[0;36m<cell line: 1>\u001b[0;34m()\u001b[0m\n\u001b[0;32m----> 1\u001b[0m \u001b[43msp\u001b[49m\u001b[38;5;241;43m.\u001b[39;49m\u001b[43mdsolve\u001b[49m\u001b[43m(\u001b[49m\u001b[43msp\u001b[49m\u001b[38;5;241;43m.\u001b[39;49m\u001b[43mdiff\u001b[49m\u001b[43m(\u001b[49m\u001b[43mf\u001b[49m\u001b[43m(\u001b[49m\u001b[43mx\u001b[49m\u001b[43m)\u001b[49m\u001b[43m,\u001b[49m\u001b[43mx\u001b[49m\u001b[43m,\u001b[49m\u001b[38;5;241;43m2\u001b[39;49m\u001b[43m)\u001b[49m\u001b[38;5;241;43m+\u001b[39;49m\u001b[43msp\u001b[49m\u001b[38;5;241;43m.\u001b[39;49m\u001b[43mdiff\u001b[49m\u001b[43m(\u001b[49m\u001b[43mg\u001b[49m\u001b[43m(\u001b[49m\u001b[43my\u001b[49m\u001b[43m)\u001b[49m\u001b[43m,\u001b[49m\u001b[43my\u001b[49m\u001b[43m)\u001b[49m\u001b[43m,\u001b[49m\u001b[43mf\u001b[49m\u001b[43m(\u001b[49m\u001b[43mx\u001b[49m\u001b[43m)\u001b[49m\u001b[43m)\u001b[49m\n",
      "File \u001b[0;32m~/anaconda3/lib/python3.9/site-packages/sympy/solvers/ode/ode.py:640\u001b[0m, in \u001b[0;36mdsolve\u001b[0;34m(eq, func, hint, simplify, ics, xi, eta, x0, n, **kwargs)\u001b[0m\n\u001b[1;32m    637\u001b[0m \u001b[38;5;28;01melse\u001b[39;00m:\n\u001b[1;32m    638\u001b[0m     \u001b[38;5;66;03m# The key 'hint' stores the hint needed to be solved for.\u001b[39;00m\n\u001b[1;32m    639\u001b[0m     hint \u001b[38;5;241m=\u001b[39m hints[\u001b[38;5;124m'\u001b[39m\u001b[38;5;124mhint\u001b[39m\u001b[38;5;124m'\u001b[39m]\n\u001b[0;32m--> 640\u001b[0m     \u001b[38;5;28;01mreturn\u001b[39;00m \u001b[43m_helper_simplify\u001b[49m\u001b[43m(\u001b[49m\u001b[43meq\u001b[49m\u001b[43m,\u001b[49m\u001b[43m \u001b[49m\u001b[43mhint\u001b[49m\u001b[43m,\u001b[49m\u001b[43m \u001b[49m\u001b[43mhints\u001b[49m\u001b[43m,\u001b[49m\u001b[43m \u001b[49m\u001b[43msimplify\u001b[49m\u001b[43m,\u001b[49m\u001b[43m \u001b[49m\u001b[43mics\u001b[49m\u001b[38;5;241;43m=\u001b[39;49m\u001b[43mics\u001b[49m\u001b[43m)\u001b[49m\n",
      "File \u001b[0;32m~/anaconda3/lib/python3.9/site-packages/sympy/solvers/ode/ode.py:669\u001b[0m, in \u001b[0;36m_helper_simplify\u001b[0;34m(eq, hint, match, simplify, ics, **kwargs)\u001b[0m\n\u001b[1;32m    664\u001b[0m \u001b[38;5;28;01mif\u001b[39;00m simplify:\n\u001b[1;32m    665\u001b[0m     \u001b[38;5;66;03m# odesimp() will attempt to integrate, if necessary, apply constantsimp(),\u001b[39;00m\n\u001b[1;32m    666\u001b[0m     \u001b[38;5;66;03m# attempt to solve for func, and apply any other hint specific\u001b[39;00m\n\u001b[1;32m    667\u001b[0m     \u001b[38;5;66;03m# simplifications\u001b[39;00m\n\u001b[1;32m    668\u001b[0m     \u001b[38;5;28;01mif\u001b[39;00m \u001b[38;5;28misinstance\u001b[39m(solvefunc, SingleODESolver):\n\u001b[0;32m--> 669\u001b[0m         sols \u001b[38;5;241m=\u001b[39m \u001b[43msolvefunc\u001b[49m\u001b[38;5;241;43m.\u001b[39;49m\u001b[43mget_general_solution\u001b[49m\u001b[43m(\u001b[49m\u001b[43m)\u001b[49m\n\u001b[1;32m    670\u001b[0m     \u001b[38;5;28;01melse\u001b[39;00m:\n\u001b[1;32m    671\u001b[0m         sols \u001b[38;5;241m=\u001b[39m solvefunc(eq, func, order, match)\n",
      "File \u001b[0;32m~/anaconda3/lib/python3.9/site-packages/sympy/solvers/ode/single.py:296\u001b[0m, in \u001b[0;36mSingleODESolver.get_general_solution\u001b[0;34m(self, simplify)\u001b[0m\n\u001b[1;32m    294\u001b[0m     msg \u001b[38;5;241m=\u001b[39m \u001b[38;5;124m\"\u001b[39m\u001b[38;5;132;01m%s\u001b[39;00m\u001b[38;5;124m solver cannot solve:\u001b[39m\u001b[38;5;130;01m\\n\u001b[39;00m\u001b[38;5;132;01m%s\u001b[39;00m\u001b[38;5;124m\"\u001b[39m\n\u001b[1;32m    295\u001b[0m     \u001b[38;5;28;01mraise\u001b[39;00m ODEMatchError(msg \u001b[38;5;241m%\u001b[39m (\u001b[38;5;28mself\u001b[39m\u001b[38;5;241m.\u001b[39mhint, \u001b[38;5;28mself\u001b[39m\u001b[38;5;241m.\u001b[39mode_problem\u001b[38;5;241m.\u001b[39meq))\n\u001b[0;32m--> 296\u001b[0m \u001b[38;5;28;01mreturn\u001b[39;00m \u001b[38;5;28;43mself\u001b[39;49m\u001b[38;5;241;43m.\u001b[39;49m\u001b[43m_get_general_solution\u001b[49m\u001b[43m(\u001b[49m\u001b[43msimplify_flag\u001b[49m\u001b[38;5;241;43m=\u001b[39;49m\u001b[43msimplify\u001b[49m\u001b[43m)\u001b[49m\n",
      "File \u001b[0;32m~/anaconda3/lib/python3.9/site-packages/sympy/solvers/ode/single.py:2398\u001b[0m, in \u001b[0;36mNthLinearConstantCoeffUndeterminedCoefficients._get_general_solution\u001b[0;34m(self, simplify_flag)\u001b[0m\n\u001b[1;32m   2396\u001b[0m gsol \u001b[38;5;241m=\u001b[39m _solve_undetermined_coefficients(eq, f(x), order, \u001b[38;5;28mself\u001b[39m\u001b[38;5;241m.\u001b[39mr, \u001b[38;5;28mself\u001b[39m\u001b[38;5;241m.\u001b[39mtrialset)\n\u001b[1;32m   2397\u001b[0m \u001b[38;5;28;01mif\u001b[39;00m simplify_flag:\n\u001b[0;32m-> 2398\u001b[0m     gsol \u001b[38;5;241m=\u001b[39m \u001b[43m_get_simplified_sol\u001b[49m\u001b[43m(\u001b[49m\u001b[43m[\u001b[49m\u001b[43mgsol\u001b[49m\u001b[43m]\u001b[49m\u001b[43m,\u001b[49m\u001b[43m \u001b[49m\u001b[43mf\u001b[49m\u001b[43m(\u001b[49m\u001b[43mx\u001b[49m\u001b[43m)\u001b[49m\u001b[43m,\u001b[49m\u001b[43m \u001b[49m\u001b[43mcollectterms\u001b[49m\u001b[43m)\u001b[49m\n\u001b[1;32m   2399\u001b[0m \u001b[38;5;28;01mreturn\u001b[39;00m [gsol]\n",
      "File \u001b[0;32m~/anaconda3/lib/python3.9/site-packages/sympy/solvers/ode/nonhomogeneous.py:271\u001b[0m, in \u001b[0;36m_get_simplified_sol\u001b[0;34m(sol, func, collectterms)\u001b[0m\n\u001b[1;32m    269\u001b[0m \u001b[38;5;28;01mfor\u001b[39;00m i, reroot, imroot \u001b[38;5;129;01min\u001b[39;00m collectterms:\n\u001b[1;32m    270\u001b[0m     sol \u001b[38;5;241m=\u001b[39m collect(sol, x\u001b[38;5;241m*\u001b[39m\u001b[38;5;241m*\u001b[39mi\u001b[38;5;241m*\u001b[39mexp(reroot\u001b[38;5;241m*\u001b[39mx)\u001b[38;5;241m*\u001b[39msin(\u001b[38;5;28mabs\u001b[39m(imroot)\u001b[38;5;241m*\u001b[39mx))\n\u001b[0;32m--> 271\u001b[0m     sol \u001b[38;5;241m=\u001b[39m \u001b[43mcollect\u001b[49m\u001b[43m(\u001b[49m\u001b[43msol\u001b[49m\u001b[43m,\u001b[49m\u001b[43m \u001b[49m\u001b[43mx\u001b[49m\u001b[38;5;241;43m*\u001b[39;49m\u001b[38;5;241;43m*\u001b[39;49m\u001b[43mi\u001b[49m\u001b[38;5;241;43m*\u001b[39;49m\u001b[43mexp\u001b[49m\u001b[43m(\u001b[49m\u001b[43mreroot\u001b[49m\u001b[38;5;241;43m*\u001b[39;49m\u001b[43mx\u001b[49m\u001b[43m)\u001b[49m\u001b[38;5;241;43m*\u001b[39;49m\u001b[43mcos\u001b[49m\u001b[43m(\u001b[49m\u001b[43mimroot\u001b[49m\u001b[38;5;241;43m*\u001b[39;49m\u001b[43mx\u001b[49m\u001b[43m)\u001b[49m\u001b[43m)\u001b[49m\n\u001b[1;32m    272\u001b[0m \u001b[38;5;28;01mfor\u001b[39;00m i, reroot, imroot \u001b[38;5;129;01min\u001b[39;00m collectterms:\n\u001b[1;32m    273\u001b[0m     sol \u001b[38;5;241m=\u001b[39m collect(sol, x\u001b[38;5;241m*\u001b[39m\u001b[38;5;241m*\u001b[39mi\u001b[38;5;241m*\u001b[39mexp(reroot\u001b[38;5;241m*\u001b[39mx))\n",
      "File \u001b[0;32m~/anaconda3/lib/python3.9/site-packages/sympy/simplify/radsimp.py:175\u001b[0m, in \u001b[0;36mcollect\u001b[0;34m(expr, syms, func, evaluate, exact, distribute_order_term)\u001b[0m\n\u001b[1;32m    173\u001b[0m reps \u001b[38;5;241m=\u001b[39m \u001b[38;5;28mdict\u001b[39m(\u001b[38;5;28mzip\u001b[39m(nonsyms, [Dummy(\u001b[38;5;241m*\u001b[39m\u001b[38;5;241m*\u001b[39massumptions(i)) \u001b[38;5;28;01mfor\u001b[39;00m i \u001b[38;5;129;01min\u001b[39;00m nonsyms]))\n\u001b[1;32m    174\u001b[0m syms \u001b[38;5;241m=\u001b[39m [reps\u001b[38;5;241m.\u001b[39mget(s, s) \u001b[38;5;28;01mfor\u001b[39;00m s \u001b[38;5;129;01min\u001b[39;00m syms]\n\u001b[0;32m--> 175\u001b[0m rv \u001b[38;5;241m=\u001b[39m \u001b[43mcollect\u001b[49m\u001b[43m(\u001b[49m\u001b[43mexpr\u001b[49m\u001b[38;5;241;43m.\u001b[39;49m\u001b[43msubs\u001b[49m\u001b[43m(\u001b[49m\u001b[43mreps\u001b[49m\u001b[43m)\u001b[49m\u001b[43m,\u001b[49m\u001b[43m \u001b[49m\u001b[43msyms\u001b[49m\u001b[43m,\u001b[49m\n\u001b[1;32m    176\u001b[0m \u001b[43m    \u001b[49m\u001b[43mfunc\u001b[49m\u001b[38;5;241;43m=\u001b[39;49m\u001b[43mfunc\u001b[49m\u001b[43m,\u001b[49m\u001b[43m \u001b[49m\u001b[43mevaluate\u001b[49m\u001b[38;5;241;43m=\u001b[39;49m\u001b[43mevaluate\u001b[49m\u001b[43m,\u001b[49m\u001b[43m \u001b[49m\u001b[43mexact\u001b[49m\u001b[38;5;241;43m=\u001b[39;49m\u001b[43mexact\u001b[49m\u001b[43m,\u001b[49m\n\u001b[1;32m    177\u001b[0m \u001b[43m    \u001b[49m\u001b[43mdistribute_order_term\u001b[49m\u001b[38;5;241;43m=\u001b[39;49m\u001b[43mdistribute_order_term\u001b[49m\u001b[43m)\u001b[49m\n\u001b[1;32m    178\u001b[0m urep \u001b[38;5;241m=\u001b[39m {v: k \u001b[38;5;28;01mfor\u001b[39;00m k, v \u001b[38;5;129;01min\u001b[39;00m reps\u001b[38;5;241m.\u001b[39mitems()}\n\u001b[1;32m    179\u001b[0m \u001b[38;5;28;01mif\u001b[39;00m \u001b[38;5;129;01mnot\u001b[39;00m \u001b[38;5;28misinstance\u001b[39m(rv, \u001b[38;5;28mdict\u001b[39m):\n",
      "File \u001b[0;32m~/anaconda3/lib/python3.9/site-packages/sympy/simplify/radsimp.py:360\u001b[0m, in \u001b[0;36mcollect\u001b[0;34m(expr, syms, func, evaluate, exact, distribute_order_term)\u001b[0m\n\u001b[1;32m    358\u001b[0m \u001b[38;5;28;01mif\u001b[39;00m expr\u001b[38;5;241m.\u001b[39mis_Add:\n\u001b[1;32m    359\u001b[0m     o \u001b[38;5;241m=\u001b[39m expr\u001b[38;5;241m.\u001b[39mgetO() \u001b[38;5;129;01mor\u001b[39;00m \u001b[38;5;241m0\u001b[39m\n\u001b[0;32m--> 360\u001b[0m     expr \u001b[38;5;241m=\u001b[39m expr\u001b[38;5;241m.\u001b[39mfunc(\u001b[38;5;241m*\u001b[39m[\n\u001b[1;32m    361\u001b[0m             collect(a, syms, func, \u001b[38;5;28;01mTrue\u001b[39;00m, exact, distribute_order_term)\n\u001b[1;32m    362\u001b[0m             \u001b[38;5;28;01mfor\u001b[39;00m a \u001b[38;5;129;01min\u001b[39;00m expr\u001b[38;5;241m.\u001b[39margs \u001b[38;5;28;01mif\u001b[39;00m a \u001b[38;5;241m!=\u001b[39m o]) \u001b[38;5;241m+\u001b[39m o\n\u001b[1;32m    363\u001b[0m \u001b[38;5;28;01melif\u001b[39;00m expr\u001b[38;5;241m.\u001b[39mis_Mul:\n\u001b[1;32m    364\u001b[0m     \u001b[38;5;28;01mreturn\u001b[39;00m expr\u001b[38;5;241m.\u001b[39mfunc(\u001b[38;5;241m*\u001b[39m[\n\u001b[1;32m    365\u001b[0m         collect(term, syms, func, \u001b[38;5;28;01mTrue\u001b[39;00m, exact, distribute_order_term)\n\u001b[1;32m    366\u001b[0m         \u001b[38;5;28;01mfor\u001b[39;00m term \u001b[38;5;129;01min\u001b[39;00m expr\u001b[38;5;241m.\u001b[39margs])\n",
      "File \u001b[0;32m~/anaconda3/lib/python3.9/site-packages/sympy/simplify/radsimp.py:361\u001b[0m, in \u001b[0;36m<listcomp>\u001b[0;34m(.0)\u001b[0m\n\u001b[1;32m    358\u001b[0m \u001b[38;5;28;01mif\u001b[39;00m expr\u001b[38;5;241m.\u001b[39mis_Add:\n\u001b[1;32m    359\u001b[0m     o \u001b[38;5;241m=\u001b[39m expr\u001b[38;5;241m.\u001b[39mgetO() \u001b[38;5;129;01mor\u001b[39;00m \u001b[38;5;241m0\u001b[39m\n\u001b[1;32m    360\u001b[0m     expr \u001b[38;5;241m=\u001b[39m expr\u001b[38;5;241m.\u001b[39mfunc(\u001b[38;5;241m*\u001b[39m[\n\u001b[0;32m--> 361\u001b[0m             \u001b[43mcollect\u001b[49m\u001b[43m(\u001b[49m\u001b[43ma\u001b[49m\u001b[43m,\u001b[49m\u001b[43m \u001b[49m\u001b[43msyms\u001b[49m\u001b[43m,\u001b[49m\u001b[43m \u001b[49m\u001b[43mfunc\u001b[49m\u001b[43m,\u001b[49m\u001b[43m \u001b[49m\u001b[38;5;28;43;01mTrue\u001b[39;49;00m\u001b[43m,\u001b[49m\u001b[43m \u001b[49m\u001b[43mexact\u001b[49m\u001b[43m,\u001b[49m\u001b[43m \u001b[49m\u001b[43mdistribute_order_term\u001b[49m\u001b[43m)\u001b[49m\n\u001b[1;32m    362\u001b[0m             \u001b[38;5;28;01mfor\u001b[39;00m a \u001b[38;5;129;01min\u001b[39;00m expr\u001b[38;5;241m.\u001b[39margs \u001b[38;5;28;01mif\u001b[39;00m a \u001b[38;5;241m!=\u001b[39m o]) \u001b[38;5;241m+\u001b[39m o\n\u001b[1;32m    363\u001b[0m \u001b[38;5;28;01melif\u001b[39;00m expr\u001b[38;5;241m.\u001b[39mis_Mul:\n\u001b[1;32m    364\u001b[0m     \u001b[38;5;28;01mreturn\u001b[39;00m expr\u001b[38;5;241m.\u001b[39mfunc(\u001b[38;5;241m*\u001b[39m[\n\u001b[1;32m    365\u001b[0m         collect(term, syms, func, \u001b[38;5;28;01mTrue\u001b[39;00m, exact, distribute_order_term)\n\u001b[1;32m    366\u001b[0m         \u001b[38;5;28;01mfor\u001b[39;00m term \u001b[38;5;129;01min\u001b[39;00m expr\u001b[38;5;241m.\u001b[39margs])\n",
      "File \u001b[0;32m~/anaconda3/lib/python3.9/site-packages/sympy/simplify/radsimp.py:364\u001b[0m, in \u001b[0;36mcollect\u001b[0;34m(expr, syms, func, evaluate, exact, distribute_order_term)\u001b[0m\n\u001b[1;32m    360\u001b[0m     expr \u001b[38;5;241m=\u001b[39m expr\u001b[38;5;241m.\u001b[39mfunc(\u001b[38;5;241m*\u001b[39m[\n\u001b[1;32m    361\u001b[0m             collect(a, syms, func, \u001b[38;5;28;01mTrue\u001b[39;00m, exact, distribute_order_term)\n\u001b[1;32m    362\u001b[0m             \u001b[38;5;28;01mfor\u001b[39;00m a \u001b[38;5;129;01min\u001b[39;00m expr\u001b[38;5;241m.\u001b[39margs \u001b[38;5;28;01mif\u001b[39;00m a \u001b[38;5;241m!=\u001b[39m o]) \u001b[38;5;241m+\u001b[39m o\n\u001b[1;32m    363\u001b[0m \u001b[38;5;28;01melif\u001b[39;00m expr\u001b[38;5;241m.\u001b[39mis_Mul:\n\u001b[0;32m--> 364\u001b[0m     \u001b[38;5;28;01mreturn\u001b[39;00m expr\u001b[38;5;241m.\u001b[39mfunc(\u001b[38;5;241m*\u001b[39m[\n\u001b[1;32m    365\u001b[0m         collect(term, syms, func, \u001b[38;5;28;01mTrue\u001b[39;00m, exact, distribute_order_term)\n\u001b[1;32m    366\u001b[0m         \u001b[38;5;28;01mfor\u001b[39;00m term \u001b[38;5;129;01min\u001b[39;00m expr\u001b[38;5;241m.\u001b[39margs])\n\u001b[1;32m    367\u001b[0m \u001b[38;5;28;01melif\u001b[39;00m expr\u001b[38;5;241m.\u001b[39mis_Pow:\n\u001b[1;32m    368\u001b[0m     b \u001b[38;5;241m=\u001b[39m collect(\n\u001b[1;32m    369\u001b[0m         expr\u001b[38;5;241m.\u001b[39mbase, syms, func, \u001b[38;5;28;01mTrue\u001b[39;00m, exact, distribute_order_term)\n",
      "File \u001b[0;32m~/anaconda3/lib/python3.9/site-packages/sympy/simplify/radsimp.py:365\u001b[0m, in \u001b[0;36m<listcomp>\u001b[0;34m(.0)\u001b[0m\n\u001b[1;32m    360\u001b[0m     expr \u001b[38;5;241m=\u001b[39m expr\u001b[38;5;241m.\u001b[39mfunc(\u001b[38;5;241m*\u001b[39m[\n\u001b[1;32m    361\u001b[0m             collect(a, syms, func, \u001b[38;5;28;01mTrue\u001b[39;00m, exact, distribute_order_term)\n\u001b[1;32m    362\u001b[0m             \u001b[38;5;28;01mfor\u001b[39;00m a \u001b[38;5;129;01min\u001b[39;00m expr\u001b[38;5;241m.\u001b[39margs \u001b[38;5;28;01mif\u001b[39;00m a \u001b[38;5;241m!=\u001b[39m o]) \u001b[38;5;241m+\u001b[39m o\n\u001b[1;32m    363\u001b[0m \u001b[38;5;28;01melif\u001b[39;00m expr\u001b[38;5;241m.\u001b[39mis_Mul:\n\u001b[1;32m    364\u001b[0m     \u001b[38;5;28;01mreturn\u001b[39;00m expr\u001b[38;5;241m.\u001b[39mfunc(\u001b[38;5;241m*\u001b[39m[\n\u001b[0;32m--> 365\u001b[0m         \u001b[43mcollect\u001b[49m\u001b[43m(\u001b[49m\u001b[43mterm\u001b[49m\u001b[43m,\u001b[49m\u001b[43m \u001b[49m\u001b[43msyms\u001b[49m\u001b[43m,\u001b[49m\u001b[43m \u001b[49m\u001b[43mfunc\u001b[49m\u001b[43m,\u001b[49m\u001b[43m \u001b[49m\u001b[38;5;28;43;01mTrue\u001b[39;49;00m\u001b[43m,\u001b[49m\u001b[43m \u001b[49m\u001b[43mexact\u001b[49m\u001b[43m,\u001b[49m\u001b[43m \u001b[49m\u001b[43mdistribute_order_term\u001b[49m\u001b[43m)\u001b[49m\n\u001b[1;32m    366\u001b[0m         \u001b[38;5;28;01mfor\u001b[39;00m term \u001b[38;5;129;01min\u001b[39;00m expr\u001b[38;5;241m.\u001b[39margs])\n\u001b[1;32m    367\u001b[0m \u001b[38;5;28;01melif\u001b[39;00m expr\u001b[38;5;241m.\u001b[39mis_Pow:\n\u001b[1;32m    368\u001b[0m     b \u001b[38;5;241m=\u001b[39m collect(\n\u001b[1;32m    369\u001b[0m         expr\u001b[38;5;241m.\u001b[39mbase, syms, func, \u001b[38;5;28;01mTrue\u001b[39;00m, exact, distribute_order_term)\n",
      "File \u001b[0;32m~/anaconda3/lib/python3.9/site-packages/sympy/simplify/radsimp.py:391\u001b[0m, in \u001b[0;36mcollect\u001b[0;34m(expr, syms, func, evaluate, exact, distribute_order_term)\u001b[0m\n\u001b[1;32m    389\u001b[0m c, nc \u001b[38;5;241m=\u001b[39m product\u001b[38;5;241m.\u001b[39margs_cnc(split_1\u001b[38;5;241m=\u001b[39m\u001b[38;5;28;01mFalse\u001b[39;00m)\n\u001b[1;32m    390\u001b[0m args \u001b[38;5;241m=\u001b[39m \u001b[38;5;28mlist\u001b[39m(ordered(c)) \u001b[38;5;241m+\u001b[39m nc\n\u001b[0;32m--> 391\u001b[0m terms \u001b[38;5;241m=\u001b[39m [parse_term(i) \u001b[38;5;28;01mfor\u001b[39;00m i \u001b[38;5;129;01min\u001b[39;00m args]\n\u001b[1;32m    392\u001b[0m small_first \u001b[38;5;241m=\u001b[39m \u001b[38;5;28;01mTrue\u001b[39;00m\n\u001b[1;32m    394\u001b[0m \u001b[38;5;28;01mfor\u001b[39;00m symbol \u001b[38;5;129;01min\u001b[39;00m syms:\n",
      "File \u001b[0;32m~/anaconda3/lib/python3.9/site-packages/sympy/simplify/radsimp.py:391\u001b[0m, in \u001b[0;36m<listcomp>\u001b[0;34m(.0)\u001b[0m\n\u001b[1;32m    389\u001b[0m c, nc \u001b[38;5;241m=\u001b[39m product\u001b[38;5;241m.\u001b[39margs_cnc(split_1\u001b[38;5;241m=\u001b[39m\u001b[38;5;28;01mFalse\u001b[39;00m)\n\u001b[1;32m    390\u001b[0m args \u001b[38;5;241m=\u001b[39m \u001b[38;5;28mlist\u001b[39m(ordered(c)) \u001b[38;5;241m+\u001b[39m nc\n\u001b[0;32m--> 391\u001b[0m terms \u001b[38;5;241m=\u001b[39m [\u001b[43mparse_term\u001b[49m\u001b[43m(\u001b[49m\u001b[43mi\u001b[49m\u001b[43m)\u001b[49m \u001b[38;5;28;01mfor\u001b[39;00m i \u001b[38;5;129;01min\u001b[39;00m args]\n\u001b[1;32m    392\u001b[0m small_first \u001b[38;5;241m=\u001b[39m \u001b[38;5;28;01mTrue\u001b[39;00m\n\u001b[1;32m    394\u001b[0m \u001b[38;5;28;01mfor\u001b[39;00m symbol \u001b[38;5;129;01min\u001b[39;00m syms:\n",
      "File \u001b[0;32m~/anaconda3/lib/python3.9/site-packages/sympy/simplify/radsimp.py:281\u001b[0m, in \u001b[0;36mcollect.<locals>.parse_term\u001b[0;34m(expr)\u001b[0m\n\u001b[1;32m    279\u001b[0m         sexpr, rat_expo \u001b[38;5;241m=\u001b[39m exp(tail), coeff\n\u001b[1;32m    280\u001b[0m \u001b[38;5;28;01melif\u001b[39;00m \u001b[38;5;28misinstance\u001b[39m(expr, Derivative):\n\u001b[0;32m--> 281\u001b[0m     sexpr, deriv \u001b[38;5;241m=\u001b[39m \u001b[43mparse_derivative\u001b[49m\u001b[43m(\u001b[49m\u001b[43mexpr\u001b[49m\u001b[43m)\u001b[49m\n\u001b[1;32m    283\u001b[0m \u001b[38;5;28;01mreturn\u001b[39;00m sexpr, rat_expo, sym_expo, deriv\n",
      "File \u001b[0;32m~/anaconda3/lib/python3.9/site-packages/sympy/simplify/radsimp.py:211\u001b[0m, in \u001b[0;36mcollect.<locals>.parse_derivative\u001b[0;34m(deriv)\u001b[0m\n\u001b[1;32m    208\u001b[0m \u001b[38;5;28;01mdef\u001b[39;00m \u001b[38;5;21mparse_derivative\u001b[39m(deriv):\n\u001b[1;32m    209\u001b[0m     \u001b[38;5;66;03m# scan derivatives tower in the input expression and return\u001b[39;00m\n\u001b[1;32m    210\u001b[0m     \u001b[38;5;66;03m# underlying function and maximal differentiation order\u001b[39;00m\n\u001b[0;32m--> 211\u001b[0m     expr, sym, order \u001b[38;5;241m=\u001b[39m deriv\u001b[38;5;241m.\u001b[39mexpr, \u001b[43mderiv\u001b[49m\u001b[38;5;241;43m.\u001b[39;49m\u001b[43mvariables\u001b[49m[\u001b[38;5;241m0\u001b[39m], \u001b[38;5;241m1\u001b[39m\n\u001b[1;32m    213\u001b[0m     \u001b[38;5;28;01mfor\u001b[39;00m s \u001b[38;5;129;01min\u001b[39;00m deriv\u001b[38;5;241m.\u001b[39mvariables[\u001b[38;5;241m1\u001b[39m:]:\n\u001b[1;32m    214\u001b[0m         \u001b[38;5;28;01mif\u001b[39;00m s \u001b[38;5;241m==\u001b[39m sym:\n",
      "File \u001b[0;32m~/anaconda3/lib/python3.9/site-packages/sympy/core/function.py:1664\u001b[0m, in \u001b[0;36mDerivative.variables\u001b[0;34m(self)\u001b[0m\n\u001b[1;32m   1662\u001b[0m \u001b[38;5;28;01mfor\u001b[39;00m v, count \u001b[38;5;129;01min\u001b[39;00m \u001b[38;5;28mself\u001b[39m\u001b[38;5;241m.\u001b[39mvariable_count:\n\u001b[1;32m   1663\u001b[0m     \u001b[38;5;28;01mif\u001b[39;00m \u001b[38;5;129;01mnot\u001b[39;00m count\u001b[38;5;241m.\u001b[39mis_Integer:\n\u001b[0;32m-> 1664\u001b[0m         \u001b[38;5;28;01mraise\u001b[39;00m \u001b[38;5;167;01mTypeError\u001b[39;00m(filldedent(\u001b[38;5;124m'''\u001b[39m\n\u001b[1;32m   1665\u001b[0m \u001b[38;5;124m        Cannot give expansion for symbolic count. If you just\u001b[39m\n\u001b[1;32m   1666\u001b[0m \u001b[38;5;124m        want a list of all variables of differentiation, use\u001b[39m\n\u001b[1;32m   1667\u001b[0m \u001b[38;5;124m        _wrt_variables.\u001b[39m\u001b[38;5;124m'''\u001b[39m))\n\u001b[1;32m   1668\u001b[0m     rv\u001b[38;5;241m.\u001b[39mextend([v]\u001b[38;5;241m*\u001b[39mcount)\n\u001b[1;32m   1669\u001b[0m \u001b[38;5;28;01mreturn\u001b[39;00m \u001b[38;5;28mtuple\u001b[39m(rv)\n",
      "\u001b[0;31mTypeError\u001b[0m: \nCannot give expansion for symbolic count. If you just want a list of\nall variables of differentiation, use _wrt_variables."
     ]
    }
   ],
   "source": [
    "sp.dsolve(sp.diff(f(x),x,2)+sp.diff(g(y),y),f(x))"
   ]
  },
  {
   "cell_type": "code",
   "execution_count": 1,
   "id": "9f20a2ad-30e1-47bc-84c3-02a1af0c6d4b",
   "metadata": {},
   "outputs": [
    {
     "data": {
      "text/plain": [
       "'1.10.1'"
      ]
     },
     "execution_count": 1,
     "metadata": {},
     "output_type": "execute_result"
    }
   ],
   "source": [
    "import sympy as sp\n",
    "sp.__version__"
   ]
  },
  {
   "cell_type": "code",
   "execution_count": null,
   "id": "1e01e930-9f3c-4d7f-87ae-efea6d6b86f7",
   "metadata": {},
   "outputs": [],
   "source": []
  }
 ],
 "metadata": {
  "kernelspec": {
   "display_name": "Python 3 (ipykernel)",
   "language": "python",
   "name": "python3"
  },
  "language_info": {
   "codemirror_mode": {
    "name": "ipython",
    "version": 3
   },
   "file_extension": ".py",
   "mimetype": "text/x-python",
   "name": "python",
   "nbconvert_exporter": "python",
   "pygments_lexer": "ipython3",
   "version": "3.9.12"
  }
 },
 "nbformat": 4,
 "nbformat_minor": 5
}
