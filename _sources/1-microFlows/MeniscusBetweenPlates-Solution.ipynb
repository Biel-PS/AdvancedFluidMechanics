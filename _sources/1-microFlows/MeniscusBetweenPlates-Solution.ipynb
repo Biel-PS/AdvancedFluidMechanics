{
 "cells": [
  {
   "cell_type": "markdown",
   "id": "c340a74c-54d0-45c0-b627-763fb3f90427",
   "metadata": {},
   "source": [
    "# Meniscus between plates. Solution\n",
    "\n",
    "\n",
    "Find the shape for two parallels walls separated a distance $L$\n",
    "\n",
    "Hint: In the middle point between both walls, curvature is not zero, so there is also there a pressure jump. This pressure jump is related, then, to the height of the column, $H$. It is suggested to change coordinate axes, as shown in the picture, and change the first equation as\n",
    "\n",
    "$$ \\frac{\\rho g (z+H)}{\\gamma} - \\frac{z''}{\\left(1 + {z'}^2\\right)^{3/2}} = 0 $$\n",
    "\n",
    "Also, there are 2 boundary conditions: the derivative of $z(x)$ for $x=-\\frac{L}{2}$ and for $x=\\frac{L}{2}$\n",
    "\n",
    "![image.png](MeniscusBetweenPlates.png)\n",
    "\n",
    "***\n",
    "\n",
    "The exact solution of this problems can be found, both for planar and axisymmetric (capillary tube) can be found in [this paper by Liu et al.(2018)](https://link.springer.com/article/10.1140/epje/i2018-11648-1). We are going to find the shape with numerical integration, in a similar way as we have done with the shape with only one \n",
    "plate.\n",
    "\n",
    "We ca consider two method. In the first, we perform one integration of the second order ODE and the second is numerically integrated. In the second method, that is left as exercise, the second order ODE is written as a system of two first order ODE's and both are numerically integrated\n",
    "\n",
    "## Method 1\n",
    "\n",
    "In this method the origin of $x$ is at the wall and the numerical integration is done until the middle point between plates. All the variables are normalized with capillary length \n",
    "$ l_s = \\sqrt{\\frac{\\gamma}{\\rho g}} $. Hence,\n",
    "\n",
    "\\begin{eqnarray}\n",
    "\\xi &=& \\frac{x}{l_s} \\\\\n",
    "\\eta &=& \\frac{z}{l_s} \\\\\n",
    "\\beta &=& \\frac{H}{l_s} \\\\\n",
    "\\lambda &=& \\frac{L}{l_s} \n",
    "\\end{eqnarray}"
   ]
  },
  {
   "cell_type": "code",
   "execution_count": 123,
   "id": "inner-boards",
   "metadata": {},
   "outputs": [],
   "source": [
    "import numpy as np\n",
    "import sympy as sp\n",
    "sp.init_printing()\n",
    "from IPython.display import display,Math"
   ]
  },
  {
   "cell_type": "code",
   "execution_count": 2,
   "id": "spoken-salmon",
   "metadata": {},
   "outputs": [
    {
     "data": {
      "image/png": "[encoded data removed]",
      "text/latex": [
       "$\\displaystyle \\beta - \\frac{\\frac{d^{2}}{d \\xi^{2}} \\eta{\\left(\\xi \\right)}}{\\left(\\left(\\frac{d}{d \\xi} \\eta{\\left(\\xi \\right)}\\right)^{2} + 1\\right)^{1.5}} + \\eta{\\left(\\xi \\right)}$"
      ],
      "text/plain": [
       "                     -1.5                 \n",
       "    ⎛          2    ⎞       2             \n",
       "    ⎜⎛d       ⎞     ⎟      d              \n",
       "β - ⎜⎜──(η(ξ))⎟  + 1⎟    ⋅───(η(ξ)) + η(ξ)\n",
       "    ⎝⎝dξ      ⎠     ⎠       2             \n",
       "                          dξ              "
      ]
     },
     "metadata": {},
     "output_type": "display_data"
    }
   ],
   "source": [
    "xi,theta, beta = sp.symbols('xi,theta,beta',positive=True)\n",
    "eta = sp.Function('eta')\n",
    "exp = (eta(xi)+beta)-eta(xi).diff(xi,2)/(1+eta(xi).diff(xi)**2)**(3/2)\n",
    "display(exp)"
   ]
  },
  {
   "cell_type": "markdown",
   "id": "corresponding-settlement",
   "metadata": {},
   "source": [
    "As in the case of one plate, this equation can be integrated with an integration factor $\\eta'$."
   ]
  },
  {
   "cell_type": "code",
   "execution_count": 3,
   "id": "helpful-symposium",
   "metadata": {},
   "outputs": [
    {
     "data": {
      "image/png": "[encoded data removed]",
      "text/latex": [
       "$\\displaystyle \\left(\\beta - \\frac{\\frac{d^{2}}{d \\xi^{2}} \\eta{\\left(\\xi \\right)}}{\\left(\\left(\\frac{d}{d \\xi} \\eta{\\left(\\xi \\right)}\\right)^{2} + 1\\right)^{1.5}} + \\eta{\\left(\\xi \\right)}\\right) \\frac{d}{d \\xi} \\eta{\\left(\\xi \\right)}$"
      ],
      "text/plain": [
       "⎛                     -1.5                 ⎞         \n",
       "⎜    ⎛          2    ⎞       2             ⎟         \n",
       "⎜    ⎜⎛d       ⎞     ⎟      d              ⎟ d       \n",
       "⎜β - ⎜⎜──(η(ξ))⎟  + 1⎟    ⋅───(η(ξ)) + η(ξ)⎟⋅──(η(ξ))\n",
       "⎜    ⎝⎝dξ      ⎠     ⎠       2             ⎟ dξ      \n",
       "⎝                          dξ              ⎠         "
      ]
     },
     "metadata": {},
     "output_type": "display_data"
    }
   ],
   "source": [
    "exp = exp*eta(xi).diff(xi)\n",
    "display(exp)"
   ]
  },
  {
   "cell_type": "code",
   "execution_count": 4,
   "id": "headed-warner",
   "metadata": {},
   "outputs": [
    {
     "data": {
      "image/png": "[encoded data removed]",
      "text/latex": [
       "$\\displaystyle \\beta \\eta{\\left(\\xi \\right)} + \\frac{1.0}{\\left(\\left(\\frac{d}{d \\xi} \\eta{\\left(\\xi \\right)}\\right)^{2} + 1\\right)^{0.5}} + \\frac{\\eta^{2}{\\left(\\xi \\right)}}{2}$"
      ],
      "text/plain": [
       "                              -0.5        \n",
       "             ⎛          2    ⎞        2   \n",
       "             ⎜⎛d       ⎞     ⎟       η (ξ)\n",
       "β⋅η(ξ) + 1.0⋅⎜⎜──(η(ξ))⎟  + 1⎟     + ─────\n",
       "             ⎝⎝dξ      ⎠     ⎠         2  "
      ]
     },
     "metadata": {},
     "output_type": "display_data"
    }
   ],
   "source": [
    "exp2 = exp.integrate(xi)\n",
    "display(exp2)"
   ]
  },
  {
   "cell_type": "markdown",
   "id": "spanish-composer",
   "metadata": {},
   "source": [
    "Again, when $\\eta=0$, the first derivative is $0$ too, so, this is again 1. And $\\delta$, the normalized height of water in the wall (above center of meniscus) can be calculated by imposing its derivative."
   ]
  },
  {
   "cell_type": "code",
   "execution_count": 5,
   "id": "focused-treasure",
   "metadata": {},
   "outputs": [
    {
     "data": {
      "image/png": "[encoded data removed]",
      "text/latex": [
       "$\\displaystyle \\beta \\eta{\\left(\\xi \\right)} + \\frac{1.0}{\\left(\\left(\\frac{d}{d \\xi} \\eta{\\left(\\xi \\right)}\\right)^{2} + 1\\right)^{0.5}} + \\frac{\\eta^{2}{\\left(\\xi \\right)}}{2} = 1$"
      ],
      "text/plain": [
       "                              -0.5            \n",
       "             ⎛          2    ⎞        2       \n",
       "             ⎜⎛d       ⎞     ⎟       η (ξ)    \n",
       "β⋅η(ξ) + 1.0⋅⎜⎜──(η(ξ))⎟  + 1⎟     + ───── = 1\n",
       "             ⎝⎝dξ      ⎠     ⎠         2      "
      ]
     },
     "metadata": {},
     "output_type": "display_data"
    },
    {
     "data": {
      "image/png": "[encoded data removed]",
      "text/latex": [
       "$\\displaystyle \\beta \\delta + \\frac{\\delta^{2}}{2} + \\frac{1.0}{\\left(1 + \\frac{1}{\\tan^{2}{\\left(\\theta \\right)}}\\right)^{0.5}} = 1$"
      ],
      "text/plain": [
       "       2                    -0.5    \n",
       "      δ        ⎛       1   ⎞        \n",
       "β⋅δ + ── + 1.0⋅⎜1 + ───────⎟     = 1\n",
       "      2        ⎜       2   ⎟        \n",
       "               ⎝    tan (θ)⎠        "
      ]
     },
     "metadata": {},
     "output_type": "display_data"
    }
   ],
   "source": [
    "dEq = sp.Eq(exp2,1)\n",
    "display(dEq)\n",
    "delta = sp.symbols('delta')\n",
    "deltaEq = dEq.replace(eta(xi).diff(xi),-1/sp.tan(theta)).replace(eta(xi),delta)\n",
    "display(deltaEq)"
   ]
  },
  {
   "cell_type": "markdown",
   "id": "nasty-sister",
   "metadata": {},
   "source": [
    "We keep the second solution, which is the positive one"
   ]
  },
  {
   "cell_type": "code",
   "execution_count": 6,
   "id": "exciting-center",
   "metadata": {},
   "outputs": [
    {
     "data": {
      "image/png": "[encoded data removed]",
      "text/latex": [
       "$\\displaystyle - \\beta + \\frac{1.4142135623731 \\sqrt{0.5 \\beta^{2} \\left|{\\cos{\\left(\\theta \\right)}}\\right| - \\cos^{2}{\\left(\\theta \\right)} \\left|{\\tan{\\left(\\theta \\right)}}\\right| + \\left|{\\cos{\\left(\\theta \\right)}}\\right|} \\left|{\\tan{\\left(\\theta \\right)}}\\right|}{\\tan{\\left(\\theta \\right)} \\left|{\\sqrt{\\cos{\\left(\\theta \\right)}}}\\right|}$"
      ],
      "text/plain": [
       "                        _______________________________________________       \n",
       "                       ╱      2               2                               \n",
       "     1.4142135623731⋅╲╱  0.5⋅β ⋅│cos(θ)│ - cos (θ)⋅│tan(θ)│ + │cos(θ)│ ⋅│tan(θ\n",
       "-β + ─────────────────────────────────────────────────────────────────────────\n",
       "                                        │  ________│                          \n",
       "                                 tan(θ)⋅│╲╱ cos(θ) │                          \n",
       "\n",
       "  \n",
       "  \n",
       ")│\n",
       "──\n",
       "  \n",
       "  "
      ]
     },
     "metadata": {},
     "output_type": "display_data"
    }
   ],
   "source": [
    "deltaSol=sp.solve(deltaEq,delta)[1]\n",
    "deltaSol.simplify().trigsimp()\n",
    "display(deltaSol)"
   ]
  },
  {
   "cell_type": "markdown",
   "id": "satisfied-finish",
   "metadata": {},
   "source": [
    "This is function of the contact angle ($\\theta$) but also of the height of the column, $\\beta$. The higher is $\\beta$, the lower is $\\delta$. This is because also $\\lambda$ will be lower, and the meniscus is narrower.\n",
    "\n",
    "We construct a function to calculate the numerical value of $\\delta$ (initial value of $\\eta$) with $\\beta$ and $\\theta$."
   ]
  },
  {
   "cell_type": "code",
   "execution_count": 7,
   "id": "comfortable-lying",
   "metadata": {},
   "outputs": [],
   "source": [
    "eta0_n = sp.lambdify((beta,theta),deltaSol)"
   ]
  },
  {
   "cell_type": "markdown",
   "id": "quick-things",
   "metadata": {},
   "source": [
    "and also, we construct the first order that we want to integrate, by defining the first derivative of $\\eta$."
   ]
  },
  {
   "cell_type": "code",
   "execution_count": 8,
   "id": "infrared-documentary",
   "metadata": {},
   "outputs": [
    {
     "data": {
      "image/png": "[encoded data removed]",
      "text/latex": [
       "$\\displaystyle - \\sqrt{-1.0 + \\frac{1.0}{\\left(\\beta \\eta{\\left(\\xi \\right)} + 0.5 \\eta^{2}{\\left(\\xi \\right)} - 1\\right)^{2}}}$"
      ],
      "text/plain": [
       "       __________________________________\n",
       "      ╱                   1.0            \n",
       "-    ╱  -1.0 + ───────────────────────── \n",
       "    ╱                                  2 \n",
       "   ╱           ⎛              2       ⎞  \n",
       " ╲╱            ⎝β⋅η(ξ) + 0.5⋅η (ξ) - 1⎠  "
      ]
     },
     "metadata": {},
     "output_type": "display_data"
    }
   ],
   "source": [
    "f = sp.solve(dEq,eta(xi).diff(xi))[0]\n",
    "display(f)"
   ]
  },
  {
   "cell_type": "markdown",
   "id": "hired-signal",
   "metadata": {},
   "source": [
    "and its numerical version"
   ]
  },
  {
   "cell_type": "code",
   "execution_count": 41,
   "id": "animal-aging",
   "metadata": {},
   "outputs": [],
   "source": [
    "f_np = sp.lambdify((xi,eta(xi),beta),f)"
   ]
  },
  {
   "cell_type": "markdown",
   "id": "centered-fever",
   "metadata": {},
   "source": [
    "and now we can integrate it, choosing input values for contact angle $\\theta$ and for $\\beta$ (height of column)."
   ]
  },
  {
   "cell_type": "code",
   "execution_count": 107,
   "id": "engaged-musician",
   "metadata": {},
   "outputs": [
    {
     "data": {
      "image/png": "[encoded data removed]",
      "text/latex": [
       "$\\displaystyle 0.905$"
      ],
      "text/plain": [
       "0.9050"
      ]
     },
     "metadata": {},
     "output_type": "display_data"
    }
   ],
   "source": [
    "from scipy.integrate import solve_ivp\n",
    "theta_n = np.deg2rad(30)\n",
    "beta_n = 0.1\n",
    "eta0 = sp.N(eta0_n(beta_n,theta_n),4)\n",
    "display(eta0)"
   ]
  },
  {
   "cell_type": "markdown",
   "id": "binary-czech",
   "metadata": {},
   "source": [
    "An estimation of distance between plates can be done easily with the circular approximation, yielding $\\lambda = \\frac{2\\cos{\\theta}}{\\beta}$. So, the distance to the middle point will be around $\\frac{\\cos{\\theta}}{\\beta}$. We use a slightly larger value for the limit of numerical integration"
   ]
  },
  {
   "cell_type": "code",
   "execution_count": 116,
   "id": "functioning-thunder",
   "metadata": {},
   "outputs": [
    {
     "name": "stderr",
     "output_type": "stream",
     "text": [
      "<lambdifygenerated-3>:2: RuntimeWarning: invalid value encountered in sqrt\n",
      "  return -sqrt(-1.0 + 1.0/(0.5*_Dummy_2603**2 + _Dummy_2603*beta - 1)**2)\n"
     ]
    }
   ],
   "source": [
    "l_2_est = np.cos(theta_n)/beta_n\n",
    "xi_p = np.linspace(0,1.1*l_2_est,1000) # long enough for our case\n",
    "sol = solve_ivp(f_np,(0,1.1*l_2_est),[eta0],t_eval=xi_p,args=(beta_n,))"
   ]
  },
  {
   "cell_type": "code",
   "execution_count": 117,
   "id": "a10c6a35-e85f-454f-9db5-ebfcd3e8ca82",
   "metadata": {
    "tags": []
   },
   "outputs": [
    {
     "data": {
      "text/plain": [
       "[<matplotlib.lines.Line2D at 0x7fbbb40ead60>]"
      ]
     },
     "execution_count": 117,
     "metadata": {},
     "output_type": "execute_result"
    },
    {
     "data": {
      "application/vnd.jupyter.widget-view+json": {
       "model_id": "73dc4b28817b455ea0f3f5c808b3e479",
       "version_major": 2,
       "version_minor": 0
      },
      "image/png": "[encoded data removed]",
      "text/html": [
       "\n",
       "            <div style=\"display: inline-block;\">\n",
       "                <div class=\"jupyter-widgets widget-label\" style=\"text-align: center;\">\n",
       "                    Figure\n",
       "                </div>\n",
       "                <img src='data:image/png;base64,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' width=640.0/>\n",
       "            </div>\n",
       "        "
      ],
      "text/plain": [
       "Canvas(toolbar=Toolbar(toolitems=[('Home', 'Reset original view', 'home', 'home'), ('Back', 'Back to previous …"
      ]
     },
     "metadata": {},
     "output_type": "display_data"
    }
   ],
   "source": [
    "%matplotlib widget\n",
    "import matplotlib.pyplot as plt\n",
    "plt.plot(sol.t,sol.y[0])"
   ]
  },
  {
   "cell_type": "code",
   "execution_count": 120,
   "id": "3eeec8bc-6860-48ed-b3e3-4bbee4aca076",
   "metadata": {
    "tags": []
   },
   "outputs": [],
   "source": [
    "eta_np = sol.y[0][np.append(np.diff(sol.y[0]),0) != 0]\n",
    "xi_np = sol.t[np.append(np.diff(sol.y[0]),0) != 0]"
   ]
  },
  {
   "cell_type": "code",
   "execution_count": 122,
   "id": "bb660767-6fc4-45e8-a485-f5497e302113",
   "metadata": {
    "tags": []
   },
   "outputs": [
    {
     "data": {
      "text/plain": [
       "[<matplotlib.lines.Line2D at 0x7fbbb4111dc0>]"
      ]
     },
     "execution_count": 122,
     "metadata": {},
     "output_type": "execute_result"
    }
   ],
   "source": [
    "plt.plot(xi_np,eta_np)"
   ]
  },
  {
   "cell_type": "code",
   "execution_count": 114,
   "id": "c6526058-96bb-4aa3-a04b-ada73097d454",
   "metadata": {
    "tags": []
   },
   "outputs": [
    {
     "data": {
      "text/plain": [
       "\u001b[0;31mSignature:\u001b[0m \u001b[0mnp\u001b[0m\u001b[0;34m.\u001b[0m\u001b[0mdiff\u001b[0m\u001b[0;34m(\u001b[0m\u001b[0ma\u001b[0m\u001b[0;34m,\u001b[0m \u001b[0mn\u001b[0m\u001b[0;34m=\u001b[0m\u001b[0;36m1\u001b[0m\u001b[0;34m,\u001b[0m \u001b[0maxis\u001b[0m\u001b[0;34m=\u001b[0m\u001b[0;34m-\u001b[0m\u001b[0;36m1\u001b[0m\u001b[0;34m,\u001b[0m \u001b[0mprepend\u001b[0m\u001b[0;34m=\u001b[0m\u001b[0;34m<\u001b[0m\u001b[0mno\u001b[0m \u001b[0mvalue\u001b[0m\u001b[0;34m>\u001b[0m\u001b[0;34m,\u001b[0m \u001b[0mappend\u001b[0m\u001b[0;34m=\u001b[0m\u001b[0;34m<\u001b[0m\u001b[0mno\u001b[0m \u001b[0mvalue\u001b[0m\u001b[0;34m>\u001b[0m\u001b[0;34m)\u001b[0m\u001b[0;34m\u001b[0m\u001b[0;34m\u001b[0m\u001b[0m\n",
       "\u001b[0;31mDocstring:\u001b[0m\n",
       "Calculate the n-th discrete difference along the given axis.\n",
       "\n",
       "The first difference is given by ``out[i] = a[i+1] - a[i]`` along\n",
       "the given axis, higher differences are calculated by using `diff`\n",
       "recursively.\n",
       "\n",
       "Parameters\n",
       "----------\n",
       "a : array_like\n",
       "    Input array\n",
       "n : int, optional\n",
       "    The number of times values are differenced. If zero, the input\n",
       "    is returned as-is.\n",
       "axis : int, optional\n",
       "    The axis along which the difference is taken, default is the\n",
       "    last axis.\n",
       "prepend, append : array_like, optional\n",
       "    Values to prepend or append to `a` along axis prior to\n",
       "    performing the difference.  Scalar values are expanded to\n",
       "    arrays with length 1 in the direction of axis and the shape\n",
       "    of the input array in along all other axes.  Otherwise the\n",
       "    dimension and shape must match `a` except along axis.\n",
       "\n",
       "    .. versionadded:: 1.16.0\n",
       "\n",
       "Returns\n",
       "-------\n",
       "diff : ndarray\n",
       "    The n-th differences. The shape of the output is the same as `a`\n",
       "    except along `axis` where the dimension is smaller by `n`. The\n",
       "    type of the output is the same as the type of the difference\n",
       "    between any two elements of `a`. This is the same as the type of\n",
       "    `a` in most cases. A notable exception is `datetime64`, which\n",
       "    results in a `timedelta64` output array.\n",
       "\n",
       "See Also\n",
       "--------\n",
       "gradient, ediff1d, cumsum\n",
       "\n",
       "Notes\n",
       "-----\n",
       "Type is preserved for boolean arrays, so the result will contain\n",
       "`False` when consecutive elements are the same and `True` when they\n",
       "differ.\n",
       "\n",
       "For unsigned integer arrays, the results will also be unsigned. This\n",
       "should not be surprising, as the result is consistent with\n",
       "calculating the difference directly:\n",
       "\n",
       ">>> u8_arr = np.array([1, 0], dtype=np.uint8)\n",
       ">>> np.diff(u8_arr)\n",
       "array([255], dtype=uint8)\n",
       ">>> u8_arr[1,...] - u8_arr[0,...]\n",
       "255\n",
       "\n",
       "If this is not desirable, then the array should be cast to a larger\n",
       "integer type first:\n",
       "\n",
       ">>> i16_arr = u8_arr.astype(np.int16)\n",
       ">>> np.diff(i16_arr)\n",
       "array([-1], dtype=int16)\n",
       "\n",
       "Examples\n",
       "--------\n",
       ">>> x = np.array([1, 2, 4, 7, 0])\n",
       ">>> np.diff(x)\n",
       "array([ 1,  2,  3, -7])\n",
       ">>> np.diff(x, n=2)\n",
       "array([  1,   1, -10])\n",
       "\n",
       ">>> x = np.array([[1, 3, 6, 10], [0, 5, 6, 8]])\n",
       ">>> np.diff(x)\n",
       "array([[2, 3, 4],\n",
       "       [5, 1, 2]])\n",
       ">>> np.diff(x, axis=0)\n",
       "array([[-1,  2,  0, -2]])\n",
       "\n",
       ">>> x = np.arange('1066-10-13', '1066-10-16', dtype=np.datetime64)\n",
       ">>> np.diff(x)\n",
       "array([1, 1], dtype='timedelta64[D]')\n",
       "\u001b[0;31mFile:\u001b[0m      ~/.config/jupyterlab-desktop/jlab_server/lib/python3.8/site-packages/numpy/lib/function_base.py\n",
       "\u001b[0;31mType:\u001b[0m      function\n"
      ]
     },
     "metadata": {},
     "output_type": "display_data"
    }
   ],
   "source": [
    "np.diff?"
   ]
  },
  {
   "cell_type": "markdown",
   "id": "prime-panic",
   "metadata": {},
   "source": [
    "It gives a warning because beyond the middle point of meniscus the derivative gives imaginary values (negative argument in the root square of `f`. A trick is to detect this `NaN` \n",
    "and drop them from `eta_np` and `xi_p`. Then, the last value of `xi_p` is the numerical result for $\\lambda/2$. "
   ]
  },
  {
   "cell_type": "code",
   "execution_count": 67,
   "id": "spare-biography",
   "metadata": {},
   "outputs": [],
   "source": [
    "R = l_2/np.cos(theta_n)\n",
    "eta_circ = R - np.sqrt(R**2 - (l_2-xi_p)**2)"
   ]
  },
  {
   "cell_type": "code",
   "execution_count": 68,
   "id": "vietnamese-introduction",
   "metadata": {},
   "outputs": [
    {
     "data": {
      "text/plain": [
       "<matplotlib.legend.Legend at 0x7fbbb41dcb80>"
      ]
     },
     "execution_count": 68,
     "metadata": {},
     "output_type": "execute_result"
    },
    {
     "data": {
      "image/png": "[encoded data removed]",
      "text/plain": [
       "<Figure size 864x288 with 1 Axes>"
      ]
     },
     "metadata": {
      "needs_background": "light"
     },
     "output_type": "display_data"
    }
   ],
   "source": [
    "import matplotlib.pyplot as plt\n",
    "fig,ax = plt.subplots(figsize=(12,4))\n",
    "plt.gca().set_aspect('equal', adjustable='box')\n",
    "ax.plot(xi_p,eta_np.y[0],scaley=True, label='numerical')\n",
    "ax.plot(xi_p,eta_circ,scaley=True, label ='cercle')\n",
    "ax.legend()"
   ]
  },
  {
   "cell_type": "code",
   "execution_count": 71,
   "id": "ca5490de-a312-403d-a3ed-46a6e35be510",
   "metadata": {
    "tags": []
   },
   "outputs": [
    {
     "data": {
      "image/png": "[encoded data removed]",
      "text/latex": [
       "$\\displaystyle 95.2627944162883$"
      ],
      "text/plain": [
       "95.26279441628826"
      ]
     },
     "execution_count": 71,
     "metadata": {},
     "output_type": "execute_result"
    }
   ],
   "source": [
    "l_2"
   ]
  },
  {
   "cell_type": "code",
   "execution_count": 69,
   "id": "7bfb98d0-8a32-4af2-81bd-66f1ba51dcfd",
   "metadata": {
    "tags": []
   },
   "outputs": [
    {
     "data": {
      "text/plain": [
       "array([0.        , 0.00095358, 0.00190716, 0.00286074, 0.00381433,\n",
       "       0.00476791, 0.00572149, 0.00667507, 0.00762865, 0.00858223,\n",
       "       0.00953582, 0.0104894 , 0.01144298, 0.01239656, 0.01335014,\n",
       "       0.01430372, 0.0152573 , 0.01621089, 0.01716447, 0.01811805,\n",
       "       0.01907163, 0.02002521, 0.02097879, 0.02193238, 0.02288596,\n",
       "       0.02383954, 0.02479312, 0.0257467 , 0.02670028, 0.02765386,\n",
       "       0.02860745, 0.02956103, 0.03051461, 0.03146819, 0.03242177,\n",
       "       0.03337535, 0.03432893, 0.03528252, 0.0362361 , 0.03718968,\n",
       "       0.03814326, 0.03909684, 0.04005042, 0.04100401, 0.04195759,\n",
       "       0.04291117, 0.04386475, 0.04481833, 0.04577191, 0.04672549,\n",
       "       0.04767908, 0.04863266, 0.04958624, 0.05053982, 0.0514934 ,\n",
       "       0.05244698, 0.05340057, 0.05435415, 0.05530773, 0.05626131,\n",
       "       0.05721489, 0.05816847, 0.05912205, 0.06007564, 0.06102922,\n",
       "       0.0619828 , 0.06293638, 0.06388996, 0.06484354, 0.06579713,\n",
       "       0.06675071, 0.06770429, 0.06865787, 0.06961145, 0.07056503,\n",
       "       0.07151861, 0.0724722 , 0.07342578, 0.07437936, 0.07533294,\n",
       "       0.07628652, 0.0772401 , 0.07819369, 0.07914727, 0.08010085,\n",
       "       0.08105443, 0.08200801, 0.08296159, 0.08391517, 0.08486876,\n",
       "       0.08582234, 0.08677592, 0.0877295 , 0.08868308, 0.08963666,\n",
       "       0.09059024, 0.09154383, 0.09249741, 0.09345099, 0.09440457,\n",
       "       0.09535815, 0.09631173, 0.09726532, 0.0982189 , 0.09917248,\n",
       "       0.10012606, 0.10107964, 0.10203322, 0.1029868 , 0.10394039,\n",
       "       0.10489397, 0.10584755, 0.10680113, 0.10775471, 0.10870829,\n",
       "       0.10966188, 0.11061546, 0.11156904, 0.11252262, 0.1134762 ,\n",
       "       0.11442978, 0.11538336, 0.11633695, 0.11729053, 0.11824411,\n",
       "       0.11919769, 0.12015127, 0.12110485, 0.12205844, 0.12301202,\n",
       "       0.1239656 , 0.12491918, 0.12587276, 0.12682634, 0.12777992,\n",
       "       0.12873351, 0.12968709, 0.13064067, 0.13159425, 0.13254783,\n",
       "       0.13350141, 0.134455  , 0.13540858, 0.13636216, 0.13731574,\n",
       "       0.13826932, 0.1392229 , 0.14017648, 0.14113007, 0.14208365,\n",
       "       0.14303723, 0.14399081, 0.14494439, 0.14589797, 0.14685155,\n",
       "       0.14780514, 0.14875872, 0.1497123 , 0.15066588, 0.15161946,\n",
       "       0.15257304, 0.15352663, 0.15448021, 0.15543379, 0.15638737,\n",
       "       0.15734095, 0.15829453, 0.15924811, 0.1602017 , 0.16115528,\n",
       "       0.16210886, 0.16306244, 0.16401602, 0.1649696 , 0.16592319,\n",
       "       0.16687677, 0.16783035, 0.16878393, 0.16973751, 0.17069109,\n",
       "       0.17164467, 0.17259826, 0.17355184, 0.17450542, 0.175459  ,\n",
       "       0.17641258, 0.17736616, 0.17831975, 0.17927333, 0.18022691,\n",
       "       0.18118049, 0.18213407, 0.18308765, 0.18404123, 0.18499482,\n",
       "       0.1859484 , 0.18690198, 0.18785556, 0.18880914, 0.18976272,\n",
       "       0.19071631, 0.19166989, 0.19262347, 0.19357705, 0.19453063,\n",
       "       0.19548421, 0.19643779, 0.19739138, 0.19834496, 0.19929854,\n",
       "       0.20025212, 0.2012057 , 0.20215928, 0.20311286, 0.20406645,\n",
       "       0.20502003, 0.20597361, 0.20692719, 0.20788077, 0.20883435,\n",
       "       0.20978794, 0.21074152, 0.2116951 , 0.21264868, 0.21360226,\n",
       "       0.21455584, 0.21550942, 0.21646301, 0.21741659, 0.21837017,\n",
       "       0.21932375, 0.22027733, 0.22123091, 0.2221845 , 0.22313808,\n",
       "       0.22409166, 0.22504524, 0.22599882, 0.2269524 , 0.22790598,\n",
       "       0.22885957, 0.22981315, 0.23076673, 0.23172031, 0.23267389,\n",
       "       0.23362747, 0.23458106, 0.23553464, 0.23648822, 0.2374418 ,\n",
       "       0.23839538, 0.23934896, 0.24030254, 0.24125613, 0.24220971,\n",
       "       0.24316329, 0.24411687, 0.24507045, 0.24602403, 0.24697762,\n",
       "       0.2479312 , 0.24888478, 0.24983836, 0.25079194, 0.25174552,\n",
       "       0.2526991 , 0.25365269, 0.25460627, 0.25555985, 0.25651343,\n",
       "       0.25746701, 0.25842059, 0.25937417, 0.26032776, 0.26128134,\n",
       "       0.26223492, 0.2631885 , 0.26414208, 0.26509566, 0.26604925,\n",
       "       0.26700283, 0.26795641, 0.26890999, 0.26986357, 0.27081715,\n",
       "       0.27177073, 0.27272432, 0.2736779 , 0.27463148, 0.27558506,\n",
       "       0.27653864, 0.27749222, 0.27844581, 0.27939939, 0.28035297,\n",
       "       0.28130655, 0.28226013, 0.28321371, 0.28416729, 0.28512088,\n",
       "       0.28607446, 0.28702804, 0.28798162, 0.2889352 , 0.28988878,\n",
       "       0.29084237, 0.29179595, 0.29274953, 0.29370311, 0.29465669,\n",
       "       0.29561027, 0.29656385, 0.29751744, 0.29847102, 0.2994246 ,\n",
       "       0.30037818, 0.30133176, 0.30228534, 0.30323893, 0.30419251,\n",
       "       0.30514609, 0.30609967, 0.30705325, 0.30800683, 0.30896041,\n",
       "       0.309914  , 0.31086758, 0.31182116, 0.31277474, 0.31372832,\n",
       "       0.3146819 , 0.31563549, 0.31658907, 0.31754265, 0.31849623,\n",
       "       0.31944981, 0.32040339, 0.32135697, 0.32231056, 0.32326414,\n",
       "       0.32421772, 0.3251713 , 0.32612488, 0.32707846, 0.32803204,\n",
       "       0.32898563, 0.32993921, 0.33089279, 0.33184637, 0.33279995,\n",
       "       0.33375353, 0.33470712, 0.3356607 , 0.33661428, 0.33756786,\n",
       "       0.33852144, 0.33947502, 0.3404286 , 0.34138219, 0.34233577,\n",
       "       0.34328935, 0.34424293, 0.34519651, 0.34615009, 0.34710368,\n",
       "       0.34805726, 0.34901084, 0.34996442, 0.350918  , 0.35187158,\n",
       "       0.35282516, 0.35377875, 0.35473233, 0.35568591, 0.35663949,\n",
       "       0.35759307, 0.35854665, 0.35950024, 0.36045382, 0.3614074 ,\n",
       "       0.36236098, 0.36331456, 0.36426814, 0.36522172, 0.36617531,\n",
       "       0.36712889, 0.36808247, 0.36903605, 0.36998963, 0.37094321,\n",
       "       0.3718968 , 0.37285038, 0.37380396, 0.37475754, 0.37571112,\n",
       "       0.3766647 , 0.37761828, 0.37857187, 0.37952545, 0.38047903,\n",
       "       0.38143261, 0.38238619, 0.38333977, 0.38429335, 0.38524694,\n",
       "       0.38620052, 0.3871541 , 0.38810768, 0.38906126, 0.39001484,\n",
       "       0.39096843, 0.39192201, 0.39287559, 0.39382917, 0.39478275,\n",
       "       0.39573633, 0.39668991, 0.3976435 , 0.39859708, 0.39955066,\n",
       "       0.40050424, 0.40145782, 0.4024114 , 0.40336499, 0.40431857,\n",
       "       0.40527215, 0.40622573, 0.40717931, 0.40813289, 0.40908647,\n",
       "       0.41004006, 0.41099364, 0.41194722, 0.4129008 , 0.41385438,\n",
       "       0.41480796, 0.41576155, 0.41671513, 0.41766871, 0.41862229,\n",
       "       0.41957587, 0.42052945, 0.42148303, 0.42243662, 0.4233902 ,\n",
       "       0.42434378, 0.42529736, 0.42625094, 0.42720452, 0.42815811,\n",
       "       0.42911169, 0.43006527, 0.43101885, 0.43197243, 0.43292601,\n",
       "       0.43387959, 0.43483318, 0.43578676, 0.43674034, 0.43769392,\n",
       "       0.4386475 , 0.43960108, 0.44055466, 0.44150825, 0.44246183,\n",
       "       0.44341541, 0.44436899, 0.44532257, 0.44627615, 0.44722974,\n",
       "       0.44818332, 0.4491369 , 0.45009048, 0.45104406, 0.45199764,\n",
       "       0.45295122, 0.45390481, 0.45485839, 0.45581197, 0.45676555,\n",
       "       0.45771913, 0.45867271, 0.4596263 , 0.46057988, 0.46153346,\n",
       "       0.46248704, 0.46344062, 0.4643942 , 0.46534778, 0.46630137,\n",
       "       0.46725495, 0.46820853, 0.46916211, 0.47011569, 0.47106927,\n",
       "       0.47202286, 0.47297644, 0.47393002, 0.4748836 , 0.47583718,\n",
       "       0.47679076, 0.47774434, 0.47869793, 0.47965151, 0.48060509,\n",
       "       0.48155867, 0.48251225, 0.48346583, 0.48441942, 0.485373  ,\n",
       "       0.48632658, 0.48728016, 0.48823374, 0.48918732, 0.4901409 ,\n",
       "       0.49109449, 0.49204807, 0.49300165, 0.49395523, 0.49490881,\n",
       "       0.49586239, 0.49681597, 0.49776956, 0.49872314, 0.49967672,\n",
       "       0.5006303 , 0.50158388, 0.50253746, 0.50349105, 0.50444463,\n",
       "       0.50539821, 0.50635179, 0.50730537, 0.50825895, 0.50921253,\n",
       "       0.51016612, 0.5111197 , 0.51207328, 0.51302686, 0.51398044,\n",
       "       0.51493402, 0.51588761, 0.51684119, 0.51779477, 0.51874835,\n",
       "       0.51970193, 0.52065551, 0.52160909, 0.52256268, 0.52351626,\n",
       "       0.52446984, 0.52542342, 0.526377  , 0.52733058, 0.52828417,\n",
       "       0.52923775, 0.53019133, 0.53114491, 0.53209849, 0.53305207,\n",
       "       0.53400565, 0.53495924, 0.53591282, 0.5368664 , 0.53781998,\n",
       "       0.53877356, 0.53972714, 0.54068073, 0.54163431, 0.54258789,\n",
       "       0.54354147, 0.54449505, 0.54544863, 0.54640221, 0.5473558 ,\n",
       "       0.54830938, 0.54926296, 0.55021654, 0.55117012, 0.5521237 ,\n",
       "       0.55307728, 0.55403087, 0.55498445, 0.55593803, 0.55689161,\n",
       "       0.55784519, 0.55879877, 0.55975236, 0.56070594, 0.56165952,\n",
       "       0.5626131 , 0.56356668, 0.56452026, 0.56547384, 0.56642743,\n",
       "       0.56738101, 0.56833459, 0.56928817, 0.57024175, 0.57119533,\n",
       "       0.57214892, 0.5731025 , 0.57405608, 0.57500966, 0.57596324,\n",
       "       0.57691682, 0.5778704 , 0.57882399, 0.57977757, 0.58073115,\n",
       "       0.58168473, 0.58263831, 0.58359189, 0.58454548, 0.58549906,\n",
       "       0.58645264, 0.58740622, 0.5883598 , 0.58931338, 0.59026696,\n",
       "       0.59122055, 0.59217413, 0.59312771, 0.59408129, 0.59503487,\n",
       "       0.59598845, 0.59694204, 0.59789562, 0.5988492 , 0.59980278,\n",
       "       0.60075636, 0.60170994, 0.60266352, 0.60361711, 0.60457069,\n",
       "       0.60552427, 0.60647785, 0.60743143, 0.60838501, 0.60933859,\n",
       "       0.61029218, 0.61124576, 0.61219934, 0.61315292, 0.6141065 ,\n",
       "       0.61506008, 0.61601367, 0.61696725, 0.61792083, 0.61887441,\n",
       "       0.61982799, 0.62078157, 0.62173515, 0.62268874, 0.62364232,\n",
       "       0.6245959 , 0.62554948, 0.62650306, 0.62745664, 0.62841023,\n",
       "       0.62936381, 0.63031739, 0.63127097, 0.63222455, 0.63317813,\n",
       "       0.63413171, 0.6350853 , 0.63603888, 0.63699246, 0.63794604,\n",
       "       0.63889962, 0.6398532 , 0.64080679, 0.64176037, 0.64271395,\n",
       "       0.64366753, 0.64462111, 0.64557469, 0.64652827, 0.64748186,\n",
       "       0.64843544, 0.64938902, 0.6503426 , 0.65129618, 0.65224976,\n",
       "       0.65320335, 0.65415693, 0.65511051, 0.65606409, 0.65701767,\n",
       "       0.65797125, 0.65892483, 0.65987842, 0.660832  , 0.66178558,\n",
       "       0.66273916, 0.66369274, 0.66464632, 0.6655999 , 0.66655349,\n",
       "       0.66750707, 0.66846065, 0.66941423, 0.67036781, 0.67132139,\n",
       "       0.67227498, 0.67322856, 0.67418214, 0.67513572, 0.6760893 ,\n",
       "       0.67704288, 0.67799646, 0.67895005, 0.67990363, 0.68085721,\n",
       "       0.68181079, 0.68276437, 0.68371795, 0.68467154, 0.68562512,\n",
       "       0.6865787 , 0.68753228, 0.68848586, 0.68943944, 0.69039302,\n",
       "       0.69134661, 0.69230019, 0.69325377, 0.69420735, 0.69516093,\n",
       "       0.69611451, 0.6970681 , 0.69802168, 0.69897526, 0.69992884,\n",
       "       0.70088242, 0.701836  , 0.70278958, 0.70374317, 0.70469675,\n",
       "       0.70565033, 0.70660391, 0.70755749, 0.70851107, 0.70946466,\n",
       "       0.71041824, 0.71137182, 0.7123254 , 0.71327898, 0.71423256,\n",
       "       0.71518614, 0.71613973, 0.71709331, 0.71804689, 0.71900047,\n",
       "       0.71995405, 0.72090763, 0.72186121, 0.7228148 , 0.72376838,\n",
       "       0.72472196, 0.72567554, 0.72662912, 0.7275827 , 0.72853629,\n",
       "       0.72948987, 0.73044345, 0.73139703, 0.73235061, 0.73330419,\n",
       "       0.73425777, 0.73521136, 0.73616494, 0.73711852, 0.7380721 ,\n",
       "       0.73902568, 0.73997926, 0.74093285, 0.74188643, 0.74284001,\n",
       "       0.74379359, 0.74474717, 0.74570075, 0.74665433, 0.74760792,\n",
       "       0.7485615 , 0.74951508, 0.75046866, 0.75142224, 0.75237582,\n",
       "       0.75332941, 0.75428299, 0.75523657, 0.75619015, 0.75714373,\n",
       "       0.75809731, 0.75905089, 0.76000448, 0.76095806, 0.76191164,\n",
       "       0.76286522, 0.7638188 , 0.76477238, 0.76572597, 0.76667955,\n",
       "       0.76763313, 0.76858671, 0.76954029, 0.77049387, 0.77144745,\n",
       "       0.77240104, 0.77335462, 0.7743082 , 0.77526178, 0.77621536,\n",
       "       0.77716894, 0.77812252, 0.77907611, 0.78002969, 0.78098327,\n",
       "       0.78193685, 0.78289043, 0.78384401, 0.7847976 , 0.78575118,\n",
       "       0.78670476, 0.78765834, 0.78861192, 0.7895655 , 0.79051908,\n",
       "       0.79147267, 0.79242625, 0.79337983, 0.79433341, 0.79528699,\n",
       "       0.79624057, 0.79719416, 0.79814774, 0.79910132, 0.8000549 ,\n",
       "       0.80100848, 0.80196206, 0.80291564, 0.80386923, 0.80482281,\n",
       "       0.80577639, 0.80672997, 0.80768355, 0.80863713, 0.80959072,\n",
       "       0.8105443 , 0.81149788, 0.81245146, 0.81340504, 0.81435862,\n",
       "       0.8153122 , 0.81626579, 0.81721937, 0.81817295, 0.81912653,\n",
       "       0.82008011, 0.82103369, 0.82198728, 0.82294086, 0.82389444,\n",
       "       0.82484802, 0.8258016 , 0.82675518, 0.82770876, 0.82866235,\n",
       "       0.82961593, 0.83056951, 0.83152309, 0.83247667, 0.83343025,\n",
       "       0.83438383, 0.83533742, 0.836291  , 0.83724458, 0.83819816,\n",
       "       0.83915174, 0.84010532, 0.84105891, 0.84201249, 0.84296607,\n",
       "       0.84391965, 0.84487323, 0.84582681, 0.84678039, 0.84773398,\n",
       "       0.84868756, 0.84964114, 0.85059472, 0.8515483 , 0.85250188,\n",
       "       0.85345547, 0.85440905, 0.85536263, 0.85631621, 0.85726979,\n",
       "       0.85822337, 0.85917695, 0.86013054, 0.86108412, 0.8620377 ,\n",
       "       0.86299128, 0.86394486, 0.86489844, 0.86585203, 0.86680561,\n",
       "       0.86775919, 0.86871277, 0.86966635, 0.87061993, 0.87157351,\n",
       "       0.8725271 , 0.87348068, 0.87443426, 0.87538784, 0.87634142,\n",
       "       0.877295  , 0.87824859, 0.87920217, 0.88015575, 0.88110933,\n",
       "       0.88206291, 0.88301649, 0.88397007, 0.88492366, 0.88587724,\n",
       "       0.88683082, 0.8877844 , 0.88873798, 0.88969156, 0.89064514,\n",
       "       0.89159873, 0.89255231, 0.89350589, 0.89445947, 0.89541305,\n",
       "       0.89636663, 0.89732022, 0.8982738 , 0.89922738, 0.90018096,\n",
       "       0.90113454, 0.90208812, 0.9030417 , 0.90399529, 0.90494887,\n",
       "       0.90590245, 0.90685603, 0.90780961, 0.90876319, 0.90971678,\n",
       "       0.91067036, 0.91162394, 0.91257752, 0.9135311 , 0.91448468,\n",
       "       0.91543826, 0.91639185, 0.91734543, 0.91829901, 0.91925259,\n",
       "       0.92020617, 0.92115975, 0.92211334, 0.92306692, 0.9240205 ,\n",
       "       0.92497408, 0.92592766, 0.92688124, 0.92783482, 0.92878841,\n",
       "       0.92974199, 0.93069557, 0.93164915, 0.93260273, 0.93355631,\n",
       "       0.9345099 , 0.93546348, 0.93641706, 0.93737064, 0.93832422,\n",
       "       0.9392778 , 0.94023138, 0.94118497, 0.94213855, 0.94309213,\n",
       "       0.94404571, 0.94499929, 0.94595287, 0.94690646, 0.94786004,\n",
       "       0.94881362, 0.9497672 , 0.95072078, 0.95167436, 0.95262794])"
      ]
     },
     "execution_count": 69,
     "metadata": {},
     "output_type": "execute_result"
    }
   ],
   "source": [
    "xi_p"
   ]
  },
  {
   "cell_type": "markdown",
   "id": "a5f5218b-831c-409a-8cec-2a1e1fc73e8c",
   "metadata": {},
   "source": [
    "## Method 2 (still an exercise for the student)\n",
    "\n",
    "In this method, we write the second order ODE as a system of two first order ODE's:\n",
    "\n",
    "$$\n",
    "\\zeta'(\\zeta,\\eta,\\xi) = (\\eta(\\xi) + \\beta)\\left(1+\\zeta(\\xi)^2\\right)^\\frac{3}{2}\n",
    "$$\n",
    "$$\n",
    "\\eta'(\\zeta,\\eta,\\xi) = \\zeta(\\xi)\n",
    "$$\n",
    "\n",
    "and, if the coordinates are centered in the middle point (as indicated in the figure), the initial conditions are $\\eta(\\xi=0)=\\zeta(\\xi=0)=0$.\n",
    "\n",
    "_Question:_ How do we calculate the value of $\\lambda$?"
   ]
  },
  {
   "cell_type": "code",
   "execution_count": null,
   "id": "8c3bf208-fdd2-490b-a75d-28f575bd019f",
   "metadata": {},
   "outputs": [],
   "source": []
  }
 ],
 "metadata": {
  "kernelspec": {
   "display_name": "Python 3 (ipykernel)",
   "language": "python",
   "name": "python3"
  },
  "language_info": {
   "codemirror_mode": {
    "name": "ipython",
    "version": 3
   },
   "file_extension": ".py",
   "mimetype": "text/x-python",
   "name": "python",
   "nbconvert_exporter": "python",
   "pygments_lexer": "ipython3",
   "version": "3.8.15"
  }
 },
 "nbformat": 4,
 "nbformat_minor": 5
}
