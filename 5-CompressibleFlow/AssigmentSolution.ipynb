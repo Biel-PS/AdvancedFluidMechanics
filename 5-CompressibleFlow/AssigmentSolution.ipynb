{
 "cells": [
  {
   "cell_type": "markdown",
   "id": "christian-oxide",
   "metadata": {},
   "source": [
    "***\n",
    "\n",
    "**ASSIGNMENT**\n",
    "\n",
    "Make a function that computes the shock polar for a given value of $\\Ma_1$ by computing the velocity components behind the OSW, and compare with the value obtained with (23)\n",
    "\n",
    "***"
   ]
  },
  {
   "cell_type": "code",
   "execution_count": null,
   "id": "changed-cleanup",
   "metadata": {},
   "outputs": [],
   "source": []
  }
 ],
 "metadata": {
  "kernelspec": {
   "display_name": "Python 3 (ipykernel)",
   "language": "python",
   "name": "python3"
  },
  "language_info": {
   "codemirror_mode": {
    "name": "ipython",
    "version": 3
   },
   "file_extension": ".py",
   "mimetype": "text/x-python",
   "name": "python",
   "nbconvert_exporter": "python",
   "pygments_lexer": "ipython3",
   "version": "3.8.12"
  }
 },
 "nbformat": 4,
 "nbformat_minor": 5
}
