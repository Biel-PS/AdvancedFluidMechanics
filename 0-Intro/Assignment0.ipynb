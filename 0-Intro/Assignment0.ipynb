{
  "cells": [
    {
      "cell_type": "markdown",
      "metadata": {
        "id": "view-in-github",
        "colab_type": "text"
      },
      "source": [
        "<a href=\"https://colab.research.google.com/github/Biel-PS/AdvancedFluidMechanics/blob/BielPS/0-Intro/Assignment0.ipynb\" target=\"_parent\"><img src=\"https://colab.research.google.com/assets/colab-badge.svg\" alt=\"Open In Colab\"/></a>"
      ]
    },
    {
      "cell_type": "markdown",
      "id": "76c8030b-1f59-413d-836c-c73319301013",
      "metadata": {
        "id": "76c8030b-1f59-413d-836c-c73319301013"
      },
      "source": [
        "# Assignment 0: Conical tank emptying time\n",
        "\n",
        "Let's calculate how long it takes to [empty a conical tank](https://www.youtube.com/watch?v=2jQ1jA8uJuU)\n",
        "\n",
        "The simplification of the continuity equation leads, for a generic $h$, to\n",
        "\n",
        "$$\n",
        "u_1 D_h^2 = u_1 \\left(d + 2h \\tan \\theta \\right)^2 = u_2 d^2 \\tag{1}\n",
        "$$\n",
        "\n",
        "$$\n",
        "\\Rightarrow \\; u_2 = u_1\\left(1 + 2\\frac{h}{d} \\tan \\theta \\right)^2 \\tag{2}\n",
        "$$\n",
        "\n",
        "On the other hand, Bernoulli's equation, considering quasi-steady flow and without viscosity,\n",
        "\n",
        "$$\n",
        "u_1^2 + 2gh = u_2^2 = u_1^2 \\left(1 + 2\\frac{h}{d} \\tan \\theta \\right)^4 \\tag{3}\n",
        "$$\n",
        "\n",
        "$$\n",
        "\\Rightarrow \\; u_1^2 \\left[ \\left(1 + 2\\frac{h}{d} \\tan \\theta \\right)^4 -1 \\right] = 2gh \\tag{4}\n",
        "$$\n",
        "\n",
        "$$\n",
        "\\Rightarrow \\; u_1 = \\left[ \\frac{2gh}{\\left(1 + 2\\frac{h}{d} \\tan \\theta \\right)^4 -1} \\right]^\\frac{1}{2} = -\\frac{\\textrm{d} h}{\\textrm{d} t} \\tag{5}\n",
        "$$\n",
        "\n",
        "$$\n",
        "\\Rightarrow \\; \\boxed{ dt = - \\left[ \\frac{\\left(1 + 2\\frac{h}{d} \\tan \\theta \\right)^4 -1}{2gh}\\right]^\\frac{1} {2} \\textrm{d} h} \\tag{6}\n",
        "$$\n",
        "\n",
        "This can be written dimensionless with a time characteristic $\\tau = \\sqrt{\\frac{d}{2g}}$, a change to dimensionless variable $\\xi = \\frac{h}{d}$, and a parameter $A = 2\\tan \\theta$, becoming\n",
        "\n",
        "$$\n",
        "\\frac{\\textrm{d} t}{\\tau} = - \\left[ \\frac{\\left(1 + A \\xi \\right)^4 -1}{\\xi}\\right]^\\frac{1 }{2} \\textrm{d} \\xi \\tag{7}\n",
        "$$\n",
        "\n",
        "Use sympy to analytically compute this time, making an estimation with  $d \\ll h$ so that it can be supposed that  $\\xi \\gg 1$."
      ]
    },
    {
      "cell_type": "markdown",
      "source": [
        "# **Assigment 0 solution**\n",
        "by Group 1: Tobia Pedrotti, Savely Surnachev, Jinuk Lim and Biel Pujadas"
      ],
      "metadata": {
        "id": "fpUPEj8u6vJy"
      },
      "id": "fpUPEj8u6vJy"
    },
    {
      "cell_type": "markdown",
      "source": [
        "Firstly, the libraries that are going to be used are imported. In this case, the symbolic mathematicas in python library (*sympy*) will be used for the algebraic operations needed to acomplish the solution. The numerical python library (*numpy*) will be used for its methods, more specifically, for the its mathematical operators. Finally, the Mpmath library will be used to solve the problem numerically."
      ],
      "metadata": {
        "id": "XQ7uCOWZ7Zqm"
      },
      "id": "XQ7uCOWZ7Zqm"
    },
    {
      "cell_type": "code",
      "execution_count": 121,
      "id": "00fed288-84ff-432e-8f1e-7c8ca8bf739d",
      "metadata": {
        "id": "00fed288-84ff-432e-8f1e-7c8ca8bf739d"
      },
      "outputs": [],
      "source": [
        "import sympy as sp\n",
        "import mpmath as mp\n",
        "import numpy as np\n",
        "sp.init_printing()"
      ]
    },
    {
      "cell_type": "markdown",
      "source": [
        "Once the libraryes are imported, the symbolical variables that will be used are deffined."
      ],
      "metadata": {
        "id": "vg1C0ZeP8ITJ"
      },
      "id": "vg1C0ZeP8ITJ"
    },
    {
      "cell_type": "code",
      "source": [
        "t, tau, A, xi, xi_i, xi_f, t_i, t_f = sp.symbols('t, tau, A, xi, xi_i, xi_f, t_i, t_f')\n"
      ],
      "metadata": {
        "id": "AwL45thX8OGa"
      },
      "id": "AwL45thX8OGa",
      "execution_count": 122,
      "outputs": []
    },
    {
      "cell_type": "markdown",
      "source": [
        "Note that the parameters t, τ, ξ and A are presented in equation (7). The parameters \"xi_i\" ($ξ_i$) and \"xi_f\" ($ξ_f$) are the initial and final values for the variable $ξ$. Finally, the parameter $t_{end}$ is the time at wich $ξ_f$ is reached.\n",
        "\n",
        "---\n",
        "\n"
      ],
      "metadata": {
        "id": "nfE-ywC78RGy"
      },
      "id": "nfE-ywC78RGy"
    },
    {
      "cell_type": "markdown",
      "source": [
        "Next step is to deffine the expression that is going to be solved. In this case, the adimensional form of the state equation (7) has been choosen.\n"
      ],
      "metadata": {
        "id": "ocFs1m2D_VfY"
      },
      "id": "ocFs1m2D_VfY"
    },
    {
      "cell_type": "code",
      "source": [
        "expr= - (tau*((1+A*xi)**2)/sp.sqrt(xi))\n",
        "\n",
        "display(expr)"
      ],
      "metadata": {
        "id": "imH1Nx23_UQo",
        "outputId": "24cb6d7d-4033-4cfb-bc4e-33c299fb58ad",
        "colab": {
          "base_uri": "https://localhost:8080/",
          "height": 60
        }
      },
      "id": "imH1Nx23_UQo",
      "execution_count": 145,
      "outputs": [
        {
          "output_type": "display_data",
          "data": {
            "text/plain": [
              "            2 \n",
              "-τ⋅(A⋅ξ + 1)  \n",
              "──────────────\n",
              "      √ξ      "
            ],
            "text/latex": "$\\displaystyle - \\frac{\\tau \\left(A \\xi + 1\\right)^{2}}{\\sqrt{\\xi}}$"
          },
          "metadata": {}
        }
      ]
    },
    {
      "cell_type": "markdown",
      "source": [
        "Now the equation is solved by integration. And the analytical expression for the problem is found."
      ],
      "metadata": {
        "id": "FaHwTSt4Acqh"
      },
      "id": "FaHwTSt4Acqh"
    },
    {
      "cell_type": "code",
      "source": [
        "Result = expr.integrate(xi,xi_i,xi_f)\n",
        "Analitical_Expression = sp.Eq(Result,t_f - t_i)\n",
        "display(Analitical_Expression)"
      ],
      "metadata": {
        "id": "eH9nXohjC39x",
        "outputId": "929f6abb-7cc4-44b5-d7f9-2300cf3d58f8",
        "colab": {
          "base_uri": "https://localhost:8080/",
          "height": 321
        }
      },
      "id": "eH9nXohjC39x",
      "execution_count": 149,
      "outputs": [
        {
          "output_type": "error",
          "ename": "ValueError",
          "evalue": "Invalid limits given: (xi, 0, 2)",
          "traceback": [
            "\u001b[0;31m---------------------------------------------------------------------------\u001b[0m",
            "\u001b[0;31mValueError\u001b[0m                                Traceback (most recent call last)",
            "\u001b[0;32m<ipython-input-149-abc929ccc8fa>\u001b[0m in \u001b[0;36m<cell line: 0>\u001b[0;34m()\u001b[0m\n\u001b[0;32m----> 1\u001b[0;31m \u001b[0mResult\u001b[0m \u001b[0;34m=\u001b[0m \u001b[0mexpr\u001b[0m\u001b[0;34m.\u001b[0m\u001b[0mintegrate\u001b[0m\u001b[0;34m(\u001b[0m\u001b[0mxi\u001b[0m\u001b[0;34m,\u001b[0m\u001b[0;36m0\u001b[0m\u001b[0;34m,\u001b[0m\u001b[0;36m2\u001b[0m\u001b[0;34m)\u001b[0m\u001b[0;34m\u001b[0m\u001b[0;34m\u001b[0m\u001b[0m\n\u001b[0m\u001b[1;32m      2\u001b[0m \u001b[0mAnalitical_Expression\u001b[0m \u001b[0;34m=\u001b[0m \u001b[0msp\u001b[0m\u001b[0;34m.\u001b[0m\u001b[0mEq\u001b[0m\u001b[0;34m(\u001b[0m\u001b[0mResult\u001b[0m\u001b[0;34m,\u001b[0m\u001b[0mt_f\u001b[0m \u001b[0;34m-\u001b[0m \u001b[0mt_i\u001b[0m\u001b[0;34m)\u001b[0m\u001b[0;34m\u001b[0m\u001b[0;34m\u001b[0m\u001b[0m\n\u001b[1;32m      3\u001b[0m \u001b[0mdisplay\u001b[0m\u001b[0;34m(\u001b[0m\u001b[0mAnalitical_Expression\u001b[0m\u001b[0;34m)\u001b[0m\u001b[0;34m\u001b[0m\u001b[0;34m\u001b[0m\u001b[0m\n",
            "\u001b[0;32m/usr/local/lib/python3.11/dist-packages/sympy/core/expr.py\u001b[0m in \u001b[0;36mintegrate\u001b[0;34m(self, *args, **kwargs)\u001b[0m\n\u001b[1;32m   3715\u001b[0m         \u001b[0;34m\"\"\"See the integrate function in sympy.integrals\"\"\"\u001b[0m\u001b[0;34m\u001b[0m\u001b[0;34m\u001b[0m\u001b[0m\n\u001b[1;32m   3716\u001b[0m         \u001b[0;32mfrom\u001b[0m \u001b[0msympy\u001b[0m\u001b[0;34m.\u001b[0m\u001b[0mintegrals\u001b[0m\u001b[0;34m.\u001b[0m\u001b[0mintegrals\u001b[0m \u001b[0;32mimport\u001b[0m \u001b[0mintegrate\u001b[0m\u001b[0;34m\u001b[0m\u001b[0;34m\u001b[0m\u001b[0m\n\u001b[0;32m-> 3717\u001b[0;31m         \u001b[0;32mreturn\u001b[0m \u001b[0mintegrate\u001b[0m\u001b[0;34m(\u001b[0m\u001b[0mself\u001b[0m\u001b[0;34m,\u001b[0m \u001b[0;34m*\u001b[0m\u001b[0margs\u001b[0m\u001b[0;34m,\u001b[0m \u001b[0;34m**\u001b[0m\u001b[0mkwargs\u001b[0m\u001b[0;34m)\u001b[0m\u001b[0;34m\u001b[0m\u001b[0;34m\u001b[0m\u001b[0m\n\u001b[0m\u001b[1;32m   3718\u001b[0m \u001b[0;34m\u001b[0m\u001b[0m\n\u001b[1;32m   3719\u001b[0m     \u001b[0;32mdef\u001b[0m \u001b[0mnsimplify\u001b[0m\u001b[0;34m(\u001b[0m\u001b[0mself\u001b[0m\u001b[0;34m,\u001b[0m \u001b[0mconstants\u001b[0m\u001b[0;34m=\u001b[0m\u001b[0;34m(\u001b[0m\u001b[0;34m)\u001b[0m\u001b[0;34m,\u001b[0m \u001b[0mtolerance\u001b[0m\u001b[0;34m=\u001b[0m\u001b[0;32mNone\u001b[0m\u001b[0;34m,\u001b[0m \u001b[0mfull\u001b[0m\u001b[0;34m=\u001b[0m\u001b[0;32mFalse\u001b[0m\u001b[0;34m)\u001b[0m\u001b[0;34m:\u001b[0m\u001b[0;34m\u001b[0m\u001b[0;34m\u001b[0m\u001b[0m\n",
            "\u001b[0;32m/usr/local/lib/python3.11/dist-packages/sympy/integrals/integrals.py\u001b[0m in \u001b[0;36mintegrate\u001b[0;34m(meijerg, conds, risch, heurisch, manual, *args, **kwargs)\u001b[0m\n\u001b[1;32m   1569\u001b[0m         \u001b[0;34m'manual'\u001b[0m\u001b[0;34m:\u001b[0m \u001b[0mmanual\u001b[0m\u001b[0;34m\u001b[0m\u001b[0;34m\u001b[0m\u001b[0m\n\u001b[1;32m   1570\u001b[0m         }\n\u001b[0;32m-> 1571\u001b[0;31m     \u001b[0mintegral\u001b[0m \u001b[0;34m=\u001b[0m \u001b[0mIntegral\u001b[0m\u001b[0;34m(\u001b[0m\u001b[0;34m*\u001b[0m\u001b[0margs\u001b[0m\u001b[0;34m,\u001b[0m \u001b[0;34m**\u001b[0m\u001b[0mkwargs\u001b[0m\u001b[0;34m)\u001b[0m\u001b[0;34m\u001b[0m\u001b[0;34m\u001b[0m\u001b[0m\n\u001b[0m\u001b[1;32m   1572\u001b[0m \u001b[0;34m\u001b[0m\u001b[0m\n\u001b[1;32m   1573\u001b[0m     \u001b[0;32mif\u001b[0m \u001b[0misinstance\u001b[0m\u001b[0;34m(\u001b[0m\u001b[0mintegral\u001b[0m\u001b[0;34m,\u001b[0m \u001b[0mIntegral\u001b[0m\u001b[0;34m)\u001b[0m\u001b[0;34m:\u001b[0m\u001b[0;34m\u001b[0m\u001b[0;34m\u001b[0m\u001b[0m\n",
            "\u001b[0;32m/usr/local/lib/python3.11/dist-packages/sympy/integrals/integrals.py\u001b[0m in \u001b[0;36m__new__\u001b[0;34m(cls, function, *symbols, **assumptions)\u001b[0m\n\u001b[1;32m     95\u001b[0m                 active_deprecations_target=\"deprecated-integrate-poly\")\n\u001b[1;32m     96\u001b[0m \u001b[0;34m\u001b[0m\u001b[0m\n\u001b[0;32m---> 97\u001b[0;31m         \u001b[0mobj\u001b[0m \u001b[0;34m=\u001b[0m \u001b[0mAddWithLimits\u001b[0m\u001b[0;34m.\u001b[0m\u001b[0m__new__\u001b[0m\u001b[0;34m(\u001b[0m\u001b[0mcls\u001b[0m\u001b[0;34m,\u001b[0m \u001b[0mfunction\u001b[0m\u001b[0;34m,\u001b[0m \u001b[0;34m*\u001b[0m\u001b[0msymbols\u001b[0m\u001b[0;34m,\u001b[0m \u001b[0;34m**\u001b[0m\u001b[0massumptions\u001b[0m\u001b[0;34m)\u001b[0m\u001b[0;34m\u001b[0m\u001b[0;34m\u001b[0m\u001b[0m\n\u001b[0m\u001b[1;32m     98\u001b[0m         \u001b[0;32mreturn\u001b[0m \u001b[0mobj\u001b[0m\u001b[0;34m\u001b[0m\u001b[0;34m\u001b[0m\u001b[0m\n\u001b[1;32m     99\u001b[0m \u001b[0;34m\u001b[0m\u001b[0m\n",
            "\u001b[0;32m/usr/local/lib/python3.11/dist-packages/sympy/concrete/expr_with_limits.py\u001b[0m in \u001b[0;36m__new__\u001b[0;34m(cls, function, *symbols, **assumptions)\u001b[0m\n\u001b[1;32m    545\u001b[0m     \u001b[0;32mdef\u001b[0m \u001b[0m__new__\u001b[0m\u001b[0;34m(\u001b[0m\u001b[0mcls\u001b[0m\u001b[0;34m,\u001b[0m \u001b[0mfunction\u001b[0m\u001b[0;34m,\u001b[0m \u001b[0;34m*\u001b[0m\u001b[0msymbols\u001b[0m\u001b[0;34m,\u001b[0m \u001b[0;34m**\u001b[0m\u001b[0massumptions\u001b[0m\u001b[0;34m)\u001b[0m\u001b[0;34m:\u001b[0m\u001b[0;34m\u001b[0m\u001b[0;34m\u001b[0m\u001b[0m\n\u001b[1;32m    546\u001b[0m         \u001b[0;32mfrom\u001b[0m \u001b[0msympy\u001b[0m\u001b[0;34m.\u001b[0m\u001b[0mconcrete\u001b[0m\u001b[0;34m.\u001b[0m\u001b[0msummations\u001b[0m \u001b[0;32mimport\u001b[0m \u001b[0mSum\u001b[0m\u001b[0;34m\u001b[0m\u001b[0;34m\u001b[0m\u001b[0m\n\u001b[0;32m--> 547\u001b[0;31m         pre = _common_new(cls, function, *symbols,\n\u001b[0m\u001b[1;32m    548\u001b[0m             discrete=issubclass(cls, Sum), **assumptions)\n\u001b[1;32m    549\u001b[0m         \u001b[0;32mif\u001b[0m \u001b[0misinstance\u001b[0m\u001b[0;34m(\u001b[0m\u001b[0mpre\u001b[0m\u001b[0;34m,\u001b[0m \u001b[0mtuple\u001b[0m\u001b[0;34m)\u001b[0m\u001b[0;34m:\u001b[0m\u001b[0;34m\u001b[0m\u001b[0;34m\u001b[0m\u001b[0m\n",
            "\u001b[0;32m/usr/local/lib/python3.11/dist-packages/sympy/concrete/expr_with_limits.py\u001b[0m in \u001b[0;36m_common_new\u001b[0;34m(cls, function, discrete, *symbols, **assumptions)\u001b[0m\n\u001b[1;32m     55\u001b[0m \u001b[0;34m\u001b[0m\u001b[0m\n\u001b[1;32m     56\u001b[0m     \u001b[0;32mif\u001b[0m \u001b[0msymbols\u001b[0m\u001b[0;34m:\u001b[0m\u001b[0;34m\u001b[0m\u001b[0;34m\u001b[0m\u001b[0m\n\u001b[0;32m---> 57\u001b[0;31m         \u001b[0mlimits\u001b[0m\u001b[0;34m,\u001b[0m \u001b[0morientation\u001b[0m \u001b[0;34m=\u001b[0m \u001b[0m_process_limits\u001b[0m\u001b[0;34m(\u001b[0m\u001b[0;34m*\u001b[0m\u001b[0msymbols\u001b[0m\u001b[0;34m,\u001b[0m \u001b[0mdiscrete\u001b[0m\u001b[0;34m=\u001b[0m\u001b[0mdiscrete\u001b[0m\u001b[0;34m)\u001b[0m\u001b[0;34m\u001b[0m\u001b[0;34m\u001b[0m\u001b[0m\n\u001b[0m\u001b[1;32m     58\u001b[0m         \u001b[0;32mfor\u001b[0m \u001b[0mi\u001b[0m\u001b[0;34m,\u001b[0m \u001b[0mli\u001b[0m \u001b[0;32min\u001b[0m \u001b[0menumerate\u001b[0m\u001b[0;34m(\u001b[0m\u001b[0mlimits\u001b[0m\u001b[0;34m)\u001b[0m\u001b[0;34m:\u001b[0m\u001b[0;34m\u001b[0m\u001b[0;34m\u001b[0m\u001b[0m\n\u001b[1;32m     59\u001b[0m             \u001b[0;32mif\u001b[0m \u001b[0mlen\u001b[0m\u001b[0;34m(\u001b[0m\u001b[0mli\u001b[0m\u001b[0;34m)\u001b[0m \u001b[0;34m==\u001b[0m \u001b[0;36m4\u001b[0m\u001b[0;34m:\u001b[0m\u001b[0;34m\u001b[0m\u001b[0;34m\u001b[0m\u001b[0m\n",
            "\u001b[0;32m/usr/local/lib/python3.11/dist-packages/sympy/concrete/expr_with_limits.py\u001b[0m in \u001b[0;36m_process_limits\u001b[0;34m(discrete, *symbols)\u001b[0m\n\u001b[1;32m    192\u001b[0m                         \u001b[0;32mcontinue\u001b[0m\u001b[0;34m\u001b[0m\u001b[0;34m\u001b[0m\u001b[0m\n\u001b[1;32m    193\u001b[0m \u001b[0;34m\u001b[0m\u001b[0m\n\u001b[0;32m--> 194\u001b[0;31m         \u001b[0;32mraise\u001b[0m \u001b[0mValueError\u001b[0m\u001b[0;34m(\u001b[0m\u001b[0;34m'Invalid limits given: %s'\u001b[0m \u001b[0;34m%\u001b[0m \u001b[0mstr\u001b[0m\u001b[0;34m(\u001b[0m\u001b[0msymbols\u001b[0m\u001b[0;34m)\u001b[0m\u001b[0;34m)\u001b[0m\u001b[0;34m\u001b[0m\u001b[0;34m\u001b[0m\u001b[0m\n\u001b[0m\u001b[1;32m    195\u001b[0m \u001b[0;34m\u001b[0m\u001b[0m\n\u001b[1;32m    196\u001b[0m     \u001b[0;32mreturn\u001b[0m \u001b[0mlimits\u001b[0m\u001b[0;34m,\u001b[0m \u001b[0morientation\u001b[0m\u001b[0;34m\u001b[0m\u001b[0;34m\u001b[0m\u001b[0m\n",
            "\u001b[0;31mValueError\u001b[0m: Invalid limits given: (xi, 0, 2)"
          ]
        }
      ]
    },
    {
      "cell_type": "markdown",
      "source": [
        "Now, the problem will be solved numerically."
      ],
      "metadata": {
        "id": "Wb6n6X1-Iopa"
      },
      "id": "Wb6n6X1-Iopa"
    },
    {
      "cell_type": "markdown",
      "source": [
        "First numericall values for the different variables are assigned"
      ],
      "metadata": {
        "id": "NFnc_dfPK9-Q"
      },
      "id": "NFnc_dfPK9-Q"
    },
    {
      "cell_type": "code",
      "source": [
        "theta = 20*np.pi/180\n",
        "AVal = 2*np.tan(theta)\n",
        "d = 0.01\n",
        "g = 9.81\n",
        "tauVal = np.sqrt(d/(2*g))\n",
        "\n",
        "xi_iVal = 0.2\n",
        "xi_fVal = 0"
      ],
      "metadata": {
        "id": "onqvJnPELBhW"
      },
      "id": "onqvJnPELBhW",
      "execution_count": 125,
      "outputs": []
    },
    {
      "cell_type": "markdown",
      "source": [
        "Then the values are subsituyed in the expressión\n"
      ],
      "metadata": {
        "id": "v1AYgBshLqD2"
      },
      "id": "v1AYgBshLqD2"
    },
    {
      "cell_type": "code",
      "source": [
        "changes = {tau:tauVal,A:AVal}\n",
        "expNum = sp.lambdify(xi,expr.subs(changes))\n",
        "display(expNum)"
      ],
      "metadata": {
        "id": "lBwAj_zRLwK7",
        "outputId": "dab07e90-0ac9-483d-ad83-1e55725ca201",
        "colab": {
          "base_uri": "https://localhost:8080/",
          "height": 34
        }
      },
      "id": "lBwAj_zRLwK7",
      "execution_count": 126,
      "outputs": [
        {
          "output_type": "display_data",
          "data": {
            "text/plain": [
              "<function _lambdifygenerated(xi)>"
            ]
          },
          "metadata": {}
        }
      ]
    },
    {
      "cell_type": "markdown",
      "source": [
        "Then the equation is solved using Mpmath method *mp.quad* wich integrates the function using a type of Gaussian quadrature."
      ],
      "metadata": {
        "id": "lwK7No-BLDs_"
      },
      "id": "lwK7No-BLDs_"
    },
    {
      "cell_type": "code",
      "source": [
        "mp.dps = 15 # decimal precision.\n",
        "NumResult = (mp.quad(expNum , [xi_iVal, xi_fVal]))\n",
        "print(NumResult)"
      ],
      "metadata": {
        "id": "TDKmjD-sEafA",
        "outputId": "2f236d22-85bb-4496-893e-101c8a3b7579",
        "colab": {
          "base_uri": "https://localhost:8080/"
        }
      },
      "id": "TDKmjD-sEafA",
      "execution_count": 127,
      "outputs": [
        {
          "output_type": "stream",
          "name": "stdout",
          "text": [
            "0.0222382345258811\n"
          ]
        }
      ]
    },
    {
      "cell_type": "markdown",
      "source": [
        "We can compare the results by substituing the values in the analytically found expresion. If the procedure has been correctly done, the results should be equal.\n"
      ],
      "metadata": {
        "id": "69KrYqu3ON9H"
      },
      "id": "69KrYqu3ON9H"
    },
    {
      "cell_type": "code",
      "source": [
        "theta = 20*np.pi/180\n",
        "AVal = 2*np.tan(theta)\n",
        "d = 0.01\n",
        "g = 9.81\n",
        "tauVal = np.sqrt(d/(2*g))\n",
        "\n",
        "xi_iVal = 0.2\n",
        "xi_fVal = 0\n",
        "Changes_To_analitical = {tau:tauVal,A:AVal,xi_i:xi_iVal,xi_f:xi_fVal,t_i:0}\n",
        "display(Analitical_Expression.subs(Changes_To_analitical))"
      ],
      "metadata": {
        "id": "f-OU4QFpOeKf",
        "outputId": "b997c399-db9d-4dc8-8218-78d3cb4f4fe9",
        "colab": {
          "base_uri": "https://localhost:8080/",
          "height": 38
        }
      },
      "id": "f-OU4QFpOeKf",
      "execution_count": 128,
      "outputs": [
        {
          "output_type": "display_data",
          "data": {
            "text/plain": [
              "0 = t_f"
            ],
            "text/latex": "$\\displaystyle 0 = t_{f}$"
          },
          "metadata": {}
        }
      ]
    }
  ],
  "metadata": {
    "colab": {
      "provenance": [],
      "include_colab_link": true
    },
    "kernelspec": {
      "display_name": "Python 3",
      "language": "python",
      "name": "python3"
    },
    "language_info": {
      "codemirror_mode": {
        "name": "ipython",
        "version": 3
      },
      "file_extension": ".py",
      "mimetype": "text/x-python",
      "name": "python",
      "nbconvert_exporter": "python",
      "pygments_lexer": "ipython3",
      "version": "3.12.9"
    }
  },
  "nbformat": 4,
  "nbformat_minor": 5
}