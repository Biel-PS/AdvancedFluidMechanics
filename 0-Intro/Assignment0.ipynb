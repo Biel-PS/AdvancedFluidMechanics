{
  "cells": [
    {
      "cell_type": "markdown",
      "metadata": {
        "id": "view-in-github",
        "colab_type": "text"
      },
      "source": [
        "<a href=\"https://colab.research.google.com/github/Biel-PS/AdvancedFluidMechanics/blob/main/0-Intro/Assignment0.ipynb\" target=\"_parent\"><img src=\"https://colab.research.google.com/assets/colab-badge.svg\" alt=\"Open In Colab\"/></a>"
      ]
    },
    {
      "cell_type": "markdown",
      "id": "76c8030b-1f59-413d-836c-c73319301013",
      "metadata": {
        "id": "76c8030b-1f59-413d-836c-c73319301013"
      },
      "source": [
        "# Assignment 0: Conical tank emptying time\n",
        "\n",
        "Let's calculate how long it takes to [empty a conical tank](https://www.youtube.com/watch?v=2jQ1jA8uJuU)\n",
        "\n",
        "The simplification of the continuity equation leads, for a generic $h$, to\n",
        "\n",
        "$$\n",
        "u_1 D_h^2 = u_1 \\left(d + 2h \\tan \\theta \\right)^2 = u_2 d^2 \\tag{1}\n",
        "$$\n",
        "\n",
        "$$\n",
        "\\Rightarrow \\; u_2 = u_1\\left(1 + 2\\frac{h}{d} \\tan \\theta \\right)^2 \\tag{2}\n",
        "$$\n",
        "\n",
        "On the other hand, Bernoulli's equation, considering quasi-steady flow and without viscosity,\n",
        "\n",
        "$$\n",
        "u_1^2 + 2gh = u_2^2 = u_1^2 \\left(1 + 2\\frac{h}{d} \\tan \\theta \\right)^4 \\tag{3}\n",
        "$$\n",
        "\n",
        "$$\n",
        "\\Rightarrow \\; u_1^2 \\left[ \\left(1 + 2\\frac{h}{d} \\tan \\theta \\right)^4 -1 \\right] = 2gh \\tag{4}\n",
        "$$\n",
        "\n",
        "$$\n",
        "\\Rightarrow \\; u_1 = \\left[ \\frac{2gh}{\\left(1 + 2\\frac{h}{d} \\tan \\theta \\right)^4 -1} \\right]^\\frac{1}{2} = -\\frac{\\textrm{d} h}{\\textrm{d} t} \\tag{5}\n",
        "$$\n",
        "\n",
        "$$\n",
        "\\Rightarrow \\; \\boxed{ dt = - \\left[ \\frac{\\left(1 + 2\\frac{h}{d} \\tan \\theta \\right)^4 -1}{2gh}\\right]^\\frac{1} {2} \\textrm{d} h} \\tag{6}\n",
        "$$\n",
        "\n",
        "This can be written dimensionless with a time characteristic $\\tau = \\sqrt{\\frac{d}{2g}}$, a change to dimensionless variable $\\xi = \\frac{h}{d}$, and a parameter $A = 2\\tan \\theta$, becoming\n",
        "\n",
        "$$\n",
        "\\frac{\\textrm{d} t}{\\tau} = - \\left[ \\frac{\\left(1 + A \\xi \\right)^4 -1}{\\xi}\\right]^\\frac{1 }{2} \\textrm{d} \\xi \\tag{7}\n",
        "$$\n",
        "\n",
        "Use sympy to analytically compute this time, making an estimation with  $d \\ll h$ so that it can be supposed that  $\\xi \\gg 1$."
      ]
    },
    {
      "cell_type": "code",
      "execution_count": 4,
      "id": "00fed288-84ff-432e-8f1e-7c8ca8bf739d",
      "metadata": {
        "id": "00fed288-84ff-432e-8f1e-7c8ca8bf739d",
        "colab": {
          "base_uri": "https://localhost:8080/",
          "height": 63
        },
        "outputId": "82a27ce9-d6c7-43e0-933b-98cbee7f3fd1"
      },
      "outputs": [
        {
          "output_type": "display_data",
          "data": {
            "text/plain": [
              "     2          5/2      2         5/2                3/2               3/2                        ↪\n",
              "  2⋅A ⋅ξ_{final}      2⋅A ⋅ξ_{init}      4⋅A⋅ξ_{final}      4⋅A⋅ξ_{init}          ___________      ↪\n",
              "- ───────────────── + ──────────────── - ──────────────── + ─────────────── - 2⋅╲╱ ξ_{final}  + 2⋅ ↪\n",
              "          5                  5                  3                  3                               ↪\n",
              "\n",
              "↪             \n",
              "↪   __________\n",
              "↪ ╲╱ ξ_{init} \n",
              "↪             "
            ],
            "text/latex": "$\\displaystyle - \\frac{2 A^{2} xi_{final}^{\\frac{5}{2}}}{5} + \\frac{2 A^{2} xi_{init}^{\\frac{5}{2}}}{5} - \\frac{4 A xi_{final}^{\\frac{3}{2}}}{3} + \\frac{4 A xi_{init}^{\\frac{3}{2}}}{3} - 2 \\sqrt{xi_{final}} + 2 \\sqrt{xi_{init}}$"
          },
          "metadata": {}
        }
      ],
      "source": [
        "import sympy as sp\n",
        "sp.init_printing()\n",
        "\n",
        "t,tau,xi,A,xi_init,xi_final = sp.symbols('t, tau, xi, A, xi_i, xi_f')\n",
        "\n",
        "\n",
        "\n",
        "expr = - ((1+A*xi)**2)/sp.sqrt(xi)\n",
        "Result = expr.integrate((xi,xi_init,xi_final));\n",
        "\n",
        "display(Result)\n",
        "\n",
        "#lamdify in order to make a funciton\n",
        "#put some values in order to compare\n",
        "\n",
        "#Values: d = 0.01 g=9.81 Xi_init = 0.2, xi_final = 0, theta = 20º\n",
        "# try numerical with mpmath\n",
        "\n"
      ]
    }
  ],
  "metadata": {
    "kernelspec": {
      "display_name": "Python 3 (ipykernel)",
      "language": "python",
      "name": "python3"
    },
    "language_info": {
      "codemirror_mode": {
        "name": "ipython",
        "version": 3
      },
      "file_extension": ".py",
      "mimetype": "text/x-python",
      "name": "python",
      "nbconvert_exporter": "python",
      "pygments_lexer": "ipython3",
      "version": "3.8.15"
    },
    "colab": {
      "provenance": [],
      "include_colab_link": true
    }
  },
  "nbformat": 4,
  "nbformat_minor": 5
}