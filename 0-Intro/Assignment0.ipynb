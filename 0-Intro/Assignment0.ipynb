{
  "cells": [
    {
      "cell_type": "markdown",
      "metadata": {
        "id": "view-in-github",
        "colab_type": "text"
      },
      "source": [
        "<a href=\"https://colab.research.google.com/github/Biel-PS/AdvancedFluidMechanics/blob/main/0-Intro/Assignment0.ipynb\" target=\"_parent\"><img src=\"https://colab.research.google.com/assets/colab-badge.svg\" alt=\"Open In Colab\"/></a>"
      ]
    },
    {
      "cell_type": "markdown",
      "id": "76c8030b-1f59-413d-836c-c73319301013",
      "metadata": {
        "id": "76c8030b-1f59-413d-836c-c73319301013"
      },
      "source": [
        "# Assignment 0: Conical tank emptying time\n",
        "\n",
        "Let's calculate how long it takes to [empty a conical tank](https://www.youtube.com/watch?v=2jQ1jA8uJuU)\n",
        "\n",
        "The simplification of the continuity equation leads, for a generic $h$, to\n",
        "\n",
        "$$\n",
        "u_1 D_h^2 = u_1 \\left(d + 2h \\tan \\theta \\right)^2 = u_2 d^2 \\tag{1}\n",
        "$$\n",
        "\n",
        "$$\n",
        "\\Rightarrow \\; u_2 = u_1\\left(1 + 2\\frac{h}{d} \\tan \\theta \\right)^2 \\tag{2}\n",
        "$$\n",
        "\n",
        "On the other hand, Bernoulli's equation, considering quasi-steady flow and without viscosity,\n",
        "\n",
        "$$\n",
        "u_1^2 + 2gh = u_2^2 = u_1^2 \\left(1 + 2\\frac{h}{d} \\tan \\theta \\right)^4 \\tag{3}\n",
        "$$\n",
        "\n",
        "$$\n",
        "\\Rightarrow \\; u_1^2 \\left[ \\left(1 + 2\\frac{h}{d} \\tan \\theta \\right)^4 -1 \\right] = 2gh \\tag{4}\n",
        "$$\n",
        "\n",
        "$$\n",
        "\\Rightarrow \\; u_1 = \\left[ \\frac{2gh}{\\left(1 + 2\\frac{h}{d} \\tan \\theta \\right)^4 -1} \\right]^\\frac{1}{2} = -\\frac{\\textrm{d} h}{\\textrm{d} t} \\tag{5}\n",
        "$$\n",
        "\n",
        "$$\n",
        "\\Rightarrow \\; \\boxed{ dt = - \\left[ \\frac{\\left(1 + 2\\frac{h}{d} \\tan \\theta \\right)^4 -1}{2gh}\\right]^\\frac{1} {2} \\textrm{d} h} \\tag{6}\n",
        "$$\n",
        "\n",
        "This can be written dimensionless with a time characteristic $\\tau = \\sqrt{\\frac{d}{2g}}$, a change to dimensionless variable $\\xi = \\frac{h}{d}$, and a parameter $A = 2\\tan \\theta$, becoming\n",
        "\n",
        "$$\n",
        "\\frac{\\textrm{d} t}{\\tau} = - \\left[ \\frac{\\left(1 + A \\xi \\right)^4 -1}{\\xi}\\right]^\\frac{1 }{2} \\textrm{d} \\xi \\tag{7}\n",
        "$$\n",
        "\n",
        "Use sympy to analytically compute this time, making an estimation with  $d \\ll h$ so that it can be supposed that  $\\xi \\gg 1$."
      ]
    },
    {
      "cell_type": "markdown",
      "source": [
        "# **Assigment 0 solution**\n",
        "by Group 1: Tobia Pedrotti, Savely Surnachev, Jinuk Lim and Biel Pujadas"
      ],
      "metadata": {
        "id": "fpUPEj8u6vJy"
      },
      "id": "fpUPEj8u6vJy"
    },
    {
      "cell_type": "markdown",
      "source": [
        "Firstly, the libraries that are going to be used are imported. In this case, the symbolic mathematics in python library (*sympy*) will be used for the algebraic operations, and solvers needed to accomplish the solution. The numerical python library (*numpy*) will be used for its methods, more specifically, for its mathematical operators. Finally, the Mpmath library will be used to solve the problem numerically."
      ],
      "metadata": {
        "id": "XQ7uCOWZ7Zqm"
      },
      "id": "XQ7uCOWZ7Zqm"
    },
    {
      "cell_type": "code",
      "execution_count": 160,
      "id": "00fed288-84ff-432e-8f1e-7c8ca8bf739d",
      "metadata": {
        "id": "00fed288-84ff-432e-8f1e-7c8ca8bf739d"
      },
      "outputs": [],
      "source": [
        "import sympy as sp\n",
        "import mpmath as mp\n",
        "import numpy as np\n",
        "sp.init_printing()"
      ]
    },
    {
      "cell_type": "markdown",
      "source": [
        "Once the libraries are imported, the symbolical variables that will be used are defined."
      ],
      "metadata": {
        "id": "vg1C0ZeP8ITJ"
      },
      "id": "vg1C0ZeP8ITJ"
    },
    {
      "cell_type": "code",
      "source": [
        "t, tau, A, xi, xi_i, xi_f, t_i, t_f = sp.symbols('t, tau, A, xi, xi_i, xi_f, t_i, t_f')\n",
        "\n"
      ],
      "metadata": {
        "id": "AwL45thX8OGa"
      },
      "id": "AwL45thX8OGa",
      "execution_count": 161,
      "outputs": []
    },
    {
      "cell_type": "markdown",
      "source": [
        "Note that the parameters t, τ, ξ and A are presented in equation (7). The parameters \"xi_i\" ($ξ_i$) and \"xi_f\" ($ξ_f$) are the initial and final values for the variable $ξ$. Finally, the parameter $t_{f}$ is the time at which $ξ_f$ is reached.\n",
        "\n",
        "---\n",
        "\n"
      ],
      "metadata": {
        "id": "nfE-ywC78RGy"
      },
      "id": "nfE-ywC78RGy"
    },
    {
      "cell_type": "markdown",
      "source": [
        "Next step is to define the expression that is going to be solved. In this case, the adimensional form of the state equation (7) has been chosen.\n"
      ],
      "metadata": {
        "id": "ocFs1m2D_VfY"
      },
      "id": "ocFs1m2D_VfY"
    },
    {
      "cell_type": "code",
      "source": [
        "expr= - (tau*((1+A*xi)**2)/sp.sqrt(xi))\n",
        "display(expr)"
      ],
      "metadata": {
        "colab": {
          "base_uri": "https://localhost:8080/",
          "height": 60
        },
        "id": "imH1Nx23_UQo",
        "outputId": "dffe8639-e545-40ad-dc09-6fc5feda85e4"
      },
      "id": "imH1Nx23_UQo",
      "execution_count": 169,
      "outputs": [
        {
          "output_type": "display_data",
          "data": {
            "text/plain": [
              "            2 \n",
              "-τ⋅(A⋅ξ + 1)  \n",
              "──────────────\n",
              "      √ξ      "
            ],
            "text/latex": "$\\displaystyle - \\frac{\\tau \\left(A \\xi + 1\\right)^{2}}{\\sqrt{\\xi}}$"
          },
          "metadata": {}
        }
      ]
    },
    {
      "cell_type": "markdown",
      "source": [
        "Now the equation is solved by integration. And the analytical expression of the problem is found."
      ],
      "metadata": {
        "id": "FaHwTSt4Acqh"
      },
      "id": "FaHwTSt4Acqh"
    },
    {
      "cell_type": "code",
      "source": [
        "Result = sp.integrate(expr,(xi,xi_i,xi_f))\n",
        "Analitical_Expression = sp.Eq(Result,t_f - t_i)\n",
        "display(Analitical_Expression)"
      ],
      "metadata": {
        "colab": {
          "base_uri": "https://localhost:8080/",
          "height": 78
        },
        "id": "eH9nXohjC39x",
        "outputId": "7a88ef31-133b-473f-ef9a-c5f486967cf4"
      },
      "id": "eH9nXohjC39x",
      "execution_count": 170,
      "outputs": [
        {
          "output_type": "display_data",
          "data": {
            "text/plain": [
              "    ⎛   2    5/2          3/2            ⎞     ⎛   2   5/2         3/2           ⎞           \n",
              "    ⎜2⋅A ⋅ξ_f      4⋅A⋅ξ_f          _____⎟     ⎜2⋅A ⋅ξᵢ      4⋅A⋅ξᵢ          ____⎟           \n",
              "- τ⋅⎜─────────── + ────────── + 2⋅╲╱ ξ_f ⎟ + τ⋅⎜────────── + ───────── + 2⋅╲╱ ξᵢ ⎟ = t_f - tᵢ\n",
              "    ⎝     5            3                 ⎠     ⎝    5            3               ⎠           "
            ],
            "text/latex": "$\\displaystyle - \\tau \\left(\\frac{2 A^{2} \\xi_{f}^{\\frac{5}{2}}}{5} + \\frac{4 A \\xi_{f}^{\\frac{3}{2}}}{3} + 2 \\sqrt{\\xi_{f}}\\right) + \\tau \\left(\\frac{2 A^{2} \\xi_{i}^{\\frac{5}{2}}}{5} + \\frac{4 A \\xi_{i}^{\\frac{3}{2}}}{3} + 2 \\sqrt{\\xi_{i}}\\right) = t_{f} - t_{i}$"
          },
          "metadata": {}
        }
      ]
    },
    {
      "cell_type": "markdown",
      "source": [
        "Now, the problem will be solved numerically."
      ],
      "metadata": {
        "id": "Wb6n6X1-Iopa"
      },
      "id": "Wb6n6X1-Iopa"
    },
    {
      "cell_type": "markdown",
      "source": [
        "First numerical values for the different variables are assigned"
      ],
      "metadata": {
        "id": "NFnc_dfPK9-Q"
      },
      "id": "NFnc_dfPK9-Q"
    },
    {
      "cell_type": "code",
      "source": [
        "theta = 20*np.pi/180\n",
        "AVal = 2*np.tan(theta)\n",
        "d = 0.01\n",
        "g = 9.81\n",
        "tauVal = np.sqrt(d/(2*g))\n",
        "\n",
        "xi_iVal = 0.2\n",
        "xi_fVal = 0"
      ],
      "metadata": {
        "id": "onqvJnPELBhW"
      },
      "id": "onqvJnPELBhW",
      "execution_count": 125,
      "outputs": []
    },
    {
      "cell_type": "markdown",
      "source": [
        "Then the values are substituted in the expression\n"
      ],
      "metadata": {
        "id": "v1AYgBshLqD2"
      },
      "id": "v1AYgBshLqD2"
    },
    {
      "cell_type": "code",
      "source": [
        "changes = {tau:tauVal,A:AVal}\n",
        "expNum = sp.lambdify(xi,expr.subs(changes))\n",
        "display(expNum)"
      ],
      "metadata": {
        "colab": {
          "base_uri": "https://localhost:8080/",
          "height": 34
        },
        "id": "lBwAj_zRLwK7",
        "outputId": "dab07e90-0ac9-483d-ad83-1e55725ca201"
      },
      "id": "lBwAj_zRLwK7",
      "execution_count": 126,
      "outputs": [
        {
          "output_type": "display_data",
          "data": {
            "text/plain": [
              "<function _lambdifygenerated(xi)>"
            ]
          },
          "metadata": {}
        }
      ]
    },
    {
      "cell_type": "markdown",
      "source": [
        "Then the equation is solved using Mpmath method *mp. quad* which integrates the function using a type of Gaussian quadrature."
      ],
      "metadata": {
        "id": "lwK7No-BLDs_"
      },
      "id": "lwK7No-BLDs_"
    },
    {
      "cell_type": "code",
      "source": [
        "mp.dps = 15 # decimal precision.\n",
        "NumResult = (mp.quad(expNum , [xi_iVal, xi_fVal]))\n",
        "print(NumResult)"
      ],
      "metadata": {
        "colab": {
          "base_uri": "https://localhost:8080/"
        },
        "id": "TDKmjD-sEafA",
        "outputId": "2f236d22-85bb-4496-893e-101c8a3b7579"
      },
      "id": "TDKmjD-sEafA",
      "execution_count": 127,
      "outputs": [
        {
          "output_type": "stream",
          "name": "stdout",
          "text": [
            "0.0222382345258811\n"
          ]
        }
      ]
    },
    {
      "cell_type": "markdown",
      "source": [
        "The results can be compared by replacing the values in the analytically found expression. If the procedure has been correctly done, the results should be equal.\n"
      ],
      "metadata": {
        "id": "69KrYqu3ON9H"
      },
      "id": "69KrYqu3ON9H"
    },
    {
      "cell_type": "code",
      "source": [
        "theta = 20*np.pi/180\n",
        "AVal = 2*np.tan(theta)\n",
        "d = 0.01\n",
        "g = 9.81\n",
        "tauVal = np.sqrt(d/(2*g))\n",
        "\n",
        "xi_iVal = 0.2\n",
        "xi_fVal = 0\n",
        "Changes_To_analitical = {tau:tauVal,A:AVal,xi_i:xi_iVal,xi_f:xi_fVal,t_i:0}\n",
        "AnalyticalResult = Analitical_Expression.subs(Changes_To_analitical)\n",
        "display(AnalyticalResult)"
      ],
      "metadata": {
        "colab": {
          "base_uri": "https://localhost:8080/",
          "height": 38
        },
        "id": "f-OU4QFpOeKf",
        "outputId": "4c8885f0-dc4a-46e3-b2f2-b5baff7d6b84"
      },
      "id": "f-OU4QFpOeKf",
      "execution_count": 172,
      "outputs": [
        {
          "output_type": "display_data",
          "data": {
            "text/plain": [
              "0.0222382345312374 = t_f"
            ],
            "text/latex": "$\\displaystyle 0.0222382345312374 = t_{f}$"
          },
          "metadata": {}
        }
      ]
    },
    {
      "cell_type": "markdown",
      "source": [
        "If the difference between the results is done, it should be expected a value very close to 0. This value can be used to measure the error between results."
      ],
      "metadata": {
        "id": "IOWGH4MFRsk2"
      },
      "id": "IOWGH4MFRsk2"
    },
    {
      "cell_type": "code",
      "source": [
        "Error = AnalyticalResult.lhs - NumResult\n",
        "display (Error)"
      ],
      "metadata": {
        "colab": {
          "base_uri": "https://localhost:8080/",
          "height": 37
        },
        "id": "O2ulEoj7R6w3",
        "outputId": "6531d560-d663-4f70-dad7-393b029ee9c1"
      },
      "id": "O2ulEoj7R6w3",
      "execution_count": 175,
      "outputs": [
        {
          "output_type": "display_data",
          "data": {
            "text/plain": [
              "5.35625710451626e-12"
            ],
            "text/latex": "$\\displaystyle 5.35625710451626 \\cdot 10^{-12}$"
          },
          "metadata": {}
        }
      ]
    },
    {
      "cell_type": "markdown",
      "source": [
        "It can be seen that the value of error is very small, this means that the numerical and analytical solutions are nearly identical."
      ],
      "metadata": {
        "id": "NIsOQwSzSI6b"
      },
      "id": "NIsOQwSzSI6b"
    }
  ],
  "metadata": {
    "colab": {
      "provenance": [],
      "include_colab_link": true
    },
    "kernelspec": {
      "display_name": "Python 3",
      "language": "python",
      "name": "python3"
    },
    "language_info": {
      "codemirror_mode": {
        "name": "ipython",
        "version": 3
      },
      "file_extension": ".py",
      "mimetype": "text/x-python",
      "name": "python",
      "nbconvert_exporter": "python",
      "pygments_lexer": "ipython3",
      "version": "3.12.9"
    }
  },
  "nbformat": 4,
  "nbformat_minor": 5
}