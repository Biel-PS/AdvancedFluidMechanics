{
  "cells": [
    {
      "cell_type": "markdown",
      "metadata": {
        "colab_type": "text",
        "id": "view-in-github"
      },
      "source": [
        "<a href=\"https://colab.research.google.com/github/Biel-PS/AdvancedFluidMechanics/blob/main/0-Intro/Assignment0.ipynb\" target=\"_parent\"><img src=\"https://colab.research.google.com/assets/colab-badge.svg\" alt=\"Open In Colab\"/></a>"
      ]
    },
    {
      "cell_type": "markdown",
      "id": "76c8030b-1f59-413d-836c-c73319301013",
      "metadata": {
        "id": "76c8030b-1f59-413d-836c-c73319301013"
      },
      "source": [
        "# Assignment 0: Conical tank emptying time\n",
        "\n",
        "Let's calculate how long it takes to [empty a conical tank](https://www.youtube.com/watch?v=2jQ1jA8uJuU)\n",
        "\n",
        "The simplification of the continuity equation leads, for a generic $h$, to\n",
        "\n",
        "$$\n",
        "u_1 D_h^2 = u_1 \\left(d + 2h \\tan \\theta \\right)^2 = u_2 d^2 \\tag{1}\n",
        "$$\n",
        "\n",
        "$$\n",
        "\\Rightarrow \\; u_2 = u_1\\left(1 + 2\\frac{h}{d} \\tan \\theta \\right)^2 \\tag{2}\n",
        "$$\n",
        "\n",
        "On the other hand, Bernoulli's equation, considering quasi-steady flow and without viscosity,\n",
        "\n",
        "$$\n",
        "u_1^2 + 2gh = u_2^2 = u_1^2 \\left(1 + 2\\frac{h}{d} \\tan \\theta \\right)^4 \\tag{3}\n",
        "$$\n",
        "\n",
        "$$\n",
        "\\Rightarrow \\; u_1^2 \\left[ \\left(1 + 2\\frac{h}{d} \\tan \\theta \\right)^4 -1 \\right] = 2gh \\tag{4}\n",
        "$$\n",
        "\n",
        "$$\n",
        "\\Rightarrow \\; u_1 = \\left[ \\frac{2gh}{\\left(1 + 2\\frac{h}{d} \\tan \\theta \\right)^4 -1} \\right]^\\frac{1}{2} = -\\frac{\\textrm{d} h}{\\textrm{d} t} \\tag{5}\n",
        "$$\n",
        "\n",
        "$$\n",
        "\\Rightarrow \\; \\boxed{ dt = - \\left[ \\frac{\\left(1 + 2\\frac{h}{d} \\tan \\theta \\right)^4 -1}{2gh}\\right]^\\frac{1} {2} \\textrm{d} h} \\tag{6}\n",
        "$$\n",
        "\n",
        "This can be written dimensionless with a time characteristic $\\tau = \\sqrt{\\frac{d}{2g}}$, a change to dimensionless variable $\\xi = \\frac{h}{d}$, and a parameter $A = 2\\tan \\theta$, becoming\n",
        "\n",
        "$$\n",
        "\\frac{\\textrm{d} t}{\\tau} = - \\left[ \\frac{\\left(1 + A \\xi \\right)^4 -1}{\\xi}\\right]^\\frac{1 }{2} \\textrm{d} \\xi \\tag{7}\n",
        "$$\n",
        "\n",
        "Use sympy to analytically compute this time, making an estimation with  $d \\ll h$ so that it can be supposed that  $\\xi \\gg 1$."
      ]
    },
    {
      "cell_type": "code",
      "execution_count": null,
      "id": "00fed288-84ff-432e-8f1e-7c8ca8bf739d",
      "metadata": {
        "colab": {
          "base_uri": "https://localhost:8080/",
          "height": 63
        },
        "id": "00fed288-84ff-432e-8f1e-7c8ca8bf739d",
        "outputId": "82a27ce9-d6c7-43e0-933b-98cbee7f3fd1"
      },
      "outputs": [
        {
          "data": {
            "text/latex": [
              "$\\displaystyle - \\tau \\left(\\frac{2 A^{2} \\xi_{f}^{\\frac{5}{2}}}{5} + \\frac{4 A \\xi_{f}^{\\frac{3}{2}}}{3} + 2 \\sqrt{\\xi_{f}}\\right) + \\tau \\left(\\frac{2 A^{2} \\xi_{i}^{\\frac{5}{2}}}{5} + \\frac{4 A \\xi_{i}^{\\frac{3}{2}}}{3} + 2 \\sqrt{\\xi_{i}}\\right)$"
            ],
            "text/plain": [
              "    ⎛   2    5/2          3/2            ⎞     ⎛   2   5/2         3/2         ↪\n",
              "    ⎜2⋅A ⋅ξ_f      4⋅A⋅ξ_f          _____⎟     ⎜2⋅A ⋅ξᵢ      4⋅A⋅ξᵢ          _ ↪\n",
              "- τ⋅⎜─────────── + ────────── + 2⋅╲╱ ξ_f ⎟ + τ⋅⎜────────── + ───────── + 2⋅╲╱  ↪\n",
              "    ⎝     5            3                 ⎠     ⎝    5            3             ↪\n",
              "\n",
              "↪    ⎞\n",
              "↪ ___⎟\n",
              "↪ ξᵢ ⎟\n",
              "↪    ⎠"
            ]
          },
          "metadata": {},
          "output_type": "display_data"
        },
        {
          "data": {
            "text/latex": [
              "$\\displaystyle 0.070323472259717$"
            ],
            "text/plain": [
              "0.0703234722597170"
            ]
          },
          "metadata": {},
          "output_type": "display_data"
        }
      ],
      "source": [
        "import sympy as sp\n",
        "import numpy as np\n",
        "sp.init_printing()\n",
        "\n",
        "t,tau,xi,A,xi_i,xi_f = sp.symbols('t, tau, xi, A, xi_i, xi_f')\n",
        "\n",
        "\n",
        "\n",
        "expr = - tau*((1+A*xi)**2)/sp.sqrt(xi)\n",
        "Result = expr.integrate((xi,xi_i,xi_f));\n",
        "\n",
        "display(Result)\n",
        "\n",
        "\n",
        "theta = 20*np.pi/180\n",
        "AVal = 2*np.tan(theta)\n",
        "\n",
        "d = 0.01\n",
        "g = 9.81\n",
        "tauVal = np.sqrt(d/(2*g))\n",
        "\n",
        "xi_iVal = 0.2\n",
        "xi_fVal = 0\n",
        "\n",
        "changes = {t:tVal,tau:tauVal,A:AVal,xi_i:xi_iVal,xi_f:xi_fVal}\n",
        "\n",
        "expNum = Result.subs(changes)\n",
        "\n",
        "#expr_func = expr_func = sp.lambdify(xi_f,expNum)\n",
        "\n",
        "#expr_func(xi_fVal)\n",
        "display(expNum.evalf())\n",
        "#lamdify in order to make a funciton\n",
        "#put some values in order to compare\n",
        "\n",
        "#Values: d = 0.01 g=9.81 Xi_init = 0.2, xi_final = 0, theta = 20º\n",
        "# try numerical with mpmath"
      ]
    }
  ],
  "metadata": {
    "colab": {
      "include_colab_link": true,
      "provenance": []
    },
    "kernelspec": {
      "display_name": "Python 3",
      "language": "python",
      "name": "python3"
    },
    "language_info": {
      "codemirror_mode": {
        "name": "ipython",
        "version": 3
      },
      "file_extension": ".py",
      "mimetype": "text/x-python",
      "name": "python",
      "nbconvert_exporter": "python",
      "pygments_lexer": "ipython3",
      "version": "3.12.9"
    }
  },
  "nbformat": 4,
  "nbformat_minor": 5
}
