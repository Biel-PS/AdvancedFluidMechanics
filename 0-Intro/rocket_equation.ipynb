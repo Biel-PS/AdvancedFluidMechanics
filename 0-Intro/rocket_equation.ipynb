{
 "cells": [
  {
   "cell_type": "code",
   "execution_count": 1,
   "id": "activated-salvation",
   "metadata": {},
   "outputs": [],
   "source": [
    "import sympy as sp"
   ]
  },
  {
   "cell_type": "code",
   "execution_count": 2,
   "id": "lasting-uniform",
   "metadata": {},
   "outputs": [],
   "source": [
    "m0,mDot,t,vg = sp.symbols('m_0,\\dot{m},t,v_g')"
   ]
  },
  {
   "cell_type": "code",
   "execution_count": 3,
   "id": "local-scale",
   "metadata": {},
   "outputs": [],
   "source": [
    "v = sp.Function('v')"
   ]
  },
  {
   "cell_type": "code",
   "execution_count": 4,
   "id": "catholic-reward",
   "metadata": {},
   "outputs": [
    {
     "data": {
      "text/latex": [
       "$\\displaystyle \\left(\\dot{m} t + m_{0}\\right) \\frac{d}{d t} v{\\left(t \\right)} = - \\dot{m} v_{g}$"
      ],
      "text/plain": [
       "Eq((\\dot{m}*t + m_0)*Derivative(v(t), t), -\\dot{m}*v_g)"
      ]
     },
     "metadata": {},
     "output_type": "display_data"
    }
   ],
   "source": [
    "ode = sp.Eq((m0+mDot*t)*v(t).diff(t),-mDot*vg)\n",
    "display(ode)"
   ]
  },
  {
   "cell_type": "code",
   "execution_count": 5,
   "id": "defensive-thousand",
   "metadata": {},
   "outputs": [
    {
     "data": {
      "text/latex": [
       "$\\displaystyle v{\\left(t \\right)} = v_{g} \\log{\\left(m_{0} \\right)} - v_{g} \\log{\\left(\\dot{m} t + m_{0} \\right)}$"
      ],
      "text/plain": [
       "Eq(v(t), v_g*log(m_0) - v_g*log(\\dot{m}*t + m_0))"
      ]
     },
     "metadata": {},
     "output_type": "display_data"
    }
   ],
   "source": [
    "codCont = {v(0):0}\n",
    "sol = sp.dsolve(ode,ics=codCont)\n",
    "display(sol)"
   ]
  },
  {
   "cell_type": "code",
   "execution_count": 6,
   "id": "useful-recycling",
   "metadata": {},
   "outputs": [],
   "source": [
    "values = {mDot:-1,m0:400,vg:10}\n",
    "v_t = sp.lambdify(t,sol.rhs.subs(values))"
   ]
  },
  {
   "cell_type": "code",
   "execution_count": 7,
   "id": "fitted-prayer",
   "metadata": {},
   "outputs": [],
   "source": [
    "import matplotlib.pyplot as plt\n",
    "import numpy as np"
   ]
  },
  {
   "cell_type": "code",
   "execution_count": 8,
   "id": "casual-jewelry",
   "metadata": {},
   "outputs": [],
   "source": [
    "tt = np.linspace(0,200,250)\n",
    "vtt = v_t(tt)"
   ]
  },
  {
   "cell_type": "code",
   "execution_count": 9,
   "id": "varying-technique",
   "metadata": {},
   "outputs": [
    {
     "data": {
      "text/plain": [
       "[<matplotlib.lines.Line2D at 0x7fca353d4220>]"
      ]
     },
     "execution_count": 9,
     "metadata": {},
     "output_type": "execute_result"
    },
    {
     "data": {
      "image/png": "[encoded data removed]",
      "text/plain": [
       "<Figure size 576x288 with 1 Axes>"
      ]
     },
     "metadata": {
      "needs_background": "light"
     },
     "output_type": "display_data"
    }
   ],
   "source": [
    "fig,ax = plt.subplots(figsize=(8,4))\n",
    "ax.plot(tt,vtt)"
   ]
  },
  {
   "cell_type": "code",
   "execution_count": 10,
   "id": "legendary-eligibility",
   "metadata": {},
   "outputs": [],
   "source": [
    "x = sol.rhs.integrate(t)"
   ]
  },
  {
   "cell_type": "code",
   "execution_count": 11,
   "id": "former-press",
   "metadata": {},
   "outputs": [
    {
     "data": {
      "text/latex": [
       "$\\displaystyle - t v_{g} \\log{\\left(\\dot{m} t + m_{0} \\right)} + t \\left(v_{g} \\log{\\left(m_{0} \\right)} + v_{g}\\right) - \\frac{m_{0} v_{g} \\log{\\left(\\dot{m} t + m_{0} \\right)}}{\\dot{m}}$"
      ],
      "text/plain": [
       "-t*v_g*log(\\dot{m}*t + m_0) + t*(v_g*log(m_0) + v_g) - m_0*v_g*log(\\dot{m}*t + m_0)/\\dot{m}"
      ]
     },
     "metadata": {},
     "output_type": "display_data"
    }
   ],
   "source": [
    "display(x)"
   ]
  },
  {
   "cell_type": "code",
   "execution_count": null,
   "id": "920fd9be-d745-4859-96a9-2656eb99145a",
   "metadata": {},
   "outputs": [],
   "source": []
  }
 ],
 "metadata": {
  "kernelspec": {
   "display_name": "Python 3 (ipykernel)",
   "language": "python",
   "name": "python3"
  },
  "language_info": {
   "codemirror_mode": {
    "name": "ipython",
    "version": 3
   },
   "file_extension": ".py",
   "mimetype": "text/x-python",
   "name": "python",
   "nbconvert_exporter": "python",
   "pygments_lexer": "ipython3",
   "version": "3.8.12"
  }
 },
 "nbformat": 4,
 "nbformat_minor": 5
}
