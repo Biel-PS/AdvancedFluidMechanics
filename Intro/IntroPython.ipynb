{
 "cells": [
  {
   "cell_type": "markdown",
   "metadata": {},
   "source": [
    "# Introduction to scientific computation with Python"
   ]
  },
  {
   "cell_type": "markdown",
   "metadata": {},
   "source": [
    "[Python](https://en.wikipedia.org/wiki/Python_(programming_language)) is a high level computational language. It is quite similar to Matlab, but with the advantage that is is open source, free and internet is [plenty of libraries](https://pypi.org/) that \n",
    "allow to perform a large variety of cases.\n",
    "\n"
   ]
  },
  {
   "cell_type": "markdown",
   "metadata": {},
   "source": [
    "The main labraries used in scientific computations are **[numpy](https://numpy.org/)** for numerical computation, **[sympy](https://www.sympy.org/en/index.html)** for Computer Albegra System (CAS), **[matplotlib](https://matplotlib.org/)** for plotting, and **[pandas](https://pandas.pydata.org/)** for data analysis. All this packages are collected in the **[scipy](https://www.scipy.org/)** ecosystem."
   ]
  },
  {
   "cell_type": "markdown",
   "metadata": {},
   "source": [
    "One practical way to compute with python is a [Jupyter](https://jupyter.org/) notebook, like the present one. It allows to combine text, equations, graps and pictures with code. \n",
    "\n",
    "All that can be installed in any system (Windows, Mac, Linux,...) (and even in an android!) but it is highly recommended to install through an special distribution. The most popular is now [Anaconda](https://en.wikipedia.org/wiki/Anaconda_(Python_distribution) that has free and paid versions."
   ]
  },
  {
   "cell_type": "markdown",
   "metadata": {},
   "source": [
    "## 1. Numpy"
   ]
  },
  {
   "cell_type": "markdown",
   "metadata": {},
   "source": [
    "Python is a powerful language. Its power lies mainly in its modulability. With naked python few interesting things can be done. But modules of libraries can be easily imported and used to perform almost everything we need.\n",
    "\n",
    "In maths and science, one of the main modules is numpy, which gives acces to numerical computations with arrays, matrix, functions, ... with optmized velocity. \n",
    "\n",
    "To import a module in python is very easy (as long as it is installed in the system...). Just type"
   ]
  },
  {
   "cell_type": "code",
   "execution_count": null,
   "metadata": {},
   "outputs": [],
   "source": [
    "import numpy"
   ]
  },
  {
   "cell_type": "markdown",
   "metadata": {},
   "source": [
    "and access any component of the library with, por example"
   ]
  },
  {
   "cell_type": "code",
   "execution_count": null,
   "metadata": {},
   "outputs": [],
   "source": [
    "numpy.log(3)"
   ]
  },
  {
   "cell_type": "markdown",
   "metadata": {},
   "source": [
    "Another way to import a module is with "
   ]
  },
  {
   "cell_type": "code",
   "execution_count": null,
   "metadata": {},
   "outputs": [],
   "source": [
    "from numpy import *"
   ]
  },
  {
   "cell_type": "markdown",
   "metadata": {},
   "source": [
    "and then you can use the same components without need of type the word _numpy_ everytime"
   ]
  },
  {
   "cell_type": "code",
   "execution_count": null,
   "metadata": {},
   "outputs": [],
   "source": [
    "log(3)"
   ]
  },
  {
   "cell_type": "markdown",
   "metadata": {},
   "source": [
    "The last way is with"
   ]
  },
  {
   "cell_type": "code",
   "execution_count": null,
   "metadata": {},
   "outputs": [],
   "source": [
    "import numpy as np\n",
    "np.log(3)"
   ]
  },
  {
   "cell_type": "markdown",
   "metadata": {},
   "source": [
    "This last is my favorite, but you can use whichever you prefer."
   ]
  },
  {
   "cell_type": "markdown",
   "metadata": {},
   "source": [
    "To get fast information about any component of python or any module, just type a '?' at the end of the command"
   ]
  },
  {
   "cell_type": "code",
   "execution_count": null,
   "metadata": {},
   "outputs": [],
   "source": [
    "np.log?"
   ]
  },
  {
   "cell_type": "markdown",
   "metadata": {},
   "source": [
    "## 2. Sympy"
   ]
  },
  {
   "cell_type": "markdown",
   "metadata": {},
   "source": [
    "With the library [_sympy_](https://peerj.com/articles/cs-103/) symbolic manipulation of mathematical equations can be performed, in a similar way as with Maple, Mathematica or Wolfram Alpha. \n",
    "\n",
    "The first step to perform symbolic computation is to declare the _symbols_ that are going to used"
   ]
  },
  {
   "cell_type": "code",
   "execution_count": null,
   "metadata": {},
   "outputs": [],
   "source": [
    "import sympy as sp\n",
    "x,y = sp.symbols('x,y')"
   ]
  },
  {
   "cell_type": "markdown",
   "metadata": {},
   "source": [
    "If, in addition, we include the command "
   ]
  },
  {
   "cell_type": "code",
   "execution_count": null,
   "metadata": {},
   "outputs": [],
   "source": [
    "sp.init_printing()"
   ]
  },
  {
   "cell_type": "markdown",
   "metadata": {},
   "source": [
    "the ouput will be nicely rendered in a Jupyter notebook"
   ]
  },
  {
   "cell_type": "code",
   "execution_count": null,
   "metadata": {},
   "outputs": [],
   "source": [
    "sp.sqrt(x)"
   ]
  },
  {
   "cell_type": "markdown",
   "metadata": {},
   "source": [
    "An expression can be build with our symbols"
   ]
  },
  {
   "cell_type": "code",
   "execution_count": null,
   "metadata": {},
   "outputs": [],
   "source": [
    "expr = 1+2*x**2*(x-1)-x**3\n",
    "display(expr)"
   ]
  },
  {
   "cell_type": "markdown",
   "metadata": {},
   "source": [
    "and it can be simplified, either with"
   ]
  },
  {
   "cell_type": "code",
   "execution_count": null,
   "metadata": {},
   "outputs": [],
   "source": [
    "sp.simplify(expr)"
   ]
  },
  {
   "cell_type": "markdown",
   "metadata": {},
   "source": [
    "or with"
   ]
  },
  {
   "cell_type": "code",
   "execution_count": null,
   "metadata": {},
   "outputs": [],
   "source": [
    "expr.simplify()"
   ]
  },
  {
   "cell_type": "markdown",
   "metadata": {},
   "source": [
    "Expressions can be factorized                                                                                           "
   ]
  },
  {
   "cell_type": "code",
   "execution_count": null,
   "metadata": {},
   "outputs": [],
   "source": [
    "expr = expr.factor()\n",
    "display(expr)"
   ]
  },
  {
   "cell_type": "markdown",
   "metadata": {},
   "source": [
    "or expanded again"
   ]
  },
  {
   "cell_type": "code",
   "execution_count": null,
   "metadata": {},
   "outputs": [],
   "source": [
    "expr = expr.expand()\n",
    "display(expr)"
   ]
  },
  {
   "cell_type": "markdown",
   "metadata": {},
   "source": [
    "We can **solve equations**, by defining an equality of two expressions with the _sympy.Eq()_ class"
   ]
  },
  {
   "cell_type": "code",
   "execution_count": null,
   "metadata": {},
   "outputs": [],
   "source": [
    "equation = sp.Eq(y,expr)\n",
    "display(equation)"
   ]
  },
  {
   "cell_type": "code",
   "execution_count": null,
   "metadata": {},
   "outputs": [],
   "source": [
    "x_sol = sp.solve(equation,x)\n",
    "display(x_sol)"
   ]
  },
  {
   "cell_type": "markdown",
   "metadata": {},
   "source": [
    "It gives 3 complex solutions. We can access to each of them as member of an array"
   ]
  },
  {
   "cell_type": "code",
   "execution_count": null,
   "metadata": {},
   "outputs": [],
   "source": [
    "display(x_sol[0])"
   ]
  },
  {
   "cell_type": "markdown",
   "metadata": {},
   "source": [
    "Or we can solve systems of equations"
   ]
  },
  {
   "cell_type": "code",
   "execution_count": null,
   "metadata": {},
   "outputs": [],
   "source": [
    "eq1 = x + 2*y - 1\n",
    "display(eq1)\n",
    "eq2 = x - y + 1\n",
    "display(eq2)\n",
    "eq_sol = sp.solve([eq1,eq2],[x,y])\n",
    "display(eq_sol)"
   ]
  },
  {
   "cell_type": "markdown",
   "metadata": {},
   "source": [
    "***\n",
    "We can make substitutions in an expression, with _subs()_"
   ]
  },
  {
   "cell_type": "code",
   "execution_count": null,
   "metadata": {},
   "outputs": [],
   "source": [
    "expr = expr.subs(x,x+1)\n",
    "display(expr)"
   ]
  },
  {
   "cell_type": "markdown",
   "metadata": {},
   "source": [
    "or with _replace()_ that is often more powerful "
   ]
  },
  {
   "cell_type": "code",
   "execution_count": null,
   "metadata": {},
   "outputs": [],
   "source": [
    "expr = expr.replace(x,3*x)\n",
    "display(expr)"
   ]
  },
  {
   "cell_type": "markdown",
   "metadata": {},
   "source": [
    "Several substitutions can be performed by means of a [dictionary](https://docs.python.org/3/tutorial/datastructures.html#dictionaries)"
   ]
  },
  {
   "cell_type": "code",
   "execution_count": null,
   "metadata": {},
   "outputs": [],
   "source": [
    "changes = {y:sp.cos(y),x:sp.sqrt(x)}\n",
    "equation = equation.subs(changes)\n",
    "display(equation)"
   ]
  },
  {
   "cell_type": "markdown",
   "metadata": {},
   "source": [
    "***\n",
    "We can also perform **numerical evaluations**.\n",
    "\n",
    "The best way is with a [lambda](https://docs.python.org/3/tutorial/controlflow.html?highlight=lambda#lambda-expressions) method that creates a function to evaluate any value"
   ]
  },
  {
   "cell_type": "code",
   "execution_count": null,
   "metadata": {},
   "outputs": [],
   "source": [
    "expr_func = sp.lambdify(x,expr)\n",
    "expr_func(2.0)"
   ]
  },
  {
   "cell_type": "markdown",
   "metadata": {},
   "source": [
    "### Manipulating algebraic functions and solvind ODEs\n",
    "\n",
    "Besides symbols, we can define functions, and its derivatives"
   ]
  },
  {
   "cell_type": "code",
   "execution_count": null,
   "metadata": {},
   "outputs": [],
   "source": [
    "f = sp.Function('f')\n",
    "display(f(x))\n",
    "display(f(x).diff(x))\n",
    "display(f(x).diff(x,2))"
   ]
  },
  {
   "cell_type": "markdown",
   "metadata": {},
   "source": [
    "In this case, the function $f(x)$ is not defined. and sympy can just represents symbolicaly its derivative. But we can\n",
    "make the derivative of any expression"
   ]
  },
  {
   "cell_type": "code",
   "execution_count": null,
   "metadata": {},
   "outputs": [],
   "source": [
    "expr.diff(x)"
   ]
  },
  {
   "cell_type": "code",
   "execution_count": null,
   "metadata": {},
   "outputs": [],
   "source": [
    "expr.diff(x,2)"
   ]
  },
  {
   "cell_type": "markdown",
   "metadata": {},
   "source": [
    "Also we can, of course, integrate a function"
   ]
  },
  {
   "cell_type": "code",
   "execution_count": null,
   "metadata": {},
   "outputs": [],
   "source": [
    "f(x).integrate()"
   ]
  },
  {
   "cell_type": "code",
   "execution_count": null,
   "metadata": {},
   "outputs": [],
   "source": [
    "f(x).integrate((x,0,sp.pi))"
   ]
  },
  {
   "cell_type": "code",
   "execution_count": null,
   "metadata": {},
   "outputs": [],
   "source": [
    "expr.integrate()"
   ]
  },
  {
   "cell_type": "code",
   "execution_count": null,
   "metadata": {},
   "outputs": [],
   "source": [
    "expr.integrate((x,0,1))"
   ]
  },
  {
   "cell_type": "markdown",
   "metadata": {},
   "source": [
    "We can calculate series expansion, both symbolicaly"
   ]
  },
  {
   "cell_type": "code",
   "execution_count": null,
   "metadata": {},
   "outputs": [],
   "source": [
    "f(x).series(x)"
   ]
  },
  {
   "cell_type": "code",
   "execution_count": null,
   "metadata": {},
   "outputs": [],
   "source": [
    "f(x).series(x,1)"
   ]
  },
  {
   "cell_type": "code",
   "execution_count": null,
   "metadata": {},
   "outputs": [],
   "source": [
    "f(x).series(x,1,n=2)"
   ]
  },
  {
   "cell_type": "code",
   "execution_count": null,
   "metadata": {},
   "outputs": [],
   "source": [
    "f(x).series(x,1,n=2).removeO()"
   ]
  },
  {
   "cell_type": "markdown",
   "metadata": {},
   "source": [
    "or explicitely"
   ]
  },
  {
   "cell_type": "code",
   "execution_count": null,
   "metadata": {},
   "outputs": [],
   "source": [
    "sqrt_x = sp.sqrt(x)\n",
    "display(sqrt_x)"
   ]
  },
  {
   "cell_type": "code",
   "execution_count": null,
   "metadata": {},
   "outputs": [],
   "source": [
    "sqrt_x.series(x,1,n=3)"
   ]
  },
  {
   "cell_type": "code",
   "execution_count": null,
   "metadata": {},
   "outputs": [],
   "source": [
    "sqrt_x.series(x,1,n=3).removeO()"
   ]
  },
  {
   "cell_type": "markdown",
   "metadata": {},
   "source": [
    "*** \n",
    "\n",
    "Let's now solve an ODE\n",
    "\n",
    "Let's consider the first order ODE for Newton's cooling law\n",
    "\n",
    "$$ \\frac{\\text{d} T}{\\text{d}t} = -k \\left(T(t) - T_a\\right) $$\n",
    "\n",
    "with $T(0) = T_0$."
   ]
  },
  {
   "cell_type": "code",
   "execution_count": null,
   "metadata": {},
   "outputs": [],
   "source": [
    "t,k,Ta,T0 = sp.symbols('t,k,T_a,T_0')\n",
    "T = sp.Function(\"T\")"
   ]
  },
  {
   "cell_type": "code",
   "execution_count": null,
   "metadata": {},
   "outputs": [],
   "source": [
    "ode = sp.Eq(T(t).diff(t),-k*(T(t)-Ta))\n",
    "display(ode)"
   ]
  },
  {
   "cell_type": "code",
   "execution_count": null,
   "metadata": {},
   "outputs": [],
   "source": [
    "ode_sol = sp.dsolve(ode)\n",
    "display(ode_sol)"
   ]
  },
  {
   "cell_type": "markdown",
   "metadata": {},
   "source": [
    "and it can be done directly with the initial condition "
   ]
  },
  {
   "cell_type": "code",
   "execution_count": null,
   "metadata": {},
   "outputs": [],
   "source": [
    "ode_sol = sp.dsolve(ode,ics={T(0):T0})\n",
    "display(ode_sol)"
   ]
  },
  {
   "cell_type": "markdown",
   "metadata": {},
   "source": [
    "***\n",
    "For a second order ODE, let's consider a damped harmonic oscillator"
   ]
  },
  {
   "cell_type": "code",
   "execution_count": null,
   "metadata": {},
   "outputs": [],
   "source": [
    "t,omega0,gamma = sp.symbols('t,omega0,gamma',positive=True)\n",
    "x = sp.Function('x')\n",
    "ode2 = sp.Eq(x(t).diff(t,2)+2*gamma*omega0*x(t).diff(t)+omega0**2*x(t),0)\n",
    "display(ode2)"
   ]
  },
  {
   "cell_type": "code",
   "execution_count": null,
   "metadata": {},
   "outputs": [],
   "source": [
    "ode2_sol = sp.dsolve(ode2)\n",
    "display(ode2_sol)"
   ]
  },
  {
   "cell_type": "markdown",
   "metadata": {},
   "source": [
    "The boundary conditions are that $x=1$ and its derivative is 0 for $t=0$."
   ]
  },
  {
   "cell_type": "code",
   "execution_count": null,
   "metadata": {},
   "outputs": [],
   "source": [
    "ics = {x(0):1,x(t).diff(t).subs(t,0):0}\n",
    "ode2_sol = sp.dsolve(ode2,ics=ics)\n",
    "display(ode2_sol)"
   ]
  },
  {
   "cell_type": "markdown",
   "metadata": {},
   "source": [
    "***\n",
    "\n",
    "We see now how to plot a particular case of this equations by using [matplotlib](https://matplotlib.org/)\n",
    "\n",
    "we are going to consider the case $\\omega_0 = 2\\pi$ and $\\gamma = 0.1$"
   ]
  },
  {
   "cell_type": "code",
   "execution_count": null,
   "metadata": {},
   "outputs": [],
   "source": [
    "import matplotlib.pyplot as plt\n",
    "%matplotlib inline"
   ]
  },
  {
   "cell_type": "code",
   "execution_count": null,
   "metadata": {},
   "outputs": [],
   "source": [
    "values = {omega0: 2*sp.pi,gamma:0.1}\n",
    "fig,ax = plt.subplots(figsize=(8,4))\n",
    "tt = np.linspace(0,3,250)\n",
    "x_t = sp.lambdify(t,ode2_sol.rhs.subs(values))\n",
    "ax.plot(tt,x_t(tt).real) # There are some complex results. We take only the real part\n",
    "ax.set_xlabel(r'$t$')\n",
    "ax.set_ylabel(r'$x(t)$')\n",
    "ax.grid(which='major',axis='both')"
   ]
  },
  {
   "cell_type": "markdown",
   "metadata": {},
   "source": [
    "## 3. Pandas"
   ]
  },
  {
   "cell_type": "markdown",
   "metadata": {},
   "source": [
    "Pandas is a library for data analysis. Is some kind of powerful datasheet. \n",
    "Documentation is [here](https://pandas.pydata.org/pandas-docs/stable/index.html#).\n",
    "\n",
    "The two main data structures are *Series* and *DataFrame*"
   ]
  },
  {
   "cell_type": "markdown",
   "metadata": {},
   "source": [
    "### Series\n",
    "\n",
    "A Series is an array that can be indexed with labels instead of integers\n",
    "\n",
    "For example, we can make a Series with grades in some subjects "
   ]
  },
  {
   "cell_type": "code",
   "execution_count": null,
   "metadata": {},
   "outputs": [],
   "source": [
    "import pandas as pd"
   ]
  },
  {
   "cell_type": "code",
   "execution_count": null,
   "metadata": {},
   "outputs": [],
   "source": [
    "grades = pd.Series([5.5,7.6,4.3,8.6,6.5])\n",
    "grades"
   ]
  },
  {
   "cell_type": "code",
   "execution_count": null,
   "metadata": {},
   "outputs": [],
   "source": [
    "grades.index"
   ]
  },
  {
   "cell_type": "markdown",
   "metadata": {},
   "source": [
    "This is the array inside the Series"
   ]
  },
  {
   "cell_type": "code",
   "execution_count": null,
   "metadata": {},
   "outputs": [],
   "source": [
    "grades.values"
   ]
  },
  {
   "cell_type": "markdown",
   "metadata": {},
   "source": [
    "And now we can changes index"
   ]
  },
  {
   "cell_type": "code",
   "execution_count": null,
   "metadata": {},
   "outputs": [],
   "source": [
    "grades.index = [\"Maths\",\"Spanish\",\"Catalan\",\"Physics\",\"German\"]\n",
    "grades.name = \"Grades\"\n",
    "grades"
   ]
  },
  {
   "cell_type": "markdown",
   "metadata": {},
   "source": [
    "That could be also done with"
   ]
  },
  {
   "cell_type": "raw",
   "metadata": {},
   "source": [
    "grades = pd.Series([5.5,7.6,4.3,8.6,6.5],name = \"Grades\",index = [\"Maths\",\"Spanish\",\"Catalan\",\"Physics\",\"German\"])"
   ]
  },
  {
   "cell_type": "markdown",
   "metadata": {},
   "source": [
    "It is easy to access to some values"
   ]
  },
  {
   "cell_type": "code",
   "execution_count": null,
   "metadata": {},
   "outputs": [],
   "source": [
    "grades[\"Physics\"]"
   ]
  },
  {
   "cell_type": "code",
   "execution_count": null,
   "metadata": {},
   "outputs": [],
   "source": [
    "grades[[\"Maths\",\"Physics\",\"German\"]]"
   ]
  },
  {
   "cell_type": "markdown",
   "metadata": {},
   "source": [
    "Some statistics:"
   ]
  },
  {
   "cell_type": "code",
   "execution_count": null,
   "metadata": {},
   "outputs": [],
   "source": [
    "print(\"Median of grades is {0}\".format(grades.median()))\n",
    "print(\"Mean of grades is {0}\".format(grades.mean()))\n",
    "print(\"Standard deviation of grades is {0}\".format(grades.std()))\n",
    "print(\"Maximum of grades is {0}\".format(grades.max()))\n",
    "print(\"Minimum of grades is {0}\".format(grades.min()))\n",
    "print(\"Quartile of grades is {0}\".format(grades.quantile(0.25)))"
   ]
  },
  {
   "cell_type": "markdown",
   "metadata": {},
   "source": [
    "Also, in brief"
   ]
  },
  {
   "cell_type": "code",
   "execution_count": null,
   "metadata": {},
   "outputs": [],
   "source": [
    "grades.describe()"
   ]
  },
  {
   "cell_type": "markdown",
   "metadata": {},
   "source": [
    "Plot method can be used for easily plot data"
   ]
  },
  {
   "cell_type": "code",
   "execution_count": null,
   "metadata": {},
   "outputs": [],
   "source": [
    "import matplotlib.pyplot as plt"
   ]
  },
  {
   "cell_type": "code",
   "execution_count": null,
   "metadata": {},
   "outputs": [],
   "source": [
    "fig,axes = plt.subplots()\n",
    "grades.plot(kind='bar')"
   ]
  },
  {
   "cell_type": "markdown",
   "metadata": {},
   "source": [
    "### DataFrame\n",
    "It is like a multidimensional Series. Typically, a table"
   ]
  },
  {
   "cell_type": "code",
   "execution_count": null,
   "metadata": {},
   "outputs": [],
   "source": [
    "subjects = pd.DataFrame(grades)"
   ]
  },
  {
   "cell_type": "code",
   "execution_count": null,
   "metadata": {},
   "outputs": [],
   "source": [
    "subjects.columns"
   ]
  },
  {
   "cell_type": "code",
   "execution_count": null,
   "metadata": {},
   "outputs": [],
   "source": [
    "subjects"
   ]
  },
  {
   "cell_type": "code",
   "execution_count": null,
   "metadata": {},
   "outputs": [],
   "source": [
    "teachers = pd.Series([\"Dave\",\"Ana\",\"John\",\"Grace\",\"Mike\"],name=\"Teacher\",index = [\"Maths\",\"Spanish\",\"Catalan\",\"Physics\",\"German\"])"
   ]
  },
  {
   "cell_type": "code",
   "execution_count": null,
   "metadata": {},
   "outputs": [],
   "source": [
    "subjects = subjects.join(teachers)"
   ]
  },
  {
   "cell_type": "code",
   "execution_count": null,
   "metadata": {},
   "outputs": [],
   "source": [
    "subjects"
   ]
  },
  {
   "cell_type": "code",
   "execution_count": null,
   "metadata": {},
   "outputs": [],
   "source": [
    "subjects.mean()"
   ]
  },
  {
   "cell_type": "code",
   "execution_count": null,
   "metadata": {},
   "outputs": [],
   "source": [
    "subjects.loc[\"Maths\"]"
   ]
  },
  {
   "cell_type": "code",
   "execution_count": null,
   "metadata": {},
   "outputs": [],
   "source": [
    "subjects.Teacher"
   ]
  },
  {
   "cell_type": "markdown",
   "metadata": {},
   "source": [
    "## 4. Data fitting"
   ]
  },
  {
   "cell_type": "markdown",
   "metadata": {},
   "source": [
    "### Linear regression"
   ]
  },
  {
   "cell_type": "markdown",
   "metadata": {},
   "source": [
    "Some times we need to fit experimental data in order to create a model (a math expression). There are two main python modules to make it: [statsmodels](https://www.statsmodels.org/stable/index.html) and [patsy](https://patsy.readthedocs.io/en/latest/). Actually, statsmodel calls internally to patsy, and it is ususlly not necessary to explicitely import it, but we are doing it for the sake of clarity"
   ]
  },
  {
   "cell_type": "code",
   "execution_count": null,
   "metadata": {},
   "outputs": [],
   "source": [
    "#This command resets the python kernel, and remove all modules, variables and data\n",
    "%reset -f "
   ]
  },
  {
   "cell_type": "code",
   "execution_count": null,
   "metadata": {},
   "outputs": [],
   "source": [
    "import statsmodels.api as sm\n",
    "import statsmodels.formula.api as smf\n",
    "import statsmodels.graphics.api as smg\n",
    "import patsy\n",
    "import matplotlib.pyplot as plt\n",
    "import numpy as np\n",
    "import pandas as pd"
   ]
  },
  {
   "cell_type": "markdown",
   "metadata": {},
   "source": [
    "Let's consider the next image, taken from [Wikipedia-Scatter Plot](https://en.wikipedia.org/wiki/Scatter_plot)\n",
    "\n",
    "<img src=\"Scatter_plot.png\" width=\"400\">\n",
    "\n",
    "The first step is to get the data. It is done with a plot digitizer. There are several tools to do that: [3gdata](https://github.com/pn2200/g3data) for linux, the Java app [Plot Digitizer](http://plotdigitizer.sourceforge.net/) or the online app [Web Plot Digitizer](https://apps.automeris.io/wpd/). I recommend this last one. With this app we can generate a CSV file, that I have called \"Scatter_data.csv\".\n",
    "\n",
    "The second step is to load this data file into a pandas DataFrame"
   ]
  },
  {
   "cell_type": "code",
   "execution_count": null,
   "metadata": {},
   "outputs": [],
   "source": [
    "ScatterData = pd.read_csv(\"Scatter_data.csv\",header=None,names=[\"x\",\"y\"]) # It's important the names for the columns data\n",
    "ScatterData.head()"
   ]
  },
  {
   "cell_type": "markdown",
   "metadata": {},
   "source": [
    "We can plot it to check it..."
   ]
  },
  {
   "cell_type": "code",
   "execution_count": null,
   "metadata": {},
   "outputs": [],
   "source": [
    "plt.scatter(ScatterData[\"x\"],ScatterData[\"y\"])"
   ]
  },
  {
   "cell_type": "markdown",
   "metadata": {},
   "source": [
    "The third step is to create a model. We are using a formula for the model. Actually, it is just a linear regression, made with [ordinary least square](https://en.wikipedia.org/wiki/Ordinary_least_squares) estimation. Check [here](https://patsy.readthedocs.io/en/latest/formulas.html#) how is the syntax for the formulae in patsy."
   ]
  },
  {
   "cell_type": "code",
   "execution_count": null,
   "metadata": {},
   "outputs": [],
   "source": [
    "model = smf.ols(\"y~x\",ScatterData)"
   ]
  },
  {
   "cell_type": "markdown",
   "metadata": {},
   "source": [
    "That only creates the model, but does not compute anything. The computation is made with the fit method."
   ]
  },
  {
   "cell_type": "code",
   "execution_count": null,
   "metadata": {},
   "outputs": [],
   "source": [
    "result = model.fit()"
   ]
  },
  {
   "cell_type": "markdown",
   "metadata": {},
   "source": [
    "We check the result"
   ]
  },
  {
   "cell_type": "code",
   "execution_count": null,
   "metadata": {},
   "outputs": [],
   "source": [
    "result.summary()"
   ]
  },
  {
   "cell_type": "markdown",
   "metadata": {},
   "source": [
    "The result object has a lot of components. One is the _params_: the coefficient _Intercept_ which is the independent term, and the _x_, which is, in this case, the kinear term coefficient."
   ]
  },
  {
   "cell_type": "code",
   "execution_count": null,
   "metadata": {},
   "outputs": [],
   "source": [
    "display(result.params[\"Intercept\"])\n",
    "display(result.params[\"x\"])"
   ]
  },
  {
   "cell_type": "markdown",
   "metadata": {},
   "source": [
    "In the last step, let's now plot it to see how it looks like. \n",
    "\n",
    "First, we create the set of _x_ points to make the plot. It has to be a pandas DataFrame. "
   ]
  },
  {
   "cell_type": "code",
   "execution_count": null,
   "metadata": {},
   "outputs": [],
   "source": [
    "x_plot = pd.DataFrame(pd.Series(np.linspace(0,20,250),name=\"x\"))"
   ]
  },
  {
   "cell_type": "markdown",
   "metadata": {},
   "source": [
    "and now we calculate the prediction, according to our linear model"
   ]
  },
  {
   "cell_type": "code",
   "execution_count": null,
   "metadata": {},
   "outputs": [],
   "source": [
    "y_plot = result.predict(x_plot)"
   ]
  },
  {
   "cell_type": "markdown",
   "metadata": {},
   "source": [
    "and, finally, we plot it"
   ]
  },
  {
   "cell_type": "code",
   "execution_count": null,
   "metadata": {},
   "outputs": [],
   "source": [
    "a = result.params[\"Intercept\"]\n",
    "b = result.params[\"x\"]\n",
    "plt.scatter(ScatterData[\"x\"],ScatterData[\"y\"])\n",
    "plt.plot(x_plot,y_plot,\"r-\",linewidth=3)\n",
    "plt.text(9.0,101,r\"$y = {:.2f} {:+.2f}x$\".format(a,b),color=\"red\")"
   ]
  },
  {
   "cell_type": "markdown",
   "metadata": {},
   "source": [
    "If we want to make another fit, for example, with a quadratic expression, we have to create another column in the DataFrame with the new data (in this case, with $x^2$). This is still considered a linear regression, since it can be written as linear combination of polynomical terms $ y = \\sum_{n=0}^{N} a_n x^n$. Note also that a model as $y=a_0x^{a_1}$, or $y=a_0\\exp(a_1x)$, can be tranformed into a linear model just calculating logarithm of both sides."
   ]
  },
  {
   "cell_type": "code",
   "execution_count": null,
   "metadata": {},
   "outputs": [],
   "source": [
    "ScatterData[\"x2\"] = ScatterData[\"x\"]**2"
   ]
  },
  {
   "cell_type": "code",
   "execution_count": null,
   "metadata": {
    "tags": []
   },
   "outputs": [],
   "source": [
    "ScatterData.head(3)"
   ]
  },
  {
   "cell_type": "markdown",
   "metadata": {},
   "source": [
    "and then we create the new model, and perform the `fit()` method"
   ]
  },
  {
   "cell_type": "code",
   "execution_count": null,
   "metadata": {},
   "outputs": [],
   "source": [
    "sqr_model = smf.ols('y~ x + x2',ScatterData)"
   ]
  },
  {
   "cell_type": "code",
   "execution_count": null,
   "metadata": {},
   "outputs": [],
   "source": [
    "sqr_result = sqr_model.fit()"
   ]
  },
  {
   "cell_type": "code",
   "execution_count": null,
   "metadata": {},
   "outputs": [],
   "source": [
    "sqr_result.summary()"
   ]
  },
  {
   "cell_type": "code",
   "execution_count": null,
   "metadata": {},
   "outputs": [],
   "source": [
    "sqr_result.params"
   ]
  },
  {
   "cell_type": "code",
   "execution_count": null,
   "metadata": {},
   "outputs": [],
   "source": [
    "x2_plot = x_plot.join(pd.Series(x_plot[\"x\"]**2,name=\"x2\"))"
   ]
  },
  {
   "cell_type": "code",
   "execution_count": null,
   "metadata": {},
   "outputs": [],
   "source": [
    "x2_plot"
   ]
  },
  {
   "cell_type": "code",
   "execution_count": null,
   "metadata": {},
   "outputs": [],
   "source": [
    "y2_plot = sqr_result.predict(x2_plot)"
   ]
  },
  {
   "cell_type": "code",
   "execution_count": null,
   "metadata": {},
   "outputs": [],
   "source": [
    "a = result.params[\"Intercept\"]\n",
    "b = result.params[\"x\"]\n",
    "a0 = sqr_result.params[\"Intercept\"]\n",
    "a1 = sqr_result.params[\"x\"]\n",
    "a2 = sqr_result.params[\"x2\"]\n",
    "fig,ax = plt.subplots()\n",
    "ax.set_xlabel(r'$x$')\n",
    "ax.set_ylabel(r'$y$')\n",
    "ax.scatter(ScatterData[\"x\"],ScatterData[\"y\"])\n",
    "ax.plot(x_plot,y_plot,\"r-\",linewidth=3)\n",
    "ax.plot(x_plot,y2_plot,\"g-\",linewidth=3)\n",
    "ax.text(9.0,101,r\"$y = {:.2f} {:+.2g}x$\".format(a,b),color=\"red\")\n",
    "ax.text(9.0,100,r\"$y = {:.2f} {:+.2g}x {:+.2g}x^2$\".format(a0,a1,a2),color=\"green\")"
   ]
  },
  {
   "cell_type": "markdown",
   "metadata": {},
   "source": [
    "### Non linear regression"
   ]
  },
  {
   "cell_type": "markdown",
   "metadata": {},
   "source": [
    "When we want to make a non linear regression, for instance to fit with a model as $y=a_0+a_1*\\exp{a_2*x}$, an optimization method to compute mininum squares has to be performed. We use then the [_optimize_](https://docs.scipy.org/doc/scipy/reference/tutorial/optimize.html) module of scipy, and, in particular, the [curve_fit](https://docs.scipy.org/doc/scipy/reference/generated/scipy.optimize.curve_fit.html#scipy.optimize.curve_fit) method."
   ]
  },
  {
   "cell_type": "code",
   "execution_count": null,
   "metadata": {},
   "outputs": [],
   "source": [
    "import scipy.optimize as opt\n",
    "import numpy as np\n",
    "import matplotlib.pyplot as plt"
   ]
  },
  {
   "cell_type": "markdown",
   "metadata": {},
   "source": [
    "We load the data. Now it can be just with an array instead of a pandas DataFrame."
   ]
  },
  {
   "cell_type": "code",
   "execution_count": null,
   "metadata": {},
   "outputs": [],
   "source": [
    "[xdata,ydata] = np.loadtxt(\"Scatter_data.csv\",delimiter=',').T #The traspose has to be made in order to load columns instead of rows"
   ]
  },
  {
   "cell_type": "code",
   "execution_count": null,
   "metadata": {},
   "outputs": [],
   "source": [
    "fig,ac = plt.subplots()\n",
    "ac.scatter(xdata,ydata)"
   ]
  },
  {
   "cell_type": "markdown",
   "metadata": {},
   "source": [
    "We define the fitting function (our model) with the independent variable $x$, and the set of parameters (the parameters name is free)"
   ]
  },
  {
   "cell_type": "code",
   "execution_count": null,
   "metadata": {},
   "outputs": [],
   "source": [
    "def f(x,a0,a1,a2):\n",
    "    return a0+a1*np.exp(a2*x)"
   ]
  },
  {
   "cell_type": "markdown",
   "metadata": {},
   "source": [
    "And we perform the curve fitting. Note the `p0` argument. It gives an initial guess. Otherwise the iterative process can be very long and eventually, it an fail. It gives two results. The first is the solution. The second is the covariance matrix. The diagonal of this matrix is the statistical variance of the solutions."
   ]
  },
  {
   "cell_type": "code",
   "execution_count": null,
   "metadata": {},
   "outputs": [],
   "source": [
    "popt, pcov = opt.curve_fit(f,xdata,ydata, p0=[100,1,-1])"
   ]
  },
  {
   "cell_type": "code",
   "execution_count": null,
   "metadata": {},
   "outputs": [],
   "source": [
    "[a0,a1,a2] = popt"
   ]
  },
  {
   "cell_type": "markdown",
   "metadata": {},
   "source": [
    "Let's calculate the predicted values of a uniform $x$ distribution"
   ]
  },
  {
   "cell_type": "code",
   "execution_count": null,
   "metadata": {},
   "outputs": [],
   "source": [
    "xdata_plot = np.linspace(0,20,250)\n",
    "ydata_plot = f(xdata_plot,a0,a1,a2)"
   ]
  },
  {
   "cell_type": "markdown",
   "metadata": {},
   "source": [
    "And let's plot it, with comparison with linear regression."
   ]
  },
  {
   "cell_type": "code",
   "execution_count": null,
   "metadata": {},
   "outputs": [],
   "source": [
    "fig,ax = plt.subplots()\n",
    "ax.scatter(xdata,ydata)\n",
    "ax.plot(x_plot,y_plot,\"r-\",linewidth=3)\n",
    "ax.plot(xdata_plot,ydata_plot,\"g-\",linewidth=3)\n",
    "ax.text(9.0,101,r\"$y = {:.2f} {:+.2g}x$\".format(a,b),color=\"red\")\n",
    "ax.text(9.0,100,r\"$y = {:.2f} {:+.2g}e^{{a2 x}}$\".format(a0,a1,a2),color=\"green\")"
   ]
  },
  {
   "cell_type": "markdown",
   "metadata": {},
   "source": [
    "The statsmodel ols gives the R-squared as part of the results."
   ]
  },
  {
   "cell_type": "code",
   "execution_count": null,
   "metadata": {},
   "outputs": [],
   "source": [
    "result.rsquared"
   ]
  },
  {
   "cell_type": "markdown",
   "metadata": {},
   "source": [
    "The scipy optimize doesn't do this computation, but it is easy to perform by hand, as stated in this [stackoverflow](https://stackoverflow.com/questions/19189362/getting-the-r-squared-value-using-curve-fit) answer, according to [wikipedia page](https://en.wikipedia.org/wiki/Coefficient_of_determination#Definitions)."
   ]
  },
  {
   "cell_type": "code",
   "execution_count": null,
   "metadata": {},
   "outputs": [],
   "source": [
    "residuals = ydata - f(xdata,a0,a1,a2)\n",
    "ss_res = np.sum(residuals**2)\n",
    "ss_tot = np.sum((ydata-np.mean(ydata))**2)\n",
    "r_squared = 1 - (ss_res / ss_tot)"
   ]
  },
  {
   "cell_type": "code",
   "execution_count": null,
   "metadata": {},
   "outputs": [],
   "source": [
    "r_squared"
   ]
  }
 ],
 "metadata": {
  "kernelspec": {
   "display_name": "Python 3",
   "language": "python",
   "name": "python3"
  },
  "language_info": {
   "codemirror_mode": {
    "name": "ipython",
    "version": 3
   },
   "file_extension": ".py",
   "mimetype": "text/x-python",
   "name": "python",
   "nbconvert_exporter": "python",
   "pygments_lexer": "ipython3",
   "version": "3.9.2"
  },
  "toc-autonumbering": false,
  "toc-showcode": false
 },
 "nbformat": 4,
 "nbformat_minor": 4
}
