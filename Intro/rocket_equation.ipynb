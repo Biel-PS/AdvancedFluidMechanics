{
 "cells": [
  {
   "cell_type": "code",
   "execution_count": null,
   "id": "activated-salvation",
   "metadata": {},
   "outputs": [],
   "source": [
    "import sympy as sp"
   ]
  },
  {
   "cell_type": "code",
   "execution_count": null,
   "id": "lasting-uniform",
   "metadata": {},
   "outputs": [],
   "source": [
    "m0,mDot,t,vg = sp.symbols('m_0,\\dot{m},t,v_g')"
   ]
  },
  {
   "cell_type": "code",
   "execution_count": null,
   "id": "local-scale",
   "metadata": {},
   "outputs": [],
   "source": [
    "v = sp.Function('v')"
   ]
  },
  {
   "cell_type": "code",
   "execution_count": null,
   "id": "catholic-reward",
   "metadata": {},
   "outputs": [],
   "source": [
    "ode = sp.Eq((m0+mDot*t)*v(t).diff(t),-mDot*vg)\n",
    "display(ode)"
   ]
  },
  {
   "cell_type": "code",
   "execution_count": null,
   "id": "defensive-thousand",
   "metadata": {},
   "outputs": [],
   "source": [
    "codCont = {v(0):0}\n",
    "sol = sp.dsolve(ode,ics=codCont)\n",
    "display(sol)"
   ]
  },
  {
   "cell_type": "code",
   "execution_count": null,
   "id": "useful-recycling",
   "metadata": {},
   "outputs": [],
   "source": [
    "values = {mDot:-1,m0:400,vg:10}\n",
    "v_t = sp.lambdify(t,sol.rhs.subs(values))"
   ]
  },
  {
   "cell_type": "code",
   "execution_count": null,
   "id": "fitted-prayer",
   "metadata": {},
   "outputs": [],
   "source": [
    "import matplotlib.pyplot as plt\n",
    "import numpy as np"
   ]
  },
  {
   "cell_type": "code",
   "execution_count": null,
   "id": "casual-jewelry",
   "metadata": {},
   "outputs": [],
   "source": [
    "tt = np.linspace(0,200,250)\n",
    "vtt = v_t(tt)"
   ]
  },
  {
   "cell_type": "code",
   "execution_count": null,
   "id": "varying-technique",
   "metadata": {},
   "outputs": [],
   "source": [
    "fig,ax = plt.subplots(figsize=(8,4))\n",
    "ax.plot(tt,vtt)"
   ]
  },
  {
   "cell_type": "code",
   "execution_count": null,
   "id": "legendary-eligibility",
   "metadata": {},
   "outputs": [],
   "source": [
    "x = sol.rhs.integrate(t)"
   ]
  },
  {
   "cell_type": "code",
   "execution_count": null,
   "id": "former-press",
   "metadata": {},
   "outputs": [],
   "source": [
    "display(x)"
   ]
  }
 ],
 "metadata": {
  "kernelspec": {
   "display_name": "Python 3",
   "language": "python",
   "name": "python3"
  },
  "language_info": {
   "codemirror_mode": {
    "name": "ipython",
    "version": 3
   },
   "file_extension": ".py",
   "mimetype": "text/x-python",
   "name": "python",
   "nbconvert_exporter": "python",
   "pygments_lexer": "ipython3",
   "version": "3.8.5"
  }
 },
 "nbformat": 4,
 "nbformat_minor": 5
}
