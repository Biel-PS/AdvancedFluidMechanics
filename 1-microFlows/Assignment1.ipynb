{
  "cells": [
    {
      "cell_type": "markdown",
      "metadata": {
        "id": "view-in-github",
        "colab_type": "text"
      },
      "source": [
        "<a href=\"https://colab.research.google.com/github/Biel-PS/AdvancedFluidMechanics/blob/BielPS/Assignment1.ipynb\" target=\"_parent\"><img src=\"https://colab.research.google.com/assets/colab-badge.svg\" alt=\"Open In Colab\"/></a>"
      ]
    },
    {
      "cell_type": "markdown",
      "id": "de72bbf3-f61e-4574-a6c5-23a8e761544c",
      "metadata": {
        "id": "de72bbf3-f61e-4574-a6c5-23a8e761544c"
      },
      "source": [
        "# Assignment 1. Computation of journal bearing"
      ]
    },
    {
      "cell_type": "markdown",
      "id": "dddfa6fc-5a11-46ae-bea4-5a8262bc04e8",
      "metadata": {
        "id": "dddfa6fc-5a11-46ae-bea4-5a8262bc04e8"
      },
      "source": [
        "It is possible to use the Reynolds equation to compute de eccentricity and the angle of a journal bearing with fluid film lubrication, given the load $W$\n",
        "\n",
        "![image.png](https://github.com/Biel-PS/AdvancedFluidMechanics/blob/BielPS/1-microFlows/Journal_bearing1.png?raw=1)\n",
        "\n",
        "Consider that the journal is displaced in the $x$ negative direction, so that $h(\\theta) = h_0(1+\\varepsilon \\cos(\\theta))$ where $\\varepsilon=\\frac{e}{h_0}$ is the relative eccentricity and $h_0 = \\frac{1}{2}(D_b -D_a)$ is the average gap thickness. The journal is rotating in the positive direction of $\\theta$ (polar coordinates)\n",
        "\n",
        "![image.png](https://github.com/Biel-PS/AdvancedFluidMechanics/blob/BielPS/1-microFlows/Journal_bearing2.png?raw=1)\n",
        "\n",
        "1. Calculate the pressure distribution $p(\\theta)$ and the value and direction of $\\mathbf{W}$, in the approximation $\\varepsilon \\ll 1$.\n",
        "2. What happens to the journal if $\\mathbf{W}$ increase a little bit?\n",
        "3. Apply the results to this real [example](https://www.mcmaster.com/6658K738/), and discuss the value of the maximum load given by the manufactures at this rotational velocity.\n",
        "![image.png](https://github.com/Biel-PS/AdvancedFluidMechanics/blob/BielPS/1-microFlows/McMaster-Carr_JB.png?raw=1)"
      ]
    },
    {
      "cell_type": "markdown",
      "source": [
        "# **Assignment 1 solution**\n",
        "by Group 1: Tobia Pedrotti, Jinuk Lim, Biel Pujadas and Savely Surnachev\n",
        "\n",
        "First of all, as usual, libraries are imported. For this specific problem, it has been used the symbolic mathematics library known as *sympy*. It will be used for algebraic operations and its implemented solvers.\n",
        "\n",
        "The \"*sp.init_printing()*\" command is for the correct visualization of mathematic expressions."
      ],
      "metadata": {
        "id": "VG-_QpSvmI6t"
      },
      "id": "VG-_QpSvmI6t"
    },
    {
      "cell_type": "code",
      "source": [
        "import sympy as sp\n",
        "sp.init_printing()"
      ],
      "metadata": {
        "id": "VC6UzQ0opfbE"
      },
      "id": "VC6UzQ0opfbE",
      "execution_count": 2,
      "outputs": []
    },
    {
      "cell_type": "markdown",
      "source": [
        "With the libraries imported, variables can now be defined, as well as functions."
      ],
      "metadata": {
        "id": "Z6HQoBH0t3pW"
      },
      "id": "Z6HQoBH0t3pW"
    },
    {
      "cell_type": "code",
      "source": [
        "x,y,t,mu = sp.symbols('x,y,t,mu')\n",
        "Ub,Ut = sp.symbols('U_b,U_t') #Initial conditions \"bottom\" and \"top\"\n",
        "u = sp.Function('u')\n",
        "p = sp.Function('p')\n",
        "h = sp.Function('h')\n",
        "p_x = sp.Function('p_x') # This function is the gradient of pressure in x direction"
      ],
      "metadata": {
        "id": "c5BKvPHApiNW"
      },
      "id": "c5BKvPHApiNW",
      "execution_count": 3,
      "outputs": []
    },
    {
      "cell_type": "markdown",
      "source": [
        "---\n",
        "Once the variables and functions are defined, the main algebraic expression can be crafted\n"
      ],
      "metadata": {
        "id": "UlpSwiJtuSeQ"
      },
      "id": "UlpSwiJtuSeQ"
    },
    {
      "cell_type": "code",
      "source": [
        "exp = -p_x(x)/mu+sp.diff(u(y),y,2)\n",
        "sp.Eq(exp,0)"
      ],
      "metadata": {
        "id": "8Q7kcXwrq_34",
        "colab": {
          "base_uri": "https://localhost:8080/",
          "height": 57
        },
        "outputId": "4c6ec6b2-2b92-4878-e0be-600edb978f66"
      },
      "id": "8Q7kcXwrq_34",
      "execution_count": 4,
      "outputs": [
        {
          "output_type": "execute_result",
          "data": {
            "text/plain": [
              " 2                   \n",
              "d           pₓ(x)    \n",
              "───(u(y)) - ───── = 0\n",
              "  2           μ      \n",
              "dy                   "
            ],
            "text/latex": "$\\displaystyle \\frac{d^{2}}{d y^{2}} u{\\left(y \\right)} - \\frac{p_{x}{\\left(x \\right)}}{\\mu} = 0$"
          },
          "metadata": {},
          "execution_count": 4
        }
      ]
    },
    {
      "cell_type": "markdown",
      "source": [
        "To solve this differential equation, two boundary conditions are defined: the speed of the fluid at the bottom and the top of the analysis.\n",
        "\n",
        "As the boundary conditions are set, the command *.dsolve* can solve the First-order differential equation, and command *.simplify* is used to simplify the return."
      ],
      "metadata": {
        "id": "CyGA7P04vWvW"
      },
      "id": "CyGA7P04vWvW"
    },
    {
      "cell_type": "code",
      "source": [
        "ics = {u(0):Ub,u(h(x)):Ut}\n",
        "Sol = sp.dsolve(exp,u(y),ics=ics)\n",
        "Sol = Sol.simplify()"
      ],
      "metadata": {
        "id": "9oG-j1fysx36"
      },
      "id": "9oG-j1fysx36",
      "execution_count": 5,
      "outputs": []
    },
    {
      "cell_type": "markdown",
      "source": [
        "To obtain the volumetric flow rate, the velocity profile is integrated across the film thickness \\( h(x) \\).\n"
      ],
      "metadata": {
        "id": "_EFoKJIgbFzv"
      },
      "id": "_EFoKJIgbFzv"
    },
    {
      "cell_type": "code",
      "source": [
        "U = sp.symbols('U')\n",
        "Sol = Sol.replace(Ut,U).replace(Ub,0)\n",
        "intU = sp.integrate(Sol.rhs,(y,0,h(x)))\n"
      ],
      "metadata": {
        "id": "vb-fVs-BbCjY"
      },
      "id": "vb-fVs-BbCjY",
      "execution_count": 6,
      "outputs": []
    },
    {
      "cell_type": "markdown",
      "source": [
        "To describe the lubrication flow, we derive the Reynolds equation by applying the continuity equation."
      ],
      "metadata": {
        "id": "KyUI7_VtddcI"
      },
      "id": "KyUI7_VtddcI"
    },
    {
      "cell_type": "code",
      "source": [
        "ReynoldsEq = sp.Eq(intU.diff(x),0)\n",
        "ReynoldsEq = ReynoldsEq.expand()"
      ],
      "metadata": {
        "id": "hKPsHjOsdYzd"
      },
      "id": "hKPsHjOsdYzd",
      "execution_count": 7,
      "outputs": []
    },
    {
      "cell_type": "markdown",
      "source": [
        "To calculate the pressure distribution, we set up the governing equation for pressure gradient. Deffining in the proces the flow rate *q*."
      ],
      "metadata": {
        "id": "Ld3fQ9mueMkD"
      },
      "id": "Ld3fQ9mueMkD"
    },
    {
      "cell_type": "code",
      "source": [
        "q = sp.symbols('q')\n",
        "exp_dpdx = sp.solve(intU-q,p_x(x))\n",
        "\n",
        "p_eq = sp.Eq(p_x(x), exp_dpdx[0])\n",
        "p_eq = p_eq.replace(p_x(x),p(x).diff(x))"
      ],
      "metadata": {
        "id": "fQh6Q9naePg5"
      },
      "id": "fQh6Q9naePg5",
      "execution_count": 8,
      "outputs": []
    },
    {
      "cell_type": "markdown",
      "source": [
        "To solve for  $p(x)$, we:  \n",
        "1. Replace $h(x)$ with its perturbed form $h_0 (1 + \\epsilon \\cos(x))$.\n",
        "2. Expand the equation using a Taylor series up to third-order terms in $( \\epsilon $) and simplify.\n",
        "3. Solve the resulting differential equation using symbolic computation .dsolve applying boundary conditions.  \n",
        "4. Simplify the final expression.  "
      ],
      "metadata": {
        "id": "XnvqTJbmfbUL"
      },
      "id": "XnvqTJbmfbUL"
    },
    {
      "cell_type": "code",
      "execution_count": 9,
      "id": "2dc35a6f-bba9-4d1d-82cf-c39dfdab2c84",
      "metadata": {
        "id": "2dc35a6f-bba9-4d1d-82cf-c39dfdab2c84",
        "outputId": "e2c54f78-344f-46a8-ee18-d2489a0a0d66",
        "colab": {
          "base_uri": "https://localhost:8080/",
          "height": 168
        }
      },
      "outputs": [
        {
          "output_type": "display_data",
          "data": {
            "text/plain": [
              "d          6⋅μ⋅(U⋅h₀⋅(ε⋅cos(x) + 1) - 2⋅q)\n",
              "──(p(x)) = ───────────────────────────────\n",
              "dx                 3               3      \n",
              "                 h₀ ⋅(ε⋅cos(x) + 1)       "
            ],
            "text/latex": "$\\displaystyle \\frac{d}{d x} p{\\left(x \\right)} = \\frac{6 \\mu \\left(U h_{0} \\left(\\epsilon \\cos{\\left(x \\right)} + 1\\right) - 2 q\\right)}{h_{0}^{3} \\left(\\epsilon \\cos{\\left(x \\right)} + 1\\right)^{3}}$"
          },
          "metadata": {}
        },
        {
          "output_type": "display_data",
          "data": {
            "text/plain": [
              "               ⎛         ⎛             2                  2                                   ⎞    ↪\n",
              "d          6⋅μ⋅⎝U⋅h₀ + ε⋅⎝-2⋅U⋅h₀ + 4⋅ε ⋅(-U⋅h₀ + 5⋅q)⋅cos (x) + 3⋅ε⋅(U⋅h₀ - 4⋅q)⋅cos(x) + 6⋅q⎠⋅co ↪\n",
              "──(p(x)) = ─────────────────────────────────────────────────────────────────────────────────────── ↪\n",
              "dx                                                          3                                      ↪\n",
              "                                                          h₀                                       ↪\n",
              "\n",
              "↪           ⎞\n",
              "↪ s(x) - 2⋅q⎠\n",
              "↪ ───────────\n",
              "↪            \n",
              "↪            "
            ],
            "text/latex": "$\\displaystyle \\frac{d}{d x} p{\\left(x \\right)} = \\frac{6 \\mu \\left(U h_{0} + \\epsilon \\left(- 2 U h_{0} + 4 \\epsilon^{2} \\left(- U h_{0} + 5 q\\right) \\cos^{2}{\\left(x \\right)} + 3 \\epsilon \\left(U h_{0} - 4 q\\right) \\cos{\\left(x \\right)} + 6 q\\right) \\cos{\\left(x \\right)} - 2 q\\right)}{h_{0}^{3}}$"
          },
          "metadata": {}
        },
        {
          "output_type": "display_data",
          "data": {
            "text/plain": [
              "         3           ⎛       3       3            3                  2             2               ↪\n",
              "       h₀ ⋅p_ref - μ⋅⎝- 8⋅U⋅ε ⋅h₀⋅sin (x) + 24⋅U⋅ε ⋅h₀⋅sin(x) - 9⋅U⋅ε ⋅h₀⋅x - 9⋅U⋅ε ⋅h₀⋅sin(x)⋅cos ↪\n",
              "p(x) = ─────────────────────────────────────────────────────────────────────────────────────────── ↪\n",
              "                                                                                                   ↪\n",
              "                                                                                                   ↪\n",
              "\n",
              "↪                                         3      3           3                2           2        ↪\n",
              "↪ (x) + 12⋅U⋅ε⋅h₀⋅sin(x) - 6⋅U⋅h₀⋅x + 40⋅ε ⋅q⋅sin (x) - 120⋅ε ⋅q⋅sin(x) + 36⋅ε ⋅q⋅x + 36⋅ε ⋅q⋅sin( ↪\n",
              "↪ ──────────────────────────────────────────────────────────────────────────────────────────────── ↪\n",
              "↪                     3                                                                            ↪\n",
              "↪                   h₀                                                                             ↪\n",
              "\n",
              "↪                                   ⎞\n",
              "↪ x)⋅cos(x) - 36⋅ε⋅q⋅sin(x) + 12⋅q⋅x⎠\n",
              "↪ ───────────────────────────────────\n",
              "↪                                    \n",
              "↪                                    "
            ],
            "text/latex": "$\\displaystyle p{\\left(x \\right)} = \\frac{h_{0}^{3} p_{ref} - \\mu \\left(- 8 U \\epsilon^{3} h_{0} \\sin^{3}{\\left(x \\right)} + 24 U \\epsilon^{3} h_{0} \\sin{\\left(x \\right)} - 9 U \\epsilon^{2} h_{0} x - 9 U \\epsilon^{2} h_{0} \\sin{\\left(x \\right)} \\cos{\\left(x \\right)} + 12 U \\epsilon h_{0} \\sin{\\left(x \\right)} - 6 U h_{0} x + 40 \\epsilon^{3} q \\sin^{3}{\\left(x \\right)} - 120 \\epsilon^{3} q \\sin{\\left(x \\right)} + 36 \\epsilon^{2} q x + 36 \\epsilon^{2} q \\sin{\\left(x \\right)} \\cos{\\left(x \\right)} - 36 \\epsilon q \\sin{\\left(x \\right)} + 12 q x\\right)}{h_{0}^{3}}$"
          },
          "metadata": {}
        }
      ],
      "source": [
        "h0,epsi,r = sp.symbols('h_0, epsilon,r')\n",
        "p_eq = p_eq.replace(h(x),h0*(1+epsi*sp.cos(x))) #theta for x\n",
        "display(p_eq)\n",
        "\n",
        "p_sol = sp.Eq(p_eq.lhs,p_eq.rhs.series(epsi,0,n=4).removeO())\n",
        "p_sol = p_sol.simplify()\n",
        "display(p_sol)\n",
        "\n",
        "pref = sp.symbols('p_ref')\n",
        "p_sol = sp.dsolve(p_sol,p(x),ics={p(0):pref})\n",
        "p_sol = p_sol.simplify()\n",
        "display(p_sol)"
      ]
    },
    {
      "cell_type": "markdown",
      "source": [
        "Now, we can solve volumetric flow rate \\( q \\) and apply boundary conditions"
      ],
      "metadata": {
        "id": "Wl_z1R7lg2nQ"
      },
      "id": "Wl_z1R7lg2nQ"
    },
    {
      "cell_type": "code",
      "source": [
        "q_sol = sp.solve(p_sol.replace(x,2*sp.pi).replace(p(2*sp.pi),pref),q)[0]\n",
        "display(q_sol)"
      ],
      "metadata": {
        "id": "ja85YHL_0od4",
        "outputId": "cff3f0f1-2da8-4491-8e1a-95283321a740",
        "colab": {
          "base_uri": "https://localhost:8080/",
          "height": 60
        }
      },
      "id": "ja85YHL_0od4",
      "execution_count": 10,
      "outputs": [
        {
          "output_type": "display_data",
          "data": {
            "text/plain": [
              "     ⎛   2    ⎞\n",
              "U⋅h₀⋅⎝3⋅ε  + 2⎠\n",
              "───────────────\n",
              "   ⎛   2    ⎞  \n",
              " 4⋅⎝3⋅ε  + 1⎠  "
            ],
            "text/latex": "$\\displaystyle \\frac{U h_{0} \\left(3 \\epsilon^{2} + 2\\right)}{4 \\left(3 \\epsilon^{2} + 1\\right)}$"
          },
          "metadata": {}
        }
      ]
    },
    {
      "cell_type": "markdown",
      "source": [
        "We now replace $q$ with its definition, and we solve it"
      ],
      "metadata": {
        "id": "OUc2IR06joHe"
      },
      "id": "OUc2IR06joHe"
    },
    {
      "cell_type": "code",
      "source": [
        "p_sol = p_sol.replace(q,q_sol)\n",
        "display(p_sol)"
      ],
      "metadata": {
        "id": "mMjwNACH04hK",
        "outputId": "ae6f28a7-f326-41bc-e582-ba8132a1be7c",
        "colab": {
          "base_uri": "https://localhost:8080/",
          "height": 102
        }
      },
      "id": "mMjwNACH04hK",
      "execution_count": 12,
      "outputs": [
        {
          "output_type": "display_data",
          "data": {
            "text/plain": [
              "                     ⎛                                                3    ⎛   2    ⎞    3         ↪\n",
              "         3           ⎜       3       3            3             10⋅U⋅ε ⋅h₀⋅⎝3⋅ε  + 2⎠⋅sin (x)   30 ↪\n",
              "       h₀ ⋅p_ref - μ⋅⎜- 8⋅U⋅ε ⋅h₀⋅sin (x) + 24⋅U⋅ε ⋅h₀⋅sin(x) + ───────────────────────────── - ── ↪\n",
              "                     ⎜                                                       2                     ↪\n",
              "                     ⎝                                                    3⋅ε  + 1                 ↪\n",
              "p(x) = ─────────────────────────────────────────────────────────────────────────────────────────── ↪\n",
              "                                                                                                   ↪\n",
              "                                                                                                   ↪\n",
              "\n",
              "↪     3    ⎛   2    ⎞                             2      ⎛   2    ⎞                                ↪\n",
              "↪ ⋅U⋅ε ⋅h₀⋅⎝3⋅ε  + 2⎠⋅sin(x)        2        9⋅U⋅ε ⋅h₀⋅x⋅⎝3⋅ε  + 2⎠        2                    9⋅ ↪\n",
              "↪ ────────────────────────── - 9⋅U⋅ε ⋅h₀⋅x + ────────────────────── - 9⋅U⋅ε ⋅h₀⋅sin(x)⋅cos(x) + ── ↪\n",
              "↪            2                                         2                                           ↪\n",
              "↪         3⋅ε  + 1                                  3⋅ε  + 1                                       ↪\n",
              "↪ ──────────────────────────────────────────────────────────────────────────────────────────────── ↪\n",
              "↪                                                             3                                    ↪\n",
              "↪                                                           h₀                                     ↪\n",
              "\n",
              "↪    2    ⎛   2    ⎞                                             ⎛   2    ⎞                        ↪\n",
              "↪ U⋅ε ⋅h₀⋅⎝3⋅ε  + 2⎠⋅sin(x)⋅cos(x)                      9⋅U⋅ε⋅h₀⋅⎝3⋅ε  + 2⎠⋅sin(x)              3⋅ ↪\n",
              "↪ ──────────────────────────────── + 12⋅U⋅ε⋅h₀⋅sin(x) - ────────────────────────── - 6⋅U⋅h₀⋅x + ── ↪\n",
              "↪               2                                                   2                              ↪\n",
              "↪            3⋅ε  + 1                                            3⋅ε  + 1                          ↪\n",
              "↪ ──────────────────────────────────────────────────────────────────────────────────────────────── ↪\n",
              "↪                                                                                                  ↪\n",
              "↪                                                                                                  ↪\n",
              "\n",
              "↪        ⎛   2    ⎞⎞\n",
              "↪ U⋅h₀⋅x⋅⎝3⋅ε  + 2⎠⎟\n",
              "↪ ─────────────────⎟\n",
              "↪       2          ⎟\n",
              "↪    3⋅ε  + 1      ⎠\n",
              "↪ ──────────────────\n",
              "↪                   \n",
              "↪                   "
            ],
            "text/latex": "$\\displaystyle p{\\left(x \\right)} = \\frac{h_{0}^{3} p_{ref} - \\mu \\left(- 8 U \\epsilon^{3} h_{0} \\sin^{3}{\\left(x \\right)} + 24 U \\epsilon^{3} h_{0} \\sin{\\left(x \\right)} + \\frac{10 U \\epsilon^{3} h_{0} \\left(3 \\epsilon^{2} + 2\\right) \\sin^{3}{\\left(x \\right)}}{3 \\epsilon^{2} + 1} - \\frac{30 U \\epsilon^{3} h_{0} \\left(3 \\epsilon^{2} + 2\\right) \\sin{\\left(x \\right)}}{3 \\epsilon^{2} + 1} - 9 U \\epsilon^{2} h_{0} x + \\frac{9 U \\epsilon^{2} h_{0} x \\left(3 \\epsilon^{2} + 2\\right)}{3 \\epsilon^{2} + 1} - 9 U \\epsilon^{2} h_{0} \\sin{\\left(x \\right)} \\cos{\\left(x \\right)} + \\frac{9 U \\epsilon^{2} h_{0} \\left(3 \\epsilon^{2} + 2\\right) \\sin{\\left(x \\right)} \\cos{\\left(x \\right)}}{3 \\epsilon^{2} + 1} + 12 U \\epsilon h_{0} \\sin{\\left(x \\right)} - \\frac{9 U \\epsilon h_{0} \\left(3 \\epsilon^{2} + 2\\right) \\sin{\\left(x \\right)}}{3 \\epsilon^{2} + 1} - 6 U h_{0} x + \\frac{3 U h_{0} x \\left(3 \\epsilon^{2} + 2\\right)}{3 \\epsilon^{2} + 1}\\right)}{h_{0}^{3}}$"
          },
          "metadata": {}
        }
      ]
    },
    {
      "cell_type": "markdown",
      "source": [
        "The pressure solution $( p_{\\text{sol}} $) is modified by subtracting the reference pressure $( p_{\\text{ref}} $\\) from both sides and multiplying the right-hand side by $( \\cos(x) $). This adjustment accounts for the pressure variation along the angular direction $( x ) $.\n",
        "\n",
        "Next, the load $( W $) is calculated by integrating the modified pressure distribution over one full cycle $from $ x = 0 $ to $ x = 2π . .\n",
        "\n"
      ],
      "metadata": {
        "id": "ud0XCJWllcuS"
      },
      "id": "ud0XCJWllcuS"
    },
    {
      "cell_type": "code",
      "source": [
        "p_sol = sp.Eq(p_sol.lhs-pref,(p_sol.rhs-pref)*sp.sin(x))\n",
        "\n",
        "\n",
        "W = p_sol.rhs.integrate((x,0,2*sp.pi))\n",
        "display(W)"
      ],
      "metadata": {
        "id": "a_UTpb941L3L",
        "outputId": "30f4cffa-77c8-4ca3-8b76-1806517565eb",
        "colab": {
          "base_uri": "https://localhost:8080/",
          "height": 58
        }
      },
      "id": "a_UTpb941L3L",
      "execution_count": 13,
      "outputs": [
        {
          "output_type": "display_data",
          "data": {
            "text/plain": [
              "           5                   3                         \n",
              "   54⋅π⋅U⋅ε ⋅μ         72⋅π⋅U⋅ε ⋅μ         24⋅π⋅U⋅ε⋅μ    \n",
              "───────────────── + ───────────────── + ─────────────────\n",
              "    2   2       2       2   2       2       2   2       2\n",
              "12⋅ε ⋅h₀  + 4⋅h₀    12⋅ε ⋅h₀  + 4⋅h₀    12⋅ε ⋅h₀  + 4⋅h₀ "
            ],
            "text/latex": "$\\displaystyle \\frac{54 \\pi U \\epsilon^{5} \\mu}{12 \\epsilon^{2} h_{0}^{2} + 4 h_{0}^{2}} + \\frac{72 \\pi U \\epsilon^{3} \\mu}{12 \\epsilon^{2} h_{0}^{2} + 4 h_{0}^{2}} + \\frac{24 \\pi U \\epsilon \\mu}{12 \\epsilon^{2} h_{0}^{2} + 4 h_{0}^{2}}$"
          },
          "metadata": {}
        }
      ]
    },
    {
      "cell_type": "markdown",
      "source": [
        " **Applying the Results to a Real Example and Discussing the Maximum Load at Given Rotational Velocity**\n"
      ],
      "metadata": {
        "id": "k63lmh6epVqN"
      },
      "id": "k63lmh6epVqN"
    },
    {
      "cell_type": "markdown",
      "source": [
        "The required libraries for creating plots and visualizing data:\n"
      ],
      "metadata": {
        "id": "vHoh4i3Gqwz2"
      },
      "id": "vHoh4i3Gqwz2"
    },
    {
      "cell_type": "code",
      "source": [
        "import matplotlib.pyplot as plt\n",
        "import numpy as np\n",
        "%matplotlib inline"
      ],
      "metadata": {
        "id": "IhEK97RHp0mm"
      },
      "id": "IhEK97RHp0mm",
      "execution_count": 14,
      "outputs": []
    },
    {
      "cell_type": "markdown",
      "source": [
        "Several physical parameters related to the journal bearing system are defined: r, $ω$, U, h"
      ],
      "metadata": {
        "id": "6_Pu8Z7Aq67g"
      },
      "id": "6_Pu8Z7Aq67g"
    },
    {
      "cell_type": "code",
      "source": [
        "r = 0.005005\n",
        "omega = 120*2*sp.pi/60\n",
        "U1 = r * omega\n",
        "h01 = 0.005e-3\n",
        "#Weight = sp.lambdify(epsi,W)\n",
        "\n",
        "values = {pref:1,U:U1,h0:h01,mu:46.43} #mu: viscosity at 50 degrees celcius"
      ],
      "metadata": {
        "id": "FA-98Outp38U"
      },
      "id": "FA-98Outp38U",
      "execution_count": 15,
      "outputs": []
    },
    {
      "cell_type": "markdown",
      "source": [
        "Now, we can plot it and evaluate how the load changes and assess the performance of the journal bearing in this setup."
      ],
      "metadata": {
        "id": "1c79N1AVsnYL"
      },
      "id": "1c79N1AVsnYL"
    },
    {
      "cell_type": "code",
      "source": [
        "fig,ax = plt.subplots(figsize=(8,4))\n",
        "tt = np.linspace(0,0.001,250)\n",
        "x1_t = sp.lambdify(epsi,W.subs(values))\n",
        "ax.plot(tt,x1_t(tt).real)\n",
        "ax.legend()\n",
        "ax.set_xlabel(r'$\\xi$')\n",
        "ax.set_ylabel(r'$F_y [N]$')\n",
        "ax.grid(which='major',axis='both')"
      ],
      "metadata": {
        "id": "_K9n_cwl13nf",
        "outputId": "b91f7acc-336c-4014-f75a-a47de3991360",
        "colab": {
          "base_uri": "https://localhost:8080/",
          "height": 442
        }
      },
      "id": "_K9n_cwl13nf",
      "execution_count": 20,
      "outputs": [
        {
          "output_type": "stream",
          "name": "stderr",
          "text": [
            "<ipython-input-20-47b8e22aa610>:5: UserWarning: No artists with labels found to put in legend.  Note that artists whose label start with an underscore are ignored when legend() is called with no argument.\n",
            "  ax.legend()\n"
          ]
        },
        {
          "output_type": "display_data",
          "data": {
            "text/plain": [
              "<Figure size 800x400 with 1 Axes>"
            ],
            "image/png": "[encoded data removed]"
          },
          "metadata": {}
        }
      ]
    }
  ],
  "metadata": {
    "kernelspec": {
      "display_name": "Python 3 (ipykernel)",
      "language": "python",
      "name": "python3"
    },
    "language_info": {
      "codemirror_mode": {
        "name": "ipython",
        "version": 3
      },
      "file_extension": ".py",
      "mimetype": "text/x-python",
      "name": "python",
      "nbconvert_exporter": "python",
      "pygments_lexer": "ipython3",
      "version": "3.8.15"
    },
    "colab": {
      "provenance": [],
      "include_colab_link": true
    }
  },
  "nbformat": 4,
  "nbformat_minor": 5
}