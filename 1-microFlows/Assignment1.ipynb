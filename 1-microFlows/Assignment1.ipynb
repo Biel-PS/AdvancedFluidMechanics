{
  "cells": [
    {
      "cell_type": "markdown",
      "metadata": {
        "id": "view-in-github",
        "colab_type": "text"
      },
      "source": [
        "<a href=\"https://colab.research.google.com/github/Biel-PS/AdvancedFluidMechanics/blob/BielPS/1-microFlows/Assignment1.ipynb\" target=\"_parent\"><img src=\"https://colab.research.google.com/assets/colab-badge.svg\" alt=\"Open In Colab\"/></a>"
      ]
    },
    {
      "cell_type": "markdown",
      "id": "de72bbf3-f61e-4574-a6c5-23a8e761544c",
      "metadata": {
        "id": "de72bbf3-f61e-4574-a6c5-23a8e761544c"
      },
      "source": [
        "# Assignment 1. Computation of journal bearing"
      ]
    },
    {
      "cell_type": "markdown",
      "id": "dddfa6fc-5a11-46ae-bea4-5a8262bc04e8",
      "metadata": {
        "id": "dddfa6fc-5a11-46ae-bea4-5a8262bc04e8"
      },
      "source": [
        "It is possible to use the Reynolds equation to compute de eccentricity and the angle of a journal bearing with fluid film lubrication, given the load $W$\n",
        "\n",
        "![image.png](https://github.com/Biel-PS/AdvancedFluidMechanics/blob/BielPS/1-microFlows/Journal_bearing1.png?raw=1)\n",
        "\n",
        "Consider that the journal is displaced in the $x$ negative direction, so that $h(\\theta) = h_0(1+\\varepsilon \\cos(\\theta))$ where $\\varepsilon=\\frac{e}{h_0}$ is the relative eccentricity and $h_0 = \\frac{1}{2}(D_b -D_a)$ is the average gap thickness. The journal is rotating in the positive direction of $\\theta$ (polar coordinates)\n",
        "\n",
        "![image.png](https://github.com/Biel-PS/AdvancedFluidMechanics/blob/BielPS/1-microFlows/Journal_bearing2.png?raw=1)\n",
        "\n",
        "1. Calculate the pressure distribution $p(\\theta)$ and the value and direction of $\\mathbf{W}$, in the approximation $\\varepsilon \\ll 1$.\n",
        "2. What happens to the journal if $\\mathbf{W}$ increase a little bit?\n",
        "3. Apply the results to this real [example](https://www.mcmaster.com/6658K738/), and discuss the value of the maximum load given by the manufactures at this rotational velocity.\n",
        "![image.png](https://github.com/Biel-PS/AdvancedFluidMechanics/blob/BielPS/1-microFlows/McMaster-Carr_JB.png?raw=1)"
      ]
    },
    {
      "cell_type": "code",
      "execution_count": null,
      "id": "2dc35a6f-bba9-4d1d-82cf-c39dfdab2c84",
      "metadata": {
        "id": "2dc35a6f-bba9-4d1d-82cf-c39dfdab2c84",
        "outputId": "c04ac181-8954-483b-b142-16665e7d77dd",
        "colab": {
          "base_uri": "https://localhost:8080/",
          "height": 187
        }
      },
      "outputs": [
        {
          "output_type": "display_data",
          "data": {
            "text/plain": [
              "d          6⋅μ⋅(U⋅h₀⋅(ε⋅cos(x) + 1) - 2⋅q)\n",
              "──(p(x)) = ───────────────────────────────\n",
              "dx                 3               3      \n",
              "                 h₀ ⋅(ε⋅cos(x) + 1)       "
            ],
            "text/latex": "$\\displaystyle \\frac{d}{d x} p{\\left(x \\right)} = \\frac{6 \\mu \\left(U h_{0} \\left(\\epsilon \\cos{\\left(x \\right)} + 1\\right) - 2 q\\right)}{h_{0}^{3} \\left(\\epsilon \\cos{\\left(x \\right)} + 1\\right)^{3}}$"
          },
          "metadata": {}
        },
        {
          "output_type": "display_data",
          "data": {
            "text/plain": [
              "               ⎛         ⎛             2                  2                                   ⎞    ↪\n",
              "d          6⋅μ⋅⎝U⋅h₀ + ε⋅⎝-2⋅U⋅h₀ + 4⋅ε ⋅(-U⋅h₀ + 5⋅q)⋅cos (x) + 3⋅ε⋅(U⋅h₀ - 4⋅q)⋅cos(x) + 6⋅q⎠⋅co ↪\n",
              "──(p(x)) = ─────────────────────────────────────────────────────────────────────────────────────── ↪\n",
              "dx                                                          3                                      ↪\n",
              "                                                          h₀                                       ↪\n",
              "\n",
              "↪           ⎞\n",
              "↪ s(x) - 2⋅q⎠\n",
              "↪ ───────────\n",
              "↪            \n",
              "↪            "
            ],
            "text/latex": "$\\displaystyle \\frac{d}{d x} p{\\left(x \\right)} = \\frac{6 \\mu \\left(U h_{0} + \\epsilon \\left(- 2 U h_{0} + 4 \\epsilon^{2} \\left(- U h_{0} + 5 q\\right) \\cos^{2}{\\left(x \\right)} + 3 \\epsilon \\left(U h_{0} - 4 q\\right) \\cos{\\left(x \\right)} + 6 q\\right) \\cos{\\left(x \\right)} - 2 q\\right)}{h_{0}^{3}}$"
          },
          "metadata": {}
        },
        {
          "output_type": "display_data",
          "data": {
            "text/plain": [
              "         3           ⎛       3       3            3                  2             2               ↪\n",
              "       h₀ ⋅p_ref - μ⋅⎝- 8⋅U⋅ε ⋅h₀⋅sin (x) + 24⋅U⋅ε ⋅h₀⋅sin(x) - 9⋅U⋅ε ⋅h₀⋅x - 9⋅U⋅ε ⋅h₀⋅sin(x)⋅cos ↪\n",
              "p(x) = ─────────────────────────────────────────────────────────────────────────────────────────── ↪\n",
              "                                                                                                   ↪\n",
              "                                                                                                   ↪\n",
              "\n",
              "↪                                         3      3           3                2           2        ↪\n",
              "↪ (x) + 12⋅U⋅ε⋅h₀⋅sin(x) - 6⋅U⋅h₀⋅x + 40⋅ε ⋅q⋅sin (x) - 120⋅ε ⋅q⋅sin(x) + 36⋅ε ⋅q⋅x + 36⋅ε ⋅q⋅sin( ↪\n",
              "↪ ──────────────────────────────────────────────────────────────────────────────────────────────── ↪\n",
              "↪                     3                                                                            ↪\n",
              "↪                   h₀                                                                             ↪\n",
              "\n",
              "↪                                   ⎞\n",
              "↪ x)⋅cos(x) - 36⋅ε⋅q⋅sin(x) + 12⋅q⋅x⎠\n",
              "↪ ───────────────────────────────────\n",
              "↪                                    \n",
              "↪                                    "
            ],
            "text/latex": "$\\displaystyle p{\\left(x \\right)} = \\frac{h_{0}^{3} p_{ref} - \\mu \\left(- 8 U \\epsilon^{3} h_{0} \\sin^{3}{\\left(x \\right)} + 24 U \\epsilon^{3} h_{0} \\sin{\\left(x \\right)} - 9 U \\epsilon^{2} h_{0} x - 9 U \\epsilon^{2} h_{0} \\sin{\\left(x \\right)} \\cos{\\left(x \\right)} + 12 U \\epsilon h_{0} \\sin{\\left(x \\right)} - 6 U h_{0} x + 40 \\epsilon^{3} q \\sin^{3}{\\left(x \\right)} - 120 \\epsilon^{3} q \\sin{\\left(x \\right)} + 36 \\epsilon^{2} q x + 36 \\epsilon^{2} q \\sin{\\left(x \\right)} \\cos{\\left(x \\right)} - 36 \\epsilon q \\sin{\\left(x \\right)} + 12 q x\\right)}{h_{0}^{3}}$"
          },
          "metadata": {}
        }
      ],
      "source": [
        "import sympy as sp\n",
        "sp.init_printing()\n",
        "\n",
        "x,y,t,mu = sp.symbols('x,y,t,mu')\n",
        "u = sp.Function('u')\n",
        "p = sp.Function('p')\n",
        "h = sp.Function('h')\n",
        "p_x = sp.Function('p_x') # This function is the gradient of pressure in x direction\n",
        "\n",
        "exp = -p_x(x)/mu+sp.diff(u(y),y,2)\n",
        "sp.Eq(exp,0)\n",
        "\n",
        "Ub,Ut = sp.symbols('U_b,U_t')\n",
        "ics = {u(0):Ub,u(h(x)):Ut}\n",
        "\n",
        "Sol = sp.dsolve(exp,u(y),ics=ics)\n",
        "Sol = Sol.simplify()\n",
        "\n",
        "U = sp.symbols('U')\n",
        "Sol = Sol.replace(Ut,U).replace(Ub,0)\n",
        "\n",
        "intU = sp.integrate(Sol.rhs,(y,0,h(x)))\n",
        "\n",
        "ReynoldsEq = sp.Eq(intU.diff(x),0)\n",
        "ReynoldsEq = ReynoldsEq.expand()\n",
        "\n",
        "q = sp.symbols('q')\n",
        "exp_dpdx = sp.solve(intU-q,p_x(x))\n",
        "\n",
        "p_eq = sp.Eq(p_x(x), exp_dpdx[0])\n",
        "p_eq = p_eq.replace(p_x(x),p(x).diff(x))\n",
        "\n",
        "h0,epsi,r = sp.symbols('h_0, epsilon,r')\n",
        "p_eq = p_eq.replace(h(x),h0*(1+epsi*sp.cos(x))) #theta for x\n",
        "display(p_eq)\n",
        "\n",
        "p_sol = sp.Eq(p_eq.lhs,p_eq.rhs.series(epsi,0,n=4).removeO())\n",
        "p_sol = p_sol.simplify()\n",
        "display(p_sol)\n",
        "\n",
        "pref = sp.symbols('p_ref')\n",
        "p_sol = sp.dsolve(p_sol,p(x),ics={p(0):pref})\n",
        "p_sol = p_sol.simplify()\n",
        "display(p_sol)"
      ]
    },
    {
      "cell_type": "code",
      "source": [
        "q_sol = sp.solve(p_sol.replace(x,2*sp.pi).replace(p(2*sp.pi),pref),q)[0]\n",
        "display(q_sol)"
      ],
      "metadata": {
        "id": "ja85YHL_0od4",
        "outputId": "c6431de1-65d0-4821-e830-e1f98d73feed",
        "colab": {
          "base_uri": "https://localhost:8080/",
          "height": 60
        }
      },
      "id": "ja85YHL_0od4",
      "execution_count": null,
      "outputs": [
        {
          "output_type": "display_data",
          "data": {
            "text/plain": [
              "     ⎛   2    ⎞\n",
              "U⋅h₀⋅⎝3⋅ε  + 2⎠\n",
              "───────────────\n",
              "   ⎛   2    ⎞  \n",
              " 4⋅⎝3⋅ε  + 1⎠  "
            ],
            "text/latex": "$\\displaystyle \\frac{U h_{0} \\left(3 \\epsilon^{2} + 2\\right)}{4 \\left(3 \\epsilon^{2} + 1\\right)}$"
          },
          "metadata": {}
        }
      ]
    },
    {
      "cell_type": "code",
      "source": [
        "p_sol = p_sol.replace(q,q_sol)\n",
        "display(p_sol)"
      ],
      "metadata": {
        "id": "mMjwNACH04hK",
        "outputId": "22c0d857-4596-4199-96dc-92900ae109b1",
        "colab": {
          "base_uri": "https://localhost:8080/",
          "height": 121
        }
      },
      "id": "mMjwNACH04hK",
      "execution_count": null,
      "outputs": [
        {
          "output_type": "display_data",
          "data": {
            "text/plain": [
              "                     ⎛                                                3    ⎛   2    ⎞    3         ↪\n",
              "         3           ⎜       3       3            3             10⋅U⋅ε ⋅h₀⋅⎝3⋅ε  + 2⎠⋅sin (x)   30 ↪\n",
              "       h₀ ⋅p_ref - μ⋅⎜- 8⋅U⋅ε ⋅h₀⋅sin (x) + 24⋅U⋅ε ⋅h₀⋅sin(x) + ───────────────────────────── - ── ↪\n",
              "                     ⎜                                                       2                     ↪\n",
              "                     ⎝                                                    3⋅ε  + 1                 ↪\n",
              "p(x) = ─────────────────────────────────────────────────────────────────────────────────────────── ↪\n",
              "                                                                                                   ↪\n",
              "                                                                                                   ↪\n",
              "\n",
              "↪     3    ⎛   2    ⎞                             2      ⎛   2    ⎞                                ↪\n",
              "↪ ⋅U⋅ε ⋅h₀⋅⎝3⋅ε  + 2⎠⋅sin(x)        2        9⋅U⋅ε ⋅h₀⋅x⋅⎝3⋅ε  + 2⎠        2                    9⋅ ↪\n",
              "↪ ────────────────────────── - 9⋅U⋅ε ⋅h₀⋅x + ────────────────────── - 9⋅U⋅ε ⋅h₀⋅sin(x)⋅cos(x) + ── ↪\n",
              "↪            2                                         2                                           ↪\n",
              "↪         3⋅ε  + 1                                  3⋅ε  + 1                                       ↪\n",
              "↪ ──────────────────────────────────────────────────────────────────────────────────────────────── ↪\n",
              "↪                                                             3                                    ↪\n",
              "↪                                                           h₀                                     ↪\n",
              "\n",
              "↪    2    ⎛   2    ⎞                                             ⎛   2    ⎞                        ↪\n",
              "↪ U⋅ε ⋅h₀⋅⎝3⋅ε  + 2⎠⋅sin(x)⋅cos(x)                      9⋅U⋅ε⋅h₀⋅⎝3⋅ε  + 2⎠⋅sin(x)              3⋅ ↪\n",
              "↪ ──────────────────────────────── + 12⋅U⋅ε⋅h₀⋅sin(x) - ────────────────────────── - 6⋅U⋅h₀⋅x + ── ↪\n",
              "↪               2                                                   2                              ↪\n",
              "↪            3⋅ε  + 1                                            3⋅ε  + 1                          ↪\n",
              "↪ ──────────────────────────────────────────────────────────────────────────────────────────────── ↪\n",
              "↪                                                                                                  ↪\n",
              "↪                                                                                                  ↪\n",
              "\n",
              "↪        ⎛   2    ⎞⎞\n",
              "↪ U⋅h₀⋅x⋅⎝3⋅ε  + 2⎠⎟\n",
              "↪ ─────────────────⎟\n",
              "↪       2          ⎟\n",
              "↪    3⋅ε  + 1      ⎠\n",
              "↪ ──────────────────\n",
              "↪                   \n",
              "↪                   "
            ],
            "text/latex": "$\\displaystyle p{\\left(x \\right)} = \\frac{h_{0}^{3} p_{ref} - \\mu \\left(- 8 U \\epsilon^{3} h_{0} \\sin^{3}{\\left(x \\right)} + 24 U \\epsilon^{3} h_{0} \\sin{\\left(x \\right)} + \\frac{10 U \\epsilon^{3} h_{0} \\left(3 \\epsilon^{2} + 2\\right) \\sin^{3}{\\left(x \\right)}}{3 \\epsilon^{2} + 1} - \\frac{30 U \\epsilon^{3} h_{0} \\left(3 \\epsilon^{2} + 2\\right) \\sin{\\left(x \\right)}}{3 \\epsilon^{2} + 1} - 9 U \\epsilon^{2} h_{0} x + \\frac{9 U \\epsilon^{2} h_{0} x \\left(3 \\epsilon^{2} + 2\\right)}{3 \\epsilon^{2} + 1} - 9 U \\epsilon^{2} h_{0} \\sin{\\left(x \\right)} \\cos{\\left(x \\right)} + \\frac{9 U \\epsilon^{2} h_{0} \\left(3 \\epsilon^{2} + 2\\right) \\sin{\\left(x \\right)} \\cos{\\left(x \\right)}}{3 \\epsilon^{2} + 1} + 12 U \\epsilon h_{0} \\sin{\\left(x \\right)} - \\frac{9 U \\epsilon h_{0} \\left(3 \\epsilon^{2} + 2\\right) \\sin{\\left(x \\right)}}{3 \\epsilon^{2} + 1} - 6 U h_{0} x + \\frac{3 U h_{0} x \\left(3 \\epsilon^{2} + 2\\right)}{3 \\epsilon^{2} + 1}\\right)}{h_{0}^{3}}$"
          },
          "metadata": {}
        }
      ]
    },
    {
      "cell_type": "code",
      "source": [
        "p_sol = sp.Eq(p_sol.lhs-pref,(p_sol.rhs-pref)*sp.cos(x))\n",
        "\n",
        "\n",
        "W = p_sol.rhs.integrate((x,0,2*sp.pi))\n",
        "display(W)"
      ],
      "metadata": {
        "id": "a_UTpb941L3L",
        "outputId": "b628e1f8-deac-4440-90b2-b6ae411b828a",
        "colab": {
          "base_uri": "https://localhost:8080/",
          "height": 58
        }
      },
      "id": "a_UTpb941L3L",
      "execution_count": null,
      "outputs": [
        {
          "output_type": "display_data",
          "data": {
            "text/plain": [
              "            2      \n",
              "   -90⋅π⋅U⋅ε ⋅μ    \n",
              "───────────────────\n",
              "     2   2        2\n",
              "120⋅ε ⋅h₀  + 40⋅h₀ "
            ],
            "text/latex": "$\\displaystyle - \\frac{90 \\pi U \\epsilon^{2} \\mu}{120 \\epsilon^{2} h_{0}^{2} + 40 h_{0}^{2}}$"
          },
          "metadata": {}
        }
      ]
    },
    {
      "cell_type": "code",
      "source": [
        "import matplotlib.pyplot as plt\n",
        "import numpy as np\n",
        "%matplotlib inline\n",
        "\n",
        "r = 0.005005\n",
        "omega = 120*2*sp.pi/60\n",
        "U1 = r * omega\n",
        "h01 = 0.005e-3\n",
        "#Weight = sp.lambdify(epsi,W)\n",
        "\n",
        "values = {pref:1,U:U1,h0:h01,mu:46.43} #mu: viscosity at 50 degrees celcius\n",
        "\n",
        "fig,ax = plt.subplots(figsize=(8,4))\n",
        "tt = np.linspace(0,0.01,250)\n",
        "x1_t = sp.lambdify(epsi,W.subs(values))\n",
        "ax.plot(tt,x1_t(tt).real,label='$\\gamma = 0.1$')\n",
        "ax.legend()\n",
        "ax.set_xlabel(r'$t$')\n",
        "ax.set_ylabel(r'$x(t)$')\n",
        "ax.grid(which='major',axis='both')"
      ],
      "metadata": {
        "id": "_K9n_cwl13nf",
        "outputId": "2f0c6eed-48c8-4248-ed5e-12d2c29c8729",
        "colab": {
          "base_uri": "https://localhost:8080/",
          "height": 403
        }
      },
      "id": "_K9n_cwl13nf",
      "execution_count": null,
      "outputs": [
        {
          "output_type": "display_data",
          "data": {
            "text/plain": [
              "<Figure size 800x400 with 1 Axes>"
            ],
            "image/png": "[encoded data removed]"
          },
          "metadata": {}
        }
      ]
    }
  ],
  "metadata": {
    "kernelspec": {
      "display_name": "Python 3 (ipykernel)",
      "language": "python",
      "name": "python3"
    },
    "language_info": {
      "codemirror_mode": {
        "name": "ipython",
        "version": 3
      },
      "file_extension": ".py",
      "mimetype": "text/x-python",
      "name": "python",
      "nbconvert_exporter": "python",
      "pygments_lexer": "ipython3",
      "version": "3.8.15"
    },
    "colab": {
      "provenance": [],
      "include_colab_link": true
    }
  },
  "nbformat": 4,
  "nbformat_minor": 5
}