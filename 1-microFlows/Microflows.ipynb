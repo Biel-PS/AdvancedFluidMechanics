{
 "cells": [
  {
   "cell_type": "markdown",
   "metadata": {},
   "source": [
    "# Microflows. A very brief introduction with lubrication and capillarity\n",
    "\n",
    "## 1. Laminar flows and fundamentals of lubrication\n",
    "\n",
    "For a correct development of this lecture, a review of viscous flows (Couette and Hagen-Poiseullie flows and similar) studied in previous courses of Introductory Fluid Mechanics is advised.\n",
    "\n",
    "This section is focused on fluid flows at very small scales. This is the basis of the technological field known as [Microfluidics](https://en.wikipedia.org/wiki/Microfluidics).\n",
    "\n",
    "At very small scales, with confined or semi-confined flows, Reynolds number is commonly very small even with high velocities or low viscosities. For example, for a small journal bearing, say 5mm diameter, spinning at 1500 rpm, with a clearance of 0.1 mm, even with water, Reynolds number is\n",
    "\n",
    "$$\n",
    "\\text{Re} = \\frac{\\omega d c}{2\\nu} \\tag{1}\n",
    "$$"
   ]
  },
  {
   "cell_type": "code",
   "execution_count": null,
   "metadata": {},
   "outputs": [],
   "source": [
    "import numpy as np"
   ]
  },
  {
   "cell_type": "code",
   "execution_count": null,
   "metadata": {},
   "outputs": [],
   "source": [
    "d = 5 # mm\n",
    "c = 0.1 # mm\n",
    "N = 1500 # rpm\n",
    "nu = 1e-6 # m^2/s\n",
    "d = 5/1000 # m\n",
    "c = c/1000 # m\n",
    "omega = 1500*np.pi/30 #rad/s\n",
    "u = omega*d/2 #m/s\n",
    "Re = u*c/nu\n",
    "print('Reynolds number = {:.3g}'.format(Re))"
   ]
  },
  {
   "cell_type": "markdown",
   "metadata": {},
   "source": [
    "For more viscous fluid, or smaller devices, Reynolds number can be much lower than 1.\n",
    "\n",
    "### Activity\n",
    "\n",
    "Think on some device with fluid flow at very low Reynolds number. Estimate the value of this Reynolds number. Try to think on something with $\\text{Re} < 1$.\n",
    "\n",
    "### The velocity profile\n",
    "In previous introductory Fluid Mechanics courses, this kind of flows have been studied with very simple geometries. Examples are flow between two parallel planes with relative velocity (Couette flow) or with pressure gradient (Poisueille flow) or viscous flow inside a pipe with pressure gradient (Hagen-Poiseuille flow). For details, see sections 4.11 and 6.4 in White's book.\n",
    "\n",
    "Here we are going to generalise this kind of flows, when pressure difference and relative velocity are combined, and planes are not parallels (but quasi-parallels). This kind of flows are very important in lubrication, which has a principal role in all the industrial processes. The technology branch that studies lubrication and wear is known as _[Tribology](https://en.wikipedia.org/wiki/Tribology)_.\n",
    "\n",
    "Let's consider a 2D flow in the $x-y$ plane, confined by two surfaces (we consider as unity the length in the $z$ direction). The lower surface is plane and it lies on the $y$-normal plane, and the upper is separated by a distance $h(x,t)$.\n",
    "\n",
    "![surfaces.dio.svg](surfaces.dio.svg)\n",
    "\n",
    "We are considering that length $L \\gg h(x,t)$ and also that walls are planes, or with a curvature radius much larger also than $h(x,t)$\n",
    "\n",
    "The continuity equation is \n",
    "\n",
    "$$\n",
    "\\frac{\\partial u_i}{\\partial x_i} = 0 \\tag{2}\n",
    "$$\n",
    "\n",
    "that, in 2D reduces to \n",
    "\n",
    "$$\n",
    "\\frac{\\partial u}{\\partial x} + \\frac{\\partial v}{\\partial y}= 0 \\label{eq:cont} \\tag{3}\n",
    "$$\n",
    "\n",
    "The Navier-Stokes equations are \n",
    "\n",
    "$$\n",
    "\\frac{\\partial u_i}{\\partial t} + u_j\\frac{\\partial u_i}{\\partial x_j} = -\\frac{1}{\\rho}\\frac{\\partial p}{\\partial x_i} + \\nu \\frac{\\partial^2 u_i}{\\partial u_j \\partial u_j} \\tag{4}\n",
    "$$\n",
    "\n",
    "The boundary conditions are $u\\left(y=0,t\\right)=U_b(t)$ and $u\\left(y=h(x,t),t \\right)=U_t(t)$ and also $p=p(t)$\n",
    "\n",
    "As it is usually done in Fluid Mechanics, let's study which scales are important by writing the  dimensionless equations. First, we consider the aspect ratio of the geometry, $\\varepsilon = \\frac{h}{L}$, a characteristic velocity of the flow (it can be, for example, the velocity of any of the surfaces) $U$ and a characteristic pressure $p_c$ (it is usually the atmospheric pressure). Then the variables of the problem can be normalized as\n",
    "\n",
    "$$ \n",
    "x^* = \\frac{x}{L}\n",
    "$$\n",
    "$$\n",
    "y^* = \\frac{y}{h} = \\frac{y}{\\varepsilon L}\n",
    "$$\n",
    "$$\n",
    "t^* = t \\frac{L}{U}\n",
    "$$\n",
    "$$\n",
    "u^* = \\frac{u}{U}\n",
    "$$\n",
    "$$\n",
    "v^* = \\frac{v}{V} = \\frac{v}{\\varepsilon U}\n",
    "$$\n",
    "$$\n",
    "p^* = \\frac{p}{p_c} \\tag{5}\n",
    "$$\n",
    "\n",
    "Then continuity equation leads to \n",
    "\n",
    "$$\n",
    "\\frac{\\partial u^*}{\\partial x^*} + \\frac{\\partial v^*}{\\partial y^*}= 0 \\label{eq:cont*} \\tag{6}\n",
    "$$\n",
    "\n",
    "that is, no changes. But Navier-Stokes equations yields\n",
    "\n",
    "$$\n",
    "\\varepsilon^2 \\text{Re}_L  \\left( \\frac{\\partial u^*}{\\partial t^*} + u^*\\frac{\\partial u^*}{\\partial x^*} + v^*\\frac{\\partial u^*}{\\partial y^*} \\right)  = -\\frac{1}{\\Lambda}\\frac{\\partial p^*}{\\partial x^*} + \\varepsilon^2 \\frac{\\partial^2 u^*}{\\partial {x^*}^2} + \\frac{\\partial^2 u^*}{\\partial {y^*}^2} \n",
    "\\tag{7a}$$ \n",
    "$$\n",
    "\\varepsilon^4 \\text{Re}_L  \\left( \\frac{\\partial v^*}{\\partial t^*} + u^*\\frac{\\partial v^*}{\\partial x^*} + v^*\\frac{\\partial v^*}{\\partial y^*} \\right)  = -\\frac{1}{\\Lambda}\\frac{\\partial p^*}{\\partial y^*} + \\varepsilon^4 \\frac{\\partial^2 v^*}{\\partial {x^*}^2} + \\varepsilon^2 \\frac{\\partial^2 v^*}{\\partial  {y^*}^2}\n",
    "\\tag{7b}\n",
    "$$\n",
    "\n",
    "where $\\Lambda = \\frac{\\mu U L}{p_c h^2}$ is the _bearing number_ (ratio of viscous and pressure forces).\n",
    "\n",
    "For the previous example, considering a bearing lentgh of the same size than diameter, the value of $\\varepsilon^2 \\text{Re}_L$ is"
   ]
  },
  {
   "cell_type": "code",
   "execution_count": null,
   "metadata": {},
   "outputs": [],
   "source": [
    "epsilon = c/(np.pi*d)\n",
    "L = 5 # mm\n",
    "L = L/1000 #  m\n",
    "ReL = Re*L/c\n",
    "epsilon2ReL = epsilon**2*ReL\n",
    "print('epsilon2ReL = {:.2g}'.format(epsilon2ReL))"
   ]
  },
  {
   "cell_type": "markdown",
   "metadata": {},
   "source": [
    "That is, $\\varepsilon^2 \\text{Re}_L \\ll 1$, and, hence, inertial term (including time derivative) can usually be neglected (Remember that this example is with water. Lubricant oils are usually hundreds times more viscous than water)\n",
    "\n",
    "On  the other hand, bearing number is typically close to unity. We can estimate the characteristic pressure of the journal bearing, and, from here, the characteristic load."
   ]
  },
  {
   "cell_type": "code",
   "execution_count": null,
   "metadata": {},
   "outputs": [],
   "source": [
    "rho = 1000 # Kg/m^3\n",
    "Lambda = 1\n",
    "p_c = rho*nu*u*L/(Lambda*c**2)\n",
    "print('p_c = {:.4g} Pa'.format(p_c))"
   ]
  },
  {
   "cell_type": "code",
   "execution_count": null,
   "metadata": {},
   "outputs": [],
   "source": [
    "W = p_c*L*d\n",
    "print('W = {:.3g} N'.format(W))"
   ]
  },
  {
   "cell_type": "markdown",
   "metadata": {},
   "source": [
    "This is a very low load. Actually it is the typical load that this bearing can bears with a _uniform_ clearance, i.e. without eccentricity. When load increases, the journal moves away from the center and the clearance is not longer uniform, and the value can be very small at specific location in the direction of eccentricity. \n",
    "\n",
    "Equation (7a) leads then to \n",
    "\n",
    "$$\n",
    "-\\frac{1}{\\rho}\\frac{\\partial p}{\\partial x} + \\nu \\frac{\\partial^2 u}{\\partial y^2} = 0\n",
    "$$\n",
    "\n",
    "and (7b) to\n",
    "\n",
    "$$\n",
    "\\frac{\\partial p}{\\partial y} = 0\n",
    "$$\n",
    "\n",
    "Note that in (7a) there is no explicit dependence on time. But time is still an independent variable through $p(x,t)$ and boundary conditions, which can be unesteady.\n",
    "\n",
    "Now we integrate the linear equation"
   ]
  },
  {
   "cell_type": "code",
   "execution_count": null,
   "metadata": {},
   "outputs": [],
   "source": [
    "import sympy as sp\n",
    "sp.init_printing()"
   ]
  },
  {
   "cell_type": "code",
   "execution_count": null,
   "metadata": {},
   "outputs": [],
   "source": [
    "x,y,t,mu = sp.symbols('x,y,t,mu')\n",
    "u = sp.Function('u')\n",
    "p = sp.Function('p')\n",
    "h = sp.Function('h')\n",
    "p_x = sp.Function('p_x') # This function is the gradient of pressure in x direction"
   ]
  },
  {
   "cell_type": "code",
   "execution_count": null,
   "metadata": {},
   "outputs": [],
   "source": [
    "exp = -p_x(x)/mu+sp.diff(u(y),y,2)\n",
    "sp.Eq(exp,0)"
   ]
  },
  {
   "cell_type": "markdown",
   "metadata": {},
   "source": [
    "We define the top and bottom velocities and the boundary conditions, by means of a dictionary"
   ]
  },
  {
   "cell_type": "code",
   "execution_count": null,
   "metadata": {},
   "outputs": [],
   "source": [
    "Ub,Ut = sp.symbols('U_b,U_t')\n",
    "ics = {u(0):Ub,u(h(x)):Ut}"
   ]
  },
  {
   "cell_type": "markdown",
   "metadata": {},
   "source": [
    "And we solve the EDO with the defined boundary conditions"
   ]
  },
  {
   "cell_type": "code",
   "execution_count": null,
   "metadata": {},
   "outputs": [],
   "source": [
    "Sol = sp.dsolve(exp,u(y),ics=ics)"
   ]
  },
  {
   "cell_type": "markdown",
   "metadata": {},
   "source": [
    "And this is the solution:"
   ]
  },
  {
   "cell_type": "code",
   "execution_count": null,
   "metadata": {},
   "outputs": [],
   "source": [
    "Sol"
   ]
  },
  {
   "cell_type": "markdown",
   "metadata": {},
   "source": [
    "That can be a little bit simplified"
   ]
  },
  {
   "cell_type": "code",
   "execution_count": null,
   "metadata": {},
   "outputs": [],
   "source": [
    "Sol = Sol.simplify()\n",
    "display(Sol)"
   ]
  },
  {
   "cell_type": "markdown",
   "metadata": {},
   "source": [
    "Let's consider, for the shake of simplicity, the case with $U_t(t) = U; U_b(t)=0$ "
   ]
  },
  {
   "cell_type": "code",
   "execution_count": null,
   "metadata": {},
   "outputs": [],
   "source": [
    "U = sp.symbols('U')\n",
    "Sol = Sol.replace(Ut,U).replace(Ub,0)\n",
    "display(Sol)"
   ]
  },
  {
   "cell_type": "markdown",
   "metadata": {},
   "source": [
    "In order to calculate the pressure distribution, we need another condition for the velocity. This condition is the **mass balance**. The flow rate in any section $x$ must be\n",
    "independent of $x$"
   ]
  },
  {
   "cell_type": "code",
   "execution_count": null,
   "metadata": {},
   "outputs": [],
   "source": [
    "intU = sp.integrate(Sol.rhs,(y,0,h(x)))\n",
    "display(intU)"
   ]
  },
  {
   "cell_type": "markdown",
   "metadata": {},
   "source": [
    "### Reynolds equation\n",
    "\n",
    "The [Reynolds equation](https://en.wikipedia.org/wiki/Reynolds_equation) for lubrications yields when we impose that this flow rate cannot be function of $x$ (that is continuity condition)"
   ]
  },
  {
   "cell_type": "code",
   "execution_count": null,
   "metadata": {},
   "outputs": [],
   "source": [
    "ReynoldsEq = sp.Eq(intU.diff(x),0)\n",
    "ReynoldsEq = ReynoldsEq.expand()\n",
    "display(ReynoldsEq)"
   ]
  },
  {
   "cell_type": "markdown",
   "metadata": {},
   "source": [
    "### Pressure distribution\n",
    "\n",
    "To calculate the pressure distribution, we consider the solution of \n",
    "\n",
    "$$ q = \\int_0^h u(y) \\text{d} y \\tag{8}$$\n",
    "\n",
    "and we isolate the pressure gradient"
   ]
  },
  {
   "cell_type": "code",
   "execution_count": null,
   "metadata": {},
   "outputs": [],
   "source": [
    "q = sp.symbols('q')\n",
    "exp_dpdx = sp.solve(intU-q,p_x(x))\n",
    "display(exp_dpdx)"
   ]
  },
  {
   "cell_type": "code",
   "execution_count": null,
   "metadata": {},
   "outputs": [],
   "source": [
    "p_eq = sp.Eq(p_x(x), exp_dpdx[0])\n",
    "display(p_eq)"
   ]
  },
  {
   "cell_type": "markdown",
   "metadata": {},
   "source": [
    "We now replace $p_x(x)$ with its definition, $p_x(x) = \\frac{d p}{d x}$, and we solve it"
   ]
  },
  {
   "cell_type": "code",
   "execution_count": null,
   "metadata": {},
   "outputs": [],
   "source": [
    "p_eq = p_eq.replace(p_x(x),p(x).diff(x))\n",
    "display(p_eq)"
   ]
  },
  {
   "cell_type": "code",
   "execution_count": null,
   "metadata": {},
   "outputs": [],
   "source": [
    "sp.dsolve(p_eq,p(x))"
   ]
  },
  {
   "cell_type": "markdown",
   "metadata": {},
   "source": [
    "This is the general solution for any shape for $h(x)$. The values for $q$ and the integration constant are obtained from suitable boundary conditions\n",
    "\n",
    "### Example\n",
    "\n",
    "Let's apply that for the linear case $h(x)=h_0(1+\\alpha x/L)$, with $\\alpha \\ll 1$. It is the working principle of a [tilting-pad bearing](https://en.wikipedia.org/wiki/Fluid_bearing#Michell.2FKingsbury_tilting-pad_fluid_bearings)\n",
    "\n",
    "![image.png](tiltingPad1.png)\n",
    "\n",
    "![image.png](tiltingPad2.png)\n",
    "\n",
    "\n",
    "First, we replace the generic $h(x)$ by this particular case"
   ]
  },
  {
   "cell_type": "code",
   "execution_count": null,
   "metadata": {},
   "outputs": [],
   "source": [
    "h0,alpha,L = sp.symbols('h_0, alpha,L')\n",
    "p_eq = p_eq.replace(h(x),h0*(1+alpha*x/L))"
   ]
  },
  {
   "cell_type": "code",
   "execution_count": null,
   "metadata": {},
   "outputs": [],
   "source": [
    "p_eq"
   ]
  },
  {
   "cell_type": "markdown",
   "metadata": {},
   "source": [
    "Next, we integrate the pressure distribution with the proper boundary condition for $p(x=0)=p_a$"
   ]
  },
  {
   "cell_type": "code",
   "execution_count": null,
   "metadata": {},
   "outputs": [],
   "source": [
    "pa = sp.symbols('pa')"
   ]
  },
  {
   "cell_type": "code",
   "execution_count": null,
   "metadata": {},
   "outputs": [],
   "source": [
    "p_sol = sp.dsolve(p_eq,p(x),ics={p(0):pa})\n",
    "display(p_sol)"
   ]
  },
  {
   "cell_type": "markdown",
   "metadata": {},
   "source": [
    "The flow rate in this moving pad can be calculated with the other boundary condition, $p(x=L)=p_a$"
   ]
  },
  {
   "cell_type": "code",
   "execution_count": null,
   "metadata": {},
   "outputs": [],
   "source": [
    "q_sol = sp.solve(p_sol.replace(x,L).replace(p(L),pa),q)[0]\n",
    "display(q_sol)"
   ]
  },
  {
   "cell_type": "markdown",
   "metadata": {},
   "source": [
    "and we replace again this result in the pressure distribution"
   ]
  },
  {
   "cell_type": "code",
   "execution_count": null,
   "metadata": {},
   "outputs": [],
   "source": [
    "p_sol = p_sol.replace(q,q_sol)\n",
    "display(p_sol)"
   ]
  },
  {
   "cell_type": "markdown",
   "metadata": {},
   "source": [
    "Let's rearrange the terms to get it it nicer"
   ]
  },
  {
   "cell_type": "code",
   "execution_count": null,
   "metadata": {},
   "outputs": [],
   "source": [
    "p_sol = sp.Eq(p_sol.lhs-pa,p_sol.rhs-pa)\n",
    "display(p_sol)"
   ]
  },
  {
   "cell_type": "markdown",
   "metadata": {},
   "source": [
    "This solution is complex, since it is considering all the values of $\\alpha$. We can take advantage of the assumption $\\alpha \\ll 1$ in order to expand the right hand side in\n",
    "$\\alpha$ up to the first order"
   ]
  },
  {
   "cell_type": "code",
   "execution_count": null,
   "metadata": {},
   "outputs": [],
   "source": [
    "p_sol = sp.Eq(p_sol.lhs,p_sol.rhs.series(alpha,0,n=2).removeO())\n",
    "p_sol = p_sol.simplify()\n",
    "display(p_sol)"
   ]
  },
  {
   "cell_type": "code",
   "execution_count": null,
   "metadata": {},
   "outputs": [],
   "source": [
    "W = -p_sol.rhs.integrate((x,0,L))\n",
    "display(W)"
   ]
  },
  {
   "cell_type": "markdown",
   "metadata": {},
   "source": [
    "Remember that it is for unit lenght in the $z$ direction, so the mean (relative) pressure in this fluid film is"
   ]
  },
  {
   "cell_type": "code",
   "execution_count": null,
   "metadata": {},
   "outputs": [],
   "source": [
    "pf = sp.symbols('p_f')\n",
    "pf = W/L\n",
    "display(pf)"
   ]
  },
  {
   "cell_type": "markdown",
   "metadata": {},
   "source": [
    "### Activity (very easy)\n",
    "\n",
    "Estimate the value of the bearing number $\\Lambda$ for this tilting pad\n",
    "\n",
    "\n",
    "### Exercise\n",
    "\n",
    "What happens when slope of pad is not increasing, but decreasing?\n",
    "\n",
    "## 2. Pressure driven microflow. Hele-Shaw flow\n",
    "\n",
    "[Henry Hele-Shaw](https://en.wikipedia.org/wiki/Henry_Selby_Hele-Shaw) was a British engineer in the late 19th and the early 20th centuries. He published a paper in 1898 about the Stokes flow between to close plates. This kind of flow are now know as [Hele-Shaw flows](https://en.wikipedia.org/wiki/Hele-Shaw_flow). \n",
    "\n",
    "\n",
    "\n",
    "The interest of this flow is that, although being highly influence by viscosity, the flow shape in presence of an obstacle (large in comparison with plates distance) is actually a potential flow. This has a hide range of applications in present microdevices design and manufacturing (see, for example, this [MSc thesis from Delft University](https://repository.tudelft.nl/islandora/object/uuid:eacb9fa0-401b-4b17-97b6-f0eed6744bdf)).\n",
    "\n",
    "This flow is very similar to a [Poiseuille flow](https://en.wikipedia.org/wiki/Hagen%E2%80%93Poiseuille_equation#Plane_Poiseuille_flow), in the sense of quasi-2D flow driven by a pressure gradient.  Let's consider that the flow is parallel to the $x-y$ plane, and normal to the $z$ axis and pressure gradient is given also only in $x$ and $y$ directions. \n",
    "\n",
    "![image.png](Hele-Shaw.png)\n",
    "\n",
    "Velocity equations for $u$ and $v$ are, following equation (5), \n",
    "\n",
    "$$-\\frac{1}{\\rho}\\frac{\\partial p}{\\partial x} + \\nu \\frac{\\partial^2 u}{\\partial z^2} = 0 \\tag{9a}$$\n",
    "\n",
    "$$-\\frac{1}{\\rho}\\frac{\\partial p}{\\partial y} + \\nu \\frac{\\partial^2 v}{\\partial z^2} = 0 \\tag{9b}$$\n",
    "\n",
    "$$\\frac{\\partial p}{\\partial z} = 0 \\tag{9c}$$"
   ]
  },
  {
   "cell_type": "code",
   "execution_count": null,
   "metadata": {},
   "outputs": [],
   "source": [
    "z,h = sp.symbols('z,h') # now h is not a function. It is constant\n",
    "u = sp.Function('u')\n",
    "v = sp.Function('v')\n",
    "p = sp.Function('p')\n",
    "p_x = sp.Function('p_x')\n",
    "p_y = sp.Function('p_y')\n",
    "uEq = sp.Eq(-1/mu*p_x(x,y)+sp.diff(u(z),z,2),0)\n",
    "vEq = sp.Eq(-1/mu*p_y(x,y)+sp.diff(v(z),z,2),0)\n",
    "display(uEq)\n",
    "display(vEq)"
   ]
  },
  {
   "cell_type": "code",
   "execution_count": null,
   "metadata": {},
   "outputs": [],
   "source": [
    "uics = {u(0):0,u(h):0}\n",
    "vics = {v(0):0,v(h):0}\n",
    "uSol = sp.dsolve(uEq,u(z),ics=uics).simplify()\n",
    "vSol = sp.dsolve(vEq,v(z),ics=vics).simplify()\n",
    "display(uSol)\n",
    "display(vSol)"
   ]
  },
  {
   "cell_type": "code",
   "execution_count": null,
   "metadata": {},
   "outputs": [],
   "source": [
    "uSol = uSol.replace(p_x(x,y),p(x,y).diff(x))\n",
    "vSol = vSol.replace(p_y(x,y),p(x,y).diff(y))\n",
    "display(uSol)\n",
    "display(vSol)"
   ]
  },
  {
   "cell_type": "markdown",
   "metadata": {},
   "source": [
    "Remember the definition of [velocity potential](https://en.wikipedia.org/wiki/Velocity_potential). In this case, the solution is very easy "
   ]
  },
  {
   "cell_type": "code",
   "execution_count": null,
   "metadata": {},
   "outputs": [],
   "source": [
    "phi_u = sp.Function('phi_u')\n",
    "phi_v = sp.Function('phi_v')\n",
    "phi_u = uSol.rhs.integrate(x)\n",
    "phi_v = vSol.rhs.integrate(y)\n",
    "display(phi_u)\n",
    "display(phi_v)"
   ]
  },
  {
   "cell_type": "markdown",
   "metadata": {},
   "source": [
    "Both solutions are the same and, so, we can just define the velocity potential al"
   ]
  },
  {
   "cell_type": "code",
   "execution_count": null,
   "metadata": {},
   "outputs": [],
   "source": [
    "phi = sp.Function('phi')\n",
    "phi = phi_u\n",
    "display(phi)"
   ]
  },
  {
   "cell_type": "markdown",
   "metadata": {},
   "source": [
    "Asuming that there is no vertical velocity, $w = 0$, the continuity equation for 2D flow is just\n",
    "\n",
    "$$ \\nabla_{2D} \\cdot \\mathbf{u} = \\frac{\\partial u}{\\partial x} + \\frac{\\partial v}{\\partial y} = \\Delta \\phi = \\Delta p = \\frac{\\partial^2 p}{\\partial x^2} + \\frac{\\partial^2 p}{\\partial y^2} = 0 \\tag{10}$$\n",
    "\n",
    "### For example...\n",
    "\n",
    "Let's consider a flow in the $x$ direction with "
   ]
  },
  {
   "cell_type": "code",
   "execution_count": null,
   "metadata": {},
   "outputs": [],
   "source": [
    "ubar = sp.symbols('ubar')\n",
    "uInt = uSol.rhs.integrate((z,0,h))\n",
    "display(uInt)\n",
    "pEq = sp.Eq(uInt/h,ubar)\n",
    "display(pEq)\n",
    "pdiffSol = sp.solve(pEq,p(x,y).diff(x))[0]\n",
    "display(pdiffSol)"
   ]
  },
  {
   "cell_type": "code",
   "execution_count": null,
   "metadata": {},
   "outputs": [],
   "source": [
    "uSol = uSol.subs(p(x,y).diff(x),pdiffSol)\n",
    "display(uSol)"
   ]
  },
  {
   "cell_type": "code",
   "execution_count": null,
   "metadata": {},
   "outputs": [],
   "source": [
    "pSol = pdiffSol.integrate(x)\n",
    "display(pSol)"
   ]
  },
  {
   "cell_type": "markdown",
   "metadata": {},
   "source": [
    "In this video some experimental flows are presented to show the potential-like Hele-Shaw flows"
   ]
  },
  {
   "cell_type": "code",
   "execution_count": null,
   "metadata": {},
   "outputs": [],
   "source": [
    "from IPython.display import YouTubeVideo\n",
    "\n",
    "YouTubeVideo('WUilsJ_HMvQ',width=800,height=600)"
   ]
  },
  {
   "cell_type": "markdown",
   "metadata": {},
   "source": [
    "Note that this solution does not satisfy the non-slip condition for, for example, $y=0$ (a wall in the $x$ axis). There is a mathematical trick to overcome that: add a velocity $u'$ \n",
    "\n",
    "$$ U(y,z) = u(z) + u'(y,z)$$\n",
    "\n",
    "such that $u' \\rightarrow -u$ for $ y \\rightarrow 0$ and $u' \\rightarrow 0$ for $ y \\gg 0$ \n",
    "\n",
    "We could make it if we wad more time...\n",
    "\n",
    "## 3. Surface Tension driven flows\n",
    "\n",
    "The third kind of microflow that we considering is surface tension driven flows. [Surface tension](https://en.wikipedia.org/wiki/Surface_tension) is the property of liquids responsible of the surface stability. \n",
    "\n",
    "The surface tension coefficient (or just surface tension), $\\gamma$, has units of force per lenght unit (N/m) and in the particular case of water in air at 20 Celsius degrees its value is $\\gamma = 72.8\\, \\text{mN/m}$. This value is very small compared with inertial forces, or pressure forces, for usual liquid volumes. But it can becomes very important when the liquid volume is of micrometers (or even milimeters) scale.\n",
    "\n",
    "We have seen in previous courses some basic concepts related to surface tension, as pressure inside bubbles or capillary rise, which are governed by the [Laplace-Young equation](https://en.wikipedia.org/wiki/Young%E2%80%93Laplace_equation) for spherical surfaces. Here we are going to develope a little bit the subject.\n",
    "\n",
    "From a Fluid Mechanics viewpoint, the presence of an interface implies a pressure jump. This pressure jump is positive or negative in function of the curvature of the surface. \n",
    "\n",
    "Let's consider the thermodynamics of a liquid droplet in a surface.\n",
    "\n",
    "![image.png](drop.png)\n",
    "\n",
    "(from [_Atomic-scale computational design of hydrophobic RE surface-doped Al2O3 and TiO2_ by Czelej et al](https://www.researchgate.net/publication/318574875_Atomic-scale_computational_design_of_hydrophobic_RE_surface-doped_Al2O3_and_TiO2) \n",
    "\n",
    "Its [free energy](https://en.wikipedia.org/wiki/Helmholtz_free_energy) (neglecting temperature variations) is\n",
    "\n",
    "$$ \\newcommand{Vol}{V\\kern-0.65em\\raise0.3ex-} $$\n",
    "$$ E = \\sum_{i \\neq j} A_{ij}\\gamma_{ij} - \\lambda \\Vol \\tag{11}$$\n",
    "\n",
    "where $\\Vol$ is the droplet volume (constant) and $\\lambda$ is a [Lagrange multiplier](https://en.wikipedia.org/wiki/Lagrange_multiplier) that, physically, is the pressure drop across the interface. $i$ and $j$ can be $l$, $g$ or $s$ depending on the nature os the material (liquid, gas or solid), $A_{ij}$ is the interfacial area between phases $i$ and $j$. It should be noted that if $A_{lg}$ increase on some amount, $A_{sg}$ is decreased in the same amount.\n",
    "\n",
    "$$ A_{ls} = \\pi R^{2} \\sin^{2}{\\left(\\theta \\right)} $$\n",
    "$$ A_{lg} = 2 \\pi R^{2} \\left(1 - \\cos{\\left(\\theta \\right)}\\right) $$\n",
    "$$ \\Vol = \\pi R^{3} \\left(\\frac{2}{3} - \\frac{3}{4}\\cos{\\left(\\theta \\right)} + \\frac{\\cos{3\\theta}}{12}\\right) \\tag{12}$$ \n",
    "\n",
    "So,\n",
    "\n",
    "$$ E = \\underbrace{\\pi R^{2} \\sin^{2}{\\left(\\theta \\right)} \\left( \\gamma_{ls}-\\gamma_{sg}\\right) + \\gamma_{lv}2 \\pi R^{2} \\left(1 - \\cos{\\left(\\theta \\right)}\\right)}_A - \\lambda \\underbrace{\\pi R^{3} \\left(\\frac{2}{3} - \\frac{3}{4}\\cos{\\left(\\theta \\right)} + \\frac{\\cos{3\\theta}}{12}\\right)}_B \\tag{13}$$\n",
    "\n",
    "and the minimum condition, $\\frac{\\partial E}{\\partial R} = \\frac{\\partial E}{\\partial \\theta} = 0$ leads to\n",
    "\n",
    "$$ \\lambda = \\frac{\\frac{\\partial A}{\\partial R}}{\\frac{\\partial B}{\\partial R}}=\\frac{\\frac{\\partial A}{\\partial \\theta}}{\\frac{\\partial B}{\\partial \\theta}} \\tag{14}$$\n",
    "\n",
    "and, after some operations,\n",
    "\n",
    "$$ \\cos{(\\theta)} = \\frac{\\gamma_{sg} - \\gamma_{sl}}{\\gamma_{lg}} \\tag{15}$$\n",
    "\n",
    "$\\lambda$ is the pressure drop across the liquid-gas surface, \n",
    "\n",
    "$$\\lambda = \\Delta p = \\frac{\\frac{\\partial A}{\\partial R}}{\\frac{\\partial B}{\\partial R}} = 2 \\frac{\\gamma_{lg}}{R} \\tag{16}$$\n",
    "\n",
    "For a more general shape (not spherical) is becomes\n",
    "\n",
    "$$ \\Delta p = \\gamma_{lg}\\left( \\frac{1}{R1} + \\frac{1}{R2} \\right) \\tag{17}$$\n",
    "\n",
    "Gravity effect leads to the definition of a characteristic length scale (capillary length)\n",
    "\n",
    "$$ l_s = \\sqrt{\\frac{\\gamma}{\\rho g}} \\tag{18}$$\n",
    "\n",
    "[Bond (or Eötvös) number](https://en.wikipedia.org/wiki/E%C3%B6tv%C3%B6s_number) is defined as the ratio between characteristic lenght of the system and the capillary length\n",
    "\n",
    "$$ \\text{Bo} = \\left( \\frac{L}{l_s} \\right)^2 \\tag{19}$$\n",
    "\n",
    "Under action of gravity, surface tension is only important if $\\text{Bo} \\lesssim 1$, that is $L \\lesssim 3\\,\\text{mm}$ for water.\n",
    "\n",
    "### Example : Shape of fluid interface near a wall\n",
    "\n",
    "Let's consider the calculation of the shape of the interface of water with a hidrophilic surface, with a known contact angle $\\theta < 90^\\circ$. The wall is vertical and plane, so there will be curvature in only one direction (say $y$)\n",
    "\n",
    "![image.png](fluidWallInterface.png)\n",
    "\n",
    "The [local curvature](https://en.wikipedia.org/wiki/Curvature#Graph_of_a_function) of a line is given by\n",
    "\n",
    "$$ \\frac{1}{r} = \\frac{\\text{d}^2 z / \\text{d} x^2}{\\left[1+\\left(\\text{d} z / \\text{d} x\\right)^2 \\right]^{3/2}} \\tag{20}$$\n",
    "\n",
    "On the otherhand, for a point of the curve, which is at height $z$ there is static relative pressure $-\\rho g z$,and the pressure jump in the interface is $\\frac{\\gamma}{r}$, so the ODE is\n",
    "\n",
    "$$ \\frac{\\rho g z}{\\gamma} - \\frac{z''}{\\left(1 + {z'}^2\\right)^{3/2}} = 0 \\tag{21}$$\n",
    "\n",
    "since $z=0$ far away from the surface, where it is plane, and $z'' = z' =0$. The boundary conditions are $z'=z''=0$ for $x\\rightarrow \\infty$ and $z'=-\\frac{1}{\\tan{\\theta}}$ for $x=0$. \n",
    "\n",
    "We can make the change of variable $\\eta = z/l_s$ and $\\xi = x/l_s$ and then the EDO is writen as\n",
    "\n",
    "$$ \\eta- \\frac{\\eta''}{\\left(1+\\eta'^2\\right)^{3/2}} = 0 \\tag{22}$$\n",
    "\n",
    "with the same boundary conditions."
   ]
  },
  {
   "cell_type": "code",
   "execution_count": null,
   "metadata": {},
   "outputs": [],
   "source": [
    "#This command clears all the variables and history. Just to start over again...\n",
    "%reset -f  "
   ]
  },
  {
   "cell_type": "code",
   "execution_count": null,
   "metadata": {},
   "outputs": [],
   "source": [
    "import numpy as np\n",
    "import sympy as sp\n",
    "sp.init_printing()"
   ]
  },
  {
   "cell_type": "code",
   "execution_count": null,
   "metadata": {},
   "outputs": [],
   "source": [
    "xi,theta = sp.symbols('xi,theta',positive=True)\n",
    "eta = sp.Function('eta')\n",
    "exp = eta(xi)-eta(xi).diff(xi,2)/(1+eta(xi).diff(xi)**2)**(3/2)\n",
    "display(exp)"
   ]
  },
  {
   "cell_type": "markdown",
   "metadata": {},
   "source": [
    "This expression is not directly integrable"
   ]
  },
  {
   "cell_type": "code",
   "execution_count": null,
   "metadata": {},
   "outputs": [],
   "source": [
    "exp.integrate(xi)"
   ]
  },
  {
   "cell_type": "markdown",
   "metadata": {},
   "source": [
    "But if we use the integration factor $\\eta'$, it becomes integrable"
   ]
  },
  {
   "cell_type": "code",
   "execution_count": null,
   "metadata": {},
   "outputs": [],
   "source": [
    "exp = exp*eta(xi).diff(xi)\n",
    "display(exp)"
   ]
  },
  {
   "cell_type": "code",
   "execution_count": null,
   "metadata": {},
   "outputs": [],
   "source": [
    "exp2 = exp.integrate(xi)\n",
    "display(exp2)"
   ]
  },
  {
   "cell_type": "markdown",
   "metadata": {},
   "source": [
    "Since when $\\eta(\\xi) = 0$ (i.e. for $\\xi\\rightarrow \\infty$), $\\eta'(\\xi)=0$, that gives that this expression has to be 1."
   ]
  },
  {
   "cell_type": "code",
   "execution_count": null,
   "metadata": {},
   "outputs": [],
   "source": [
    "dEq = sp.Eq(exp2,1)\n",
    "display(dEq)"
   ]
  },
  {
   "cell_type": "markdown",
   "metadata": {},
   "source": [
    "This equation can be analitically solved (see the book by [Kundu](https://discovery.upc.edu/iii/encore/record/C__Rb1437689?lang=cat), example 4.7) but it is not staightforward. Let us  solve it here numerically with [scipy](https://www.scipy.org/). \n",
    "\n",
    "First, we get the value of the heigth of the surface just in the surface, it is, when $\\eta'= -\\frac{1}{\\tan{\\theta}}$."
   ]
  },
  {
   "cell_type": "code",
   "execution_count": null,
   "metadata": {},
   "outputs": [],
   "source": [
    "delta = sp.symbols('delta')\n",
    "deltaEq = dEq.replace(eta(xi).diff(xi),-1/sp.tan(theta)).replace(eta(xi),delta)\n",
    "display(deltaEq)"
   ]
  },
  {
   "cell_type": "markdown",
   "metadata": {},
   "source": [
    "There are two solutions. We keep the second one, positive."
   ]
  },
  {
   "cell_type": "code",
   "execution_count": null,
   "metadata": {},
   "outputs": [],
   "source": [
    "delta = sp.solve(deltaEq,delta)[1]\n",
    "display(delta)"
   ]
  },
  {
   "cell_type": "markdown",
   "metadata": {},
   "source": [
    "and we try to simplify it a little bit"
   ]
  },
  {
   "cell_type": "code",
   "execution_count": null,
   "metadata": {},
   "outputs": [],
   "source": [
    "delta = delta.simplify().trigsimp()\n",
    "display(delta)"
   ]
  },
  {
   "cell_type": "markdown",
   "metadata": {},
   "source": [
    "In order to solve dEq we have to isolate the derivative of $\\eta$"
   ]
  },
  {
   "cell_type": "code",
   "execution_count": null,
   "metadata": {},
   "outputs": [],
   "source": [
    "f = sp.solve(dEq,eta(xi).diff(xi))[0]\n",
    "display(f)"
   ]
  },
  {
   "cell_type": "markdown",
   "metadata": {},
   "source": [
    "and we generate a function for this derivative"
   ]
  },
  {
   "cell_type": "code",
   "execution_count": null,
   "metadata": {},
   "outputs": [],
   "source": [
    "f_np = sp.lambdify((eta(xi),xi),f)"
   ]
  },
  {
   "cell_type": "markdown",
   "metadata": {},
   "source": [
    "Now we make a function for $\\delta(\\theta)$, the heigth of the fluid surface in the wall and we solve numerically this equation with $\\eta(\\xi=0)=\\delta$ "
   ]
  },
  {
   "cell_type": "code",
   "execution_count": null,
   "metadata": {},
   "outputs": [],
   "source": [
    "from scipy.integrate import odeint"
   ]
  },
  {
   "cell_type": "code",
   "execution_count": null,
   "metadata": {},
   "outputs": [],
   "source": [
    "eta0_f = sp.lambdify(theta,delta)"
   ]
  },
  {
   "cell_type": "code",
   "execution_count": null,
   "metadata": {},
   "outputs": [],
   "source": [
    "theta_n = np.deg2rad(30) \n",
    "eta0 = sp.N(eta0_f(theta_n),4)\n",
    "display(eta0)"
   ]
  },
  {
   "cell_type": "code",
   "execution_count": null,
   "metadata": {},
   "outputs": [],
   "source": [
    "xi_p = np.linspace(0,10,250)\n",
    "eta_np = odeint(f_np,eta0,xi_p)"
   ]
  },
  {
   "cell_type": "markdown",
   "metadata": {},
   "source": [
    "and, finally, we plot it"
   ]
  },
  {
   "cell_type": "code",
   "execution_count": null,
   "metadata": {},
   "outputs": [],
   "source": [
    "import matplotlib.pyplot as plt\n",
    "fig,ax = plt.subplots(figsize=(12,4))\n",
    "plt.gca().set_aspect('equal', adjustable='box')\n",
    "ax.plot(xi_p,eta_np,scaley=True)"
   ]
  },
  {
   "cell_type": "markdown",
   "metadata": {},
   "source": [
    "### Exercise. Shape of meniscus between two plates\n",
    "\n",
    "Find the shape for two parallels walls separated a distance $L$\n",
    "\n",
    "Hint: In the middle point between both walls, curvature is not zero, so there is also there a pressure jump. This pressure jump is related, then, to the height of the column, $H$. It suggested to change coordinate axes, as shown in the picture, and change the first equation as\n",
    "\n",
    "$$ \\frac{\\rho g (z+H)}{\\gamma} - \\frac{z''}{\\left(1 + {z'}^2\\right)^{3/2}} = 0 \\tag{23}$$\n",
    "\n",
    "Also, there are 2 boundary conditions: the derivative of $z(x)$ for $x=-\\frac{L}{2}$ and for $x=\\frac{L}{2}$\n",
    "\n",
    "![image.png](MeniscusBetweenPlates.png)\n",
    "\n",
    "\n",
    "When you have tried to solve the problem, you can check a solution {doc}`here <./MeniscusBetweenPlates>`."
   ]
  },
  {
   "cell_type": "code",
   "execution_count": null,
   "metadata": {},
   "outputs": [],
   "source": [
    "try:\n",
    "    %load_ext watermark\n",
    "except:\n",
    "    !pip install watermark\n",
    "%watermark -v -m -iv"
   ]
  }
 ],
 "metadata": {
  "kernelspec": {
   "display_name": "Python 3 (ipykernel)",
   "language": "python",
   "name": "python3"
  },
  "language_info": {
   "codemirror_mode": {
    "name": "ipython",
    "version": 3
   },
   "file_extension": ".py",
   "mimetype": "text/x-python",
   "name": "python",
   "nbconvert_exporter": "python",
   "pygments_lexer": "ipython3",
   "version": "3.8.13"
  }
 },
 "nbformat": 4,
 "nbformat_minor": 4
}
