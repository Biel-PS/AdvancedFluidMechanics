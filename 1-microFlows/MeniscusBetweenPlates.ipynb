{
 "cells": [
  {
   "cell_type": "markdown",
   "id": "entitled-ballet",
   "metadata": {},
   "source": [
    "# Meniscus between plates. Solution"
   ]
  },
  {
   "cell_type": "markdown",
   "id": "second-tradition",
   "metadata": {},
   "source": [
    "\n",
    "Find the shape for two parallels walls separated a distance $L$\n",
    "\n",
    "Hint: In the middle point between both walls, curvature is not zero, so there is also there a pressure jump. This pressure jump is related, then, to the height of the column, $H$. I suggest to change corrdinate axes, as shown in the picture, and change the first equation as\n",
    "\n",
    "$$ \\frac{\\rho g (z+H)}{\\gamma} - \\frac{z''}{\\left(1 + {z'}^2\\right)^{3/2}} = 0 $$\n",
    "\n",
    "Also, there are 2 boundary conditions: the derivative of $z(x)$ for $x=-\\frac{L}{2}$ and for $x=\\frac{L}{2}$\n",
    "\n",
    "![image.png](MeniscusBetweenPlates.png)\n",
    "\n",
    "***"
   ]
  },
  {
   "cell_type": "markdown",
   "id": "martial-imagination",
   "metadata": {},
   "source": [
    "The exact solution of this problems can be found, both for planar and axisymmetric (capillary tube) can be found in [this paper by Liu et al.(2018)](https://link.springer.com/article/10.1140/epje/i2018-11648-1). We are going to find the shape with numerical integration, in a similar way as we have done with the shape with only one \n",
    "plate."
   ]
  },
  {
   "cell_type": "markdown",
   "id": "persistent-anthony",
   "metadata": {},
   "source": [
    "We ca consider two method. In the first, we perform one integration of the second order ODE and the second is numerically integrated. In the second method, that is left as exercise, the second order ODE is written as a system of two first order ODE's and both are numerically integrated"
   ]
  },
  {
   "cell_type": "markdown",
   "id": "preceding-problem",
   "metadata": {},
   "source": [
    "## Method 1"
   ]
  },
  {
   "cell_type": "markdown",
   "id": "placed-processing",
   "metadata": {},
   "source": [
    "In this method the origin of $x$ is at the wall and the numerical integration is done until the middle point between plates. All the variables are normalized with capillary length \n",
    "$ l_s = \\frac{\\rho g}{\\gamma} $. Hence,\n",
    "\n",
    "\\begin{eqnarray}\n",
    "\\xi &=& \\frac{x}{l_s} \\\\\n",
    "\\eta &=& \\frac{z}{l_s} \\\\\n",
    "\\beta &=& \\frac{H}{l_s} \\\\\n",
    "\\lambda &=& \\frac{L}{l_s} \n",
    "\\end{eqnarray}"
   ]
  },
  {
   "cell_type": "code",
   "execution_count": 1,
   "id": "inner-boards",
   "metadata": {},
   "outputs": [],
   "source": [
    "import numpy as np\n",
    "import sympy as sp\n",
    "sp.init_printing()"
   ]
  },
  {
   "cell_type": "code",
   "execution_count": 2,
   "id": "spoken-salmon",
   "metadata": {},
   "outputs": [
    {
     "data": {
      "image/png": "[encoded data removed]",
      "text/latex": [
       "$\\displaystyle \\beta - \\frac{\\frac{d^{2}}{d \\xi^{2}} \\eta{\\left(\\xi \\right)}}{\\left(\\left(\\frac{d}{d \\xi} \\eta{\\left(\\xi \\right)}\\right)^{2} + 1\\right)^{1.5}} + \\eta{\\left(\\xi \\right)}$"
      ],
      "text/plain": [
       "                     -1.5                 \n",
       "    ⎛          2    ⎞       2             \n",
       "    ⎜⎛d       ⎞     ⎟      d              \n",
       "β - ⎜⎜──(η(ξ))⎟  + 1⎟    ⋅───(η(ξ)) + η(ξ)\n",
       "    ⎝⎝dξ      ⎠     ⎠       2             \n",
       "                          dξ              "
      ]
     },
     "metadata": {},
     "output_type": "display_data"
    }
   ],
   "source": [
    "xi,theta, beta = sp.symbols('xi,theta,beta',positive=True)\n",
    "eta = sp.Function('eta')\n",
    "exp = (eta(xi)+beta)-eta(xi).diff(xi,2)/(1+eta(xi).diff(xi)**2)**(3/2)\n",
    "display(exp)"
   ]
  },
  {
   "cell_type": "markdown",
   "id": "corresponding-settlement",
   "metadata": {},
   "source": [
    "As in the case of one plate, this equation can be integrated with an integration factor $\\eta'$."
   ]
  },
  {
   "cell_type": "code",
   "execution_count": 3,
   "id": "helpful-symposium",
   "metadata": {},
   "outputs": [
    {
     "data": {
      "image/png": "[encoded data removed]",
      "text/latex": [
       "$\\displaystyle \\left(\\beta - \\frac{\\frac{d^{2}}{d \\xi^{2}} \\eta{\\left(\\xi \\right)}}{\\left(\\left(\\frac{d}{d \\xi} \\eta{\\left(\\xi \\right)}\\right)^{2} + 1\\right)^{1.5}} + \\eta{\\left(\\xi \\right)}\\right) \\frac{d}{d \\xi} \\eta{\\left(\\xi \\right)}$"
      ],
      "text/plain": [
       "⎛                     -1.5                 ⎞         \n",
       "⎜    ⎛          2    ⎞       2             ⎟         \n",
       "⎜    ⎜⎛d       ⎞     ⎟      d              ⎟ d       \n",
       "⎜β - ⎜⎜──(η(ξ))⎟  + 1⎟    ⋅───(η(ξ)) + η(ξ)⎟⋅──(η(ξ))\n",
       "⎜    ⎝⎝dξ      ⎠     ⎠       2             ⎟ dξ      \n",
       "⎝                          dξ              ⎠         "
      ]
     },
     "metadata": {},
     "output_type": "display_data"
    }
   ],
   "source": [
    "exp = exp*eta(xi).diff(xi)\n",
    "display(exp)"
   ]
  },
  {
   "cell_type": "code",
   "execution_count": 4,
   "id": "headed-warner",
   "metadata": {},
   "outputs": [
    {
     "data": {
      "image/png": "[encoded data removed]",
      "text/latex": [
       "$\\displaystyle \\beta \\eta{\\left(\\xi \\right)} + \\frac{1.0}{\\left(\\left(\\frac{d}{d \\xi} \\eta{\\left(\\xi \\right)}\\right)^{2} + 1\\right)^{0.5}} + \\frac{\\eta^{2}{\\left(\\xi \\right)}}{2}$"
      ],
      "text/plain": [
       "                              -0.5        \n",
       "             ⎛          2    ⎞        2   \n",
       "             ⎜⎛d       ⎞     ⎟       η (ξ)\n",
       "β⋅η(ξ) + 1.0⋅⎜⎜──(η(ξ))⎟  + 1⎟     + ─────\n",
       "             ⎝⎝dξ      ⎠     ⎠         2  "
      ]
     },
     "metadata": {},
     "output_type": "display_data"
    }
   ],
   "source": [
    "exp2 = exp.integrate(xi)\n",
    "display(exp2)"
   ]
  },
  {
   "cell_type": "markdown",
   "id": "spanish-composer",
   "metadata": {},
   "source": [
    "Again, when $\\eta=0$, the first derivative is $0$ too, so, this is again 1. And $delta$, the normalized height of water in the wall (above center of meniscus) can be calculated by imposing its derivative."
   ]
  },
  {
   "cell_type": "code",
   "execution_count": 5,
   "id": "focused-treasure",
   "metadata": {},
   "outputs": [
    {
     "data": {
      "image/png": "[encoded data removed]",
      "text/latex": [
       "$\\displaystyle \\beta \\eta{\\left(\\xi \\right)} + \\frac{1.0}{\\left(\\left(\\frac{d}{d \\xi} \\eta{\\left(\\xi \\right)}\\right)^{2} + 1\\right)^{0.5}} + \\frac{\\eta^{2}{\\left(\\xi \\right)}}{2} = 1$"
      ],
      "text/plain": [
       "                              -0.5            \n",
       "             ⎛          2    ⎞        2       \n",
       "             ⎜⎛d       ⎞     ⎟       η (ξ)    \n",
       "β⋅η(ξ) + 1.0⋅⎜⎜──(η(ξ))⎟  + 1⎟     + ───── = 1\n",
       "             ⎝⎝dξ      ⎠     ⎠         2      "
      ]
     },
     "metadata": {},
     "output_type": "display_data"
    },
    {
     "data": {
      "image/png": "[encoded data removed]",
      "text/latex": [
       "$\\displaystyle \\beta \\delta + \\frac{\\delta^{2}}{2} + \\frac{1.0}{\\left(1 + \\frac{1}{\\tan^{2}{\\left(\\theta \\right)}}\\right)^{0.5}} = 1$"
      ],
      "text/plain": [
       "       2                    -0.5    \n",
       "      δ        ⎛       1   ⎞        \n",
       "β⋅δ + ── + 1.0⋅⎜1 + ───────⎟     = 1\n",
       "      2        ⎜       2   ⎟        \n",
       "               ⎝    tan (θ)⎠        "
      ]
     },
     "metadata": {},
     "output_type": "display_data"
    }
   ],
   "source": [
    "dEq = sp.Eq(exp2,1)\n",
    "display(dEq)\n",
    "delta = sp.symbols('delta')\n",
    "deltaEq = dEq.replace(eta(xi).diff(xi),-1/sp.tan(theta)).replace(eta(xi),delta)\n",
    "display(deltaEq)"
   ]
  },
  {
   "cell_type": "markdown",
   "id": "nasty-sister",
   "metadata": {},
   "source": [
    "We keep the second solution, which is the positive one"
   ]
  },
  {
   "cell_type": "code",
   "execution_count": 6,
   "id": "exciting-center",
   "metadata": {},
   "outputs": [
    {
     "data": {
      "image/png": "[encoded data removed]",
      "text/latex": [
       "$\\displaystyle - \\beta + \\frac{1.4142135623731 \\sqrt{\\frac{0.5 \\beta^{2}}{\\cos^{2}{\\left(\\theta \\right)}} - \\left|{\\frac{\\tan{\\left(\\theta \\right)}}{\\cos{\\left(\\theta \\right)}}}\\right| + \\frac{1}{\\cos^{2}{\\left(\\theta \\right)}}} \\left|{\\cos{\\left(\\theta \\right)} \\tan{\\left(\\theta \\right)}}\\right|}{\\tan{\\left(\\theta \\right)}}$"
      ],
      "text/plain": [
       "                           ______________________________                \n",
       "                          ╱       2                                      \n",
       "                         ╱   0.5⋅β    │tan(θ)│      1                    \n",
       "     1.4142135623731⋅   ╱   ─────── - │──────│ + ─────── ⋅│cos(θ)⋅tan(θ)│\n",
       "                       ╱       2      │cos(θ)│      2                    \n",
       "                     ╲╱     cos (θ)              cos (θ)                 \n",
       "-β + ────────────────────────────────────────────────────────────────────\n",
       "                                    tan(θ)                               "
      ]
     },
     "metadata": {},
     "output_type": "display_data"
    }
   ],
   "source": [
    "deltaSol=sp.solve(deltaEq,delta)[1]\n",
    "deltaSol.simplify().trigsimp()\n",
    "display(deltaSol)"
   ]
  },
  {
   "cell_type": "markdown",
   "id": "satisfied-finish",
   "metadata": {},
   "source": [
    "This is function of the contact angle ($\\theta$) but also of the height of the column, $\\beta$. The higher is $\\beta$, the lower is $\\delta$. This is because also $\\lambda$ will be lower, and the meniscus is narrower.\n",
    "\n",
    "We construct a function to calculate the numerical value of $\\delta$ (initial value of $\\eta$) with $\\beta$ and $\\theta$."
   ]
  },
  {
   "cell_type": "code",
   "execution_count": 7,
   "id": "comfortable-lying",
   "metadata": {},
   "outputs": [],
   "source": [
    "eta0_n = sp.lambdify((beta,theta),deltaSol)"
   ]
  },
  {
   "cell_type": "markdown",
   "id": "quick-things",
   "metadata": {},
   "source": [
    "and also, we construct the first order that we want to integrate, by defining the first derivative of $\\eta$."
   ]
  },
  {
   "cell_type": "code",
   "execution_count": 8,
   "id": "infrared-documentary",
   "metadata": {},
   "outputs": [
    {
     "data": {
      "image/png": "[encoded data removed]",
      "text/latex": [
       "$\\displaystyle - \\sqrt{-1.0 + \\frac{1.0}{\\left(\\beta \\eta{\\left(\\xi \\right)} + 0.5 \\eta^{2}{\\left(\\xi \\right)} - 1\\right)^{2}}}$"
      ],
      "text/plain": [
       "       __________________________________\n",
       "      ╱                   1.0            \n",
       "-    ╱  -1.0 + ───────────────────────── \n",
       "    ╱                                  2 \n",
       "   ╱           ⎛              2       ⎞  \n",
       " ╲╱            ⎝β⋅η(ξ) + 0.5⋅η (ξ) - 1⎠  "
      ]
     },
     "metadata": {},
     "output_type": "display_data"
    }
   ],
   "source": [
    "f = sp.solve(dEq,eta(xi).diff(xi))[0]\n",
    "display(f)"
   ]
  },
  {
   "cell_type": "markdown",
   "id": "hired-signal",
   "metadata": {},
   "source": [
    "and its numerical version"
   ]
  },
  {
   "cell_type": "code",
   "execution_count": 9,
   "id": "animal-aging",
   "metadata": {},
   "outputs": [],
   "source": [
    "f_np = sp.lambdify((eta(xi),xi,beta),f)"
   ]
  },
  {
   "cell_type": "markdown",
   "id": "centered-fever",
   "metadata": {},
   "source": [
    "and now we can integrate it, choosing input values for contact angle $\\theta$ and for $\\beta$ (height of column)."
   ]
  },
  {
   "cell_type": "code",
   "execution_count": 10,
   "id": "engaged-musician",
   "metadata": {},
   "outputs": [
    {
     "data": {
      "image/png": "[encoded data removed]",
      "text/latex": [
       "$\\displaystyle 0.9901$"
      ],
      "text/plain": [
       "0.9901"
      ]
     },
     "metadata": {},
     "output_type": "display_data"
    }
   ],
   "source": [
    "from scipy.integrate import odeint\n",
    "theta_n = np.deg2rad(30)\n",
    "beta_n = 0.01\n",
    "eta0 = sp.N(eta0_n(beta_n,theta_n),4)\n",
    "display(eta0)"
   ]
  },
  {
   "cell_type": "markdown",
   "id": "binary-czech",
   "metadata": {},
   "source": [
    "An estimation of distance between plates can be done easily with the circular approximation, yielding $\\lambda = \\frac{2\\cos{\\theta}}{\\beta}$. So, the distance to the middle point will be around $\\frac{\\cos{\\theta}}{\\beta}$. We use a slightly larger value for the limit of numerical integration"
   ]
  },
  {
   "cell_type": "code",
   "execution_count": 11,
   "id": "functioning-thunder",
   "metadata": {},
   "outputs": [
    {
     "name": "stdout",
     "output_type": "stream",
     "text": [
      " lsoda--  at t (=r1), too much accuracy requested  \u0000\u0000\n",
      "       for precision of machine..  see tolsf (=r2) \u0000\u0000\n",
      "      in above,  r1 =  0.5148195504208D+01   r2 =                  NaN\n"
     ]
    },
    {
     "name": "stderr",
     "output_type": "stream",
     "text": [
      "<lambdifygenerated-2>:2: RuntimeWarning: invalid value encountered in sqrt\n",
      "  return (-sqrt(-1.0 + 1.0/(0.5*_Dummy_2007**2 + _Dummy_2007*beta - 1)**2))\n",
      "/home/robert/.config/jupyterlab-desktop/jlab_server/lib/python3.8/site-packages/scipy/integrate/_odepack_py.py:247: ODEintWarning: Excess accuracy requested (tolerances too small). Run with full_output = 1 to get quantitative information.\n",
      "  warnings.warn(warning_msg, ODEintWarning)\n"
     ]
    }
   ],
   "source": [
    "l_2_est = np.cos(theta_n)/beta_n\n",
    "xi_p = np.linspace(0,1.1*l_2_est,1000) # long enough for our case\n",
    "eta_np = odeint(f_np,eta0,xi_p,args=(beta_n,))[:,0] #odeint returns an 2-D array (one for each equation of the system) with only one row. We only need the 1-D array."
   ]
  },
  {
   "cell_type": "markdown",
   "id": "prime-panic",
   "metadata": {},
   "source": [
    "It gives a warning because beyond the middle point of meniscus the derivative gives imaginary values (negative argument in the root square of `f`. A trick is to detect this `NaN` \n",
    "and drop them from `eta_np` and `xi_p`. Then, the last value of `xi_p` is the numerical result for $\\lambda/2$. "
   ]
  },
  {
   "cell_type": "code",
   "execution_count": 12,
   "id": "optional-southeast",
   "metadata": {},
   "outputs": [
    {
     "name": "stdout",
     "output_type": "stream",
     "text": [
      "numerical value for lambda: 191\n",
      "estimated value for lambda: 173\n"
     ]
    }
   ],
   "source": [
    "xi_p = xi_p[~np.isnan(eta_np)]\n",
    "eta_np = eta_np[~np.isnan(eta_np)]\n",
    "l_2 = xi_p[-1]\n",
    "print('numerical value for lambda: {:.3g}'.format(l_2*2))\n",
    "print('estimated value for lambda: {:.3g}'.format(l_2_est*2))"
   ]
  },
  {
   "cell_type": "code",
   "execution_count": 13,
   "id": "spare-biography",
   "metadata": {},
   "outputs": [],
   "source": [
    "R = l_2/np.cos(theta_n)\n",
    "eta_circ = R - np.sqrt(R**2 - (l_2-xi_p)**2)"
   ]
  },
  {
   "cell_type": "code",
   "execution_count": 14,
   "id": "vietnamese-introduction",
   "metadata": {},
   "outputs": [
    {
     "data": {
      "text/plain": [
       "<matplotlib.legend.Legend at 0x7f8e884b7e80>"
      ]
     },
     "execution_count": 14,
     "metadata": {},
     "output_type": "execute_result"
    },
    {
     "data": {
      "image/png": "[encoded data removed]",
      "text/plain": [
       "<Figure size 864x288 with 1 Axes>"
      ]
     },
     "metadata": {
      "needs_background": "light"
     },
     "output_type": "display_data"
    }
   ],
   "source": [
    "import matplotlib.pyplot as plt\n",
    "fig,ax = plt.subplots(figsize=(12,4))\n",
    "plt.gca().set_aspect('equal', adjustable='box')\n",
    "ax.plot(xi_p,eta_np,scaley=True, label='numerical')\n",
    "ax.plot(xi_p,eta_circ,scaley=True, label ='cercle')\n",
    "ax.legend()"
   ]
  },
  {
   "cell_type": "markdown",
   "id": "regular-rabbit",
   "metadata": {},
   "source": [
    "## Method 2"
   ]
  },
  {
   "cell_type": "markdown",
   "id": "metropolitan-artist",
   "metadata": {},
   "source": [
    "In this method, we write the second order ODE as a system of two first order ODE's:\n",
    "\n",
    "\\begin{eqnarray}\n",
    "\\zeta'(\\zeta,\\eta,\\xi) &=& (\\eta(\\xi) + \\beta)\\left(1+\\zeta(\\xi)^2\\right)^\\frac{3}{2} \\\\\n",
    "\\eta'(\\zeta,\\eta,\\xi) &=& \\zeta(\\xi)\n",
    "\\end{eqnarray}\n",
    "\n",
    "and, if the coordinates are centered in the middle point (as indicated in the figure), the initial conditions are $\\eta(\\xi=0)=\\zeta(\\xi=0)=0$.\n",
    "\n",
    "_Question:_ How do we calculate the value of $\\lambda$?"
   ]
  }
 ],
 "metadata": {
  "kernelspec": {
   "display_name": "Python 3 (ipykernel)",
   "language": "python",
   "name": "python3"
  },
  "language_info": {
   "codemirror_mode": {
    "name": "ipython",
    "version": 3
   },
   "file_extension": ".py",
   "mimetype": "text/x-python",
   "name": "python",
   "nbconvert_exporter": "python",
   "pygments_lexer": "ipython3",
   "version": "3.8.13"
  }
 },
 "nbformat": 4,
 "nbformat_minor": 5
}
