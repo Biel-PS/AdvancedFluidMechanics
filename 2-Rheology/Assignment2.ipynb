{
  "cells": [
    {
      "cell_type": "markdown",
      "metadata": {
        "id": "view-in-github",
        "colab_type": "text"
      },
      "source": [
        "<a href=\"https://colab.research.google.com/github/Biel-PS/AdvancedFluidMechanics/blob/BielPS/2-Rheology/Assignment2.ipynb\" target=\"_parent\"><img src=\"https://colab.research.google.com/assets/colab-badge.svg\" alt=\"Open In Colab\"/></a>"
      ]
    },
    {
      "cell_type": "markdown",
      "id": "b7a0c9cf-b589-4da1-8b4b-e8e6fde7f631",
      "metadata": {
        "id": "b7a0c9cf-b589-4da1-8b4b-e8e6fde7f631"
      },
      "source": [
        "# Assignment 2. Rheological behaviour of cosmetic creams\n",
        "\n",
        "It is a sample of rheological behaviour of some cosmetic creams, taken from [here](https://www.rheologylab.com/articles/emulsion-stability/)\n",
        "\n",
        "![image.png](https://github.com/Biel-PS/AdvancedFluidMechanics/blob/main/2-Rheology/CSVP-of-Lotions-and-Creams-names-removed.webp?raw=1)\n",
        "\n",
        "What conclusions would you get from that about the behaviour of day creams in front of body creams?\n",
        "\n",
        "Let's consider the case of the body lotion C. Fit the Power Law model, get coefficients and plot it. You will see that it is not good. You will see that it does not agree with very low (_zero-shear rate viscosity_) or high (_infinity-shear rate viscosity_) shear stress. There are some other models that deals with this behaviour. The molt usual is the [Carreau model](https://en.wikipedia.org/wiki/Carreau_fluid). Apply this law to obtain a more accurate model of this fluid and discuss it.\n"
      ]
    },
    {
      "cell_type": "code",
      "execution_count": 8,
      "id": "4b8910e9-bf44-4876-855b-9088968a4213",
      "metadata": {
        "id": "4b8910e9-bf44-4876-855b-9088968a4213",
        "outputId": "63fc8b41-be00-47bf-ad0f-c9d2fb867f16",
        "colab": {
          "base_uri": "https://localhost:8080/",
          "height": 100
        }
      },
      "outputs": [
        {
          "output_type": "display_data",
          "data": {
            "text/plain": [
              "      -1      n  \n",
              "     ─────  ─────\n",
              "     n - 1  n - 1\n",
              "σ = K     ⋅η     "
            ],
            "text/latex": "$\\displaystyle \\sigma = K^{- \\frac{1}{n - 1}} \\eta^{\\frac{n}{n - 1}}$"
          },
          "metadata": {}
        },
        {
          "output_type": "display_data",
          "data": {
            "text/plain": [
              "         n⋅log(η)   log(K)\n",
              "log(σ) = ──────── - ──────\n",
              "          n - 1     n - 1 "
            ],
            "text/latex": "$\\displaystyle \\log{\\left(\\sigma \\right)} = \\frac{n \\log{\\left(\\eta \\right)}}{n - 1} - \\frac{\\log{\\left(K \\right)}}{n - 1}$"
          },
          "metadata": {}
        },
        {
          "output_type": "display_data",
          "data": {
            "text/plain": [
              "log(σ) = A⋅log(η) + B"
            ],
            "text/latex": "$\\displaystyle \\log{\\left(\\sigma \\right)} = A \\log{\\left(\\eta \\right)} + B$"
          },
          "metadata": {}
        }
      ],
      "source": [
        "import statsmodels.formula.api as smf\n",
        "import statsmodels.graphics.api as smg\n",
        "import patsy\n",
        "import matplotlib.pyplot as plt\n",
        "import numpy as np\n",
        "import pandas as pd\n",
        "import sympy as sp\n",
        "import statsmodels.api as sm\n",
        "sp.init_printing()\n",
        "from IPython.display import display, Math\n",
        "Deltap,L,r,n,R, sig, eta,gamma,K= sp.symbols('{\\Delta}p L r n R sigma eta gamma K',positive=True)\n",
        "uz = sp.Function('u_z')\n",
        "\n",
        "eq1 = sp.Eq(eta,sig/gamma)\n",
        "eq2 = sp.Eq(sig,K*gamma**n)\n",
        "\n",
        "Eq1= sp.solve([eq1],[gamma])\n",
        "Eq = eq2.subs(gamma,Eq1[gamma])\n",
        "\n",
        "Eq= sp.solve([Eq],[sig])\n",
        "\n",
        "expression = sp.Eq(sig,Eq[0][0])\n",
        "\n",
        "display(expression)\n",
        "\n",
        "# Eq = sp.Eq(sp.log(sig),sp.log(eta*(1/(2*eta)*(Deltap/L)*r)**(1/(n-1))))\n",
        "# display(Eq)\n",
        "\n",
        "\n",
        "exprLog = sp.Eq(sp.log(expression.lhs),sp.log(expression.rhs))\n",
        "exprLog = exprLog.expand(force=True)\n",
        "display(exprLog)\n",
        "\n",
        "A,B = sp.symbols('A B',positive=True)\n",
        "\n",
        "Aeq = n/(n-1)\n",
        "Beq = -sp.log(K)/(n-1)\n",
        "\n",
        "logExpr = sp.Eq(sp.log(sig), A*(sp.log(eta)) + B)\n",
        "\n",
        "display(logExpr)"
      ]
    },
    {
      "cell_type": "code",
      "source": [
        "DataFrame = pd.read_csv(\"Default Dataset (1).csv\",header=None,names=['x','y'], delimiter=\";\", decimal=\",\")\n",
        "\n",
        "\n",
        "model = smf.ols('np.log(y) ~ np.log(x)', DataFrame)  # 1. Define model of regression\n",
        "result = model.fit()                   # 2. Adjust model of the data\n",
        "result.summary()\n",
        "\n",
        "\n",
        "display(result.params)"
      ],
      "metadata": {
        "id": "dUWbPYeC_2Cs",
        "outputId": "ea2a79dc-daca-4cef-c2ee-7e126f9baac8",
        "colab": {
          "base_uri": "https://localhost:8080/",
          "height": 147
        }
      },
      "id": "dUWbPYeC_2Cs",
      "execution_count": 9,
      "outputs": [
        {
          "output_type": "display_data",
          "data": {
            "text/plain": [
              "Intercept    11.751671\n",
              "np.log(x)    -2.617894\n",
              "dtype: float64"
            ],
            "text/html": [
              "<div>\n",
              "<style scoped>\n",
              "    .dataframe tbody tr th:only-of-type {\n",
              "        vertical-align: middle;\n",
              "    }\n",
              "\n",
              "    .dataframe tbody tr th {\n",
              "        vertical-align: top;\n",
              "    }\n",
              "\n",
              "    .dataframe thead th {\n",
              "        text-align: right;\n",
              "    }\n",
              "</style>\n",
              "<table border=\"1\" class=\"dataframe\">\n",
              "  <thead>\n",
              "    <tr style=\"text-align: right;\">\n",
              "      <th></th>\n",
              "      <th>0</th>\n",
              "    </tr>\n",
              "  </thead>\n",
              "  <tbody>\n",
              "    <tr>\n",
              "      <th>Intercept</th>\n",
              "      <td>11.751671</td>\n",
              "    </tr>\n",
              "    <tr>\n",
              "      <th>np.log(x)</th>\n",
              "      <td>-2.617894</td>\n",
              "    </tr>\n",
              "  </tbody>\n",
              "</table>\n",
              "</div><br><label><b>dtype:</b> float64</label>"
            ]
          },
          "metadata": {}
        }
      ]
    },
    {
      "cell_type": "code",
      "source": [
        "intercept = result.params['Intercept']\n",
        "slope = result.params['np.log(x)']\n",
        "\n",
        "# Create a range of x values (log-transformed) for plotting the regression line in logarithmic space\n",
        "x_vals = DataFrame['x']  # Use the original x values for plotting the regression line in the original scale\n",
        "\n",
        "# Compute the y-values for the regression line in logarithmic space\n",
        "y_vals_log = intercept + slope * np.log(x_vals)  # Regression line equation in log scale\n",
        "\n",
        "# Convert the y-values back to the original scale using np.exp() for the plot\n",
        "y_vals = np.exp(y_vals_log)\n",
        "\n",
        "# Plot the data points (log-transformed)\n",
        "plt.scatter(DataFrame['x'], DataFrame['y'], color='blue', label='Data points')\n",
        "\n",
        "# Plot the regression line (on the original scale)\n",
        "plt.plot(x_vals, y_vals, color='red', label='Regression line')\n",
        "\n",
        "# Set logarithmic scale for both axes\n",
        "plt.xscale('log')\n",
        "plt.yscale('log')\n",
        "\n",
        "# Adding labels and title\n",
        "plt.xlabel('Shear $\\sigma$ (log scale)')\n",
        "plt.ylabel('Viscosity $\\eta$ (log scale)')\n",
        "plt.title('OLS Regression in Logarithmic Scale')\n",
        "\n",
        "# Show legend\n",
        "plt.legend()\n",
        "\n",
        "# Display the plot\n",
        "plt.show()"
      ],
      "metadata": {
        "colab": {
          "base_uri": "https://localhost:8080/",
          "height": 480
        },
        "id": "8yaOS6LJ5RBH",
        "outputId": "a13cbf16-d1f4-4aa6-fbea-051eac97f223"
      },
      "id": "8yaOS6LJ5RBH",
      "execution_count": 10,
      "outputs": [
        {
          "output_type": "display_data",
          "data": {
            "text/plain": [
              "<Figure size 640x480 with 1 Axes>"
            ],
            "image/png": "[encoded data removed]"
          },
          "metadata": {}
        }
      ]
    },
    {
      "cell_type": "code",
      "source": [
        "Aeq = n/(n-1)\n",
        "Beq = -sp.log(K)/(n-1)\n",
        "\n",
        "nVal = sp.solve(sp.Eq(Aeq , slope),n)\n",
        "Beq = Beq.subs(n,nVal[0])\n",
        "KVal = sp.solve(sp.Eq(Beq , intercept),K)\n",
        "\n",
        "Aeq = Aeq.subs({n:nVal[0], K: KVal[0]})\n",
        "Beq = Beq.subs({n:nVal[0], K: KVal[0]})\n",
        "\n",
        "LinearModel = logExpr.subs({A:Aeq, B: Beq})\n",
        "display(nVal)\n",
        "display(KVal)\n",
        "\n",
        "display(LinearModel)\n"
      ],
      "metadata": {
        "colab": {
          "base_uri": "https://localhost:8080/",
          "height": 80
        },
        "id": "ps17Yu8g6zXY",
        "outputId": "4f6dff75-7c07-4350-e7dc-27088ca7633c"
      },
      "id": "ps17Yu8g6zXY",
      "execution_count": 11,
      "outputs": [
        {
          "output_type": "display_data",
          "data": {
            "text/plain": [
              "[0.723596111532329]"
            ],
            "text/latex": "$\\displaystyle \\left[ 0.723596111532329\\right]$"
          },
          "metadata": {}
        },
        {
          "output_type": "display_data",
          "data": {
            "text/plain": [
              "[25.7441510619581]"
            ],
            "text/latex": "$\\displaystyle \\left[ 25.7441510619581\\right]$"
          },
          "metadata": {}
        },
        {
          "output_type": "display_data",
          "data": {
            "text/plain": [
              "log(σ) = 11.7516706298573 - 2.61789410975295⋅log(η)"
            ],
            "text/latex": "$\\displaystyle \\log{\\left(\\sigma \\right)} = 11.7516706298573 - 2.61789410975295 \\log{\\left(\\eta \\right)}$"
          },
          "metadata": {}
        }
      ]
    },
    {
      "cell_type": "markdown",
      "source": [
        "Now we define the Carreau model"
      ],
      "metadata": {
        "id": "rTxhzMwA9Js7"
      },
      "id": "rTxhzMwA9Js7"
    },
    {
      "cell_type": "code",
      "source": [
        "eta, etaInf, eta0, lam,gamma, n= sp.symbols('eta \\eta_{inf} eta_0 lambda gamma n',positive=True)\n",
        "\n",
        "eq1 = sp.Eq(eta, etaInf + (eta0-etaInf)*(1+(lam*gamma)**2)**((n-1)/2))\n",
        "display(eq1)\n",
        "\n",
        "eq2 = sp.Eq(sig,K*gamma**n)\n",
        "display(eq2)\n",
        "eq2r = sp.solve(eq2,gamma)\n",
        "display(eq2r)\n",
        "eq2n = sp.Eq(gamma,eq2r[0])\n",
        "display(eq2n)\n",
        "\n",
        "subs = eq1.subs(gamma,eq2r[0])\n",
        "Eq =subs\n",
        "display(Eq)\n",
        "\n",
        "\n",
        "\n",
        "\n",
        "# exprLog = sp.Eq(sp.log(Eq.lhs),sp.log(Eq.rhs))\n",
        "# exprLog = exprLog.expand(force=True)\n",
        "# exprLog = sp.simplify(exprLog)\n",
        "\n",
        "# display(exprLog)\n"
      ],
      "metadata": {
        "id": "DkH1OLMD9Jf1",
        "outputId": "28b5393d-3c09-4090-d8cc-57be9a5daf42",
        "colab": {
          "base_uri": "https://localhost:8080/",
          "height": 192
        }
      },
      "id": "DkH1OLMD9Jf1",
      "execution_count": 12,
      "outputs": [
        {
          "output_type": "display_data",
          "data": {
            "text/plain": [
              "                                               n   1\n",
              "                                               ─ - ─\n",
              "                                               2   2\n",
              "                                    ⎛ 2  2    ⎞     \n",
              "η = \\eta_{inf} + (-\\eta_{inf} + η₀)⋅⎝γ ⋅λ  + 1⎠     "
            ],
            "text/latex": "$\\displaystyle \\eta = \\eta_{inf} + \\left(- \\eta_{inf} + \\eta_{0}\\right) \\left(\\gamma^{2} \\lambda^{2} + 1\\right)^{\\frac{n}{2} - \\frac{1}{2}}$"
          },
          "metadata": {}
        },
        {
          "output_type": "display_data",
          "data": {
            "text/plain": [
              "       n\n",
              "σ = K⋅γ "
            ],
            "text/latex": "$\\displaystyle \\sigma = K \\gamma^{n}$"
          },
          "metadata": {}
        },
        {
          "output_type": "display_data",
          "data": {
            "text/plain": [
              "⎡    ___⎤\n",
              "⎢   ╱ σ ⎥\n",
              "⎢n ╱  ─ ⎥\n",
              "⎣╲╱   K ⎦"
            ],
            "text/latex": "$\\displaystyle \\left[ \\left(\\frac{\\sigma}{K}\\right)^{\\frac{1}{n}}\\right]$"
          },
          "metadata": {}
        },
        {
          "output_type": "display_data",
          "data": {
            "text/plain": [
              "        ___\n",
              "       ╱ σ \n",
              "γ = n ╱  ─ \n",
              "    ╲╱   K "
            ],
            "text/latex": "$\\displaystyle \\gamma = \\left(\\frac{\\sigma}{K}\\right)^{\\frac{1}{n}}$"
          },
          "metadata": {}
        },
        {
          "output_type": "display_data",
          "data": {
            "text/plain": [
              "                                                 n   1\n",
              "                                                 ─ - ─\n",
              "                                                 2   2\n",
              "                                    ⎛      2    ⎞     \n",
              "                                    ⎜      ─    ⎟     \n",
              "                                    ⎜      n    ⎟     \n",
              "                                    ⎜ 2 ⎛σ⎞     ⎟     \n",
              "η = \\eta_{inf} + (-\\eta_{inf} + η₀)⋅⎜λ ⋅⎜─⎟  + 1⎟     \n",
              "                                    ⎝   ⎝K⎠     ⎠     "
            ],
            "text/latex": "$\\displaystyle \\eta = \\eta_{inf} + \\left(- \\eta_{inf} + \\eta_{0}\\right) \\left(\\lambda^{2} \\left(\\frac{\\sigma}{K}\\right)^{\\frac{2}{n}} + 1\\right)^{\\frac{n}{2} - \\frac{1}{2}}$"
          },
          "metadata": {}
        }
      ]
    },
    {
      "cell_type": "code",
      "source": [
        "import scipy.optimize as opt\n",
        "n1 = float(nVal[0])\n",
        "k1 = float(KVal[0])\n",
        "display(n1)\n",
        "display(k1)\n",
        "\n",
        "\n",
        "def carreau_viscosity(tau, eta0, etainf, lambda_, n,k):\n",
        "  eta_tau = etainf + (eta0-etainf)*(1+lambda_**2*(tau/k)**(2/n))**((n-1)/2)\n",
        "  return eta_tau\n",
        "\n",
        "\n",
        "etaexp = DataFrame['y'].to_numpy()\n",
        "tauexp = DataFrame['x'].to_numpy()\n",
        "\n",
        "\n",
        "p0 =[9300,0.3,100,0.01,5]# float(nVal[0]),float(KVal[0])]\n",
        "\n",
        "\n",
        "bounds = (\n",
        "    [7000, 0, 0, 0, 0],  # Min value for parameters\n",
        "    [10000, 0.3, 150, 0.2, 25]  # Max value for parameters\n",
        ")\n",
        "\n",
        "popt, pcov = opt.curve_fit(carreau_viscosity, tauexp, etaexp, p0, bounds = bounds, maxfev=10000)\n",
        "\n",
        "\n",
        "# popt[0] = 9357.106120984938\n",
        "# popt[1] = 0.3\n",
        "# popt[2] = 150\n",
        "# popt[3] = 0.19\n",
        "# popt[4] = 15\n",
        "\n",
        "# # Define the MSE loss function\n",
        "# def compute_mse(params, tauexp, etaexp):\n",
        "#     eta0, etainf, lambda_, n, k = params\n",
        "#     eta_pred = carreau_viscosity(tauexp, eta0, etainf, lambda_, n, k)\n",
        "#     mse = np.mean((eta_pred - etaexp) ** 2)\n",
        "#     return mse\n",
        "\n",
        "# # Compute numerical gradients\n",
        "# def compute_gradients(params, tauexp, etaexp, epsilon=1e-5):\n",
        "#     gradients = np.zeros(len(params))\n",
        "#     for i in range(len(params)):\n",
        "#         params_step = params.copy()\n",
        "#         params_step[i] += epsilon\n",
        "#         mse1 = compute_mse(params_step, tauexp, etaexp)\n",
        "\n",
        "#         params_step[i] -= 2 * epsilon\n",
        "#         mse2 = compute_mse(params_step, tauexp, etaexp)\n",
        "\n",
        "#         gradients[i] = (mse1 - mse2) / (2 * epsilon)  # Central difference approximation\n",
        "#     return gradients\n",
        "\n",
        "# # Gradient Descent Optimization\n",
        "# def gradient_descent(tauexp, etaexp, initial_params, learning_rate=1e-12, max_iters=1000, tolerance=1e-6):\n",
        "#     params = np.array(initial_params, dtype=float)\n",
        "#     mse_history = []\n",
        "\n",
        "#     for i in range(max_iters):\n",
        "#         mse = compute_mse(params, tauexp, etaexp)\n",
        "#         mse_history.append(mse)\n",
        "\n",
        "#         gradients = compute_gradients(params, tauexp, etaexp)\n",
        "\n",
        "#         # Update parameters\n",
        "#         params -= learning_rate * gradients\n",
        "\n",
        "#         # Stopping condition\n",
        "#         if np.linalg.norm(gradients) < tolerance:\n",
        "#             print(f\"Converged at iteration {i+1}\")\n",
        "#             break\n",
        "\n",
        "#     return params, mse_history\n",
        "\n",
        "# initial_params = [9357.1, 0.3, 150.0, 0.19, 15.9]\n",
        "# initial_params = popt\n",
        "# optimized_params, mse_history = gradient_descent(tauexp, etaexp, initial_params)\n",
        "# optimized_params = popt\n",
        "\n",
        "# p0 = [max(etaexp),min(etaexp),20,float(nVal[0]),float(KVal[0])]\n",
        "\n",
        "# bounds = (\n",
        "#     [1e-3, 0, 0, 0, 0],  # Valores mínimos para cada parámetro\n",
        "#     [np.inf, 1, np.inf, 1, np.inf]  # Valores máximos razonables\n",
        "# )\n",
        "\n",
        "# popt, pcov = opt.curve_fit(carreau_viscosity, tauexp, etaexp, p0, bounds = bounds, maxfev=10000)\n",
        "# eta0_fit, etainf_fit, lambda_fit, n_fit, K_fit = popt\n",
        "\n",
        "\n",
        "eta0_fit, etainf_fit, lambda_fit, n_fit, K_fit = optimized_params\n",
        "print(f\"Optimal parameters:\")\n",
        "print(f\"  η₀ = {eta0_fit}\")\n",
        "print(f\"  η∞ = {etainf_fit}\")\n",
        "print(f\"  λ  = {lambda_fit}\")\n",
        "print(f\"  n  = {n_fit}\")\n",
        "print(f\"  K  = {K_fit}\")\n",
        "\n",
        "tau_fit = np.logspace(np.log10(min(tauexp)), np.log10(max(tauexp)), 100)\n",
        "eta_fit = carreau_viscosity(tau_fit, *optimized_params)\n",
        "\n",
        "plt.scatter(tauexp, etaexp, label=\"Experimental data\", color=\"red\")\n",
        "plt.plot(tau_fit, eta_fit, label=\"Carreau model\", color=\"blue\")\n",
        "plt.xscale(\"log\")\n",
        "plt.yscale(\"log\")\n",
        "plt.xlabel(\"Shear Stress (τ) [log]\")\n",
        "plt.ylabel(\"Viscosity (η) [log]\")\n",
        "plt.legend()\n",
        "plt.title(\"Correau model for viscosity vs stress\")\n",
        "plt.show()"
      ],
      "metadata": {
        "id": "muxwl-nSECEu",
        "outputId": "c41b34cd-7afe-41d0-c640-3904c99bbe56",
        "colab": {
          "base_uri": "https://localhost:8080/",
          "height": 626
        }
      },
      "id": "muxwl-nSECEu",
      "execution_count": 33,
      "outputs": [
        {
          "output_type": "display_data",
          "data": {
            "text/plain": [
              "0.7235961115323285"
            ],
            "text/latex": "$\\displaystyle 0.723596111532329$"
          },
          "metadata": {}
        },
        {
          "output_type": "display_data",
          "data": {
            "text/plain": [
              "25.744151061958107"
            ],
            "text/latex": "$\\displaystyle 25.7441510619581$"
          },
          "metadata": {}
        },
        {
          "output_type": "stream",
          "name": "stdout",
          "text": [
            "Optimal parameters:\n",
            "  η₀ = 9357.106120984938\n",
            "  η∞ = 0.3\n",
            "  λ  = 150.0\n",
            "  n  = 0.19\n",
            "  K  = 15.0\n"
          ]
        },
        {
          "output_type": "display_data",
          "data": {
            "text/plain": [
              "<Figure size 640x480 with 1 Axes>"
            ],
            "image/png": "[encoded data removed]"
          },
          "metadata": {}
        }
      ]
    },
    {
      "cell_type": "code",
      "source": [
        "eta, etaInf, eta0, lam,gamma, n= sp.symbols('eta \\eta_{inf} eta_0 lambda gamma n',positive=True)\n",
        "\n",
        "eq2 = sp.Eq(eta, etaInf + (eta0-etaInf)*(1+(lam*gamma)**2)**((n-1)/2))\n",
        "display(eq1)\n",
        "\n",
        "eq1 = sp.Eq(sig,K*gamma**n)\n",
        "display(eq2)\n",
        "eq2r = sp.solve(eq2,gamma)\n",
        "display(eq2r)\n",
        "eq2n = sp.Eq(gamma,eq2r[0])\n",
        "display(eq2n)\n",
        "\n",
        "subs = eq1.subs(gamma,eq2r[0])\n",
        "Eq =subs\n",
        "display(Eq)\n",
        "\n",
        "\n",
        "\n",
        "\n",
        "# exprLog = sp.Eq(sp.log(Eq.lhs),sp.log(Eq.rhs))\n",
        "# exprLog = exprLog.expand(force=True)\n",
        "# exprLog = sp.simplify(exprLog)\n",
        "\n",
        "# display(exprLog)"
      ],
      "metadata": {
        "id": "PRx9RI0Juy-9",
        "outputId": "8809c4d0-eedb-49d7-8f96-775f8b059e63",
        "colab": {
          "base_uri": "https://localhost:8080/",
          "height": 300
        }
      },
      "id": "PRx9RI0Juy-9",
      "execution_count": 14,
      "outputs": [
        {
          "output_type": "display_data",
          "data": {
            "text/plain": [
              "                                               n   1\n",
              "                                               ─ - ─\n",
              "                                               2   2\n",
              "                                    ⎛ 2  2    ⎞     \n",
              "η = \\eta_{inf} + (-\\eta_{inf} + η₀)⋅⎝γ ⋅λ  + 1⎠     "
            ],
            "text/latex": "$\\displaystyle \\eta = \\eta_{inf} + \\left(- \\eta_{inf} + \\eta_{0}\\right) \\left(\\gamma^{2} \\lambda^{2} + 1\\right)^{\\frac{n}{2} - \\frac{1}{2}}$"
          },
          "metadata": {}
        },
        {
          "output_type": "display_data",
          "data": {
            "text/plain": [
              "                                               n   1\n",
              "                                               ─ - ─\n",
              "                                               2   2\n",
              "                                    ⎛ 2  2    ⎞     \n",
              "η = \\eta_{inf} + (-\\eta_{inf} + η₀)⋅⎝γ ⋅λ  + 1⎠     "
            ],
            "text/latex": "$\\displaystyle \\eta = \\eta_{inf} + \\left(- \\eta_{inf} + \\eta_{0}\\right) \\left(\\gamma^{2} \\lambda^{2} + 1\\right)^{\\frac{n}{2} - \\frac{1}{2}}$"
          },
          "metadata": {}
        },
        {
          "output_type": "display_data",
          "data": {
            "text/plain": [
              "⎡        ____________________________          ____________________________⎤\n",
              "⎢       ╱                    2                ╱                    2       ⎥\n",
              "⎢      ╱                   ─────             ╱                   ─────     ⎥\n",
              "⎢     ╱                    n - 1            ╱                    n - 1     ⎥\n",
              "⎢    ╱    ⎛\\eta_{inf} - η ⎞                ╱    ⎛\\eta_{inf} - η ⎞          ⎥\n",
              "⎢-  ╱     ⎜───────────────⎟      - 1      ╱     ⎜───────────────⎟      - 1 ⎥\n",
              "⎢ ╲╱      ⎝\\eta_{inf} - η₀⎠             ╲╱      ⎝\\eta_{inf} - η₀⎠          ⎥\n",
              "⎢─────────────────────────────────────, ───────────────────────────────────⎥\n",
              "⎣                  λ                                     λ                 ⎦"
            ],
            "text/latex": "$\\displaystyle \\left[ - \\frac{\\sqrt{\\left(\\frac{\\eta_{inf} - \\eta}{\\eta_{inf} - \\eta_{0}}\\right)^{\\frac{2}{n - 1}} - 1}}{\\lambda}, \\  \\frac{\\sqrt{\\left(\\frac{\\eta_{inf} - \\eta}{\\eta_{inf} - \\eta_{0}}\\right)^{\\frac{2}{n - 1}} - 1}}{\\lambda}\\right]$"
          },
          "metadata": {}
        },
        {
          "output_type": "display_data",
          "data": {
            "text/plain": [
              "            ____________________________ \n",
              "           ╱                    2        \n",
              "          ╱                   ─────      \n",
              "         ╱                    n - 1      \n",
              "        ╱    ⎛\\eta_{inf} - η ⎞           \n",
              "    -  ╱     ⎜───────────────⎟      - 1  \n",
              "     ╲╱      ⎝\\eta_{inf} - η₀⎠           \n",
              "γ = ─────────────────────────────────────\n",
              "                      λ                  "
            ],
            "text/latex": "$\\displaystyle \\gamma = - \\frac{\\sqrt{\\left(\\frac{\\eta_{inf} - \\eta}{\\eta_{inf} - \\eta_{0}}\\right)^{\\frac{2}{n - 1}} - 1}}{\\lambda}$"
          },
          "metadata": {}
        },
        {
          "output_type": "display_data",
          "data": {
            "text/plain": [
              "                                             n\n",
              "      ⎛        ____________________________ ⎞ \n",
              "      ⎜       ╱                    2        ⎟ \n",
              "      ⎜      ╱                   ─────      ⎟ \n",
              "      ⎜     ╱                    n - 1      ⎟ \n",
              "      ⎜    ╱    ⎛\\eta_{inf} - η ⎞           ⎟ \n",
              "      ⎜-  ╱     ⎜───────────────⎟      - 1  ⎟ \n",
              "      ⎜ ╲╱      ⎝\\eta_{inf} - η₀⎠           ⎟ \n",
              "σ = K⋅⎜─────────────────────────────────────⎟ \n",
              "      ⎝                  λ                  ⎠ "
            ],
            "text/latex": "$\\displaystyle \\sigma = K \\left(- \\frac{\\sqrt{\\left(\\frac{\\eta_{inf} - \\eta}{\\eta_{inf} - \\eta_{0}}\\right)^{\\frac{2}{n - 1}} - 1}}{\\lambda}\\right)^{n}$"
          },
          "metadata": {}
        }
      ]
    },
    {
      "cell_type": "code",
      "source": [
        "import scipy.optimize as opt\n",
        "n1 = float(nVal[0])\n",
        "k1 = float(KVal[0])\n",
        "display(n1)\n",
        "display(k1)\n",
        "\n",
        "\n",
        "def carreau_viscosity(eta, eta0, etainf, lambda_, n,k):\n",
        "  sigma = K*(-(np.sqrt((etainf-eta)/(etainf-eta0))**(2/(n-1))-1)/lambda_)**n\n",
        "  return sigma\n",
        "\n",
        "\n",
        "etaexp = DataFrame['y'].to_numpy()\n",
        "tauexp = DataFrame['x'].to_numpy()\n",
        "\n",
        "\n",
        "p0 =[max(etaexp),min(etaexp),20,float(nVal[0]),float(KVal[0])]# float(nVal[0]),float(KVal[0])]\n",
        "\n",
        "\n",
        "bounds = (\n",
        "    [1e-3, 0, 0, 0, 0],  # Min value for parameters\n",
        "    [np.inf, 1, np.inf, 1, np.inf]  # Max value for parameters\n",
        ")\n",
        "\n",
        "popt, pcov = opt.curve_fit(carreau_viscosity, etaexp, tauexp, p0, bounds = bounds, maxfev=10000)\n",
        "\n",
        "# initial_params = [9357.1, 0.3, 150.0, 0.19, 15.9]\n",
        "# optimized_params, mse_history = gradient_descent(tauexp, etaexp, initial_params)\n",
        "\n",
        "\n",
        "# p0 = [max(etaexp),min(etaexp),20,float(nVal[0]),float(KVal[0])]\n",
        "\n",
        "# bounds = (\n",
        "#     [1e-3, 0, 0, 0, 0],  # Valores mínimos para cada parámetro\n",
        "#     [np.inf, 1, np.inf, 1, np.inf]  # Valores máximos razonables\n",
        "# )\n",
        "\n",
        "# popt, pcov = opt.curve_fit(carreau_viscosity, tauexp, etaexp, p0, bounds = bounds, maxfev=10000)\n",
        "# eta0_fit, etainf_fit, lambda_fit, n_fit, K_fit = popt\n",
        "\n",
        "\n",
        "eta0_fit, etainf_fit, lambda_fit, n_fit, K_fit = optimized_params\n",
        "print(f\"Optimal parameters:\")\n",
        "print(f\"  η₀ = {eta0_fit}\")\n",
        "print(f\"  η∞ = {etainf_fit}\")\n",
        "print(f\"  λ  = {lambda_fit}\")\n",
        "print(f\"  n  = {n_fit}\")\n",
        "print(f\"  K  = {K_fit}\")\n",
        "\n",
        "eta_fit = np.logspace(np.log10(min(tauexp)), np.log10(max(tauexp)), 100)\n",
        "tau_fit = carreau_viscosity(eta_fit, *optimized_params)\n",
        "\n",
        "plt.scatter(tauexp, etaexp, label=\"Experimental data\", color=\"red\")\n",
        "plt.plot(tau_fit, eta_fit, label=\"Carreau model\", color=\"blue\")\n",
        "plt.xscale(\"log\")\n",
        "plt.yscale(\"log\")\n",
        "plt.xlabel(\"Shear Stress (τ) [log]\")\n",
        "plt.ylabel(\"Viscosity (η) [log]\")\n",
        "plt.legend()\n",
        "plt.title(\"Correau model for viscosity vs stress\")\n",
        "plt.show()"
      ],
      "metadata": {
        "id": "aI_B6FFGutSC",
        "outputId": "de4c4038-95d9-4440-9506-5d03500b68e5",
        "colab": {
          "base_uri": "https://localhost:8080/",
          "height": 540
        }
      },
      "id": "aI_B6FFGutSC",
      "execution_count": 28,
      "outputs": [
        {
          "output_type": "display_data",
          "data": {
            "text/plain": [
              "0.7235961115323285"
            ],
            "text/latex": "$\\displaystyle 0.723596111532329$"
          },
          "metadata": {}
        },
        {
          "output_type": "display_data",
          "data": {
            "text/plain": [
              "25.744151061958107"
            ],
            "text/latex": "$\\displaystyle 25.7441510619581$"
          },
          "metadata": {}
        },
        {
          "output_type": "stream",
          "name": "stderr",
          "text": [
            "<ipython-input-28-15259da3a5c3>:9: RuntimeWarning: divide by zero encountered in power\n",
            "  sigma = K*(-(np.sqrt((etainf-eta)/(etainf-eta0))**(2/(n-1))-1)/lambda_)**n\n",
            "<ipython-input-28-15259da3a5c3>:9: RuntimeWarning: invalid value encountered in power\n",
            "  sigma = K*(-(np.sqrt((etainf-eta)/(etainf-eta0))**(2/(n-1))-1)/lambda_)**n\n",
            "<ipython-input-28-15259da3a5c3>:9: RuntimeWarning: invalid value encountered in multiply\n",
            "  sigma = K*(-(np.sqrt((etainf-eta)/(etainf-eta0))**(2/(n-1))-1)/lambda_)**n\n"
          ]
        },
        {
          "output_type": "error",
          "ename": "TypeError",
          "evalue": "ufunc 'isfinite' not supported for the input types, and the inputs could not be safely coerced to any supported types according to the casting rule ''safe''",
          "traceback": [
            "\u001b[0;31m---------------------------------------------------------------------------\u001b[0m",
            "\u001b[0;31mTypeError\u001b[0m                                 Traceback (most recent call last)",
            "\u001b[0;32m<ipython-input-28-15259da3a5c3>\u001b[0m in \u001b[0;36m<cell line: 0>\u001b[0;34m()\u001b[0m\n\u001b[1;32m     23\u001b[0m )\n\u001b[1;32m     24\u001b[0m \u001b[0;34m\u001b[0m\u001b[0m\n\u001b[0;32m---> 25\u001b[0;31m \u001b[0mpopt\u001b[0m\u001b[0;34m,\u001b[0m \u001b[0mpcov\u001b[0m \u001b[0;34m=\u001b[0m \u001b[0mopt\u001b[0m\u001b[0;34m.\u001b[0m\u001b[0mcurve_fit\u001b[0m\u001b[0;34m(\u001b[0m\u001b[0mcarreau_viscosity\u001b[0m\u001b[0;34m,\u001b[0m \u001b[0metaexp\u001b[0m\u001b[0;34m,\u001b[0m \u001b[0mtauexp\u001b[0m\u001b[0;34m,\u001b[0m \u001b[0mp0\u001b[0m\u001b[0;34m,\u001b[0m \u001b[0mbounds\u001b[0m \u001b[0;34m=\u001b[0m \u001b[0mbounds\u001b[0m\u001b[0;34m,\u001b[0m \u001b[0mmaxfev\u001b[0m\u001b[0;34m=\u001b[0m\u001b[0;36m10000\u001b[0m\u001b[0;34m)\u001b[0m\u001b[0;34m\u001b[0m\u001b[0;34m\u001b[0m\u001b[0m\n\u001b[0m\u001b[1;32m     26\u001b[0m \u001b[0;34m\u001b[0m\u001b[0m\n\u001b[1;32m     27\u001b[0m \u001b[0;31m# initial_params = [9357.1, 0.3, 150.0, 0.19, 15.9]\u001b[0m\u001b[0;34m\u001b[0m\u001b[0;34m\u001b[0m\u001b[0m\n",
            "\u001b[0;32m/usr/local/lib/python3.11/dist-packages/scipy/optimize/_minpack_py.py\u001b[0m in \u001b[0;36mcurve_fit\u001b[0;34m(f, xdata, ydata, p0, sigma, absolute_sigma, check_finite, bounds, method, jac, full_output, nan_policy, **kwargs)\u001b[0m\n\u001b[1;32m   1016\u001b[0m             \u001b[0mkwargs\u001b[0m\u001b[0;34m[\u001b[0m\u001b[0;34m'max_nfev'\u001b[0m\u001b[0;34m]\u001b[0m \u001b[0;34m=\u001b[0m \u001b[0mkwargs\u001b[0m\u001b[0;34m.\u001b[0m\u001b[0mpop\u001b[0m\u001b[0;34m(\u001b[0m\u001b[0;34m'maxfev'\u001b[0m\u001b[0;34m,\u001b[0m \u001b[0;32mNone\u001b[0m\u001b[0;34m)\u001b[0m\u001b[0;34m\u001b[0m\u001b[0;34m\u001b[0m\u001b[0m\n\u001b[1;32m   1017\u001b[0m \u001b[0;34m\u001b[0m\u001b[0m\n\u001b[0;32m-> 1018\u001b[0;31m         res = least_squares(func, p0, jac=jac, bounds=bounds, method=method,\n\u001b[0m\u001b[1;32m   1019\u001b[0m                             **kwargs)\n\u001b[1;32m   1020\u001b[0m \u001b[0;34m\u001b[0m\u001b[0m\n",
            "\u001b[0;32m/usr/local/lib/python3.11/dist-packages/scipy/optimize/_lsq/least_squares.py\u001b[0m in \u001b[0;36mleast_squares\u001b[0;34m(fun, x0, jac, bounds, method, ftol, xtol, gtol, x_scale, loss, f_scale, diff_step, tr_solver, tr_options, jac_sparsity, max_nfev, verbose, args, kwargs)\u001b[0m\n\u001b[1;32m    836\u001b[0m                          f\"f0.shape: {f0.shape}\")\n\u001b[1;32m    837\u001b[0m \u001b[0;34m\u001b[0m\u001b[0m\n\u001b[0;32m--> 838\u001b[0;31m     \u001b[0;32mif\u001b[0m \u001b[0;32mnot\u001b[0m \u001b[0mnp\u001b[0m\u001b[0;34m.\u001b[0m\u001b[0mall\u001b[0m\u001b[0;34m(\u001b[0m\u001b[0mnp\u001b[0m\u001b[0;34m.\u001b[0m\u001b[0misfinite\u001b[0m\u001b[0;34m(\u001b[0m\u001b[0mf0\u001b[0m\u001b[0;34m)\u001b[0m\u001b[0;34m)\u001b[0m\u001b[0;34m:\u001b[0m\u001b[0;34m\u001b[0m\u001b[0;34m\u001b[0m\u001b[0m\n\u001b[0m\u001b[1;32m    839\u001b[0m         \u001b[0;32mraise\u001b[0m \u001b[0mValueError\u001b[0m\u001b[0;34m(\u001b[0m\u001b[0;34m\"Residuals are not finite in the initial point.\"\u001b[0m\u001b[0;34m)\u001b[0m\u001b[0;34m\u001b[0m\u001b[0;34m\u001b[0m\u001b[0m\n\u001b[1;32m    840\u001b[0m \u001b[0;34m\u001b[0m\u001b[0m\n",
            "\u001b[0;31mTypeError\u001b[0m: ufunc 'isfinite' not supported for the input types, and the inputs could not be safely coerced to any supported types according to the casting rule ''safe''"
          ]
        }
      ]
    }
  ],
  "metadata": {
    "kernelspec": {
      "display_name": "Python 3 (ipykernel)",
      "language": "python",
      "name": "python3"
    },
    "language_info": {
      "codemirror_mode": {
        "name": "ipython",
        "version": 3
      },
      "file_extension": ".py",
      "mimetype": "text/x-python",
      "name": "python",
      "nbconvert_exporter": "python",
      "pygments_lexer": "ipython3",
      "version": "3.8.13"
    },
    "colab": {
      "provenance": [],
      "include_colab_link": true
    }
  },
  "nbformat": 4,
  "nbformat_minor": 5
}