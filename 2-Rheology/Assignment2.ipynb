{
  "cells": [
    {
      "cell_type": "markdown",
      "metadata": {
        "id": "view-in-github",
        "colab_type": "text"
      },
      "source": [
        "<a href=\"https://colab.research.google.com/github/Biel-PS/AdvancedFluidMechanics/blob/BielPS/2-Rheology/Assignment2.ipynb\" target=\"_parent\"><img src=\"https://colab.research.google.com/assets/colab-badge.svg\" alt=\"Open In Colab\"/></a>"
      ]
    },
    {
      "cell_type": "markdown",
      "id": "b7a0c9cf-b589-4da1-8b4b-e8e6fde7f631",
      "metadata": {
        "id": "b7a0c9cf-b589-4da1-8b4b-e8e6fde7f631"
      },
      "source": [
        "# Assignment 2. Rheological behaviour of cosmetic creams\n",
        "\n",
        "It is a sample of rheological behaviour of some cosmetic creams, taken from [here](https://www.rheologylab.com/articles/emulsion-stability/)\n",
        "\n",
        "![image.png](https://github.com/Biel-PS/AdvancedFluidMechanics/blob/main/2-Rheology/CSVP-of-Lotions-and-Creams-names-removed.webp?raw=1)\n",
        "\n",
        "What conclusions would you get from that about the behaviour of day creams in front of body creams?\n",
        "\n",
        "Let's consider the case of the body lotion C. Fit the Power Law model, get coefficients and plot it. You will see that it is not good. You will see that it does not agree with very low (_zero-shear rate viscosity_) or high (_infinity-shear rate viscosity_) shear stress. There are some other models that deals with this behaviour. The molt usual is the [Carreau model](https://en.wikipedia.org/wiki/Carreau_fluid). Apply this law to obtain a more accurate model of this fluid and discuss it.\n"
      ]
    },
    {
      "cell_type": "code",
      "execution_count": 87,
      "id": "4b8910e9-bf44-4876-855b-9088968a4213",
      "metadata": {
        "id": "4b8910e9-bf44-4876-855b-9088968a4213",
        "outputId": "932bcd53-e4e1-474a-c293-818edae142d8",
        "colab": {
          "base_uri": "https://localhost:8080/",
          "height": 100
        }
      },
      "outputs": [
        {
          "output_type": "display_data",
          "data": {
            "text/plain": [
              "      -1      n  \n",
              "     ─────  ─────\n",
              "     n - 1  n - 1\n",
              "σ = K     ⋅η     "
            ],
            "text/latex": "$\\displaystyle \\sigma = K^{- \\frac{1}{n - 1}} \\eta^{\\frac{n}{n - 1}}$"
          },
          "metadata": {}
        },
        {
          "output_type": "display_data",
          "data": {
            "text/plain": [
              "         n⋅log(η)   log(K)\n",
              "log(σ) = ──────── - ──────\n",
              "          n - 1     n - 1 "
            ],
            "text/latex": "$\\displaystyle \\log{\\left(\\sigma \\right)} = \\frac{n \\log{\\left(\\eta \\right)}}{n - 1} - \\frac{\\log{\\left(K \\right)}}{n - 1}$"
          },
          "metadata": {}
        },
        {
          "output_type": "display_data",
          "data": {
            "text/plain": [
              "log(σ) = A⋅log(η) + B"
            ],
            "text/latex": "$\\displaystyle \\log{\\left(\\sigma \\right)} = A \\log{\\left(\\eta \\right)} + B$"
          },
          "metadata": {}
        }
      ],
      "source": [
        "import statsmodels.formula.api as smf\n",
        "import statsmodels.graphics.api as smg\n",
        "import patsy\n",
        "import matplotlib.pyplot as plt\n",
        "import numpy as np\n",
        "import pandas as pd\n",
        "import sympy as sp\n",
        "import statsmodels.api as sm\n",
        "sp.init_printing()\n",
        "from IPython.display import display, Math\n",
        "Deltap,L,r,n,R, sig, eta,gamma,K= sp.symbols('{\\Delta}p L r n R sigma eta gamma K',positive=True)\n",
        "uz = sp.Function('u_z')\n",
        "\n",
        "eq1 = sp.Eq(eta,sig/gamma)\n",
        "eq2 = sp.Eq(sig,K*gamma**n)\n",
        "\n",
        "Eq1= sp.solve([eq1],[gamma])\n",
        "Eq = eq2.subs(gamma,Eq1[gamma])\n",
        "\n",
        "Eq= sp.solve([Eq],[sig])\n",
        "\n",
        "expression = sp.Eq(sig,Eq[0][0])\n",
        "\n",
        "display(expression)\n",
        "\n",
        "# Eq = sp.Eq(sp.log(sig),sp.log(eta*(1/(2*eta)*(Deltap/L)*r)**(1/(n-1))))\n",
        "# display(Eq)\n",
        "\n",
        "\n",
        "exprLog = sp.Eq(sp.log(expression.lhs),sp.log(expression.rhs))\n",
        "exprLog = exprLog.expand(force=True)\n",
        "display(exprLog)\n",
        "\n",
        "A,B = sp.symbols('A B',positive=True)\n",
        "\n",
        "Aeq = n/(n-1)\n",
        "Beq = -sp.log(K)/(n-1)\n",
        "\n",
        "logExpr = sp.Eq(sp.log(sig), A*(sp.log(eta)) + B)\n",
        "\n",
        "display(logExpr)"
      ]
    },
    {
      "cell_type": "code",
      "source": [
        "DataFrame = pd.read_csv(\"Default Dataset (1).csv\",header=None,names=['x','y'], delimiter=\";\", decimal=\",\")\n",
        "\n",
        "\n",
        "model = smf.ols('np.log(y) ~ np.log(x)', DataFrame)  # 1. Define model of regression\n",
        "result = model.fit()                   # 2. Adjust model of the data\n",
        "result.summary()\n",
        "\n",
        "\n",
        "display(result.params)"
      ],
      "metadata": {
        "id": "dUWbPYeC_2Cs",
        "outputId": "3a9f5bed-37f1-49db-c100-81c77dfdaa4b",
        "colab": {
          "base_uri": "https://localhost:8080/",
          "height": 147
        }
      },
      "id": "dUWbPYeC_2Cs",
      "execution_count": 88,
      "outputs": [
        {
          "output_type": "display_data",
          "data": {
            "text/plain": [
              "Intercept    11.751671\n",
              "np.log(x)    -2.617894\n",
              "dtype: float64"
            ],
            "text/html": [
              "<div>\n",
              "<style scoped>\n",
              "    .dataframe tbody tr th:only-of-type {\n",
              "        vertical-align: middle;\n",
              "    }\n",
              "\n",
              "    .dataframe tbody tr th {\n",
              "        vertical-align: top;\n",
              "    }\n",
              "\n",
              "    .dataframe thead th {\n",
              "        text-align: right;\n",
              "    }\n",
              "</style>\n",
              "<table border=\"1\" class=\"dataframe\">\n",
              "  <thead>\n",
              "    <tr style=\"text-align: right;\">\n",
              "      <th></th>\n",
              "      <th>0</th>\n",
              "    </tr>\n",
              "  </thead>\n",
              "  <tbody>\n",
              "    <tr>\n",
              "      <th>Intercept</th>\n",
              "      <td>11.751671</td>\n",
              "    </tr>\n",
              "    <tr>\n",
              "      <th>np.log(x)</th>\n",
              "      <td>-2.617894</td>\n",
              "    </tr>\n",
              "  </tbody>\n",
              "</table>\n",
              "</div><br><label><b>dtype:</b> float64</label>"
            ]
          },
          "metadata": {}
        }
      ]
    },
    {
      "cell_type": "code",
      "source": [
        "intercept = result.params['Intercept']\n",
        "slope = result.params['np.log(x)']\n",
        "\n",
        "# Create a range of x values (log-transformed) for plotting the regression line in logarithmic space\n",
        "x_vals = DataFrame['x']  # Use the original x values for plotting the regression line in the original scale\n",
        "\n",
        "# Compute the y-values for the regression line in logarithmic space\n",
        "y_vals_log = intercept + slope * np.log(x_vals)  # Regression line equation in log scale\n",
        "\n",
        "# Convert the y-values back to the original scale using np.exp() for the plot\n",
        "y_vals = np.exp(y_vals_log)\n",
        "\n",
        "# Plot the data points (log-transformed)\n",
        "plt.scatter(DataFrame['x'], DataFrame['y'], color='blue', label='Data points')\n",
        "\n",
        "# Plot the regression line (on the original scale)\n",
        "plt.plot(x_vals, y_vals, color='red', label='Regression line')\n",
        "\n",
        "# Set logarithmic scale for both axes\n",
        "plt.xscale('log')\n",
        "plt.yscale('log')\n",
        "\n",
        "# Adding labels and title\n",
        "plt.xlabel('Shear $\\sigma$ (log scale)')\n",
        "plt.ylabel('Viscosity $\\eta$ (log scale)')\n",
        "plt.title('OLS Regression in Logarithmic Scale')\n",
        "\n",
        "# Show legend\n",
        "plt.legend()\n",
        "\n",
        "# Display the plot\n",
        "plt.show()"
      ],
      "metadata": {
        "colab": {
          "base_uri": "https://localhost:8080/",
          "height": 480
        },
        "id": "8yaOS6LJ5RBH",
        "outputId": "1cc92f6c-ed6d-4b16-d7d7-f329bf289e74"
      },
      "id": "8yaOS6LJ5RBH",
      "execution_count": 100,
      "outputs": [
        {
          "output_type": "display_data",
          "data": {
            "text/plain": [
              "<Figure size 640x480 with 1 Axes>"
            ],
            "image/png": "[encoded data removed]"
          },
          "metadata": {}
        }
      ]
    },
    {
      "cell_type": "code",
      "source": [
        "Aeq = n/(n-1)\n",
        "Beq = -sp.log(K)/(n-1)\n",
        "\n",
        "nVal = sp.solve(sp.Eq(Aeq , slope),n)\n",
        "Beq = Beq.subs(n,nVal[0])\n",
        "KVal = sp.solve(sp.Eq(Beq , intercept),K)\n",
        "\n",
        "Aeq = Aeq.subs({n:nVal[0], K: KVal[0]})\n",
        "Beq = Beq.subs({n:nVal[0], K: KVal[0]})\n",
        "\n",
        "LinearModel = logExpr.subs({A:Aeq, B: Beq})\n",
        "display(nVal)\n",
        "display(KVal)\n",
        "\n",
        "display(LinearModel)\n"
      ],
      "metadata": {
        "colab": {
          "base_uri": "https://localhost:8080/",
          "height": 80
        },
        "id": "ps17Yu8g6zXY",
        "outputId": "a350bbdb-d010-4561-c0aa-e1a556d95f9f"
      },
      "id": "ps17Yu8g6zXY",
      "execution_count": 90,
      "outputs": [
        {
          "output_type": "display_data",
          "data": {
            "text/plain": [
              "[0.723596111532329]"
            ],
            "text/latex": "$\\displaystyle \\left[ 0.723596111532329\\right]$"
          },
          "metadata": {}
        },
        {
          "output_type": "display_data",
          "data": {
            "text/plain": [
              "[25.7441510619581]"
            ],
            "text/latex": "$\\displaystyle \\left[ 25.7441510619581\\right]$"
          },
          "metadata": {}
        },
        {
          "output_type": "display_data",
          "data": {
            "text/plain": [
              "log(σ) = 11.7516706298573 - 2.61789410975295⋅log(η)"
            ],
            "text/latex": "$\\displaystyle \\log{\\left(\\sigma \\right)} = 11.7516706298573 - 2.61789410975295 \\log{\\left(\\eta \\right)}$"
          },
          "metadata": {}
        }
      ]
    },
    {
      "cell_type": "markdown",
      "source": [
        "Now we define the Carreau model"
      ],
      "metadata": {
        "id": "rTxhzMwA9Js7"
      },
      "id": "rTxhzMwA9Js7"
    },
    {
      "cell_type": "code",
      "source": [
        "eta, etaInf, eta0, lam,gamma, n= sp.symbols('eta \\eta_{inf} eta_0 lambda gamma n',positive=True)\n",
        "\n",
        "eq1 = sp.Eq(eta, etaInf + (eta0-etaInf)*(1+(lam*gamma)**2)**((n-1)/2))\n",
        "eq2 = sp.Eq(sig,K*gamma**n)\n",
        "# eta0 is the viscosity at zero shear rate (sig = 0) and etainf is the viscosity at sig = inf\n",
        "Eq1= sp.solve([eq1],[gamma])\n",
        "\n",
        "Eq = eq2.subs(gamma,Eq1[1][0])\n",
        "display(Eq)\n",
        "\n",
        "exprLog = sp.Eq(sp.log(Eq.lhs),sp.log(Eq.rhs))\n",
        "exprLog = exprLog.expand(force=True)\n",
        "exprLog = sp.simplify(exprLog)\n",
        "\n",
        "display(exprLog)\n"
      ],
      "metadata": {
        "id": "DkH1OLMD9Jf1",
        "outputId": "b170d00a-2e29-42b3-96e7-21bb01b97720",
        "colab": {
          "base_uri": "https://localhost:8080/",
          "height": 162
        }
      },
      "id": "DkH1OLMD9Jf1",
      "execution_count": 128,
      "outputs": [
        {
          "output_type": "display_data",
          "data": {
            "text/plain": [
              "                                           n\n",
              "      ⎛       ____________________________⎞ \n",
              "      ⎜      ╱                    2       ⎟ \n",
              "      ⎜     ╱                   ─────     ⎟ \n",
              "      ⎜    ╱                    n - 1     ⎟ \n",
              "      ⎜   ╱    ⎛\\eta_{inf} - η ⎞          ⎟ \n",
              "      ⎜  ╱     ⎜───────────────⎟      - 1 ⎟ \n",
              "      ⎜╲╱      ⎝\\eta_{inf} - η₀⎠          ⎟ \n",
              "σ = K⋅⎜───────────────────────────────────⎟ \n",
              "      ⎝                 λ                 ⎠ "
            ],
            "text/latex": "$\\displaystyle \\sigma = K \\left(\\frac{\\sqrt{\\left(\\frac{\\eta_{inf} - \\eta}{\\eta_{inf} - \\eta_{0}}\\right)^{\\frac{2}{n - 1}} - 1}}{\\lambda}\\right)^{n}$"
          },
          "metadata": {}
        },
        {
          "output_type": "display_data",
          "data": {
            "text/plain": [
              "              ⎛                   2      ⎞             \n",
              "              ⎜                 ─────    ⎟             \n",
              "              ⎜                 n - 1    ⎟             \n",
              "              ⎜⎛\\eta_{inf} - η ⎞         ⎟             \n",
              "         n⋅log⎜⎜───────────────⎟      - 1⎟             \n",
              "              ⎝⎝\\eta_{inf} - η₀⎠         ⎠      ⎛   -n⎞\n",
              "log(σ) = ───────────────────────────────── + log⎝K⋅λ  ⎠\n",
              "                         2                             "
            ],
            "text/latex": "$\\displaystyle \\log{\\left(\\sigma \\right)} = \\frac{n \\log{\\left(\\left(\\frac{\\eta_{inf} - \\eta}{\\eta_{inf} - \\eta_{0}}\\right)^{\\frac{2}{n - 1}} - 1 \\right)}}{2} + \\log{\\left(K \\lambda^{- n} \\right)}$"
          },
          "metadata": {}
        }
      ]
    },
    {
      "cell_type": "code",
      "source": [],
      "metadata": {
        "id": "muxwl-nSECEu",
        "outputId": "9a697f7c-1c0d-4a52-e187-11c03eca75f0",
        "colab": {
          "base_uri": "https://localhost:8080/",
          "height": 220
        }
      },
      "id": "muxwl-nSECEu",
      "execution_count": 130,
      "outputs": [
        {
          "output_type": "error",
          "ename": "NameError",
          "evalue": "name 'LinearRegression' is not defined",
          "traceback": [
            "\u001b[0;31m---------------------------------------------------------------------------\u001b[0m",
            "\u001b[0;31mNameError\u001b[0m                                 Traceback (most recent call last)",
            "\u001b[0;32m<ipython-input-130-aaf8a5334c9e>\u001b[0m in \u001b[0;36m<cell line: 0>\u001b[0;34m()\u001b[0m\n\u001b[1;32m     26\u001b[0m \u001b[0;34m\u001b[0m\u001b[0m\n\u001b[1;32m     27\u001b[0m \u001b[0;31m# Perform the linear regression\u001b[0m\u001b[0;34m\u001b[0m\u001b[0;34m\u001b[0m\u001b[0m\n\u001b[0;32m---> 28\u001b[0;31m \u001b[0mmodel\u001b[0m \u001b[0;34m=\u001b[0m \u001b[0mLinearRegression\u001b[0m\u001b[0;34m(\u001b[0m\u001b[0;34m)\u001b[0m\u001b[0;34m\u001b[0m\u001b[0;34m\u001b[0m\u001b[0m\n\u001b[0m\u001b[1;32m     29\u001b[0m \u001b[0mmodel\u001b[0m\u001b[0;34m.\u001b[0m\u001b[0mfit\u001b[0m\u001b[0;34m(\u001b[0m\u001b[0mX\u001b[0m\u001b[0;34m,\u001b[0m \u001b[0my\u001b[0m\u001b[0;34m)\u001b[0m\u001b[0;34m\u001b[0m\u001b[0;34m\u001b[0m\u001b[0m\n\u001b[1;32m     30\u001b[0m \u001b[0;34m\u001b[0m\u001b[0m\n",
            "\u001b[0;31mNameError\u001b[0m: name 'LinearRegression' is not defined"
          ]
        }
      ]
    }
  ],
  "metadata": {
    "kernelspec": {
      "display_name": "Python 3 (ipykernel)",
      "language": "python",
      "name": "python3"
    },
    "language_info": {
      "codemirror_mode": {
        "name": "ipython",
        "version": 3
      },
      "file_extension": ".py",
      "mimetype": "text/x-python",
      "name": "python",
      "nbconvert_exporter": "python",
      "pygments_lexer": "ipython3",
      "version": "3.8.13"
    },
    "colab": {
      "provenance": [],
      "include_colab_link": true
    }
  },
  "nbformat": 4,
  "nbformat_minor": 5
}