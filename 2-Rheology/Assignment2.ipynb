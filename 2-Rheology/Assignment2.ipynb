{
  "cells": [
    {
      "cell_type": "markdown",
      "metadata": {
        "id": "view-in-github",
        "colab_type": "text"
      },
      "source": [
        "<a href=\"https://colab.research.google.com/github/Biel-PS/AdvancedFluidMechanics/blob/BielPS/2-Rheology/Assignment2.ipynb\" target=\"_parent\"><img src=\"https://colab.research.google.com/assets/colab-badge.svg\" alt=\"Open In Colab\"/></a>"
      ]
    },
    {
      "cell_type": "markdown",
      "id": "b7a0c9cf-b589-4da1-8b4b-e8e6fde7f631",
      "metadata": {
        "id": "b7a0c9cf-b589-4da1-8b4b-e8e6fde7f631"
      },
      "source": [
        "# Assignment 2. Rheological behaviour of cosmetic creams\n",
        "\n",
        "It is a sample of rheological behaviour of some cosmetic creams, taken from [here](https://www.rheologylab.com/articles/emulsion-stability/)\n",
        "\n",
        "![image.png](https://github.com/Biel-PS/AdvancedFluidMechanics/blob/main/2-Rheology/CSVP-of-Lotions-and-Creams-names-removed.webp?raw=1)\n",
        "\n",
        "What conclusions would you get from that about the behaviour of day creams in front of body creams?\n",
        "\n",
        "Let's consider the case of the body lotion C. Fit the Power Law model, get coefficients and plot it. You will see that it is not good. You will see that it does not agree with very low (_zero-shear rate viscosity_) or high (_infinity-shear rate viscosity_) shear stress. There are some other models that deals with this behaviour. The molt usual is the [Carreau model](https://en.wikipedia.org/wiki/Carreau_fluid). Apply this law to obtain a more accurate model of this fluid and discuss it.\n"
      ]
    },
    {
      "cell_type": "code",
      "execution_count": null,
      "id": "4b8910e9-bf44-4876-855b-9088968a4213",
      "metadata": {
        "id": "4b8910e9-bf44-4876-855b-9088968a4213"
      },
      "outputs": [],
      "source": [
        "import statsmodels.formula.api as smf\n",
        "import statsmodels.graphics.api as smg\n",
        "import patsy\n",
        "import matplotlib.pyplot as plt\n",
        "import numpy as np\n",
        "import pandas as pd\n",
        "import sympy as sp\n",
        "import statsmodels.api as sm\n",
        "sp.init_printing()\n",
        "from IPython.display import display, Math\n",
        "Deltap,L,r,n,R, sig, eta,lam,K= sp.symbols('{\\Delta}p L r n R sigma eta lambda K',positive=True)\n",
        "uz = sp.Function('u_z')\n",
        "\n",
        "eq1 = sp.Eq(eta,sig/lam)\n",
        "eq2 = sp.Eq(sig,K*lam**n)\n",
        "\n",
        "Eq1= sp.solve([eq1],[lam])\n",
        "Eq = eq2.subs(lam,Eq1[lam])\n",
        "\n",
        "Eq= sp.solve([Eq],[sig])\n",
        "\n",
        "expression = sp.Eq(sig,Eq[0][0])\n",
        "\n",
        "display(expression)\n",
        "\n",
        "# Eq = sp.Eq(sp.log(sig),sp.log(eta*(1/(2*eta)*(Deltap/L)*r)**(1/(n-1))))\n",
        "# display(Eq)\n",
        "\n",
        "\n",
        "exprLog = sp.Eq(sp.log(expression.lhs),sp.log(expression.rhs))\n",
        "exprLog = exprLog.expand(force=True)\n",
        "display(exprLog)\n",
        "\n",
        "A,B = sp.symbols('A B',positive=True)\n",
        "\n",
        "Aeq = n/(n-1)\n",
        "Beq = -sp.log(K)/(n-1)\n",
        "\n",
        "logExpr = sp.Eq(sp.log(sig), A*(sp.log(eta)) + B)\n",
        "\n",
        "display(logExpr)"
      ]
    },
    {
      "cell_type": "code",
      "source": [
        "DataFrame = pd.read_csv(\"Default Dataset (1).csv\",header=None,names=['x','y'], delimiter=\";\", decimal=\",\")\n",
        "\n",
        "\n",
        "model = smf.ols('np.log(y) ~ np.log(x)', DataFrame)  # 1. Define model of regression\n",
        "result = model.fit()                   # 2. Adjust model of the data\n",
        "result.summary()\n",
        "\n",
        "\n",
        "display(result.params)"
      ],
      "metadata": {
        "id": "dUWbPYeC_2Cs"
      },
      "id": "dUWbPYeC_2Cs",
      "execution_count": null,
      "outputs": []
    },
    {
      "cell_type": "code",
      "source": [
        "intercept = result.params['Intercept']\n",
        "slope = result.params['np.log(x)']\n",
        "\n",
        "# Create a range of x values (log-transformed) for plotting the regression line in logarithmic space\n",
        "x_vals = DataFrame['x']  # Use the original x values for plotting the regression line in the original scale\n",
        "\n",
        "# Compute the y-values for the regression line in logarithmic space\n",
        "y_vals_log = intercept + slope * np.log(x_vals)  # Regression line equation in log scale\n",
        "\n",
        "# Convert the y-values back to the original scale using np.exp() for the plot\n",
        "y_vals = np.exp(y_vals_log)\n",
        "\n",
        "# Plot the data points (log-transformed)\n",
        "plt.scatter(DataFrame['x'], DataFrame['y'], color='blue', label='Data points')\n",
        "\n",
        "# Plot the regression line (on the original scale)\n",
        "plt.plot(x_vals, y_vals, color='red', label='Regression line')\n",
        "\n",
        "# Set logarithmic scale for both axes\n",
        "plt.xscale('log')\n",
        "plt.yscale('log')\n",
        "\n",
        "# Adding labels and title\n",
        "plt.xlabel('x (log scale)')\n",
        "plt.ylabel('y (log scale)')\n",
        "plt.title('OLS Regression in Logarithmic Scale')\n",
        "\n",
        "# Show legend\n",
        "plt.legend()\n",
        "\n",
        "# Display the plot\n",
        "plt.show()"
      ],
      "metadata": {
        "id": "8yaOS6LJ5RBH",
        "outputId": "60037345-16bc-48f9-ddda-97603477fed3",
        "colab": {
          "base_uri": "https://localhost:8080/",
          "height": 476
        }
      },
      "id": "8yaOS6LJ5RBH",
      "execution_count": 72,
      "outputs": [
        {
          "output_type": "display_data",
          "data": {
            "text/plain": [
              "<Figure size 640x480 with 1 Axes>"
            ],
            "image/png": "[encoded data removed]"
          },
          "metadata": {}
        }
      ]
    },
    {
      "cell_type": "code",
      "source": [
        "Aeq = n/(n-1)\n",
        "Beq = -sp.log(K)/(n-1)\n",
        "\n",
        "nVal = sp.solve(sp.Eq(Aeq , slope),n)\n",
        "Beq = Beq.subs(n,nVal[0])\n",
        "KVal = sp.solve(sp.Eq(Beq , intercept),K)\n",
        "\n",
        "Aeq = Aeq.subs({n:nVal[0], K: KVal[0]})\n",
        "Beq = Beq.subs({n:nVal[0], K: KVal[0]})\n",
        "\n",
        "LinearModel = logExpr.subs({A:Aeq, B: Beq})\n",
        "display(nVal)\n",
        "display(KVal)\n",
        "\n",
        "display(LinearModel)\n"
      ],
      "metadata": {
        "id": "ps17Yu8g6zXY",
        "outputId": "1a338215-5ac3-4ada-c31c-f411e30c89ad",
        "colab": {
          "base_uri": "https://localhost:8080/",
          "height": 80
        }
      },
      "id": "ps17Yu8g6zXY",
      "execution_count": 85,
      "outputs": [
        {
          "output_type": "display_data",
          "data": {
            "text/plain": [
              "[0.723596111532329]"
            ],
            "text/latex": "$\\displaystyle \\left[ 0.723596111532329\\right]$"
          },
          "metadata": {}
        },
        {
          "output_type": "display_data",
          "data": {
            "text/plain": [
              "[25.7441510619581]"
            ],
            "text/latex": "$\\displaystyle \\left[ 25.7441510619581\\right]$"
          },
          "metadata": {}
        },
        {
          "output_type": "display_data",
          "data": {
            "text/plain": [
              "log(σ) = 11.7516706298573 - 2.61789410975295⋅log(η)"
            ],
            "text/latex": "$\\displaystyle \\log{\\left(\\sigma \\right)} = 11.7516706298573 - 2.61789410975295 \\log{\\left(\\eta \\right)}$"
          },
          "metadata": {}
        }
      ]
    }
  ],
  "metadata": {
    "kernelspec": {
      "display_name": "Python 3 (ipykernel)",
      "language": "python",
      "name": "python3"
    },
    "language_info": {
      "codemirror_mode": {
        "name": "ipython",
        "version": 3
      },
      "file_extension": ".py",
      "mimetype": "text/x-python",
      "name": "python",
      "nbconvert_exporter": "python",
      "pygments_lexer": "ipython3",
      "version": "3.8.13"
    },
    "colab": {
      "provenance": [],
      "include_colab_link": true
    }
  },
  "nbformat": 4,
  "nbformat_minor": 5
}