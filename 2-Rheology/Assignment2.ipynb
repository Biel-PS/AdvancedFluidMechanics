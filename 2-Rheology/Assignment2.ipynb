{
  "cells": [
    {
      "cell_type": "markdown",
      "metadata": {
        "id": "view-in-github",
        "colab_type": "text"
      },
      "source": [
        "<a href=\"https://colab.research.google.com/github/Biel-PS/AdvancedFluidMechanics/blob/BielPS/2-Rheology/Assignment2.ipynb\" target=\"_parent\"><img src=\"https://colab.research.google.com/assets/colab-badge.svg\" alt=\"Open In Colab\"/></a>"
      ]
    },
    {
      "cell_type": "markdown",
      "id": "b7a0c9cf-b589-4da1-8b4b-e8e6fde7f631",
      "metadata": {
        "id": "b7a0c9cf-b589-4da1-8b4b-e8e6fde7f631"
      },
      "source": [
        "# Assignment 2. Rheological behaviour of cosmetic creams\n",
        "\n",
        "It is a sample of rheological behaviour of some cosmetic creams, taken from [here](https://www.rheologylab.com/articles/emulsion-stability/)\n",
        "\n",
        "![image.png](https://github.com/Biel-PS/AdvancedFluidMechanics/blob/main/2-Rheology/CSVP-of-Lotions-and-Creams-names-removed.webp?raw=1)\n",
        "\n",
        "What conclusions would you get from that about the behaviour of day creams in front of body creams?\n",
        "\n",
        "Let's consider the case of the body lotion C. Fit the Power Law model, get coefficients and plot it. You will see that it is not good. You will see that it does not agree with very low (_zero-shear rate viscosity_) or high (_infinity-shear rate viscosity_) shear stress. There are some other models that deals with this behaviour. The molt usual is the [Carreau model](https://en.wikipedia.org/wiki/Carreau_fluid). Apply this law to obtain a more accurate model of this fluid and discuss it.\n"
      ]
    },
    {
      "cell_type": "code",
      "execution_count": 1,
      "id": "4b8910e9-bf44-4876-855b-9088968a4213",
      "metadata": {
        "id": "4b8910e9-bf44-4876-855b-9088968a4213",
        "outputId": "0ea775a9-c3e8-4ed8-ff24-f5c768c149aa",
        "colab": {
          "base_uri": "https://localhost:8080/",
          "height": 99
        }
      },
      "outputs": [
        {
          "output_type": "display_data",
          "data": {
            "text/plain": [
              "      -1      n  \n",
              "     ─────  ─────\n",
              "     n - 1  n - 1\n",
              "σ = K     ⋅η     "
            ],
            "text/latex": "$\\displaystyle \\sigma = K^{- \\frac{1}{n - 1}} \\eta^{\\frac{n}{n - 1}}$"
          },
          "metadata": {}
        },
        {
          "output_type": "display_data",
          "data": {
            "text/plain": [
              "         n⋅log(η)   log(K)\n",
              "log(σ) = ──────── - ──────\n",
              "          n - 1     n - 1 "
            ],
            "text/latex": "$\\displaystyle \\log{\\left(\\sigma \\right)} = \\frac{n \\log{\\left(\\eta \\right)}}{n - 1} - \\frac{\\log{\\left(K \\right)}}{n - 1}$"
          },
          "metadata": {}
        },
        {
          "output_type": "display_data",
          "data": {
            "text/plain": [
              "log(σ) = A⋅log(η) + B"
            ],
            "text/latex": "$\\displaystyle \\log{\\left(\\sigma \\right)} = A \\log{\\left(\\eta \\right)} + B$"
          },
          "metadata": {}
        }
      ],
      "source": [
        "import statsmodels.formula.api as smf\n",
        "import statsmodels.graphics.api as smg\n",
        "import patsy\n",
        "import matplotlib.pyplot as plt\n",
        "import numpy as np\n",
        "import pandas as pd\n",
        "import sympy as sp\n",
        "import statsmodels.api as sm\n",
        "sp.init_printing()\n",
        "from IPython.display import display, Math\n",
        "Deltap,L,r,n,R, sig, eta,gamma,K= sp.symbols('{\\Delta}p L r n R sigma eta gamma K',positive=True)\n",
        "uz = sp.Function('u_z')\n",
        "\n",
        "eq1 = sp.Eq(eta,sig/gamma)\n",
        "eq2 = sp.Eq(sig,K*gamma**n)\n",
        "\n",
        "Eq1= sp.solve([eq1],[gamma])\n",
        "Eq = eq2.subs(gamma,Eq1[gamma])\n",
        "\n",
        "Eq= sp.solve([Eq],[sig])\n",
        "\n",
        "expression = sp.Eq(sig,Eq[0][0])\n",
        "\n",
        "display(expression)\n",
        "\n",
        "# Eq = sp.Eq(sp.log(sig),sp.log(eta*(1/(2*eta)*(Deltap/L)*r)**(1/(n-1))))\n",
        "# display(Eq)\n",
        "\n",
        "\n",
        "exprLog = sp.Eq(sp.log(expression.lhs),sp.log(expression.rhs))\n",
        "exprLog = exprLog.expand(force=True)\n",
        "display(exprLog)\n",
        "\n",
        "A,B = sp.symbols('A B',positive=True)\n",
        "\n",
        "Aeq = n/(n-1)\n",
        "Beq = -sp.log(K)/(n-1)\n",
        "\n",
        "logExpr = sp.Eq(sp.log(sig), A*(sp.log(eta)) + B)\n",
        "\n",
        "display(logExpr)"
      ]
    },
    {
      "cell_type": "code",
      "source": [
        "DataFrame = pd.read_csv(\"Default Dataset (1).csv\",header=None,names=['x','y'], delimiter=\";\", decimal=\",\")\n",
        "\n",
        "\n",
        "model = smf.ols('np.log(y) ~ np.log(x)', DataFrame)  # 1. Define model of regression\n",
        "result = model.fit()                   # 2. Adjust model of the data\n",
        "result.summary()\n",
        "\n",
        "\n",
        "display(result.params)"
      ],
      "metadata": {
        "id": "dUWbPYeC_2Cs",
        "outputId": "9c2bf4ea-8c4a-41e1-feb5-766c2b2d321d",
        "colab": {
          "base_uri": "https://localhost:8080/",
          "height": 147
        }
      },
      "id": "dUWbPYeC_2Cs",
      "execution_count": 3,
      "outputs": [
        {
          "output_type": "display_data",
          "data": {
            "text/plain": [
              "Intercept    11.645259\n",
              "np.log(x)    -2.599834\n",
              "dtype: float64"
            ],
            "text/html": [
              "<div>\n",
              "<style scoped>\n",
              "    .dataframe tbody tr th:only-of-type {\n",
              "        vertical-align: middle;\n",
              "    }\n",
              "\n",
              "    .dataframe tbody tr th {\n",
              "        vertical-align: top;\n",
              "    }\n",
              "\n",
              "    .dataframe thead th {\n",
              "        text-align: right;\n",
              "    }\n",
              "</style>\n",
              "<table border=\"1\" class=\"dataframe\">\n",
              "  <thead>\n",
              "    <tr style=\"text-align: right;\">\n",
              "      <th></th>\n",
              "      <th>0</th>\n",
              "    </tr>\n",
              "  </thead>\n",
              "  <tbody>\n",
              "    <tr>\n",
              "      <th>Intercept</th>\n",
              "      <td>11.645259</td>\n",
              "    </tr>\n",
              "    <tr>\n",
              "      <th>np.log(x)</th>\n",
              "      <td>-2.599834</td>\n",
              "    </tr>\n",
              "  </tbody>\n",
              "</table>\n",
              "</div><br><label><b>dtype:</b> float64</label>"
            ]
          },
          "metadata": {}
        }
      ]
    },
    {
      "cell_type": "code",
      "source": [
        "intercept = result.params['Intercept']\n",
        "slope = result.params['np.log(x)']\n",
        "\n",
        "# Create a range of x values (log-transformed) for plotting the regression line in logarithmic space\n",
        "x_vals = DataFrame['x']  # Use the original x values for plotting the regression line in the original scale\n",
        "\n",
        "# Compute the y-values for the regression line in logarithmic space\n",
        "y_vals_log = intercept + slope * np.log(x_vals)  # Regression line equation in log scale\n",
        "\n",
        "# Convert the y-values back to the original scale using np.exp() for the plot\n",
        "y_vals = np.exp(y_vals_log)\n",
        "\n",
        "# Plot the data points (log-transformed)\n",
        "plt.scatter(DataFrame['x'], DataFrame['y'], color='blue', label='Data points')\n",
        "\n",
        "# Plot the regression line (on the original scale)\n",
        "plt.plot(x_vals, y_vals, color='red', label='Regression line')\n",
        "\n",
        "# Set logarithmic scale for both axes\n",
        "plt.xscale('log')\n",
        "plt.yscale('log')\n",
        "\n",
        "# Adding labels and title\n",
        "plt.xlabel('Shear $\\sigma$ (log scale)')\n",
        "plt.ylabel('Viscosity $\\eta$ (log scale)')\n",
        "plt.title('OLS Regression in Logarithmic Scale')\n",
        "\n",
        "# Show legend\n",
        "plt.legend()\n",
        "\n",
        "# Display the plot\n",
        "plt.show()"
      ],
      "metadata": {
        "colab": {
          "base_uri": "https://localhost:8080/",
          "height": 480
        },
        "id": "8yaOS6LJ5RBH",
        "outputId": "bb4c5f84-5682-4944-cdfd-4d7615bf2080"
      },
      "id": "8yaOS6LJ5RBH",
      "execution_count": 4,
      "outputs": [
        {
          "output_type": "display_data",
          "data": {
            "text/plain": [
              "<Figure size 640x480 with 1 Axes>"
            ],
            "image/png": "[encoded data removed]"
          },
          "metadata": {}
        }
      ]
    },
    {
      "cell_type": "code",
      "source": [
        "Aeq = n/(n-1)\n",
        "Beq = -sp.log(K)/(n-1)\n",
        "\n",
        "nVal = sp.solve(sp.Eq(Aeq , slope),n)\n",
        "Beq = Beq.subs(n,nVal[0])\n",
        "KVal = sp.solve(sp.Eq(Beq , intercept),K)\n",
        "\n",
        "Aeq = Aeq.subs({n:nVal[0], K: KVal[0]})\n",
        "Beq = Beq.subs({n:nVal[0], K: KVal[0]})\n",
        "\n",
        "LinearModel = logExpr.subs({A:Aeq, B: Beq})\n",
        "display(nVal)\n",
        "display(KVal)\n",
        "\n",
        "display(LinearModel)\n"
      ],
      "metadata": {
        "colab": {
          "base_uri": "https://localhost:8080/",
          "height": 79
        },
        "id": "ps17Yu8g6zXY",
        "outputId": "4794c811-4c0d-4468-b239-c8e29c5eac26"
      },
      "id": "ps17Yu8g6zXY",
      "execution_count": 49,
      "outputs": [
        {
          "output_type": "display_data",
          "data": {
            "text/plain": [
              "[0.722209379716925]"
            ],
            "text/latex": "$\\displaystyle \\left[ 0.722209379716925\\right]$"
          },
          "metadata": {}
        },
        {
          "output_type": "display_data",
          "data": {
            "text/plain": [
              "[25.4049418030719]"
            ],
            "text/latex": "$\\displaystyle \\left[ 25.4049418030719\\right]$"
          },
          "metadata": {}
        },
        {
          "output_type": "display_data",
          "data": {
            "text/plain": [
              "log(σ) = 11.6452589759146 - 2.59983356882596⋅log(η)"
            ],
            "text/latex": "$\\displaystyle \\log{\\left(\\sigma \\right)} = 11.6452589759146 - 2.59983356882596 \\log{\\left(\\eta \\right)}$"
          },
          "metadata": {}
        }
      ]
    },
    {
      "cell_type": "markdown",
      "source": [
        "Now we define the Carreau model"
      ],
      "metadata": {
        "id": "rTxhzMwA9Js7"
      },
      "id": "rTxhzMwA9Js7"
    },
    {
      "cell_type": "code",
      "source": [
        "eta, etaInf, eta0, lam,gamma, n= sp.symbols('eta \\eta_{inf} eta_0 lambda gamma n',positive=True)\n",
        "\n",
        "eq1 = sp.Eq(eta, etaInf + (eta0-etaInf)*(1+(lam*gamma)**2)**((n-1)/2))\n",
        "display(eq1)\n",
        "\n",
        "eq2 = sp.Eq(sig,K*gamma**n)\n",
        "display(eq2)\n",
        "eq2r = sp.solve(eq2,gamma)\n",
        "display(eq2r)\n",
        "eq2n = sp.Eq(gamma,eq2r[0])\n",
        "display(eq2n)\n",
        "\n",
        "subs = eq1.subs(gamma,eq2r[0])\n",
        "display(subs)\n",
        "\n",
        "\n",
        "\n",
        "\n",
        "#exprLog = sp.Eq(sp.log(Eq.lhs),sp.log(Eq.rhs))\n",
        "#exprLog = exprLog.expand(force=True)\n",
        "#exprLog = sp.simplify(exprLog)\n",
        "\n",
        "#display(exprLog)\n"
      ],
      "metadata": {
        "id": "DkH1OLMD9Jf1",
        "outputId": "1efef651-a101-4b0d-8c9a-46e5926fd8ff",
        "colab": {
          "base_uri": "https://localhost:8080/",
          "height": 191
        }
      },
      "id": "DkH1OLMD9Jf1",
      "execution_count": 51,
      "outputs": [
        {
          "output_type": "display_data",
          "data": {
            "text/plain": [
              "                                               n   1\n",
              "                                               ─ - ─\n",
              "                                               2   2\n",
              "                                    ⎛ 2  2    ⎞     \n",
              "η = \\eta_{inf} + (-\\eta_{inf} + η₀)⋅⎝γ ⋅λ  + 1⎠     "
            ],
            "text/latex": "$\\displaystyle \\eta = \\eta_{inf} + \\left(- \\eta_{inf} + \\eta_{0}\\right) \\left(\\gamma^{2} \\lambda^{2} + 1\\right)^{\\frac{n}{2} - \\frac{1}{2}}$"
          },
          "metadata": {}
        },
        {
          "output_type": "display_data",
          "data": {
            "text/plain": [
              "       n\n",
              "σ = K⋅γ "
            ],
            "text/latex": "$\\displaystyle \\sigma = K \\gamma^{n}$"
          },
          "metadata": {}
        },
        {
          "output_type": "display_data",
          "data": {
            "text/plain": [
              "⎡    ___⎤\n",
              "⎢   ╱ σ ⎥\n",
              "⎢n ╱  ─ ⎥\n",
              "⎣╲╱   K ⎦"
            ],
            "text/latex": "$\\displaystyle \\left[ \\left(\\frac{\\sigma}{K}\\right)^{\\frac{1}{n}}\\right]$"
          },
          "metadata": {}
        },
        {
          "output_type": "display_data",
          "data": {
            "text/plain": [
              "        ___\n",
              "       ╱ σ \n",
              "γ = n ╱  ─ \n",
              "    ╲╱   K "
            ],
            "text/latex": "$\\displaystyle \\gamma = \\left(\\frac{\\sigma}{K}\\right)^{\\frac{1}{n}}$"
          },
          "metadata": {}
        },
        {
          "output_type": "display_data",
          "data": {
            "text/plain": [
              "                                                 n   1\n",
              "                                                 ─ - ─\n",
              "                                                 2   2\n",
              "                                    ⎛      2    ⎞     \n",
              "                                    ⎜      ─    ⎟     \n",
              "                                    ⎜      n    ⎟     \n",
              "                                    ⎜ 2 ⎛σ⎞     ⎟     \n",
              "η = \\eta_{inf} + (-\\eta_{inf} + η₀)⋅⎜λ ⋅⎜─⎟  + 1⎟     \n",
              "                                    ⎝   ⎝K⎠     ⎠     "
            ],
            "text/latex": "$\\displaystyle \\eta = \\eta_{inf} + \\left(- \\eta_{inf} + \\eta_{0}\\right) \\left(\\lambda^{2} \\left(\\frac{\\sigma}{K}\\right)^{\\frac{2}{n}} + 1\\right)^{\\frac{n}{2} - \\frac{1}{2}}$"
          },
          "metadata": {}
        }
      ]
    },
    {
      "cell_type": "code",
      "source": [
        "import scipy.optimize as opt\n",
        "\n",
        "def carreau_viscosity(tau, eta0, etainf, lambda_, n, K):\n",
        "    gamma_dot = (tau / K) ** (1 / n)  # Convertir shear stress a shear rate\n",
        "    eta_tau = etainf + (eta0 - etainf) * (1 + (lambda_ * gamma_dot)**2)**((n - 1) / 2)\n",
        "    return eta_tau\n",
        "\n",
        "etaexp = DataFrame['y'].to_numpy()\n",
        "tauexp = DataFrame['x'].to_numpy()\n",
        "\n",
        "display(min(etaexp))\n",
        "display(max(etaexp))\n",
        "p0 = [max(etaexp),min(etaexp),70.126,float(nVal[0]),float(KVal[0])]\n",
        "\n",
        "popt, pcov = opt.curve_fit(carreau_viscosity, tauexp, etaexp, p0, maxfev=10000)\n",
        "eta0_fit, etainf_fit, lambda_fit, n_fit, K_fit = popt\n",
        "print(f\"Parámetros óptimos:\")\n",
        "print(f\"  η₀ = {eta0_fit}\")\n",
        "print(f\"  η∞ = {etainf_fit}\")\n",
        "print(f\"  λ  = {lambda_fit}\")\n",
        "print(f\"  n  = {n_fit}\")\n",
        "print(f\"  K  = {K_fit}\")\n",
        "\n",
        "tau_fit = np.logspace(np.log10(min(tauexp)), np.log10(max(tauexp)), 100)\n",
        "eta_fit = carreau_viscosity(tau_fit, *popt)\n",
        "\n",
        "plt.scatter(tauexp, etaexp, label=\"Datos experimentales\", color=\"red\")\n",
        "plt.plot(tau_fit, eta_fit, label=\"Ajuste Carreau\", color=\"blue\")\n",
        "plt.xscale(\"log\")\n",
        "plt.yscale(\"log\")\n",
        "plt.xlabel(\"Shear Stress (τ) [log]\")\n",
        "plt.ylabel(\"Viscosidad (η) [log]\")\n",
        "plt.legend()\n",
        "plt.title(\"Ajuste del modelo Carreau en función de Shear Stress\")\n",
        "plt.show()"
      ],
      "metadata": {
        "id": "muxwl-nSECEu",
        "outputId": "65274543-623a-46bf-c72b-3b45f40c4f32",
        "colab": {
          "base_uri": "https://localhost:8080/",
          "height": 622
        }
      },
      "id": "muxwl-nSECEu",
      "execution_count": 62,
      "outputs": [
        {
          "output_type": "display_data",
          "data": {
            "text/plain": [
              "0.3232971334668599"
            ],
            "text/latex": "$\\displaystyle 0.32329713346686$"
          },
          "metadata": {}
        },
        {
          "output_type": "display_data",
          "data": {
            "text/plain": [
              "10047.12995244395"
            ],
            "text/latex": "$\\displaystyle 10047.1299524439$"
          },
          "metadata": {}
        },
        {
          "output_type": "stream",
          "name": "stdout",
          "text": [
            "Parámetros óptimos:\n",
            "  η₀ = 9490.24605732112\n",
            "  η∞ = -200.95792380699152\n",
            "  λ  = 140.06984388385277\n",
            "  n  = 0.31796968929808145\n",
            "  K  = 24.893872718145154\n"
          ]
        },
        {
          "output_type": "display_data",
          "data": {
            "text/plain": [
              "<Figure size 640x480 with 1 Axes>"
            ],
            "image/png": "[encoded data removed]"
          },
          "metadata": {}
        }
      ]
    }
  ],
  "metadata": {
    "kernelspec": {
      "display_name": "Python 3 (ipykernel)",
      "language": "python",
      "name": "python3"
    },
    "language_info": {
      "codemirror_mode": {
        "name": "ipython",
        "version": 3
      },
      "file_extension": ".py",
      "mimetype": "text/x-python",
      "name": "python",
      "nbconvert_exporter": "python",
      "pygments_lexer": "ipython3",
      "version": "3.8.13"
    },
    "colab": {
      "provenance": [],
      "include_colab_link": true
    }
  },
  "nbformat": 4,
  "nbformat_minor": 5
}