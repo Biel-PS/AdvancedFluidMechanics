{
  "cells": [
    {
      "cell_type": "markdown",
      "metadata": {
        "id": "view-in-github",
        "colab_type": "text"
      },
      "source": [
        "<a href=\"https://colab.research.google.com/github/Biel-PS/AdvancedFluidMechanics/blob/BielPS/2-Rheology/Assignment2finish.ipynb\" target=\"_parent\"><img src=\"https://colab.research.google.com/assets/colab-badge.svg\" alt=\"Open In Colab\"/></a>"
      ]
    },
    {
      "cell_type": "markdown",
      "id": "b7a0c9cf-b589-4da1-8b4b-e8e6fde7f631",
      "metadata": {
        "id": "b7a0c9cf-b589-4da1-8b4b-e8e6fde7f631"
      },
      "source": [
        "# Assignment 2. Rheological behaviour of cosmetic creams\n",
        "\n",
        "It is a sample of rheological behaviour of some cosmetic creams, taken from [here](https://www.rheologylab.com/articles/emulsion-stability/)\n",
        "\n",
        "![image.png](https://github.com/Biel-PS/AdvancedFluidMechanics/blob/main/2-Rheology/CSVP-of-Lotions-and-Creams-names-removed.webp?raw=1)\n",
        "\n",
        "What conclusions would you get from that about the behaviour of day creams in front of body creams?\n",
        "\n",
        "Let's consider the case of the body lotion C. Fit the Power Law model, get coefficients and plot it. You will see that it is not good. You will see that it does not agree with very low (_zero-shear rate viscosity_) or high (_infinity-shear rate viscosity_) shear stress. There are some other models that deals with this behaviour. The molt usual is the [Carreau model](https://en.wikipedia.org/wiki/Carreau_fluid). Apply this law to obtain a more accurate model of this fluid and discuss it.\n"
      ]
    },
    {
      "cell_type": "markdown",
      "source": [
        "# SOLUTION"
      ],
      "metadata": {
        "id": "fB962dDZSV3I"
      },
      "id": "fB962dDZSV3I"
    },
    {
      "cell_type": "markdown",
      "source": [
        "In first place we have to import all necessary libraries for the mission.\n",
        "\n",
        "Then, we continue defining the variables and functions needed in order to assemble the equations.\n"
      ],
      "metadata": {
        "id": "b5zrnJHdScKQ"
      },
      "id": "b5zrnJHdScKQ"
    },
    {
      "cell_type": "code",
      "execution_count": 47,
      "id": "4b8910e9-bf44-4876-855b-9088968a4213",
      "metadata": {
        "id": "4b8910e9-bf44-4876-855b-9088968a4213",
        "outputId": "49280e38-337f-40e9-ca78-81f06f437dae",
        "colab": {
          "base_uri": "https://localhost:8080/",
          "height": 99
        }
      },
      "outputs": [
        {
          "output_type": "display_data",
          "data": {
            "text/plain": [
              "      -1      n  \n",
              "     ─────  ─────\n",
              "     n - 1  n - 1\n",
              "σ = K     ⋅η     "
            ],
            "text/latex": "$\\displaystyle \\sigma = K^{- \\frac{1}{n - 1}} \\eta^{\\frac{n}{n - 1}}$"
          },
          "metadata": {}
        },
        {
          "output_type": "display_data",
          "data": {
            "text/plain": [
              "         n⋅log(η)   log(K)\n",
              "log(σ) = ──────── - ──────\n",
              "          n - 1     n - 1 "
            ],
            "text/latex": "$\\displaystyle \\log{\\left(\\sigma \\right)} = \\frac{n \\log{\\left(\\eta \\right)}}{n - 1} - \\frac{\\log{\\left(K \\right)}}{n - 1}$"
          },
          "metadata": {}
        },
        {
          "output_type": "display_data",
          "data": {
            "text/plain": [
              "log(σ) = A⋅log(η) + B"
            ],
            "text/latex": "$\\displaystyle \\log{\\left(\\sigma \\right)} = A \\log{\\left(\\eta \\right)} + B$"
          },
          "metadata": {}
        }
      ],
      "source": [
        "import statsmodels.formula.api as smf\n",
        "import statsmodels.graphics.api as smg\n",
        "import patsy\n",
        "import matplotlib.pyplot as plt\n",
        "import numpy as np\n",
        "import pandas as pd\n",
        "import sympy as sp\n",
        "import statsmodels.api as sm\n",
        "sp.init_printing()\n",
        "from IPython.display import display, Math\n",
        "Deltap,L,r,n,R, sig, eta,gamma,K= sp.symbols('{\\Delta}p L r n R sigma eta gamma K',positive=True)\n",
        "uz = sp.Function('u_z')\n",
        "\n",
        "\n",
        "\n",
        "eq1 = sp.Eq(gamma,sig/eta)\n",
        "eq2 = sp.Eq(sig,K*gamma**n)\n",
        "\n",
        "Eq = eq2.subs(gamma,eq1.rhs)\n",
        "\n",
        "Eq= sp.solve([Eq],[sig])\n",
        "\n",
        "expression = sp.Eq(sig,Eq[0][0])\n",
        "\n",
        "display(expression)\n",
        "\n",
        "exprLog = sp.Eq(sp.log(expression.lhs),sp.log(expression.rhs))\n",
        "exprLog = exprLog.expand(force=True)\n",
        "display(exprLog)\n",
        "\n",
        "A,B = sp.symbols('A B',positive=True)\n",
        "\n",
        "Aeq = n/(n-1)\n",
        "Beq = -sp.log(K)/(n-1)\n",
        "\n",
        "logExpr = sp.Eq(sp.log(sig), A*(sp.log(eta)) + B)\n",
        "\n",
        "display(logExpr)"
      ]
    },
    {
      "cell_type": "markdown",
      "source": [
        "Solving the equations and comparing to a linear model, we find the relations  $A = n/(n-1)$ and $B=log(K)/(n-1)$"
      ],
      "metadata": {
        "id": "cu8I8VewUXLk"
      },
      "id": "cu8I8VewUXLk"
    },
    {
      "cell_type": "markdown",
      "source": [
        "To compare the data of the lotion cream it has to be added first:"
      ],
      "metadata": {
        "id": "W3VTSmGzU-05"
      },
      "id": "W3VTSmGzU-05"
    },
    {
      "cell_type": "code",
      "source": [
        "DataFrame = pd.read_csv(\"Default Dataset (1).csv\",header=None,names=['x','y'], delimiter=\";\", decimal=\",\")\n",
        "\n",
        "\n",
        "model = smf.ols('np.log(y) ~ np.log(x)', DataFrame)  # 1. Define model of regression\n",
        "result = model.fit()                   # 2. Adjust model of the data\n",
        "result.summary()\n",
        "display(result.params)"
      ],
      "metadata": {
        "id": "dUWbPYeC_2Cs",
        "outputId": "c4eace00-b6c0-4620-904c-765fa5eb209c",
        "colab": {
          "base_uri": "https://localhost:8080/",
          "height": 147
        }
      },
      "id": "dUWbPYeC_2Cs",
      "execution_count": 48,
      "outputs": [
        {
          "output_type": "display_data",
          "data": {
            "text/plain": [
              "Intercept    11.645259\n",
              "np.log(x)    -2.599834\n",
              "dtype: float64"
            ],
            "text/html": [
              "<div>\n",
              "<style scoped>\n",
              "    .dataframe tbody tr th:only-of-type {\n",
              "        vertical-align: middle;\n",
              "    }\n",
              "\n",
              "    .dataframe tbody tr th {\n",
              "        vertical-align: top;\n",
              "    }\n",
              "\n",
              "    .dataframe thead th {\n",
              "        text-align: right;\n",
              "    }\n",
              "</style>\n",
              "<table border=\"1\" class=\"dataframe\">\n",
              "  <thead>\n",
              "    <tr style=\"text-align: right;\">\n",
              "      <th></th>\n",
              "      <th>0</th>\n",
              "    </tr>\n",
              "  </thead>\n",
              "  <tbody>\n",
              "    <tr>\n",
              "      <th>Intercept</th>\n",
              "      <td>11.645259</td>\n",
              "    </tr>\n",
              "    <tr>\n",
              "      <th>np.log(x)</th>\n",
              "      <td>-2.599834</td>\n",
              "    </tr>\n",
              "  </tbody>\n",
              "</table>\n",
              "</div><br><label><b>dtype:</b> float64</label>"
            ]
          },
          "metadata": {}
        }
      ]
    },
    {
      "cell_type": "markdown",
      "source": [
        "With the regression made, we get both values from *statsmodels* and with given values we can plot the result."
      ],
      "metadata": {
        "id": "697DD28OVIOm"
      },
      "id": "697DD28OVIOm"
    },
    {
      "cell_type": "code",
      "source": [
        "intercept = result.params['Intercept']\n",
        "slope = result.params['np.log(x)']\n",
        "\n",
        "# Create a range of x values (log-transformed) for plotting the regression line in logarithmic space\n",
        "x_vals = DataFrame['x']  # Use the original x values for plotting the regression line in the original scale\n",
        "\n",
        "# Compute the y-values for the regression line in logarithmic space\n",
        "y_vals_log = intercept + slope * np.log(x_vals)  # Regression line equation in log scale\n",
        "\n",
        "# Convert the y-values back to the original scale using np.exp() for the plot\n",
        "y_vals = np.exp(y_vals_log)\n",
        "\n",
        "# Plot the data points (log-transformed)\n",
        "plt.scatter(DataFrame['x'], DataFrame['y'], color='blue', label='Data points')\n",
        "\n",
        "# Plot the regression line (on the original scale)\n",
        "plt.plot(x_vals, y_vals, color='red', label='Regression line')\n",
        "\n",
        "# Set logarithmic scale for both axes\n",
        "plt.xscale('log')\n",
        "plt.yscale('log')\n",
        "\n",
        "# Adding labels and title\n",
        "plt.xlabel('Shear $\\sigma$ (log scale)')\n",
        "plt.ylabel('Viscosity $\\eta$ (log scale)')\n",
        "plt.title('OLS Regression in Logarithmic Scale')\n",
        "\n",
        "# Show legend\n",
        "plt.legend()\n",
        "\n",
        "# Display the plot\n",
        "plt.show()"
      ],
      "metadata": {
        "colab": {
          "base_uri": "https://localhost:8080/",
          "height": 480
        },
        "id": "8yaOS6LJ5RBH",
        "outputId": "80d5eecf-9fa2-4d7b-e466-bb551b4adf79"
      },
      "id": "8yaOS6LJ5RBH",
      "execution_count": 49,
      "outputs": [
        {
          "output_type": "display_data",
          "data": {
            "text/plain": [
              "<Figure size 640x480 with 1 Axes>"
            ],
            "image/png": "[encoded data removed]"
          },
          "metadata": {}
        }
      ]
    },
    {
      "cell_type": "markdown",
      "source": [
        "It's not good, as expected, because the shape of the curve doesn't fit in any point of it.\n",
        "\n",
        "However, the results of the \"n\" and \"K\" vales are the following"
      ],
      "metadata": {
        "id": "Kx79dJYoVuI8"
      },
      "id": "Kx79dJYoVuI8"
    },
    {
      "cell_type": "code",
      "source": [
        "Aeq = n/(n-1)\n",
        "Beq = -sp.log(K)/(n-1)\n",
        "\n",
        "nVal = sp.solve(sp.Eq(Aeq , slope),n)\n",
        "Beq = Beq.subs(n,nVal[0])\n",
        "KVal = sp.solve(sp.Eq(Beq , intercept),K)\n",
        "\n",
        "Aeq = Aeq.subs({n:nVal[0], K: KVal[0]})\n",
        "Beq = Beq.subs({n:nVal[0], K: KVal[0]})\n",
        "\n",
        "LinearModel = logExpr.subs({A:Aeq, B: Beq})\n",
        "display(\"Value of n: \" + str(nVal))\n",
        "display(\"Value of K: \" + str(KVal))\n",
        "\n",
        "display(LinearModel)\n"
      ],
      "metadata": {
        "colab": {
          "base_uri": "https://localhost:8080/",
          "height": 75
        },
        "id": "ps17Yu8g6zXY",
        "outputId": "0bc06e1d-7440-4f75-9429-c1ce2d93beb1"
      },
      "id": "ps17Yu8g6zXY",
      "execution_count": 50,
      "outputs": [
        {
          "output_type": "display_data",
          "data": {
            "text/plain": [
              "'Value of n: [0.722209379716925]'"
            ],
            "application/vnd.google.colaboratory.intrinsic+json": {
              "type": "string"
            }
          },
          "metadata": {}
        },
        {
          "output_type": "display_data",
          "data": {
            "text/plain": [
              "'Value of K: [25.4049418030719]'"
            ],
            "application/vnd.google.colaboratory.intrinsic+json": {
              "type": "string"
            }
          },
          "metadata": {}
        },
        {
          "output_type": "display_data",
          "data": {
            "text/plain": [
              "log(σ) = 11.6452589759146 - 2.59983356882596⋅log(η)"
            ],
            "text/latex": "$\\displaystyle \\log{\\left(\\sigma \\right)} = 11.6452589759146 - 2.59983356882596 \\log{\\left(\\eta \\right)}$"
          },
          "metadata": {}
        }
      ]
    },
    {
      "cell_type": "markdown",
      "source": [
        "Now we define the Carreau model"
      ],
      "metadata": {
        "id": "rTxhzMwA9Js7"
      },
      "id": "rTxhzMwA9Js7"
    },
    {
      "cell_type": "markdown",
      "source": [
        "Definition of the symbols and accomodation of the equation to work with."
      ],
      "metadata": {
        "id": "ixIK0VKjYuAw"
      },
      "id": "ixIK0VKjYuAw"
    },
    {
      "cell_type": "code",
      "source": [
        "eta, etaInf, eta0, lam,gamma, n= sp.symbols('eta \\eta_{inf} eta_0 lambda gamma n',positive=True)\n",
        "\n",
        "eq1 = sp.Eq(eta, etaInf + (eta0-etaInf)*(1+(lam*gamma)**2)**((n-1)/2))\n",
        "display(eq1)\n",
        "\n",
        "eq2 = sp.Eq(gamma,sp.solve(sp.Eq(sig,K*gamma**n),gamma)[0])\n",
        "display(eq2)\n",
        "\n",
        "subs = eq1.subs(gamma,eq2.rhs)\n",
        "Eq = subs\n",
        "display(Eq)\n"
      ],
      "metadata": {
        "id": "DkH1OLMD9Jf1",
        "outputId": "c35f7dbe-662b-4b1e-8a16-74157b69ed0a",
        "colab": {
          "base_uri": "https://localhost:8080/",
          "height": 128
        }
      },
      "id": "DkH1OLMD9Jf1",
      "execution_count": 60,
      "outputs": [
        {
          "output_type": "display_data",
          "data": {
            "text/plain": [
              "                                               n   1\n",
              "                                               ─ - ─\n",
              "                                               2   2\n",
              "                                    ⎛ 2  2    ⎞     \n",
              "η = \\eta_{inf} + (-\\eta_{inf} + η₀)⋅⎝γ ⋅λ  + 1⎠     "
            ],
            "text/latex": "$\\displaystyle \\eta = \\eta_{inf} + \\left(- \\eta_{inf} + \\eta_{0}\\right) \\left(\\gamma^{2} \\lambda^{2} + 1\\right)^{\\frac{n}{2} - \\frac{1}{2}}$"
          },
          "metadata": {}
        },
        {
          "output_type": "display_data",
          "data": {
            "text/plain": [
              "        ___\n",
              "       ╱ σ \n",
              "γ = n ╱  ─ \n",
              "    ╲╱   K "
            ],
            "text/latex": "$\\displaystyle \\gamma = \\left(\\frac{\\sigma}{K}\\right)^{\\frac{1}{n}}$"
          },
          "metadata": {}
        },
        {
          "output_type": "display_data",
          "data": {
            "text/plain": [
              "                                                 n   1\n",
              "                                                 ─ - ─\n",
              "                                                 2   2\n",
              "                                    ⎛      2    ⎞     \n",
              "                                    ⎜      ─    ⎟     \n",
              "                                    ⎜      n    ⎟     \n",
              "                                    ⎜ 2 ⎛σ⎞     ⎟     \n",
              "η = \\eta_{inf} + (-\\eta_{inf} + η₀)⋅⎜λ ⋅⎜─⎟  + 1⎟     \n",
              "                                    ⎝   ⎝K⎠     ⎠     "
            ],
            "text/latex": "$\\displaystyle \\eta = \\eta_{inf} + \\left(- \\eta_{inf} + \\eta_{0}\\right) \\left(\\lambda^{2} \\left(\\frac{\\sigma}{K}\\right)^{\\frac{2}{n}} + 1\\right)^{\\frac{n}{2} - \\frac{1}{2}}$"
          },
          "metadata": {}
        }
      ]
    },
    {
      "cell_type": "markdown",
      "source": [
        "Import the optimizing library and define carreau viscosity model, initial conditions and bounds."
      ],
      "metadata": {
        "id": "f2ZqqoYeY2Mw"
      },
      "id": "f2ZqqoYeY2Mw"
    },
    {
      "cell_type": "markdown",
      "source": [
        "In order to use scipy.optimize we defined the model of the function to guide the algorithm with the experimental data we had, and the result we wantes, defined by Carreau."
      ],
      "metadata": {
        "id": "zgyY-Ff_Z8P2"
      },
      "id": "zgyY-Ff_Z8P2"
    },
    {
      "cell_type": "code",
      "source": [
        "import scipy.optimize as opt\n",
        "\n",
        "#definition of the model as a function\n",
        "def carreau_viscosity(tau, eta0, etainf, lambda_, n,k):\n",
        "  eta_tau = etainf + (eta0-etainf)*(1+lambda_**2*(tau/k)**(2/n))**((n-1)/2)\n",
        "  return eta_tau\n",
        "\n",
        "#conversion from dataframe to data\n",
        "etaexp = DataFrame['y'].to_numpy()\n",
        "tauexp = DataFrame['x'].to_numpy()\n",
        "\n",
        "#Initial guess\n",
        "p0 =[9300,0.3,100,0.01,5]#[eta0, etainf, lambda, n, k]\n",
        "\n",
        "#Bondary limits\n",
        "bounds = (\n",
        "    [7000, 0, 0, 0, 0],  # Min value for parameters\n",
        "    [10000, 0.3, 150, 0.2, 25]  # Max value for parameters\n",
        ")\n",
        "\n",
        "popt, pcov = opt.curve_fit(carreau_viscosity, tauexp, etaexp, p0, bounds = bounds, maxfev=10000)\n",
        "\n",
        "eta0_fit, etainf_fit, lambda_fit, n_fit, K_fit = popt\n",
        "print(f\"Optimal parameters:\")\n",
        "print(f\"  η₀ = {eta0_fit}\")\n",
        "print(f\"  η∞ = {etainf_fit}\")\n",
        "print(f\"  λ  = {lambda_fit}\")\n",
        "print(f\"  n  = {n_fit}\")\n",
        "print(f\"  K  = {K_fit}\")\n",
        "\n",
        "#Creation of shear values\n",
        "tau_fit = np.logspace(np.log10(min(tauexp)), np.log10(max(tauexp)), 100)\n",
        "#Evaluation of viscosity values with optimized parametres\n",
        "eta_fit = carreau_viscosity(tau_fit, *popt)\n",
        "\n",
        "#Plot of the results\n",
        "plt.scatter(tauexp, etaexp, label=\"Experimental data\", color=\"red\")\n",
        "plt.plot(tau_fit, eta_fit, label=\"Carreau model\", color=\"blue\")\n",
        "plt.xscale(\"log\")\n",
        "plt.yscale(\"log\")\n",
        "plt.xlabel(\"Shear Stress (τ) [log]\")\n",
        "plt.ylabel(\"Viscosity (η) [log]\")\n",
        "plt.legend()\n",
        "plt.title(\"Correau model for viscosity vs stress\")\n",
        "plt.show()"
      ],
      "metadata": {
        "id": "muxwl-nSECEu",
        "outputId": "fc665994-2795-4f77-b355-c5dfe34b71aa",
        "colab": {
          "base_uri": "https://localhost:8080/",
          "height": 580
        }
      },
      "id": "muxwl-nSECEu",
      "execution_count": 63,
      "outputs": [
        {
          "output_type": "stream",
          "name": "stdout",
          "text": [
            "Optimal parameters:\n",
            "  η₀ = 9171.372158712393\n",
            "  η∞ = 0.29999999999999993\n",
            "  λ  = 98.83778887655698\n",
            "  n  = 0.19999999999999998\n",
            "  K  = 15.5313987357654\n"
          ]
        },
        {
          "output_type": "display_data",
          "data": {
            "text/plain": [
              "<Figure size 640x480 with 1 Axes>"
            ],
            "image/png": "[encoded data removed]"
          },
          "metadata": {}
        }
      ]
    },
    {
      "cell_type": "markdown",
      "source": [
        "We can see that after implementing Carreau's model the plot assimilated strongly better than the linear approximation with power law model od fluid."
      ],
      "metadata": {
        "id": "-yWp1BDgaeWq"
      },
      "id": "-yWp1BDgaeWq"
    }
  ],
  "metadata": {
    "kernelspec": {
      "display_name": "Python 3 (ipykernel)",
      "language": "python",
      "name": "python3"
    },
    "language_info": {
      "codemirror_mode": {
        "name": "ipython",
        "version": 3
      },
      "file_extension": ".py",
      "mimetype": "text/x-python",
      "name": "python",
      "nbconvert_exporter": "python",
      "pygments_lexer": "ipython3",
      "version": "3.8.13"
    },
    "colab": {
      "provenance": [],
      "include_colab_link": true
    }
  },
  "nbformat": 4,
  "nbformat_minor": 5
}