{
 "cells": [
  {
   "cell_type": "markdown",
   "id": "7f95877e-320e-471a-bcfe-29d21bb36881",
   "metadata": {},
   "source": [
    "# Rheology\n",
    "***\n",
    "\n",
    "This is just a page sample for sectioning"
   ]
  }
 ],
 "metadata": {
  "kernelspec": {
   "display_name": "Python 3 (ipykernel)",
   "language": "python",
   "name": "python3"
  },
  "language_info": {
   "codemirror_mode": {
    "name": "ipython",
    "version": 3
   },
   "file_extension": ".py",
   "mimetype": "text/x-python",
   "name": "python",
   "nbconvert_exporter": "python",
   "pygments_lexer": "ipython3",
   "version": "3.8.13"
  }
 },
 "nbformat": 4,
 "nbformat_minor": 5
}
