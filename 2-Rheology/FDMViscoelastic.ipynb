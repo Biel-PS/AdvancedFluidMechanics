{
 "cells": [
  {
   "cell_type": "markdown",
   "metadata": {},
   "source": [
    "# Viscoelastic fluid in a pipe (Maxwell model)\n",
    "\n",
    "We are going to consider the problem of transient flow of viscoelastic flow in a pipe.\n",
    "\n",
    "The transient equation for laminar flow, with velocity only in radial equation is\n",
    "\n",
    "$$ \\rho \\frac{\\partial u}{\\partial t} = P + \\frac{1}{r}\\frac{\\partial r\\tau}{\\partial r} \\tag{1}$$\n",
    "\n",
    "where we denote $P = -\\frac{\\partial p}{\\partial z}$, where $z$ is the axis of the pipe. \n",
    "\n",
    "For a **Newtonian flow**, stress tensor is computed with\n",
    "\n",
    "$$ \\tau = \\eta \\frac{\\partial u}{\\partial r} \\tag{2}$$\n",
    "\n",
    "and the solution is the well known [Hagen-Poiseuille flow](https://en.wikipedia.org/wiki/Hagen%E2%80%93Poiseuille_equation). However, if a **viscoelastic fluid** is considered, with the _Maxwell model_ the stress is computed with\n",
    "\n",
    "$$ \\tau + \\lambda \\frac{\\partial \\tau}{\\partial t} = \\eta \\frac{\\partial u}{\\partial r} \\tag{3}$$\n",
    "\n",
    "where $\\lambda$ is the relaxation time.\n",
    "\n",
    "We can write this equations with dimensionless variables, by defining\n",
    "\n",
    "$$\n",
    "r^* = \\frac{r}{R} \\\\\n",
    "t^* = \\frac{\\eta}{\\rho R^2}t \\\\\n",
    "u^* = \\frac{4\\eta}{R^2P}u \\\\\n",
    "\\tau^* = \\frac{4}{RP}\\tau \\\\\n",
    "\\xi = \\frac{\\eta}{\\rho R^2}\\lambda\n",
    "$$\n",
    "\n",
    "With these variables, the dimensionless equations are (we drop the \"*\" for the sake of simplicity):\n",
    "\n",
    "$$\n",
    "\\frac{\\partial u}{\\partial t} = 4 + \\frac{\\partial \\tau}{\\partial r} + \\frac{\\tau}{r} \\tag{4}\n",
    "$$\n",
    "$$\n",
    "\\tau + \\xi\\frac{\\partial \\tau}{\\partial t} = \\frac{\\partial u}{\\partial r} \\tag{5}\n",
    "$$\n",
    "\n",
    "The boundary conditions are:\n",
    "\n",
    "$$ u(r=1) = 0 \\;\\forall t $$\n",
    "$$ \\left(\\frac{\\partial u}{\\partial r}\\right)_{r=0} = 0\\;\\forall t$$\n",
    "\n",
    "and the initial conditions are \n",
    "\n",
    "$$ u(r) = \\tau(r) = 0 \\;\\text{for}\\,t=0$$\n",
    "\n",
    "This is a system of PDE that cannot be solved analytically (at least, not easily).\n",
    "\n",
    "The easiest (for me, at least...) method is to use the [Finite Difference Method](https://en.wikipedia.org/wiki/Finite_difference_method) (FD) Method\n",
    "\n",
    "Translating the previous equations to FD language, with explicit scheme, with central difference in space and forward in time, we get\n",
    "\n",
    "$$\n",
    "\\frac{u_i^{n+1} - u_i^n}{\\Delta t} = 4 + \\frac{\\tau_{i+1}^n - \\tau_{i-1}^n}{2\\Delta r} + \\frac{\\tau_i^n}{r_i} \\tag{6}\n",
    "$$\n",
    "$$\n",
    "\\tau_i^n + \\xi\\frac{\\tau_i^{n+1} - \\tau_i^n}{\\Delta t} = \\frac{u_{i+1}^n-u_{i-1}^n}{2\\Delta r} \\tag{7}\n",
    "$$\n",
    "\n",
    "and, in terms of previous time step,\n",
    "\n",
    "$$\n",
    "u_i^{n+1} = u_i^n + \\Delta t\\left( 4 + \\frac{\\tau_{i+1}^n - \\tau_{i-1}^n}{2\\Delta r} + \\frac{\\tau_i^n}{r_i} \\right) \\tag{8}\n",
    "$$\n",
    "$$\n",
    "\\tau_i^{n+1} = \\tau_i^n + \\frac{\\Delta t}{\\xi}\\left(\\frac{u_{i+1}^n-u_{i-1}^n}{2\\Delta r} - \\tau_i^n  \\right) \\tag{9}\n",
    "$$\n",
    "\n",
    "For Newtonian:\n",
    "\n",
    "$$ \\tau_i^{n+1} = \\frac{u_{i+1}^n - u_{i-1}^n}{2\\Delta r} \\tag{10}$$"
   ]
  },
  {
   "cell_type": "code",
   "execution_count": 1,
   "metadata": {},
   "outputs": [],
   "source": [
    "def uNew(u,tau,tauS,tauN,r):\n",
    "    return (u + deltat*(4+(tauN-tauS)/(2*deltar)+tau/r))\n",
    "\n",
    "def tauNew(tau,uS,uN):\n",
    "    #return (xi/(xi+deltat)*tau+deltat/(2*deltar*(deltat+xi))*(uN-uS))\n",
    "    return (tau + deltat/xi*((uN-uS)/(2*deltar)-tau))\n",
    "    \n",
    "def tauNewNew(uS,uN):\n",
    "    return (1/(2*deltar)*(uN-uS))"
   ]
  },
  {
   "cell_type": "code",
   "execution_count": 2,
   "metadata": {},
   "outputs": [],
   "source": [
    "import numpy as np"
   ]
  },
  {
   "cell_type": "code",
   "execution_count": 3,
   "metadata": {
    "tags": []
   },
   "outputs": [],
   "source": [
    "N = 21\n",
    "deltar = 1/(N-1)\n",
    "sigma = 0.001 # parameter for stability\n",
    "deltat = sigma*deltar\n",
    "T = 1 #dimensionless\n",
    "K = int(T/deltat) + 1"
   ]
  },
  {
   "cell_type": "code",
   "execution_count": 4,
   "metadata": {},
   "outputs": [],
   "source": [
    "uVE = np.zeros((N,K))\n",
    "uNewtonian = uVE.copy()\n",
    "tauVE = uVE.copy()\n",
    "tauNewtonian = uVE.copy()"
   ]
  },
  {
   "cell_type": "code",
   "execution_count": 5,
   "metadata": {},
   "outputs": [],
   "source": [
    "xi = 0.2\n",
    "for k in range(1,K-1):\n",
    "    for i in range(1,N-1):\n",
    "        tauVE[i,k] = tauNew(tauVE[i,k-1],uVE[i-1,k-1],uVE[i+1,k-1])\n",
    "        tauNewtonian[i,k] = tauNewNew(uNewtonian[i-1,k-1],uNewtonian[i+1,k-1])\n",
    "    for i in range(1,N-1):\n",
    "        uVE[i,k] = uNew(uVE[i,k-1],tauVE[i,k-1],tauVE[i-1,k-1],tauVE[i+1,k-1],i*deltar)\n",
    "        uNewtonian[i,k] = uNew(uNewtonian[i,k-1],tauNewtonian[i,k-1],tauNewtonian[i-1,k-1],tauNewtonian[i+1,k-1],i*deltar)\n",
    "    uVE[0,k] = uVE[1,k]\n",
    "    uNewtonian[0,k] = uNewtonian[1,k]\n",
    "    uVE[N-1,k] = 0\n",
    "    uNewtonian[N-1,k] = 0\n",
    "    tauVE[N-1,k] = tauNew(tauVE[N-1,k-1],uVE[N-2,k-1],2*uVE[N-1,k-1]-uVE[N-2,k-1])\n",
    "    tauNewtonian[N-1,k] = tauNewNew(uNewtonian[N-2,k-1],2*uNewtonian[N-1,k-1]-uNewtonian[N-2,k-1])"
   ]
  },
  {
   "cell_type": "code",
   "execution_count": 6,
   "metadata": {},
   "outputs": [
    {
     "data": {
      "image/png": "[encoded data removed]",
      "text/plain": [
       "<Figure size 720x576 with 1 Axes>"
      ]
     },
     "metadata": {
      "needs_background": "light"
     },
     "output_type": "display_data"
    }
   ],
   "source": [
    "import matplotlib.pyplot as plt\n",
    "t = np.arange(0,T,deltat)\n",
    "plt.figure(figsize=(10,8))\n",
    "plt.plot(t,uVE[0,:-1],label=r'Viscoelastic with $\\xi$ = {}'.format(xi))\n",
    "plt.plot(t,uNewtonian[0,:-1],label='Newtonian')\n",
    "plt.xlabel(r'$x$')\n",
    "plt.ylabel(r'$u^*$')\n",
    "plt.legend();"
   ]
  },
  {
   "cell_type": "markdown",
   "metadata": {},
   "source": [
    "## Exercise\n",
    "\n",
    "Change the Maxwell model by the Voigth-Kelvin model and discuss the result"
   ]
  }
 ],
 "metadata": {
  "kernelspec": {
   "display_name": "Python 3 (ipykernel)",
   "language": "python",
   "name": "python3"
  },
  "language_info": {
   "codemirror_mode": {
    "name": "ipython",
    "version": 3
   },
   "file_extension": ".py",
   "mimetype": "text/x-python",
   "name": "python",
   "nbconvert_exporter": "python",
   "pygments_lexer": "ipython3",
   "version": "3.9.12"
  }
 },
 "nbformat": 4,
 "nbformat_minor": 4
}
