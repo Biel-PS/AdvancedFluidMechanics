{
 "cells": [
  {
   "cell_type": "markdown",
   "metadata": {},
   "source": [
    "# Assignment 2: Rheology\n",
    "## **Armengol, Sílvia; Candela, Héctor; Cuesta, Andreu**\n",
    "## Universitat Politècnica de Catalunya"
   ]
  },
  {
   "cell_type": "markdown",
   "metadata": {},
   "source": [
    "---\n",
    "### Assignment A"
   ]
  },
  {
   "cell_type": "markdown",
   "metadata": {},
   "source": [
    "##### As assignment for this topic, I propose to make a similar study: the laminar flow in a pipe, for a Bingham plastic. \n",
    "\n",
    "First of all, we apply the Navier Stokes equation for a laminar and viscous flow, and we make some simplifications. This part will only apply to a specific range of values of the radius, when the flow of the Bingham plastic acts as a liquid."
   ]
  },
  {
   "cell_type": "markdown",
   "metadata": {},
   "source": [
    "\n",
    "\\begin{equation}\n",
    "0 =  -\\frac{\\partial p}{\\partial z} + \\frac{1}{r}\\frac{\\partial}{\\partial r}\\left(r \\tau_{rz}\\right)\n",
    "\\end{equation}\n",
    "\n",
    "\\begin{equation}\n",
    "\\tau_{rz} = \\tau_y + \\mu\\dot{\\gamma}\n",
    "\\end{equation}\n",
    "\n",
    "\\begin{equation}\n",
    "\\tau_{rz} = \\tau_y + \\mu\\frac{\\partial u_z}{\\partial r}\n",
    "\\end{equation}\n",
    "\n",
    "\\begin{equation}\n",
    "0 =  -\\frac{\\partial p}{\\partial z} + \\frac{1}{r}\\frac{\\partial}{\\partial r}\\left(r \\tau_y + r\\mu\\frac{\\partial u_z}{\\partial r}\\right)\n",
    "\\end{equation}\n",
    "\n",
    "\\begin{equation}\n",
    "\\frac{\\partial p}{\\partial z} = - \\frac{\\Delta p}{L}\n",
    "\\end{equation}\n",
    "\n",
    "\\begin{equation}\n",
    "\\dfrac{-r\\dfrac{\\Delta p}{L} - \\tau_y}{\\mu} = \\frac{\\partial}{\\partial r}\\left( r\\frac{\\partial u_z}{\\partial r}\\right)\n",
    "\\end{equation}\n",
    "\n",
    "\\begin{equation}\n",
    "\\frac{\\partial u_z}{\\partial r} = -\\frac{r\\Delta p}{2L\\mu} - \\frac{\\tau_y}{\\mu}\n",
    "\\end{equation}\n",
    "\n",
    "To obtain the limit value of $r$, from which it will be determined if the flow acts like a solid or liquid, we make equal the last equation to 0 and we operate imposing that $L=1$:\n",
    "\n",
    "\\begin{equation}\n",
    "\\frac{r\\Delta p}{2\\mu} = \\frac{\\tau_y}{\\mu}\n",
    "\\end{equation}\n",
    "\n",
    "\\begin{equation}\n",
    "\\frac{r\\Delta p}{2} = \\tau_y\n",
    "\\end{equation}\n",
    "\n",
    "A dimensionless pressure can be defined as: \n",
    "\\begin{equation}\n",
    "p^* = \\frac{\\Delta p}{\\tau_y}\n",
    "\\end{equation}\n",
    "\n",
    "Introducing $p^*$ to the previous equation we obtain:\n",
    "\\begin{equation}\n",
    "\\frac{rp^*\\tau_y}{2} = \\tau_y\n",
    "\\end{equation}\n",
    "\n",
    "\\begin{equation}\n",
    "r = \\frac{2}{p^*}\n",
    "\\end{equation}\n",
    "\n",
    "For $1>r>2/p^*$ the fluid will act as a liquid, so that the velocity will follow the Navier Stokes equation for a laminar and viscous flow.\n",
    "And for $0<r<2/p^*$ the fluid will act as a solid, having a constant velocity."
   ]
  },
  {
   "cell_type": "markdown",
   "metadata": {},
   "source": [
    "The Navier Stokes equation development is the following:"
   ]
  },
  {
   "cell_type": "code",
   "execution_count": 1,
   "metadata": {},
   "outputs": [
    {
     "data": {
      "image/png": "[encoded data removed]",
      "text/latex": [
       "$\\displaystyle \\frac{d}{d r} \\operatorname{u_{z}}{\\left(r \\right)} = - \\frac{\\tau_{y}}{\\mu} + \\frac{r {\\Delta}p}{2 L \\mu}$"
      ],
      "text/plain": [
       "d              τ_y   r⋅{\\Delta}p\n",
       "──(u_z(r)) = - ─── + ───────────\n",
       "dr             \\mu     2⋅L⋅\\mu  "
      ]
     },
     "metadata": {},
     "output_type": "display_data"
    }
   ],
   "source": [
    "from IPython.display import display, Markdown\n",
    "import numpy as np\n",
    "import sympy as sp\n",
    "sp.init_printing()\n",
    "mu, Deltap, L, r, R, tau, p_dimless = sp.symbols('\\mu, {\\Delta}p, L, r, R, tau_y, p^*', positive=True)\n",
    "uz = sp.Function('u_z')\n",
    "Eq = sp.Eq(uz(r).diff(r), (1/(2*mu)*(Deltap/L)*r-tau/mu))\n",
    "display(Eq)"
   ]
  },
  {
   "cell_type": "markdown",
   "metadata": {},
   "source": [
    "This DOE is solved by integrating both sides of the equation. We also introduce the dimensionless pressure and we impose that $L=1$ and $R=1$ to simplify the result."
   ]
  },
  {
   "cell_type": "code",
   "execution_count": 4,
   "metadata": {},
   "outputs": [
    {
     "data": {
      "text/markdown": [
       "$$u_z(r) = \\frac{\\frac{p^{*} \\tau_{y} \\left(r^{2} - 1\\right)}{4} + \\tau_{y} \\left(1 - r\\right)}{\\mu}$$"
      ],
      "text/plain": [
       "<IPython.core.display.Markdown object>"
      ]
     },
     "metadata": {},
     "output_type": "display_data"
    }
   ],
   "source": [
    "exp = -(1/(2*mu)*(Deltap/L)*r-tau/mu)\n",
    "uz = sp.integrate(exp, (r, r, R)).simplify()\n",
    "uz = uz.subs(R, 1)\n",
    "uz = uz.subs(Deltap, p_dimless*tau)\n",
    "uz = uz.subs(L, 1)\n",
    "uz.simplify()\n",
    "display(Markdown(r'$$u_z(r) = '+sp.latex(uz)+'$$'))"
   ]
  },
  {
   "cell_type": "markdown",
   "metadata": {},
   "source": [
    "The next step is to obtain the expression of the flow. In order to obtain the right result, the integration is going to be done by parts. We define the critical value of the radius as the one from which the velocity goes from being constant to follow the previous expression. Therefore, for $0<r<2/p^*$ the fluid acts as a solid and has a constant flow (the product of its velocity and its section). And for $1>r>2/p^*$ the fluid acts as a liquid and the flow is the result of integrating $u_z(r)$."
   ]
  },
  {
   "cell_type": "code",
   "execution_count": 5,
   "metadata": {},
   "outputs": [
    {
     "data": {
      "text/markdown": [
       "$$Q = \\frac{\\pi \\tau_{y} \\left(- 3 \\left(p^{*}\\right)^{4} + 8 \\left(p^{*}\\right)^{3} - 16\\right)}{24 \\mu \\left(p^{*}\\right)^{3}}$$"
      ],
      "text/plain": [
       "<IPython.core.display.Markdown object>"
      ]
     },
     "metadata": {},
     "output_type": "display_data"
    }
   ],
   "source": [
    "r_crit = 2/p_dimless\n",
    "u_crit = uz.subs(r, r_crit)\n",
    "Q = 2*sp.pi*sp.integrate(uz*r, (r, r_crit, 1)).simplify().powsimp()\n",
    "Q = Q + sp.pi*r_crit*r_crit*u_crit\n",
    "Q = Q.simplify()\n",
    "display(Markdown(r'$$Q = '+sp.latex(Q)+'$$'))"
   ]
  },
  {
   "cell_type": "markdown",
   "metadata": {},
   "source": [
    "Another important value, key for the resolution of the problem, is the average velocity, which is the quotient of $Q$ divided by the section ($\\pi·R^2 = \\pi$)."
   ]
  },
  {
   "cell_type": "code",
   "execution_count": 6,
   "metadata": {},
   "outputs": [
    {
     "data": {
      "image/png": "[encoded data removed]",
      "text/latex": [
       "$\\displaystyle \\frac{\\tau_{y} \\left(- 3 \\left(p^{*}\\right)^{4} + 8 \\left(p^{*}\\right)^{3} - 16\\right)}{24 \\mu \\left(p^{*}\\right)^{3}}$"
      ],
      "text/plain": [
       "    ⎛        4         3     ⎞\n",
       "τ_y⋅⎝- 3⋅p__*  + 8⋅p__*  - 16⎠\n",
       "──────────────────────────────\n",
       "                    3         \n",
       "         24⋅\\mu⋅p__*          "
      ]
     },
     "metadata": {},
     "output_type": "display_data"
    }
   ],
   "source": [
    "u_avg = Q/(sp.pi)\n",
    "display(u_avg)"
   ]
  },
  {
   "cell_type": "markdown",
   "metadata": {},
   "source": [
    "Now, it is simple to obtain the dimensionless velocity; just the quotient of $u_z(r)$ divided by the average velocity."
   ]
  },
  {
   "cell_type": "code",
   "execution_count": 7,
   "metadata": {},
   "outputs": [
    {
     "data": {
      "text/markdown": [
       "$$u^* = \\frac{6 \\left(p^{*}\\right)^{3} \\left(- p^{*} \\left(r^{2} - 1\\right) + 4 r - 4\\right)}{3 \\left(p^{*}\\right)^{4} - 8 \\left(p^{*}\\right)^{3} + 16}$$"
      ],
      "text/plain": [
       "<IPython.core.display.Markdown object>"
      ]
     },
     "metadata": {},
     "output_type": "display_data"
    }
   ],
   "source": [
    "u_dimless = uz/u_avg\n",
    "u_dimless = u_dimless.simplify()\n",
    "display(Markdown(r'$$u^* = '+sp.latex(u_dimless)+'$$'))"
   ]
  },
  {
   "cell_type": "markdown",
   "metadata": {},
   "source": [
    "A deeper analysis can be done through its plot, taking into account the different ranges of $r$ and the variation of the relation between the pressure and the yield shear stress ($p^*$)."
   ]
  },
  {
   "cell_type": "code",
   "execution_count": 8,
   "metadata": {},
   "outputs": [],
   "source": [
    "u_np = sp.lambdify((p_dimless, r), u_dimless)"
   ]
  },
  {
   "cell_type": "code",
   "execution_count": 9,
   "metadata": {},
   "outputs": [],
   "source": [
    "from ipywidgets import interactive\n",
    "import matplotlib.pyplot as plt"
   ]
  },
  {
   "cell_type": "code",
   "execution_count": 10,
   "metadata": {},
   "outputs": [
    {
     "data": {
      "application/vnd.jupyter.widget-view+json": {
       "model_id": "3a150024c2924cc2b2ceb28b203065e8",
       "version_major": 2,
       "version_minor": 0
      },
      "text/plain": [
       "interactive(children=(FloatSlider(value=10.0, description='p_dimless', max=20.0, min=0.01, step=0.01), Output(…"
      ]
     },
     "metadata": {},
     "output_type": "display_data"
    }
   ],
   "source": [
    "def f(p_dimless):\n",
    "    plt.figure(1, frameon=False)\n",
    "    num = 500\n",
    "    x = np.linspace(-1, 1, num)\n",
    "    plt.xlim(-1, 1)\n",
    "    plt.ylim(0, 3)\n",
    "    if 2/p_dimless >= 1:\n",
    "        u = np.zeros(num)\n",
    "        plt.plot(x, u, linewidth=4)\n",
    "        plt.plot(x, u_np(10**10, np.abs(x)), '--', label=r'$\\tau_r$')\n",
    "        plt.legend()\n",
    "        plt.show()\n",
    "    else:\n",
    "        r_crit = 2/p_dimless\n",
    "        xn = np.linspace(-1, -r_crit, num)\n",
    "        xp = np.linspace(r_crit, 1, num)\n",
    "        xc = np.linspace(-r_crit, r_crit, num)\n",
    "        us = u_np(p_dimless, r_crit)\n",
    "        u = np.linspace(us, us, num)\n",
    "        plt.plot(xn, u_np(p_dimless, np.abs(xn)), 'c', linewidth=4)\n",
    "        plt.plot(xp, u_np(p_dimless, np.abs(xp)), 'c', linewidth=4)\n",
    "        plt.plot(xc, u, linewidth=4)\n",
    "        plt.plot(x, u_np(10**10, np.abs(x)), '--', label=r'$\\tau_r$')\n",
    "        plt.legend()\n",
    "        plt.show()\n",
    "        \n",
    "interactive_plot = interactive(f, p_dimless=(0.01, 20, 0.01))\n",
    "output = interactive_plot.children[-1]\n",
    "output.layout.height = '350px'\n",
    "interactive_plot"
   ]
  },
  {
   "cell_type": "markdown",
   "metadata": {},
   "source": [
    "In this plot we can see the dimensionless velocity as a function of the radius. We observe that as we expected the fluid has a plug flow in the middle part where the shear stress is lower than the yield stress. On the sides, the fluid has the behavior of a liquid having a gradient of velocity when a shear stress is applied. Moreover, when the dimensionless pressure is lower than 2 the radius where the liquid flow starts is bigger than one, so there is no flow. "
   ]
  },
  {
   "cell_type": "code",
   "execution_count": 10,
   "metadata": {},
   "outputs": [
    {
     "data": {
      "image/png": "[encoded data removed]",
      "text/latex": [
       "$\\displaystyle \\frac{\\pi \\tau_{y} \\left(3 \\left(p^{*}\\right)^{4} - 8 \\left(p^{*}\\right)^{3} + 16\\right)}{24 \\mu \\left(p^{*}\\right)^{3}}$"
      ],
      "text/plain": [
       "      ⎛      4         3     ⎞\n",
       "π⋅τ_y⋅⎝3⋅p__*  - 8⋅p__*  + 16⎠\n",
       "──────────────────────────────\n",
       "                    3         \n",
       "         24⋅\\mu⋅p__*          "
      ]
     },
     "execution_count": 10,
     "metadata": {},
     "output_type": "execute_result"
    }
   ],
   "source": [
    "Q.factor(sp.pi*tau/mu)"
   ]
  },
  {
   "cell_type": "code",
   "execution_count": 12,
   "metadata": {},
   "outputs": [
    {
     "data": {
      "image/png": "[encoded data removed]",
      "text/latex": [
       "$\\displaystyle \\frac{\\pi \\tau_{y} \\left(3 \\left(p^{*}\\right)^{4} - 8 \\left(p^{*}\\right)^{3} + 16\\right)}{24 \\mu \\left(p^{*}\\right)^{3}}$"
      ],
      "text/plain": [
       "      ⎛      4         3     ⎞\n",
       "π⋅τ_y⋅⎝3⋅p__*  - 8⋅p__*  + 16⎠\n",
       "──────────────────────────────\n",
       "                    3         \n",
       "         24⋅\\mu⋅p__*          "
      ]
     },
     "execution_count": 12,
     "metadata": {},
     "output_type": "execute_result"
    }
   ],
   "source": [
    "Q.simplify()"
   ]
  },
  {
   "cell_type": "code",
   "execution_count": null,
   "metadata": {},
   "outputs": [],
   "source": []
  }
 ],
 "metadata": {
  "kernelspec": {
   "display_name": "Python 3 (ipykernel)",
   "language": "python",
   "name": "python3"
  },
  "language_info": {
   "codemirror_mode": {
    "name": "ipython",
    "version": 3
   },
   "file_extension": ".py",
   "mimetype": "text/x-python",
   "name": "python",
   "nbconvert_exporter": "python",
   "pygments_lexer": "ipython3",
   "version": "3.8.12"
  },
  "toc-showtags": false
 },
 "nbformat": 4,
 "nbformat_minor": 4
}
