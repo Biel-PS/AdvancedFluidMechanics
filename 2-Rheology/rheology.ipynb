{
 "cells": [
  {
   "cell_type": "markdown",
   "metadata": {
    "id": "-_e1QsuKorpH"
   },
   "source": [
    "# Rheology. A very brief Introduction"
   ]
  },
  {
   "cell_type": "markdown",
   "metadata": {
    "id": "DFBrDPGGorpQ"
   },
   "source": [
    "## 1. Classification of fluids\n",
    "\n",
    "This notebook is based principally on the [book by Irgens](https://discovery.upc.edu/permalink/34CSUC_UPC/rdgucl/alma991001402139706711) and also on the classical [book by Bird](https://discovery.upc.edu/iii/encore/record/C__Rb1230696?lang=cat). Also chapter chapter 7 in the book of [Engineerign Fluid Mechanics, by H. Yamaguchi](https://discovery.upc.edu/permalink/34CSUC_UPC/19srfpi/cdi_askewsholts_vlebooks_9781402067426) has been used.\n",
    "\n",
    "Very briefly, when we have studied Fluid Mechanics, we have focused on fluids that meet Newton's law for shear stress,\n",
    "\n",
    "$$ \\tau = \\mu \\dot\\gamma $$\n",
    "\n",
    "for 2-D flow, where $\\tau$ is the shear stres, $\\dot\\gamma$ is the shear rate. $\\mu$ is the _dynamic viscosity_, or just _viscosity_, of the fluid.\n",
    "\n",
    "Water, air and other molecularly simple fluids obey this law. But most of the liquids do not. [Rheology](https://en.wikipedia.org/wiki/Rheology) is the branch of science and technology that studies this kind of non-linear behaviour, both in solids and in fluids. We are focusing in this part in the rheology of fluids.\n",
    "\n",
    "A fluid is called _pure viscous_ if the shear rate is only function of shear stress\n",
    "\n",
    "$$ \\tau = f(\\dot\\gamma) $$\n",
    "\n",
    "This function can be linear in the case of **Newtonian fluids** or non-linear in the case of **non Newtonian fluids** (also known as rheological fluids). \n",
    "\n",
    "In general, for pure viscous fluids, an _apparent viscosity_ can be defined as\n",
    "\n",
    "$$ \\mu (\\dot\\gamma) = \\frac{\\tau}{\\dot\\gamma} $$\n",
    "\n",
    "The most common model is the **Generalized Newtonian Fluids**, that is modeled with the [**power law**](https://en.wikipedia.org/wiki/Power-law_fluid), also known as Ostwald-de Waele law, where shear stress is modelled as\n",
    "\n",
    "$$ \\tau = K \\dot\\gamma^n $$\n",
    "\n",
    "so \n",
    "\n",
    "$$ \\mu(\\dot\\gamma) = K (\\dot{\\gamma})^{n-1} $$\n",
    "\n",
    "$K$ is the _consistency parameter_ and $n$ is the power law index\n",
    "\n",
    "* When $n = 1$ the fluid is Newtonian and $K$ is just its viscosity\n",
    "* When $n < 1$ apparent viscosity decreases with shear rate and the fluid is classified as _pseudoplastic_ or [_shear thinning_](https://en.wikipedia.org/wiki/Shear_thinning). Most non-Newtonian fluids are of this type, like paints, [blood](http://www.maths.gla.ac.uk/~xl/Arasu-biofluid.pdf), and most of food liquids (juices, creams, soups,...)\n",
    "* When $n > 1$ apparent viscosity increases with shear rate and the fluid is known as dilatant or [_shear thickening_](https://en.wikipedia.org/wiki/Dilatant#Examples). This is much less common, and the typical example is the cornstarch (maicena) which allow [funny experiments](https://www.youtube.com/watch?v=q-DZ0f0_NCA)\n",
    "\n",
    "![image.png](attachment:6ab6306f-0325-480c-bccb-5a1f6363d809.png)\n",
    "\n",
    "Other type of behavior is the [**viscoplastic fluid**](https://en.wikipedia.org/wiki/Viscoplasticity) that behave as solid for a shear stress lower than a limit value, known as _yield shear stress_, and as a fluid fow larger values of the shear stress.\n",
    "\n",
    "![image.png](attachment:22b81f09-89b5-4bc0-afd4-ba92410ddd1c.png)\n",
    "\n",
    "The most simple model is the [_Bingham fluid_](https://en.wikipedia.org/wiki/Bingham_plastic) ([Bingham](https://en.wikipedia.org/wiki/Eugene_C._Bingham) was the inventor of the name \"Rheology\"). Theses fluids behave like newtonian for shear stress larger than the yield shear stress. This model is tipycally used for toothpaste, mud or slurries. It is mathematically modeled as \n",
    "\n",
    "$$ \\tau(\\dot\\gamma) = \\tau_y + \\mu \\dot\\gamma $$\n",
    "\n",
    "There are also some **Time Dependent** models as [_Thixotropic fluids_](https://en.wikipedia.org/wiki/Thixotropy) when shear stress decreases in time for a constant shear rate, and [_Rheopectic fluids_](https://en.wikipedia.org/wiki/Rheopecty) otherwise. These kimd of fluids are beyond the scope of this course\n",
    "\n",
    "\n"
   ]
  },
  {
   "cell_type": "markdown",
   "metadata": {
    "id": "wEDfvqkforpQ"
   },
   "source": [
    "## 2. Generalized Newtonian Fluids"
   ]
  },
  {
   "cell_type": "markdown",
   "metadata": {
    "id": "e82NNATGorpR"
   },
   "source": [
    "### Power Law Fluid in a pipe\n",
    "\n",
    "Let's consider a very slow flow and/or very small, so that inertial and time terms can be neglected.\n",
    "\n",
    "We have seen in Fluid Mechanics that for a Newtonian Fluid, [Hagen-Poiseuille law](https://en.wikipedia.org/wiki/Hagen%E2%80%93Poiseuille_equation#Derivation) holds, according to the Navier Stokes equation for a laminar, viscous flow\n",
    "\n",
    "\\begin{equation}\n",
    "0 =  -\\frac{\\partial p}{\\partial z} + \\frac{1}{r}\\frac{\\partial}{\\partial r}\\left(r \\tau_{rz}\\right)\n",
    "\\end{equation}\n",
    "\n",
    "giving a paraboloid velocity profile and a flowrate\n",
    "\n",
    "$$ Q = \\frac{\\Delta p \\pi R^4}{8\\mu L} $$\n",
    "\n",
    "provided that, as a Newtonian fluid, $\\tau_{rz} = \\mu \\dot\\gamma = \\mu \\frac{\\partial u_z}{\\partial r} $.\n",
    "\n",
    "Now, with a Power Law Fluid, $\\tau_{rz} = K(\\dot\\gamma)^n$, it leads to \n",
    "\n",
    "$$ \\frac{\\text{d} u_z}{\\text{d}r} = \\left[ \\frac{1}{2K}\\left(\\frac{\\text{d}p}{\\text{d}z}\\right)r\\right]^\\frac{1}{n} = \\left[ \\frac{1}{2K}\\left(-\\frac{\\Delta p}{L}\\right)r\\right]^\\frac{1}{n}$$"
   ]
  },
  {
   "cell_type": "code",
   "execution_count": null,
   "metadata": {
    "id": "LZZ5geKgorpR"
   },
   "outputs": [],
   "source": [
    "from IPython.display import display, Markdown\n",
    "import numpy as np\n",
    "import sympy as sp\n",
    "sp.init_printing()"
   ]
  },
  {
   "cell_type": "code",
   "execution_count": null,
   "metadata": {
    "id": "R_no7H9SorpR"
   },
   "outputs": [],
   "source": [
    "K,Deltap,L,r,n,R = sp.symbols('K {\\Delta}p L r n R',positive=True)\n",
    "uz = sp.Function('uz')"
   ]
  },
  {
   "cell_type": "code",
   "execution_count": null,
   "metadata": {
    "id": "8wT6JZ-HorpR",
    "outputId": "241119e6-01bb-44b1-fd61-cff8f6ea4db3"
   },
   "outputs": [
    {
     "data": {
      "image/png": "[encoded data removed]",
      "text/latex": [
       "$\\displaystyle \\frac{d}{d r} \\operatorname{uz}{\\left(r \\right)} = \\left(- \\frac{r {\\Delta}p}{2 K L}\\right)^{\\frac{1}{n}}$"
      ],
      "text/plain": [
       "                _______________\n",
       "d              ╱ -r⋅{\\Delta}p  \n",
       "──(uz(r)) = n ╱  ───────────── \n",
       "dr          ╲╱       2⋅K⋅L     "
      ]
     },
     "metadata": {},
     "output_type": "display_data"
    }
   ],
   "source": [
    "Eq = sp.Eq(uz(r).diff(r),(1/(2*K)*(-Deltap/L)*r)**(1/n))\n",
    "display(Eq)"
   ]
  },
  {
   "cell_type": "markdown",
   "metadata": {
    "id": "u8sUzbmaorpR"
   },
   "source": [
    "First, we integrate it and try to simplify it a little bit ..."
   ]
  },
  {
   "cell_type": "code",
   "execution_count": null,
   "metadata": {
    "id": "FtF9EUn-orpR"
   },
   "outputs": [],
   "source": [
    "exp = (1/(2*K)*(-Deltap/L)*r)**(1/n)"
   ]
  },
  {
   "cell_type": "code",
   "execution_count": null,
   "metadata": {
    "id": "2tdc7bEborpS"
   },
   "outputs": [],
   "source": [
    "uz = sp.integrate(exp,(r,r,R)).simplify()"
   ]
  },
  {
   "cell_type": "code",
   "execution_count": null,
   "metadata": {
    "id": "TvJMVU5HorpS",
    "outputId": "c4835a93-441a-4f76-94bc-8c45bfddd349"
   },
   "outputs": [
    {
     "data": {
      "image/png": "[encoded data removed]",
      "text/latex": [
       "$\\displaystyle - \\frac{2 K L n \\left(\\frac{1}{2 K L}\\right)^{\\frac{n + 1}{n}} \\left(\\left(- R {\\Delta}p\\right)^{\\frac{n + 1}{n}} - \\left(- r {\\Delta}p\\right)^{\\frac{n + 1}{n}}\\right)}{{\\Delta}p \\left(n + 1\\right)}$"
      ],
      "text/plain": [
       "                n + 1                                             \n",
       "                ───── ⎛              n + 1                 n + 1⎞ \n",
       "                  n   ⎜              ─────                 ─────⎟ \n",
       "         ⎛  1  ⎞      ⎜                n                     n  ⎟ \n",
       "-2⋅K⋅L⋅n⋅⎜─────⎟     ⋅⎝(-R⋅{\\Delta}p)      - (-r⋅{\\Delta}p)     ⎠ \n",
       "         ⎝2⋅K⋅L⎠                                                  \n",
       "──────────────────────────────────────────────────────────────────\n",
       "                        {\\Delta}p⋅(n + 1)                         "
      ]
     },
     "execution_count": 6,
     "metadata": {},
     "output_type": "execute_result"
    }
   ],
   "source": [
    "uz.simplify()"
   ]
  },
  {
   "cell_type": "code",
   "execution_count": null,
   "metadata": {
    "id": "GdfvsvKhorpS",
    "outputId": "f0749b9b-2b13-40f8-ea16-82a856ecee21"
   },
   "outputs": [
    {
     "data": {
      "image/png": "[encoded data removed]",
      "text/latex": [
       "$\\displaystyle \\frac{\\left(-1\\right)^{\\frac{n + 1}{n}} n {\\Delta}p^{-1 + \\frac{n + 1}{n}} \\left(2 K L\\right)^{1 - \\frac{n + 1}{n}} \\left(- R^{1 + \\frac{1}{n}} + r^{1 + \\frac{1}{n}}\\right)}{n + 1}$"
      ],
      "text/plain": [
       "    n + 1                 n + 1            n + 1 ⎛       1        1⎞\n",
       "    ─────            -1 + ─────        1 - ───── ⎜   1 + ─    1 + ─⎟\n",
       "      n                     n                n   ⎜       n        n⎟\n",
       "(-1)     ⋅n⋅{\\Delta}p          ⋅(2⋅K⋅L)         ⋅⎝- R      + r     ⎠\n",
       "────────────────────────────────────────────────────────────────────\n",
       "                               n + 1                                "
      ]
     },
     "metadata": {},
     "output_type": "display_data"
    }
   ],
   "source": [
    "uz = uz.factor(deep=True).powsimp()\n",
    "display(uz)"
   ]
  },
  {
   "cell_type": "markdown",
   "metadata": {
    "id": "wDwBxKmuorpS"
   },
   "source": [
    "... just to integrate it again and obtain the flow rate in the pipe."
   ]
  },
  {
   "cell_type": "code",
   "execution_count": null,
   "metadata": {
    "id": "whPSBOoAorpS",
    "outputId": "c7040723-4536-4350-86ae-c19c7d1035eb"
   },
   "outputs": [
    {
     "data": {
      "image/png": "[encoded data removed]",
      "text/latex": [
       "$\\displaystyle \\frac{2 \\pi R^{3 + \\frac{1}{n}} n \\left(- \\frac{{\\Delta}p}{2 K L}\\right)^{\\frac{1}{n}}}{6 n + 2}$"
      ],
      "text/plain": [
       "         1                    \n",
       "     3 + ─       _____________\n",
       "         n      ╱ -{\\Delta}p  \n",
       "2⋅π⋅R     ⋅n⋅n ╱  ─────────── \n",
       "             ╲╱      2⋅K⋅L    \n",
       "──────────────────────────────\n",
       "           6⋅n + 2            "
      ]
     },
     "metadata": {},
     "output_type": "display_data"
    }
   ],
   "source": [
    "Q = 2*sp.pi*sp.integrate(uz*r,(r,0,R)).simplify().powsimp()\n",
    "display(Q)"
   ]
  },
  {
   "cell_type": "code",
   "execution_count": null,
   "metadata": {
    "id": "DpJMNQxWorpS",
    "outputId": "f63c9027-af73-4d09-a5f3-0500924e1718"
   },
   "outputs": [
    {
     "data": {
      "image/png": "[encoded data removed]",
      "text/latex": [
       "$\\displaystyle \\frac{\\pi R^{\\frac{3 n + 1}{n}} n \\left(- \\frac{{\\Delta}p}{2 K L}\\right)^{\\frac{1}{n}}}{3 n + 1}$"
      ],
      "text/plain": [
       "   3⋅n + 1                    \n",
       "   ───────       _____________\n",
       "      n         ╱ -{\\Delta}p  \n",
       "π⋅R       ⋅n⋅n ╱  ─────────── \n",
       "             ╲╱      2⋅K⋅L    \n",
       "──────────────────────────────\n",
       "           3⋅n + 1            "
      ]
     },
     "metadata": {},
     "output_type": "display_data"
    }
   ],
   "source": [
    "Q = Q.simplify()\n",
    "display(Q)"
   ]
  },
  {
   "cell_type": "markdown",
   "metadata": {
    "id": "X8-Vr8bborpS"
   },
   "source": [
    "and, from here, the average velocity, so that we can normalize velocity profile"
   ]
  },
  {
   "cell_type": "code",
   "execution_count": null,
   "metadata": {
    "id": "5M1p1OHHorpS",
    "outputId": "689565d9-c8eb-48b0-f0d7-9a6fffc023da"
   },
   "outputs": [
    {
     "data": {
      "image/png": "[encoded data removed]",
      "text/latex": [
       "$\\displaystyle \\frac{R^{\\frac{3 n + 1}{n}} n \\left(- \\frac{{\\Delta}p}{2 K L}\\right)^{\\frac{1}{n}}}{R^{2} \\left(3 n + 1\\right)}$"
      ],
      "text/plain": [
       " 3⋅n + 1                    \n",
       " ───────       _____________\n",
       "    n         ╱ -{\\Delta}p  \n",
       "R       ⋅n⋅n ╱  ─────────── \n",
       "           ╲╱      2⋅K⋅L    \n",
       "────────────────────────────\n",
       "         2                  \n",
       "        R ⋅(3⋅n + 1)        "
      ]
     },
     "metadata": {},
     "output_type": "display_data"
    }
   ],
   "source": [
    "u_avg = Q/(sp.pi*R**2)\n",
    "display(u_avg)"
   ]
  },
  {
   "cell_type": "code",
   "execution_count": null,
   "metadata": {
    "id": "XCWXhh0lorpT",
    "outputId": "7be0e361-582c-48b5-a488-7a4e4c1fa9e2"
   },
   "outputs": [
    {
     "data": {
      "image/png": "[encoded data removed]",
      "text/latex": [
       "$\\displaystyle \\frac{R^{- \\frac{n + 1}{n}} \\left(R^{\\frac{n + 1}{n}} - r^{\\frac{n + 1}{n}}\\right) \\left(3 n + 1\\right)}{n + 1}$"
      ],
      "text/plain": [
       " -(n + 1)  ⎛ n + 1    n + 1⎞          \n",
       " ───────── ⎜ ─────    ─────⎟          \n",
       "     n     ⎜   n        n  ⎟          \n",
       "R         ⋅⎝R      - r     ⎠⋅(3⋅n + 1)\n",
       "──────────────────────────────────────\n",
       "                n + 1                 "
      ]
     },
     "metadata": {},
     "output_type": "display_data"
    }
   ],
   "source": [
    "u_dimless = uz/u_avg\n",
    "u_dimless = u_dimless.simplify()\n",
    "display(u_dimless)"
   ]
  },
  {
   "cell_type": "markdown",
   "metadata": {
    "id": "Ge2VDmd9orpT"
   },
   "source": [
    "In order to get it in dimensionless form, we just impose $R=1$ so that now $r$ is the dimensionless radius $0<r/R<1$"
   ]
  },
  {
   "cell_type": "code",
   "execution_count": null,
   "metadata": {
    "id": "6Ng686kDorpT",
    "outputId": "028e8ee8-d3f1-448e-e842-5360f2608ee5"
   },
   "outputs": [
    {
     "data": {
      "image/png": "[encoded data removed]",
      "text/latex": [
       "$\\displaystyle \\frac{\\left(1 - r^{\\frac{n + 1}{n}}\\right) \\left(3 n + 1\\right)}{n + 1}$"
      ],
      "text/plain": [
       "⎛     n + 1⎞          \n",
       "⎜     ─────⎟          \n",
       "⎜       n  ⎟          \n",
       "⎝1 - r     ⎠⋅(3⋅n + 1)\n",
       "──────────────────────\n",
       "        n + 1         "
      ]
     },
     "metadata": {},
     "output_type": "display_data"
    }
   ],
   "source": [
    "u_dimless = u_dimless.subs(R,1)\n",
    "display(u_dimless)"
   ]
  },
  {
   "cell_type": "markdown",
   "metadata": {
    "id": "__cwfacgorpT"
   },
   "source": [
    "#### Plot of the velocity profile\n",
    "\n",
    "We are now plotting this dimensionless profile in order to see the effect of the parameter $n$.\n",
    "\n",
    "First we _lambdify_ the expression (that is, remember, to convert it to a numerical function of two variables in this case)"
   ]
  },
  {
   "cell_type": "code",
   "execution_count": null,
   "metadata": {
    "id": "RYucL0MhorpT"
   },
   "outputs": [],
   "source": [
    "u_np = sp.lambdify((n,r),u_dimless)"
   ]
  },
  {
   "cell_type": "code",
   "execution_count": null,
   "metadata": {
    "id": "fsjIZiAyorpT",
    "outputId": "625682ca-420e-4efa-b15b-07ec87628dd0"
   },
   "outputs": [
    {
     "data": {
      "image/png": "[encoded data removed]",
      "text/latex": [
       "$\\displaystyle 1.875$"
      ],
      "text/plain": [
       "1.875"
      ]
     },
     "execution_count": 14,
     "metadata": {},
     "output_type": "execute_result"
    }
   ],
   "source": [
    "u_np(1,0.25) # Just to check it"
   ]
  },
  {
   "cell_type": "markdown",
   "metadata": {
    "id": "BFMI5xtNorpT"
   },
   "source": [
    "Now the [ipywidgets](https://ipywidgets.readthedocs.io/en/latest/) module is used. It is very useful to make interactive widgets. It only works in a dynamic environment, with a kernel; so you have to download the notebook and run it in Jupyterlab or Google Colaborative."
   ]
  },
  {
   "cell_type": "code",
   "execution_count": null,
   "metadata": {
    "id": "MT7v5GKiorpU"
   },
   "outputs": [],
   "source": [
    "from ipywidgets import interactive\n",
    "import matplotlib.pyplot as plt"
   ]
  },
  {
   "cell_type": "code",
   "execution_count": null,
   "metadata": {
    "colab": {
     "referenced_widgets": [
      "3101097fa68e4396882d28af99f08456"
     ]
    },
    "id": "N55x8goMorpU",
    "outputId": "469e62d0-d3f3-43e6-92ef-874e38c88225"
   },
   "outputs": [
    {
     "data": {
      "application/vnd.jupyter.widget-view+json": {
       "model_id": "3101097fa68e4396882d28af99f08456",
       "version_major": 2,
       "version_minor": 0
      },
      "text/plain": [
       "interactive(children=(FloatSlider(value=1.0, description='n', max=2.0, min=0.01, step=0.01), Output(layout=Lay…"
      ]
     },
     "metadata": {},
     "output_type": "display_data"
    }
   ],
   "source": [
    "def f(n):\n",
    "    plt.figure(1,frameon=False)\n",
    "    x = np.linspace(-1, 1, num=500)\n",
    "    plt.xlim(-1, 1)\n",
    "    plt.ylim(0,3)\n",
    "    plt.plot(x,u_np(n,np.abs(x)),linewidth=4)\n",
    "    plt.plot(x,u_np(1,np.abs(x)),'--',label=r'$n=1$')\n",
    "    plt.legend()\n",
    "    plt.show()\n",
    "\n",
    "interactive_plot = interactive(f, n=(0.01, 2,0.01))\n",
    "output = interactive_plot.children[-1]\n",
    "output.layout.height = '350px'\n",
    "interactive_plot"
   ]
  },
  {
   "cell_type": "markdown",
   "metadata": {
    "id": "QxoxnCLPorpU"
   },
   "source": [
    "***\n",
    "#### Exercise\n",
    "Check that dimensionless flowrate is independent of $n$. What is its value?\n",
    "***"
   ]
  },
  {
   "cell_type": "markdown",
   "metadata": {
    "id": "tsc68ukOorpU"
   },
   "source": [
    "***\n",
    "#### Exercise\n",
    "\n",
    "Reynolds number for power law fluids is defined differently than for a Newtonian fluid. Provided that the dimensionless stress $\\tau^*$ should be written in terms of a dimensionless strain rate $\\gamma^*$ as \n",
    "\n",
    "$$ \\tau^* = \\frac{1}{\\text{Re}_n}\\left(\\gamma^*\\right)^n $$\n",
    "\n",
    "Find the definition of $\\text{Re}_n$\n",
    "\n",
    "This number defines the similarity when experiments with two different power law fluids are performed.\n",
    "***"
   ]
  },
  {
   "cell_type": "markdown",
   "metadata": {
    "id": "DGgHjrgNorpU"
   },
   "source": [
    "---\n",
    "### Assignment A"
   ]
  },
  {
   "cell_type": "markdown",
   "metadata": {
    "id": "FYH2tTy_orpU"
   },
   "source": [
    "As assignment for this topic, I propose to make a similar study: the laminar flow in a pipe, for a Bingham plastic \n",
    "\n",
    "---"
   ]
  },
  {
   "cell_type": "markdown",
   "metadata": {
    "id": "7YXX0kH0orpU"
   },
   "source": [
    "---\n",
    "\n",
    "### Assignment B\n",
    "\n",
    "It is a sample of rheological behaviour of some cosmetic creams, taken from [here](https://www.rheologylab.com/articles/emulsion-stability/)\n",
    "\n",
    "![image.png](attachment:f2a0f8eb-15c7-492f-ac13-3918a753c21c.png)\n",
    "\n",
    "What conclusions would you get from that about the behaviour of day creams in front of body creams? \n",
    "\n",
    "Let's consider the case of the body lotion C. Fit the Power Law model, get coefficients and plot it. You will see that it is not good. You will see that it does not agree with very low (_zero-shear rate viscosity_) or high (_infinity-shear rate viscosity_) shear stress. There are some other models that deals with this behaviour. The molt usual is the [Carreau model](https://en.wikipedia.org/wiki/Carreau_fluid). Apply this law to obtain a more accurate model of this fluid and discuss it.\n",
    "\n",
    "---"
   ]
  },
  {
   "cell_type": "markdown",
   "metadata": {
    "id": "8dfNJ9dMorpU"
   },
   "source": [
    "## 3. Viscoelastic fluids"
   ]
  },
  {
   "cell_type": "markdown",
   "metadata": {
    "id": "96GQYdYYorpV"
   },
   "source": [
    "This is a complicated topic. Several constitutive equations have been proposed according to experimental results. Viscoelastic materials have both viscous and elastic behavior. Some examples are rubbers, melted glass and also some complex biofluids, as cytoplasm. \n",
    "\n",
    "Most of the cases in engineering can only be solved with CFD, due to the high non-linearity between constitutive equations, continuity and momentum balance. Here we are only focusing in simple cases with linear viscoelastic flows.\n",
    "\n",
    "In general, constitutive equations for linear viscoelastic material are linear relationship between shear stress, shear rate and its time derivative.\n",
    "\n",
    "$$ f(\\tau, \\frac{\\text{d}^n \\tau}{\\text{d}t^n},\\gamma, \\frac{\\text{d}^n \\gamma}{\\text{d}t^n}) = \\sum_{n=0}^{N} \\left( a_n \\frac{\\text{d}^n \\tau}{\\text{d}t^n} + b_n \\frac{\\text{d}^n \\gamma}{\\text{d}t^n}\\right)= 0$$\n"
   ]
  },
  {
   "cell_type": "markdown",
   "metadata": {
    "id": "iKaDmEuXorpV"
   },
   "source": [
    "### Maxwell element"
   ]
  },
  {
   "cell_type": "markdown",
   "metadata": {
    "id": "HEiG2AayorpV"
   },
   "source": [
    "The most fundamental model is the so-called **Maxwell element**, composed of a combination in series of a viscous element, with viscosity $\\eta$ and a spring, with constant $G$. \n",
    "\n",
    "\n",
    "<img src=\"attachment:68ae15dc-2000-41d4-a647-1eaef6eb49b5.png\" width=\"800\">\n",
    "\n",
    "In this case, both stresses are the same, $\\tau_1= \\tau_2$and the displacements$\\gamma$ are additive, $\\gamma = \\gamma_1 +\\gamma_2$. By deriving this last expression an arranging terms, we get\n",
    "\n",
    "$$ \\tau + \\lambda \\dot\\tau = \\eta \\dot\\gamma $$\n",
    "\n",
    "where $\\lambda = \\frac{\\eta}{G}$ is the _relaxation time_."
   ]
  },
  {
   "cell_type": "code",
   "execution_count": 22,
   "metadata": {
    "id": "YtSfebLOorpV"
   },
   "outputs": [],
   "source": [
    "%reset -f"
   ]
  },
  {
   "cell_type": "code",
   "execution_count": 1,
   "metadata": {
    "executionInfo": {
     "elapsed": 769,
     "status": "ok",
     "timestamp": 1651577390626,
     "user": {
      "displayName": "Robert Castilla",
      "userId": "12140625953340748586"
     },
     "user_tz": -120
    },
    "id": "i9CsiWJcorpV",
    "tags": []
   },
   "outputs": [],
   "source": [
    "import sympy as sp\n",
    "import numpy as np"
   ]
  },
  {
   "cell_type": "code",
   "execution_count": 3,
   "metadata": {
    "executionInfo": {
     "elapsed": 6,
     "status": "ok",
     "timestamp": 1651577391496,
     "user": {
      "displayName": "Robert Castilla",
      "userId": "12140625953340748586"
     },
     "user_tz": -120
    },
    "id": "Og6ypg0rorpV",
    "tags": []
   },
   "outputs": [],
   "source": [
    "t = sp.symbols('t')\n",
    "eta,G = sp.symbols('eta,G',positive=True,real=True)"
   ]
  },
  {
   "cell_type": "code",
   "execution_count": 4,
   "metadata": {
    "executionInfo": {
     "elapsed": 2,
     "status": "ok",
     "timestamp": 1651577391881,
     "user": {
      "displayName": "Robert Castilla",
      "userId": "12140625953340748586"
     },
     "user_tz": -120
    },
    "id": "5ReecJV3orpV",
    "tags": []
   },
   "outputs": [],
   "source": [
    "gamma = sp.Function('gamma')\n",
    "tau = sp.Function('tau')\n",
    "gammaDot = sp.Function('gammaDot')"
   ]
  },
  {
   "cell_type": "code",
   "execution_count": 5,
   "metadata": {
    "colab": {
     "base_uri": "https://localhost:8080/",
     "height": 56
    },
    "executionInfo": {
     "elapsed": 380,
     "status": "ok",
     "timestamp": 1651577394242,
     "user": {
      "displayName": "Robert Castilla",
      "userId": "12140625953340748586"
     },
     "user_tz": -120
    },
    "id": "RkLthz9rorpV",
    "outputId": "ef04381e-2a9f-4977-941c-0965ffd1968b",
    "tags": []
   },
   "outputs": [
    {
     "data": {
      "text/latex": [
       "$\\displaystyle \\tau{\\left(t \\right)} + \\frac{\\eta \\frac{d}{d t} \\tau{\\left(t \\right)}}{G} = \\eta \\frac{d}{d t} \\gamma{\\left(t \\right)}$"
      ],
      "text/plain": [
       "Eq(tau(t) + eta*Derivative(tau(t), t)/G, eta*Derivative(gamma(t), t))"
      ]
     },
     "metadata": {},
     "output_type": "display_data"
    }
   ],
   "source": [
    "eq = sp.Eq(tau(t)+eta/G*tau(t).diff(t),eta*gamma(t).diff(t))\n",
    "display(eq)"
   ]
  },
  {
   "cell_type": "code",
   "execution_count": 7,
   "metadata": {
    "executionInfo": {
     "elapsed": 3092,
     "status": "ok",
     "timestamp": 1651577437987,
     "user": {
      "displayName": "Robert Castilla",
      "userId": "12140625953340748586"
     },
     "user_tz": -120
    },
    "id": "uPU_A0j1orpW",
    "tags": []
   },
   "outputs": [],
   "source": [
    "#tauInf = sp.symbols('\\\\tau_{-\\infty}')\n",
    "#tauSol = sp.dsolve(eq,tau(t),ics={tau(-sp.oo):tauInf})\n",
    "tauSol = sp.dsolve(eq,tau(t))"
   ]
  },
  {
   "cell_type": "markdown",
   "metadata": {},
   "source": [
    ":::{warning}\n",
    "The following commands have been tested with `sympy 1.7.1`. Newer versions are not working properly\n",
    ":::"
   ]
  },
  {
   "cell_type": "code",
   "execution_count": 9,
   "metadata": {
    "colab": {
     "base_uri": "https://localhost:8080/",
     "height": 58
    },
    "executionInfo": {
     "elapsed": 457,
     "status": "ok",
     "timestamp": 1651577439769,
     "user": {
      "displayName": "Robert Castilla",
      "userId": "12140625953340748586"
     },
     "user_tz": -120
    },
    "id": "9x5mQUfuorpW",
    "outputId": "dd83bbdb-0917-4068-9b36-aad192cb8708",
    "tags": []
   },
   "outputs": [
    {
     "data": {
      "text/latex": [
       "$\\displaystyle \\tau{\\left(t \\right)} = \\left(C_{1} + G \\int e^{\\frac{G t}{\\eta}} \\frac{d}{d t} \\gamma{\\left(t \\right)}\\, dt\\right) e^{- \\frac{G t}{\\eta}}$"
      ],
      "text/plain": [
       "Eq(tau(t), (C1 + G*Integral(exp(G*t/eta)*Derivative(gamma(t), t), t))*exp(-G*t/eta))"
      ]
     },
     "execution_count": 9,
     "metadata": {},
     "output_type": "execute_result"
    }
   ],
   "source": [
    "tauSol"
   ]
  },
  {
   "cell_type": "markdown",
   "metadata": {
    "id": "CLZERumVorpW"
   },
   "source": [
    "Let's consider a first example in which $\\gamma(t)$ is a [step function](https://en.wikipedia.org/wiki/Step_function) with $\\gamma = 1$ for $t<0$ and then it is imposed as $\\gamma = 0$ again for positive time."
   ]
  },
  {
   "cell_type": "code",
   "execution_count": 11,
   "metadata": {
    "id": "mbHYvo0-orpW",
    "outputId": "b78ba4e1-199a-40e6-f288-f82132093ef6"
   },
   "outputs": [
    {
     "data": {
      "text/latex": [
       "$\\displaystyle \\tau{\\left(t \\right)} = C_{1} e^{- \\frac{G t}{\\eta}}$"
      ],
      "text/plain": [
       "Eq(tau(t), C1*exp(-G*t/eta))"
      ]
     },
     "metadata": {},
     "output_type": "display_data"
    }
   ],
   "source": [
    "tauStep = tauSol.replace(gamma(t),sp.Piecewise((1,t<0),(0,t>=0))).doit()\n",
    "display(tauStep)"
   ]
  },
  {
   "cell_type": "markdown",
   "metadata": {
    "id": "pq72IBRtorpW"
   },
   "source": [
    "That is, stress is relaxed in time according to the value of viscosity and spring constant. Note that, in general, the value of the stress is not only function of $\\gamma$ and its derivative but also, _of its history_.\n",
    "\n",
    "$G e^{-\\frac{t}{\\lambda}}$ is the _relaxation modulus_. \n",
    "\n",
    "We could also write the expression for $\\tau(t)$ in terms of $\\gamma$ instead of $\\dot\\gamma$ by integrating by parts, and then we could obtain\n",
    "\n",
    "$\\tau(t) = - \\int \\frac{\\eta}{\\lambda^2}e^{-\\frac{t}{\\lambda}} \\gamma(t) dt$\n",
    "\n",
    "and the function $M(t) = \\frac{\\eta}{\\lambda^2}e^{-\\frac{t}{\\lambda}}$ is called the _memory function_\n"
   ]
  },
  {
   "cell_type": "markdown",
   "metadata": {
    "id": "DkyMd05morpW"
   },
   "source": [
    "Let's now consider that we impose to shear an harmonic constraint \n",
    "\n",
    "$$ \\gamma(t) = a\\sin(\\omega t) $$\n",
    "\n",
    "and we can measure stress."
   ]
  },
  {
   "cell_type": "code",
   "execution_count": 12,
   "metadata": {
    "id": "Wp94N9uTorpW",
    "outputId": "e8962749-f683-4b54-ae1c-9e2caf31aec2"
   },
   "outputs": [
    {
     "data": {
      "text/latex": [
       "$\\displaystyle \\tau{\\left(t \\right)} = C_{1} e^{- \\frac{G t}{\\eta}} + \\frac{G^{2} a \\eta \\omega \\cos{\\left(\\omega t \\right)}}{G^{2} + \\eta^{2} \\omega^{2}} + \\frac{G a \\eta^{2} \\omega^{2} \\sin{\\left(\\omega t \\right)}}{G^{2} + \\eta^{2} \\omega^{2}}$"
      ],
      "text/plain": [
       "Eq(tau(t), C1*exp(-G*t/eta) + G**2*a*eta*omega*cos(omega*t)/(G**2 + eta**2*omega**2) + G*a*eta**2*omega**2*sin(omega*t)/(G**2 + eta**2*omega**2))"
      ]
     },
     "metadata": {},
     "output_type": "display_data"
    }
   ],
   "source": [
    "omega,a = sp.symbols('omega,a',positive=True,real=True)\n",
    "tauSin = tauSol.replace(gamma(t),a*sp.sin(omega*t)).doit()\n",
    "tauSin = tauSin.expand()\n",
    "display(tauSin)"
   ]
  },
  {
   "cell_type": "markdown",
   "metadata": {
    "id": "rh_5jwuSorpX"
   },
   "source": [
    "After a while, when relaxation time has passed, the first term, $C_1 e^{-\\frac{Gt}{\\eta}}$, can be neglected"
   ]
  },
  {
   "cell_type": "code",
   "execution_count": 13,
   "metadata": {
    "id": "FiVztJgDorpX",
    "outputId": "56747481-f1a8-4566-f021-b2e32718d69e"
   },
   "outputs": [
    {
     "data": {
      "text/latex": [
       "$\\displaystyle \\tau{\\left(t \\right)} = \\frac{G^{2} a \\eta \\omega \\cos{\\left(\\omega t \\right)}}{G^{2} + \\eta^{2} \\omega^{2}} + \\frac{G a \\eta^{2} \\omega^{2} \\sin{\\left(\\omega t \\right)}}{G^{2} + \\eta^{2} \\omega^{2}}$"
      ],
      "text/plain": [
       "Eq(tau(t), G**2*a*eta*omega*cos(omega*t)/(G**2 + eta**2*omega**2) + G*a*eta**2*omega**2*sin(omega*t)/(G**2 + eta**2*omega**2))"
      ]
     },
     "metadata": {},
     "output_type": "display_data"
    }
   ],
   "source": [
    "tauSinInf=tauSin.replace(tauSin.rhs.args[0],0)\n",
    "display(tauSinInf)"
   ]
  },
  {
   "cell_type": "markdown",
   "metadata": {
    "id": "2XE3j6GuorpX"
   },
   "source": [
    "The modulus that multiplies the sinus term is known as $G'$, the **storage modulus**, and measures the ability of the fluid to store elastic energy."
   ]
  },
  {
   "cell_type": "code",
   "execution_count": 14,
   "metadata": {
    "id": "RW5lUR4JorpX"
   },
   "outputs": [],
   "source": [
    "GPrime1,GPrime2 = sp.symbols('G\\',G\\'\\'',positive=True,real=True)"
   ]
  },
  {
   "cell_type": "code",
   "execution_count": 19,
   "metadata": {
    "id": "vS_5iJuporpX",
    "outputId": "addb35a3-2697-4f9d-9dc6-c7b404a7957a"
   },
   "outputs": [
    {
     "data": {
      "text/latex": [
       "$\\displaystyle \\frac{G \\eta^{2} \\omega^{2}}{G^{2} + \\eta^{2} \\omega^{2}}$"
      ],
      "text/plain": [
       "G*eta**2*omega**2/(G**2 + eta**2*omega**2)"
      ]
     },
     "metadata": {},
     "output_type": "display_data"
    }
   ],
   "source": [
    "GPrime1 = tauSinInf.rhs.args[0]/(a*sp.sin(omega*t))\n",
    "display(GPrime1)"
   ]
  },
  {
   "cell_type": "markdown",
   "metadata": {
    "id": "2unvjVtForpX"
   },
   "source": [
    "The modulus that multiplies the cosinus term is known as $G''$, the **loss modulus**, and measures the ability of the fluid to lose energy through viscous dissipation."
   ]
  },
  {
   "cell_type": "code",
   "execution_count": 20,
   "metadata": {
    "id": "iIr7DGr2orpX"
   },
   "outputs": [
    {
     "data": {
      "text/latex": [
       "$\\displaystyle \\frac{G^{2} \\eta \\omega}{G^{2} + \\eta^{2} \\omega^{2}}$"
      ],
      "text/plain": [
       "G**2*eta*omega/(G**2 + eta**2*omega**2)"
      ]
     },
     "metadata": {},
     "output_type": "display_data"
    }
   ],
   "source": [
    "GPrime2 = tauSinInf.rhs.args[1]/(a*sp.cos(omega*t))\n",
    "display(GPrime2)"
   ]
  },
  {
   "cell_type": "markdown",
   "metadata": {
    "id": "d0FYxSVBorpY"
   },
   "source": [
    "We can write this moduli in terms of characteristic time (let me use here $t_c$ since $\\lambda$ confuses python with the `lambda` function)"
   ]
  },
  {
   "cell_type": "code",
   "execution_count": 21,
   "metadata": {
    "id": "XXOxxIjeorpY"
   },
   "outputs": [
    {
     "data": {
      "text/latex": [
       "$\\displaystyle \\frac{G \\omega^{2} t_{c}^{2}}{\\omega^{2} t_{c}^{2} + 1}$"
      ],
      "text/plain": [
       "G*omega**2*t_c**2/(omega**2*t_c**2 + 1)"
      ]
     },
     "metadata": {},
     "output_type": "display_data"
    },
    {
     "data": {
      "text/latex": [
       "$\\displaystyle \\frac{G \\omega t_{c}}{\\omega^{2} t_{c}^{2} + 1}$"
      ],
      "text/plain": [
       "G*omega*t_c/(omega**2*t_c**2 + 1)"
      ]
     },
     "metadata": {},
     "output_type": "display_data"
    }
   ],
   "source": [
    "tc = sp.symbols('t_c',positive=True,real=True)\n",
    "GPrime1 = GPrime1.subs(eta,tc*G).simplify()\n",
    "GPrime2 = GPrime2.subs(eta,tc*G).simplify()\n",
    "display(GPrime1)\n",
    "display(GPrime2)"
   ]
  },
  {
   "cell_type": "markdown",
   "metadata": {
    "id": "myhyR97TorpY"
   },
   "source": [
    "We can estimate the behavior of this two parameters as function of the frequency $\\omega$ of the experiment, using the dimensionless time $\\epsilon = \\omega t_c$"
   ]
  },
  {
   "cell_type": "code",
   "execution_count": 22,
   "metadata": {
    "id": "nkRp49SWorpY"
   },
   "outputs": [
    {
     "data": {
      "text/latex": [
       "$\\displaystyle \\frac{G \\epsilon^{2}}{\\epsilon^{2} + 1}$"
      ],
      "text/plain": [
       "G*epsilon**2/(epsilon**2 + 1)"
      ]
     },
     "metadata": {},
     "output_type": "display_data"
    },
    {
     "data": {
      "text/latex": [
       "$\\displaystyle \\frac{G \\epsilon}{\\epsilon^{2} + 1}$"
      ],
      "text/plain": [
       "G*epsilon/(epsilon**2 + 1)"
      ]
     },
     "metadata": {},
     "output_type": "display_data"
    }
   ],
   "source": [
    "epsilon = sp.symbols('epsilon',positive=True,real=True)\n",
    "GPrime1 = GPrime1.replace(omega,epsilon/tc)\n",
    "GPrime2 = GPrime2.replace(omega,epsilon/tc)\n",
    "display(GPrime1)\n",
    "display(GPrime2)"
   ]
  },
  {
   "cell_type": "markdown",
   "metadata": {
    "id": "llFT2HjcorpY"
   },
   "source": [
    "Let's plot it..."
   ]
  },
  {
   "cell_type": "code",
   "execution_count": 23,
   "metadata": {
    "id": "kZ2LW5oAorpY"
   },
   "outputs": [],
   "source": [
    "GPrime1_f = sp.lambdify(epsilon,GPrime1/G)\n",
    "GPrime2_f = sp.lambdify(epsilon,GPrime2/G)"
   ]
  },
  {
   "cell_type": "code",
   "execution_count": 24,
   "metadata": {
    "id": "S_Zk1e9ForpY"
   },
   "outputs": [],
   "source": [
    "tt = np.arange(0,5,0.01)"
   ]
  },
  {
   "cell_type": "code",
   "execution_count": 25,
   "metadata": {
    "id": "wjx-2jk1orpY"
   },
   "outputs": [],
   "source": [
    "GPrime1_values = GPrime1_f(tt)\n",
    "GPrime2_values = GPrime2_f(tt)"
   ]
  },
  {
   "cell_type": "code",
   "execution_count": 26,
   "metadata": {
    "id": "KbsHTpOoorpY",
    "tags": []
   },
   "outputs": [],
   "source": [
    "import matplotlib.pyplot as plt"
   ]
  },
  {
   "cell_type": "code",
   "execution_count": 27,
   "metadata": {
    "id": "EGJXe6eForpZ",
    "tags": []
   },
   "outputs": [
    {
     "data": {
      "text/plain": [
       "<matplotlib.legend.Legend at 0x7f07f1aeb580>"
      ]
     },
     "execution_count": 27,
     "metadata": {},
     "output_type": "execute_result"
    },
    {
     "data": {
      "image/png": "[encoded data removed]",
      "text/plain": [
       "<Figure size 576x288 with 1 Axes>"
      ]
     },
     "metadata": {
      "needs_background": "light"
     },
     "output_type": "display_data"
    }
   ],
   "source": [
    "fig,ax = plt.subplots(figsize=(8,4))\n",
    "ax.plot(tt,GPrime1_values,label=r'$G^\\prime$')\n",
    "ax.plot(tt,GPrime2_values,label=r'$G^{\\prime\\prime} $')\n",
    "ax.plot(tt,GPrime1_values+GPrime2_values,linewidth=3)\n",
    "ax.set_xlabel(r'$\\omega t_c$')\n",
    "ax.legend()"
   ]
  },
  {
   "cell_type": "markdown",
   "metadata": {
    "id": "lgV2NKMJorpZ"
   },
   "source": [
    "The value of $\\tau$ for large $\\omega$ gives $G^\\prime$, the storage modulus. The slope of the curve for small $\\omega$ allows the estimation of $G^{\\prime\\prime}$ the loss modulus and, hence, the viscous component of the fluid. That is the fundamentals of the [oscillatory rheometers](http://www.mate.tue.nl/~wyss/home/resources/publications/2007/Wyss_GIT_Lab_J_2007.pdf)"
   ]
  },
  {
   "cell_type": "markdown",
   "metadata": {
    "id": "PT4aNb32orpZ"
   },
   "source": [
    "### Voigth-Kelvin element"
   ]
  },
  {
   "cell_type": "markdown",
   "metadata": {
    "id": "7lzhRJMSorpZ"
   },
   "source": [
    "However, Maxwell model does not explain most of the viscoelastic behavior. Another option is the  Voigth, or Kelvin, element \n",
    "\n",
    "<img src=\"attachment:e0bde361-27b6-473e-9e10-8ed6a555e8dd.png\" width=\"800\">\n",
    "\n",
    "In this element the strain $\\gamma$ (displacement) are the same, and the stress $\\tau$ (forces) are additives\n",
    "\n",
    "$$ \\gamma_1 = \\gamma_2 = \\gamma $$\n",
    "\n",
    "$$\\tau = \\tau_1 + \\tau_2 = G\\gamma + \\eta \\dot\\gamma $$"
   ]
  },
  {
   "cell_type": "code",
   "execution_count": 28,
   "metadata": {
    "id": "nZEwME4horpZ"
   },
   "outputs": [],
   "source": [
    "%reset -f"
   ]
  },
  {
   "cell_type": "code",
   "execution_count": 29,
   "metadata": {
    "id": "IreaQ8-QorpZ",
    "tags": []
   },
   "outputs": [],
   "source": [
    "import sympy as sp\n",
    "import numpy as np"
   ]
  },
  {
   "cell_type": "code",
   "execution_count": 30,
   "metadata": {
    "id": "ow9YbQGRorpZ",
    "tags": []
   },
   "outputs": [],
   "source": [
    "t = sp.symbols('t')\n",
    "eta,G = sp.symbols('eta,G',positive=True,real=True)"
   ]
  },
  {
   "cell_type": "code",
   "execution_count": 31,
   "metadata": {
    "id": "KH_CKg8aorpZ",
    "tags": []
   },
   "outputs": [],
   "source": [
    "gamma = sp.Function('gamma')\n",
    "tau = sp.Function('tau')\n",
    "gammaDot = sp.Function('gammaDot')"
   ]
  },
  {
   "cell_type": "code",
   "execution_count": 32,
   "metadata": {
    "id": "o_bDrSS7orpa",
    "tags": []
   },
   "outputs": [
    {
     "data": {
      "text/latex": [
       "$\\displaystyle \\tau{\\left(t \\right)} = G \\gamma{\\left(t \\right)} + \\eta \\frac{d}{d t} \\gamma{\\left(t \\right)}$"
      ],
      "text/plain": [
       "Eq(tau(t), G*gamma(t) + eta*Derivative(gamma(t), t))"
      ]
     },
     "metadata": {},
     "output_type": "display_data"
    }
   ],
   "source": [
    "eq = sp.Eq(tau(t),G*gamma(t) + eta*gamma(t).diff(t))\n",
    "display(eq)"
   ]
  },
  {
   "cell_type": "code",
   "execution_count": 33,
   "metadata": {
    "id": "x54XQVBLorpa"
   },
   "outputs": [
    {
     "data": {
      "text/latex": [
       "$\\displaystyle \\gamma{\\left(t \\right)} = \\left(\\frac{\\int \\tau{\\left(t \\right)} e^{\\frac{G t}{\\eta}}\\, dt}{\\eta} - \\frac{\\int\\limits^{0} \\tau{\\left(t \\right)} e^{\\frac{G t}{\\eta}}\\, dt}{\\eta}\\right) e^{- \\frac{G t}{\\eta}}$"
      ],
      "text/plain": [
       "Eq(gamma(t), (Integral(tau(t)*exp(G*t/eta), t)/eta - Integral(tau(t)*exp(G*t/eta), (t, 0))/eta)*exp(-G*t/eta))"
      ]
     },
     "execution_count": 33,
     "metadata": {},
     "output_type": "execute_result"
    }
   ],
   "source": [
    "gammaSol = sp.dsolve(eq,gamma(t),simplify=True,ics={gamma(0):0})\n",
    "gammaSol"
   ]
  },
  {
   "cell_type": "markdown",
   "metadata": {
    "id": "WpL4GdN9orpa"
   },
   "source": [
    "In a **creep experiment**, a constant stress is applied and then the element is released"
   ]
  },
  {
   "cell_type": "code",
   "execution_count": 34,
   "metadata": {
    "id": "4zZiswRNorpa"
   },
   "outputs": [
    {
     "data": {
      "text/latex": [
       "$\\displaystyle \\gamma{\\left(t \\right)} = \\left(\\frac{\\begin{cases} \\frac{\\eta \\tau_{0} e^{\\frac{G t}{\\eta}}}{G} & \\text{for}\\: t < t_{1} \\\\\\frac{\\eta \\tau_{0} e^{\\frac{G t_{1}}{\\eta}}}{G} & \\text{otherwise} \\end{cases}}{\\eta} - \\frac{\\tau_{0}}{G}\\right) e^{- \\frac{G t}{\\eta}}$"
      ],
      "text/plain": [
       "Eq(gamma(t), (Piecewise((eta*tau_0*exp(G*t/eta)/G, t < t_1), (eta*tau_0*exp(G*t_1/eta)/G, True))/eta - tau_0/G)*exp(-G*t/eta))"
      ]
     },
     "metadata": {},
     "output_type": "display_data"
    }
   ],
   "source": [
    "t1,tau0 = sp.symbols('t_1,tau_0',positive=True)\n",
    "gammaSolTau0 = gammaSol.replace(tau(t),sp.Piecewise((tau0,t<t1),(0,t>=t1))).doit()\n",
    "display(gammaSolTau0)"
   ]
  },
  {
   "cell_type": "code",
   "execution_count": 35,
   "metadata": {
    "id": "9Nj0Xwqsorpa"
   },
   "outputs": [
    {
     "data": {
      "text/latex": [
       "$\\displaystyle \\gamma{\\left(t \\right)} = \\begin{cases} \\frac{\\tau_{0}}{G} - \\frac{\\tau_{0} e^{- \\frac{t}{t_{c}}}}{G} & \\text{for}\\: t < t_{1} \\\\\\frac{\\tau_{0} \\left(e^{\\frac{t_{1}}{t_{c}}} - 1\\right) e^{- \\frac{t}{t_{c}}}}{G} & \\text{otherwise} \\end{cases}$"
      ],
      "text/plain": [
       "Eq(gamma(t), Piecewise((tau_0/G - tau_0*exp(-t/t_c)/G, t < t_1), (tau_0*(exp(t_1/t_c) - 1)*exp(-t/t_c)/G, True)))"
      ]
     },
     "metadata": {},
     "output_type": "display_data"
    }
   ],
   "source": [
    "tc = sp.symbols('t_c',positive=True)\n",
    "gammaSolTau0 = gammaSolTau0.replace(eta,G*tc).simplify()\n",
    "display(gammaSolTau0)"
   ]
  },
  {
   "cell_type": "markdown",
   "metadata": {
    "id": "k6W0MZkworpa"
   },
   "source": [
    "$$\\xi(t) = \\gamma(t) \\frac{G}{\\tau_0}$$"
   ]
  },
  {
   "cell_type": "code",
   "execution_count": 36,
   "metadata": {
    "id": "KB__PhE1orpa"
   },
   "outputs": [
    {
     "data": {
      "text/latex": [
       "$\\displaystyle \\xi{\\left(t \\right)} = \\begin{cases} 1 - e^{- \\frac{t}{t_{c}}} & \\text{for}\\: t < t_{1} \\\\\\left(e^{\\frac{t_{1}}{t_{c}}} - 1\\right) e^{- \\frac{t}{t_{c}}} & \\text{otherwise} \\end{cases}$"
      ],
      "text/plain": [
       "Eq(xi(t), Piecewise((1 - exp(-t/t_c), t < t_1), ((exp(t_1/t_c) - 1)*exp(-t/t_c), True)))"
      ]
     },
     "metadata": {},
     "output_type": "display_data"
    }
   ],
   "source": [
    "xi = sp.Function('xi')\n",
    "xiEq = sp.Eq(xi(t),gammaSolTau0.rhs.replace(tau0,G))\n",
    "display(xiEq)"
   ]
  },
  {
   "cell_type": "code",
   "execution_count": 37,
   "metadata": {
    "id": "W0rCquTKorpa"
   },
   "outputs": [
    {
     "data": {
      "text/latex": [
       "$\\displaystyle \\xi{\\left(\\epsilon \\right)} = \\begin{cases} 1 - e^{- \\epsilon} & \\text{for}\\: \\epsilon t_{c} < \\epsilon_{1} t_{c} \\\\\\left(e^{\\epsilon_{1}} - 1\\right) e^{- \\epsilon} & \\text{otherwise} \\end{cases}$"
      ],
      "text/plain": [
       "Eq(xi(epsilon), Piecewise((1 - exp(-epsilon), epsilon*t_c < epsilon_1*t_c), ((exp(epsilon_1) - 1)*exp(-epsilon), True)))"
      ]
     },
     "metadata": {},
     "output_type": "display_data"
    }
   ],
   "source": [
    "epsilon,epsilon1 = sp.symbols('epsilon, epsilon_1',positive=True)\n",
    "xiEq = sp.Eq(xi(epsilon),xiEq.rhs.replace(t,tc*epsilon).replace(t1,tc*epsilon1))\n",
    "display(xiEq)"
   ]
  },
  {
   "cell_type": "code",
   "execution_count": 38,
   "metadata": {
    "id": "EY6u_BUWorpa"
   },
   "outputs": [],
   "source": [
    "xi_f = sp.lambdify((epsilon,epsilon1),xiEq.rhs)"
   ]
  },
  {
   "cell_type": "code",
   "execution_count": 39,
   "metadata": {
    "id": "fxTEdPo-orpb"
   },
   "outputs": [],
   "source": [
    "tt = np.arange(0,5,0.01)\n",
    "epsilon1 = 2\n",
    "xi_values = xi_f(tt,epsilon1)"
   ]
  },
  {
   "cell_type": "code",
   "execution_count": 40,
   "metadata": {
    "id": "ffzIJzaForpb",
    "tags": []
   },
   "outputs": [],
   "source": [
    "import matplotlib.pyplot as plt"
   ]
  },
  {
   "cell_type": "code",
   "execution_count": 41,
   "metadata": {
    "id": "BvUZki6Morpb",
    "tags": []
   },
   "outputs": [
    {
     "data": {
      "text/plain": [
       "<matplotlib.legend.Legend at 0x7f07e96ef640>"
      ]
     },
     "execution_count": 41,
     "metadata": {},
     "output_type": "execute_result"
    },
    {
     "data": {
      "image/png": "[encoded data removed]",
      "text/plain": [
       "<Figure size 576x288 with 1 Axes>"
      ]
     },
     "metadata": {
      "needs_background": "light"
     },
     "output_type": "display_data"
    }
   ],
   "source": [
    "fig,ax = plt.subplots(figsize=(8,4))\n",
    "ax.plot(tt,xi_values,label=r'$\\gamma\\frac{G}{\\tau_0}$')\n",
    "ax.set_xlabel(r'$\\frac{t}{\\lambda}$')\n",
    "ax.legend()"
   ]
  },
  {
   "cell_type": "markdown",
   "metadata": {
    "id": "t2EjaxQworpb"
   },
   "source": [
    "In this case, the characteristic time $\\lambda = \\frac{\\eta}{G}$ is called **retardation time**. This model describes the behavior of a viscoelastic solid."
   ]
  },
  {
   "cell_type": "markdown",
   "metadata": {
    "id": "XyyyrabGorpb"
   },
   "source": [
    "### Jeffreys-Burger element"
   ]
  },
  {
   "cell_type": "markdown",
   "metadata": {
    "id": "ngnc_3H5orpb"
   },
   "source": [
    "However, Maxwell and Voight elements are not able to describe correctly real viscoelastic materials. The are several complex combinations of this elements, and the more usual is the Jeffreys (or Burger) element that replaces in the Maxwell element the spring by a Voight element.\n",
    "\n",
    "<img src=attachment:853f6259-aaee-4889-a701-5eb2128e1f7a.png width=800>\n",
    "\n",
    "Stress in both parts are the same\n",
    "\n",
    "\\begin{eqnarray}\n",
    "\\tau &=& \\eta_1 \\dot\\gamma_1 \\\\\n",
    "\\tau &=& G_2\\gamma_2 + \\eta_2\\dot\\gamma_2\n",
    "\\end{eqnarray}\n",
    "\n",
    "and, on the other side,\n",
    " \n",
    "\\begin{eqnarray}\n",
    "\\gamma = \\gamma_1 + \\gamma_2 \\\\\n",
    "\\dot\\gamma = \\dot\\gamma_1 + \\dot\\gamma_2\n",
    "\\end{eqnarray}\n",
    "\n",
    "By combining these equations, we can obtain\n",
    "\n",
    "$$ \\tau + \\lambda_1\\dot\\tau = \\eta_0\\left(\\dot\\gamma + \\lambda_2\\ddot\\gamma\\right)$$\n",
    "\n",
    "with \n",
    "\n",
    "\\begin{eqnarray}\n",
    "\\lambda_1 &=& \\frac{\\eta_1+\\eta_2}{G_2}\\\\\n",
    "\\eta_0 &=& \\eta_1 \\\\\n",
    "\\lambda_2 &=& \\frac{\\eta_2}{G_2}\n",
    "\\end{eqnarray}\n",
    "\n",
    "There is a viscosity $\\eta_0$ (or $\\eta_1$), which is known as the viscosity of the fluid part (considered newtonian) and two characteristic times, \\$\\lambda_1$ and $\\lambda_2$, which are the relaxation and the retardation times, respectively."
   ]
  },
  {
   "cell_type": "code",
   "execution_count": 42,
   "metadata": {
    "id": "x8gK96yJorpb"
   },
   "outputs": [],
   "source": [
    "%reset -f"
   ]
  },
  {
   "cell_type": "code",
   "execution_count": 43,
   "metadata": {
    "id": "NFKuTNn2orpb",
    "tags": []
   },
   "outputs": [],
   "source": [
    "import sympy as sp\n",
    "import numpy as np"
   ]
  },
  {
   "cell_type": "code",
   "execution_count": 44,
   "metadata": {
    "id": "v4igC8F2orpc",
    "tags": []
   },
   "outputs": [],
   "source": [
    "t = sp.symbols('t')\n",
    "eta1,eta2,G2 = sp.symbols('eta_1,eta_2,G_2',positive=True,real=True)"
   ]
  },
  {
   "cell_type": "code",
   "execution_count": 45,
   "metadata": {
    "id": "J8lzCRf4orpc",
    "tags": []
   },
   "outputs": [],
   "source": [
    "gamma = sp.Function('gamma')\n",
    "tau = sp.Function('tau')"
   ]
  },
  {
   "cell_type": "code",
   "execution_count": 46,
   "metadata": {
    "id": "5RBpK8qCorpc",
    "tags": []
   },
   "outputs": [
    {
     "data": {
      "text/latex": [
       "$\\displaystyle \\tau{\\left(t \\right)} + \\frac{\\left(\\eta_{1} + \\eta_{2}\\right) \\frac{d}{d t} \\tau{\\left(t \\right)}}{G_{2}} = \\eta_{1} \\frac{d}{d t} \\gamma{\\left(t \\right)} + \\frac{\\eta_{2} \\frac{d^{2}}{d t^{2}} \\gamma{\\left(t \\right)}}{G_{2}}$"
      ],
      "text/plain": [
       "Eq(tau(t) + (eta_1 + eta_2)*Derivative(tau(t), t)/G_2, eta_1*Derivative(gamma(t), t) + eta_2*Derivative(gamma(t), (t, 2))/G_2)"
      ]
     },
     "metadata": {},
     "output_type": "display_data"
    }
   ],
   "source": [
    "eq = sp.Eq(tau(t)+(eta1+eta2)/G2*tau(t).diff(t),eta1*gamma(t).diff(t)+eta2/G2*gamma(t).diff(t,2))\n",
    "display(eq)"
   ]
  },
  {
   "cell_type": "code",
   "execution_count": 47,
   "metadata": {
    "id": "8DZn9kOUorpc",
    "tags": []
   },
   "outputs": [],
   "source": [
    "#tauInf = sp.symbols('\\\\tau_{-\\infty}')\n",
    "#tauSol = sp.dsolve(eq,tau(t),ics={tau(-sp.oo):tauInf})\n",
    "tauSol = sp.dsolve(eq,tau(t)).doit()"
   ]
  },
  {
   "cell_type": "code",
   "execution_count": 48,
   "metadata": {
    "id": "tU6NtxGIorpc",
    "tags": []
   },
   "outputs": [
    {
     "data": {
      "text/latex": [
       "$\\displaystyle \\tau{\\left(t \\right)} = C_{1} e^{- \\frac{G_{2} t}{\\eta_{1} + \\eta_{2}}} + \\frac{G_{2} \\eta_{1} \\int e^{\\frac{G_{2} t}{\\eta_{1} + \\eta_{2}}} \\frac{d}{d t} \\gamma{\\left(t \\right)}\\, dt}{\\eta_{1} e^{\\frac{G_{2} t}{\\eta_{1} + \\eta_{2}}} + \\eta_{2} e^{\\frac{G_{2} t}{\\eta_{1} + \\eta_{2}}}} + \\frac{\\eta_{2} \\int e^{\\frac{G_{2} t}{\\eta_{1} + \\eta_{2}}} \\frac{d^{2}}{d t^{2}} \\gamma{\\left(t \\right)}\\, dt}{\\eta_{1} e^{\\frac{G_{2} t}{\\eta_{1} + \\eta_{2}}} + \\eta_{2} e^{\\frac{G_{2} t}{\\eta_{1} + \\eta_{2}}}}$"
      ],
      "text/plain": [
       "Eq(tau(t), C1*exp(-G_2*t/(eta_1 + eta_2)) + G_2*eta_1*Integral(exp(G_2*t/(eta_1 + eta_2))*Derivative(gamma(t), t), t)/(eta_1*exp(G_2*t/(eta_1 + eta_2)) + eta_2*exp(G_2*t/(eta_1 + eta_2))) + eta_2*Integral(exp(G_2*t/(eta_1 + eta_2))*Derivative(gamma(t), (t, 2)), t)/(eta_1*exp(G_2*t/(eta_1 + eta_2)) + eta_2*exp(G_2*t/(eta_1 + eta_2))))"
      ]
     },
     "metadata": {},
     "output_type": "display_data"
    }
   ],
   "source": [
    "tauSol = tauSol.expand()\n",
    "display(tauSol)"
   ]
  },
  {
   "cell_type": "markdown",
   "metadata": {
    "id": "ZbQDIBVDorpc"
   },
   "source": [
    "Again, first term can be neglected after a while"
   ]
  },
  {
   "cell_type": "code",
   "execution_count": 49,
   "metadata": {
    "id": "IWxCdlWjorpc"
   },
   "outputs": [
    {
     "data": {
      "text/latex": [
       "$\\displaystyle \\tau{\\left(t \\right)} = \\frac{G_{2} \\eta_{1} \\int e^{\\frac{G_{2} t}{\\eta_{1} + \\eta_{2}}} \\frac{d}{d t} \\gamma{\\left(t \\right)}\\, dt}{\\eta_{1} e^{\\frac{G_{2} t}{\\eta_{1} + \\eta_{2}}} + \\eta_{2} e^{\\frac{G_{2} t}{\\eta_{1} + \\eta_{2}}}} + \\frac{\\eta_{2} \\int e^{\\frac{G_{2} t}{\\eta_{1} + \\eta_{2}}} \\frac{d^{2}}{d t^{2}} \\gamma{\\left(t \\right)}\\, dt}{\\eta_{1} e^{\\frac{G_{2} t}{\\eta_{1} + \\eta_{2}}} + \\eta_{2} e^{\\frac{G_{2} t}{\\eta_{1} + \\eta_{2}}}}$"
      ],
      "text/plain": [
       "Eq(tau(t), G_2*eta_1*Integral(exp(G_2*t/(eta_1 + eta_2))*Derivative(gamma(t), t), t)/(eta_1*exp(G_2*t/(eta_1 + eta_2)) + eta_2*exp(G_2*t/(eta_1 + eta_2))) + eta_2*Integral(exp(G_2*t/(eta_1 + eta_2))*Derivative(gamma(t), (t, 2)), t)/(eta_1*exp(G_2*t/(eta_1 + eta_2)) + eta_2*exp(G_2*t/(eta_1 + eta_2))))"
      ]
     },
     "metadata": {},
     "output_type": "display_data"
    }
   ],
   "source": [
    "tauSolInf=tauSol.replace(tauSol.rhs.args[0],0)\n",
    "display(tauSolInf)"
   ]
  },
  {
   "cell_type": "markdown",
   "metadata": {
    "id": "J9x7ZnFRorpc"
   },
   "source": [
    "### Extension to vectorial notation"
   ]
  },
  {
   "cell_type": "markdown",
   "metadata": {
    "id": "GNIwwyd1orpc"
   },
   "source": [
    "Maxwell model is written, in vector and tensor notation as\n",
    "\n",
    "$$ \\boldsymbol{\\tau} + \\lambda \\stackrel{\\triangledown}{\\boldsymbol{\\tau}} = \\eta \\boldsymbol{\\dot\\gamma} = \\eta \\left(\\nabla \\boldsymbol{u} + \\nabla \\boldsymbol{u}^T \\right) $$\n",
    "\n",
    "where $\\stackrel{\\triangledown}{\\boldsymbol{\\tau}}$ is the Upper Convective Time Derivative, defined as\n",
    "\n",
    "$$ \\stackrel{\\triangledown}{\\boldsymbol{\\tau}} = \\dot{\\boldsymbol{\\tau}} - \\nabla \\boldsymbol{u}\\cdot\\boldsymbol{\\tau} - \\boldsymbol{\\tau}\\cdot \\nabla \\boldsymbol{u}^T $$\n",
    "\n",
    "In a similar way, Jeffreys model is written as\n",
    "\n",
    "$$ \\boldsymbol{\\tau} + \\lambda_1 \\stackrel{\\triangledown}{\\boldsymbol{\\tau}} = \\eta \\left( \\boldsymbol{\\dot\\gamma} + \\lambda_2 \\stackrel{\\triangledown}{\\boldsymbol{\\dot\\gamma}}\\right) $$\n",
    "\n",
    "known as the [**Oldroyd-B** model](https://en.wikipedia.org/wiki/Oldroyd-B_model)"
   ]
  }
 ],
 "metadata": {
  "colab": {
   "name": "rheology.ipynb",
   "provenance": []
  },
  "kernelspec": {
   "display_name": "Python 3 (ipykernel)",
   "language": "python",
   "name": "python3"
  },
  "language_info": {
   "codemirror_mode": {
    "name": "ipython",
    "version": 3
   },
   "file_extension": ".py",
   "mimetype": "text/x-python",
   "name": "python",
   "nbconvert_exporter": "python",
   "pygments_lexer": "ipython3",
   "version": "3.8.13"
  },
  "toc-showtags": false
 },
 "nbformat": 4,
 "nbformat_minor": 4
}
