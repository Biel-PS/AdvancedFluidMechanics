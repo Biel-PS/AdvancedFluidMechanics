{
 "cells": [
  {
   "cell_type": "code",
   "execution_count": 2,
   "id": "optimum-civilian",
   "metadata": {},
   "outputs": [],
   "source": [
    "import statsmodels.api as sm\n",
    "import statsmodels.formula.api as smf\n",
    "import statsmodels.graphics.api as smg\n",
    "import patsy\n",
    "import matplotlib.pyplot as plt\n",
    "import numpy as np\n",
    "import pandas as pd"
   ]
  },
  {
   "cell_type": "code",
   "execution_count": 3,
   "id": "ambient-charter",
   "metadata": {},
   "outputs": [],
   "source": [
    "bodyLotionC = pd.read_csv(\"bodyLotionC.csv\",header=None,names=[\"tau\",\"eta_e\"])"
   ]
  },
  {
   "cell_type": "code",
   "execution_count": 4,
   "id": "intelligent-concert",
   "metadata": {},
   "outputs": [
    {
     "data": {
      "text/html": [
       "<div>\n",
       "<style scoped>\n",
       "    .dataframe tbody tr th:only-of-type {\n",
       "        vertical-align: middle;\n",
       "    }\n",
       "\n",
       "    .dataframe tbody tr th {\n",
       "        vertical-align: top;\n",
       "    }\n",
       "\n",
       "    .dataframe thead th {\n",
       "        text-align: right;\n",
       "    }\n",
       "</style>\n",
       "<table border=\"1\" class=\"dataframe\">\n",
       "  <thead>\n",
       "    <tr style=\"text-align: right;\">\n",
       "      <th></th>\n",
       "      <th>tau</th>\n",
       "      <th>eta_e</th>\n",
       "    </tr>\n",
       "  </thead>\n",
       "  <tbody>\n",
       "    <tr>\n",
       "      <th>0</th>\n",
       "      <td>1.061</td>\n",
       "      <td>9321.803</td>\n",
       "    </tr>\n",
       "    <tr>\n",
       "      <th>1</th>\n",
       "      <td>1.257</td>\n",
       "      <td>10354.381</td>\n",
       "    </tr>\n",
       "    <tr>\n",
       "      <th>2</th>\n",
       "      <td>1.593</td>\n",
       "      <td>9805.602</td>\n",
       "    </tr>\n",
       "    <tr>\n",
       "      <th>3</th>\n",
       "      <td>1.885</td>\n",
       "      <td>9993.431</td>\n",
       "    </tr>\n",
       "    <tr>\n",
       "      <th>4</th>\n",
       "      <td>2.184</td>\n",
       "      <td>9889.684</td>\n",
       "    </tr>\n",
       "    <tr>\n",
       "      <th>5</th>\n",
       "      <td>2.557</td>\n",
       "      <td>9787.014</td>\n",
       "    </tr>\n",
       "    <tr>\n",
       "      <th>6</th>\n",
       "      <td>2.994</td>\n",
       "      <td>9787.014</td>\n",
       "    </tr>\n",
       "    <tr>\n",
       "      <th>7</th>\n",
       "      <td>3.418</td>\n",
       "      <td>9386.883</td>\n",
       "    </tr>\n",
       "    <tr>\n",
       "      <th>8</th>\n",
       "      <td>4.017</td>\n",
       "      <td>8303.630</td>\n",
       "    </tr>\n",
       "    <tr>\n",
       "      <th>9</th>\n",
       "      <td>5.016</td>\n",
       "      <td>7583.383</td>\n",
       "    </tr>\n",
       "    <tr>\n",
       "      <th>10</th>\n",
       "      <td>6.265</td>\n",
       "      <td>6068.415</td>\n",
       "    </tr>\n",
       "    <tr>\n",
       "      <th>11</th>\n",
       "      <td>7.937</td>\n",
       "      <td>4266.662</td>\n",
       "    </tr>\n",
       "    <tr>\n",
       "      <th>12</th>\n",
       "      <td>9.984</td>\n",
       "      <td>2479.782</td>\n",
       "    </tr>\n",
       "    <tr>\n",
       "      <th>13</th>\n",
       "      <td>12.559</td>\n",
       "      <td>934.658</td>\n",
       "    </tr>\n",
       "    <tr>\n",
       "      <th>14</th>\n",
       "      <td>14.086</td>\n",
       "      <td>436.570</td>\n",
       "    </tr>\n",
       "    <tr>\n",
       "      <th>15</th>\n",
       "      <td>15.799</td>\n",
       "      <td>202.974</td>\n",
       "    </tr>\n",
       "    <tr>\n",
       "      <th>16</th>\n",
       "      <td>18.235</td>\n",
       "      <td>83.939</td>\n",
       "    </tr>\n",
       "    <tr>\n",
       "      <th>17</th>\n",
       "      <td>19.873</td>\n",
       "      <td>48.785</td>\n",
       "    </tr>\n",
       "    <tr>\n",
       "      <th>18</th>\n",
       "      <td>24.998</td>\n",
       "      <td>14.108</td>\n",
       "    </tr>\n",
       "    <tr>\n",
       "      <th>19</th>\n",
       "      <td>31.445</td>\n",
       "      <td>5.619</td>\n",
       "    </tr>\n",
       "    <tr>\n",
       "      <th>20</th>\n",
       "      <td>39.840</td>\n",
       "      <td>2.631</td>\n",
       "    </tr>\n",
       "    <tr>\n",
       "      <th>21</th>\n",
       "      <td>50.114</td>\n",
       "      <td>1.533</td>\n",
       "    </tr>\n",
       "    <tr>\n",
       "      <th>22</th>\n",
       "      <td>63.039</td>\n",
       "      <td>0.927</td>\n",
       "    </tr>\n",
       "    <tr>\n",
       "      <th>23</th>\n",
       "      <td>79.296</td>\n",
       "      <td>0.613</td>\n",
       "    </tr>\n",
       "    <tr>\n",
       "      <th>24</th>\n",
       "      <td>99.552</td>\n",
       "      <td>0.423</td>\n",
       "    </tr>\n",
       "    <tr>\n",
       "      <th>25</th>\n",
       "      <td>125.471</td>\n",
       "      <td>0.314</td>\n",
       "    </tr>\n",
       "  </tbody>\n",
       "</table>\n",
       "</div>"
      ],
      "text/plain": [
       "        tau      eta_e\n",
       "0     1.061   9321.803\n",
       "1     1.257  10354.381\n",
       "2     1.593   9805.602\n",
       "3     1.885   9993.431\n",
       "4     2.184   9889.684\n",
       "5     2.557   9787.014\n",
       "6     2.994   9787.014\n",
       "7     3.418   9386.883\n",
       "8     4.017   8303.630\n",
       "9     5.016   7583.383\n",
       "10    6.265   6068.415\n",
       "11    7.937   4266.662\n",
       "12    9.984   2479.782\n",
       "13   12.559    934.658\n",
       "14   14.086    436.570\n",
       "15   15.799    202.974\n",
       "16   18.235     83.939\n",
       "17   19.873     48.785\n",
       "18   24.998     14.108\n",
       "19   31.445      5.619\n",
       "20   39.840      2.631\n",
       "21   50.114      1.533\n",
       "22   63.039      0.927\n",
       "23   79.296      0.613\n",
       "24   99.552      0.423\n",
       "25  125.471      0.314"
      ]
     },
     "execution_count": 4,
     "metadata": {},
     "output_type": "execute_result"
    }
   ],
   "source": [
    "bodyLotionC"
   ]
  },
  {
   "cell_type": "code",
   "execution_count": 5,
   "id": "cardiovascular-allocation",
   "metadata": {},
   "outputs": [],
   "source": [
    "bodyLotionC[\"gammaDot\"]=bodyLotionC[\"tau\"]/bodyLotionC[\"eta_e\"]"
   ]
  },
  {
   "cell_type": "code",
   "execution_count": 6,
   "id": "perfect-palestine",
   "metadata": {},
   "outputs": [
    {
     "data": {
      "text/html": [
       "<div>\n",
       "<style scoped>\n",
       "    .dataframe tbody tr th:only-of-type {\n",
       "        vertical-align: middle;\n",
       "    }\n",
       "\n",
       "    .dataframe tbody tr th {\n",
       "        vertical-align: top;\n",
       "    }\n",
       "\n",
       "    .dataframe thead th {\n",
       "        text-align: right;\n",
       "    }\n",
       "</style>\n",
       "<table border=\"1\" class=\"dataframe\">\n",
       "  <thead>\n",
       "    <tr style=\"text-align: right;\">\n",
       "      <th></th>\n",
       "      <th>tau</th>\n",
       "      <th>eta_e</th>\n",
       "      <th>gammaDot</th>\n",
       "    </tr>\n",
       "  </thead>\n",
       "  <tbody>\n",
       "    <tr>\n",
       "      <th>0</th>\n",
       "      <td>1.061</td>\n",
       "      <td>9321.803</td>\n",
       "      <td>0.000114</td>\n",
       "    </tr>\n",
       "    <tr>\n",
       "      <th>1</th>\n",
       "      <td>1.257</td>\n",
       "      <td>10354.381</td>\n",
       "      <td>0.000121</td>\n",
       "    </tr>\n",
       "    <tr>\n",
       "      <th>2</th>\n",
       "      <td>1.593</td>\n",
       "      <td>9805.602</td>\n",
       "      <td>0.000162</td>\n",
       "    </tr>\n",
       "    <tr>\n",
       "      <th>3</th>\n",
       "      <td>1.885</td>\n",
       "      <td>9993.431</td>\n",
       "      <td>0.000189</td>\n",
       "    </tr>\n",
       "    <tr>\n",
       "      <th>4</th>\n",
       "      <td>2.184</td>\n",
       "      <td>9889.684</td>\n",
       "      <td>0.000221</td>\n",
       "    </tr>\n",
       "    <tr>\n",
       "      <th>5</th>\n",
       "      <td>2.557</td>\n",
       "      <td>9787.014</td>\n",
       "      <td>0.000261</td>\n",
       "    </tr>\n",
       "    <tr>\n",
       "      <th>6</th>\n",
       "      <td>2.994</td>\n",
       "      <td>9787.014</td>\n",
       "      <td>0.000306</td>\n",
       "    </tr>\n",
       "    <tr>\n",
       "      <th>7</th>\n",
       "      <td>3.418</td>\n",
       "      <td>9386.883</td>\n",
       "      <td>0.000364</td>\n",
       "    </tr>\n",
       "    <tr>\n",
       "      <th>8</th>\n",
       "      <td>4.017</td>\n",
       "      <td>8303.630</td>\n",
       "      <td>0.000484</td>\n",
       "    </tr>\n",
       "    <tr>\n",
       "      <th>9</th>\n",
       "      <td>5.016</td>\n",
       "      <td>7583.383</td>\n",
       "      <td>0.000661</td>\n",
       "    </tr>\n",
       "    <tr>\n",
       "      <th>10</th>\n",
       "      <td>6.265</td>\n",
       "      <td>6068.415</td>\n",
       "      <td>0.001032</td>\n",
       "    </tr>\n",
       "    <tr>\n",
       "      <th>11</th>\n",
       "      <td>7.937</td>\n",
       "      <td>4266.662</td>\n",
       "      <td>0.001860</td>\n",
       "    </tr>\n",
       "    <tr>\n",
       "      <th>12</th>\n",
       "      <td>9.984</td>\n",
       "      <td>2479.782</td>\n",
       "      <td>0.004026</td>\n",
       "    </tr>\n",
       "    <tr>\n",
       "      <th>13</th>\n",
       "      <td>12.559</td>\n",
       "      <td>934.658</td>\n",
       "      <td>0.013437</td>\n",
       "    </tr>\n",
       "    <tr>\n",
       "      <th>14</th>\n",
       "      <td>14.086</td>\n",
       "      <td>436.570</td>\n",
       "      <td>0.032265</td>\n",
       "    </tr>\n",
       "    <tr>\n",
       "      <th>15</th>\n",
       "      <td>15.799</td>\n",
       "      <td>202.974</td>\n",
       "      <td>0.077838</td>\n",
       "    </tr>\n",
       "    <tr>\n",
       "      <th>16</th>\n",
       "      <td>18.235</td>\n",
       "      <td>83.939</td>\n",
       "      <td>0.217241</td>\n",
       "    </tr>\n",
       "    <tr>\n",
       "      <th>17</th>\n",
       "      <td>19.873</td>\n",
       "      <td>48.785</td>\n",
       "      <td>0.407359</td>\n",
       "    </tr>\n",
       "    <tr>\n",
       "      <th>18</th>\n",
       "      <td>24.998</td>\n",
       "      <td>14.108</td>\n",
       "      <td>1.771902</td>\n",
       "    </tr>\n",
       "    <tr>\n",
       "      <th>19</th>\n",
       "      <td>31.445</td>\n",
       "      <td>5.619</td>\n",
       "      <td>5.596191</td>\n",
       "    </tr>\n",
       "    <tr>\n",
       "      <th>20</th>\n",
       "      <td>39.840</td>\n",
       "      <td>2.631</td>\n",
       "      <td>15.142531</td>\n",
       "    </tr>\n",
       "    <tr>\n",
       "      <th>21</th>\n",
       "      <td>50.114</td>\n",
       "      <td>1.533</td>\n",
       "      <td>32.690150</td>\n",
       "    </tr>\n",
       "    <tr>\n",
       "      <th>22</th>\n",
       "      <td>63.039</td>\n",
       "      <td>0.927</td>\n",
       "      <td>68.003236</td>\n",
       "    </tr>\n",
       "    <tr>\n",
       "      <th>23</th>\n",
       "      <td>79.296</td>\n",
       "      <td>0.613</td>\n",
       "      <td>129.357259</td>\n",
       "    </tr>\n",
       "    <tr>\n",
       "      <th>24</th>\n",
       "      <td>99.552</td>\n",
       "      <td>0.423</td>\n",
       "      <td>235.347518</td>\n",
       "    </tr>\n",
       "    <tr>\n",
       "      <th>25</th>\n",
       "      <td>125.471</td>\n",
       "      <td>0.314</td>\n",
       "      <td>399.589172</td>\n",
       "    </tr>\n",
       "  </tbody>\n",
       "</table>\n",
       "</div>"
      ],
      "text/plain": [
       "        tau      eta_e    gammaDot\n",
       "0     1.061   9321.803    0.000114\n",
       "1     1.257  10354.381    0.000121\n",
       "2     1.593   9805.602    0.000162\n",
       "3     1.885   9993.431    0.000189\n",
       "4     2.184   9889.684    0.000221\n",
       "5     2.557   9787.014    0.000261\n",
       "6     2.994   9787.014    0.000306\n",
       "7     3.418   9386.883    0.000364\n",
       "8     4.017   8303.630    0.000484\n",
       "9     5.016   7583.383    0.000661\n",
       "10    6.265   6068.415    0.001032\n",
       "11    7.937   4266.662    0.001860\n",
       "12    9.984   2479.782    0.004026\n",
       "13   12.559    934.658    0.013437\n",
       "14   14.086    436.570    0.032265\n",
       "15   15.799    202.974    0.077838\n",
       "16   18.235     83.939    0.217241\n",
       "17   19.873     48.785    0.407359\n",
       "18   24.998     14.108    1.771902\n",
       "19   31.445      5.619    5.596191\n",
       "20   39.840      2.631   15.142531\n",
       "21   50.114      1.533   32.690150\n",
       "22   63.039      0.927   68.003236\n",
       "23   79.296      0.613  129.357259\n",
       "24   99.552      0.423  235.347518\n",
       "25  125.471      0.314  399.589172"
      ]
     },
     "execution_count": 6,
     "metadata": {},
     "output_type": "execute_result"
    }
   ],
   "source": [
    "bodyLotionC"
   ]
  },
  {
   "cell_type": "code",
   "execution_count": 7,
   "id": "industrial-programmer",
   "metadata": {},
   "outputs": [
    {
     "data": {
      "text/plain": [
       "<matplotlib.collections.PathCollection at 0x7fc360ead8b0>"
      ]
     },
     "execution_count": 7,
     "metadata": {},
     "output_type": "execute_result"
    },
    {
     "data": {
      "image/png": "[encoded data removed]",
      "text/plain": [
       "<Figure size 432x288 with 1 Axes>"
      ]
     },
     "metadata": {
      "needs_background": "light"
     },
     "output_type": "display_data"
    }
   ],
   "source": [
    "fig,ac = plt.subplots()\n",
    "ac.loglog()\n",
    "ac.set_xlabel(r'$\\dot{\\gamma}$ [1/s]')\n",
    "ac.set_ylabel(r'$\\eta_{eff}$ [Pa·s]')\n",
    "ac.scatter(bodyLotionC[\"gammaDot\"],bodyLotionC[\"eta_e\"])"
   ]
  },
  {
   "cell_type": "code",
   "execution_count": 8,
   "id": "complete-belief",
   "metadata": {},
   "outputs": [
    {
     "data": {
      "text/html": [
       "<div>\n",
       "<style scoped>\n",
       "    .dataframe tbody tr th:only-of-type {\n",
       "        vertical-align: middle;\n",
       "    }\n",
       "\n",
       "    .dataframe tbody tr th {\n",
       "        vertical-align: top;\n",
       "    }\n",
       "\n",
       "    .dataframe thead th {\n",
       "        text-align: right;\n",
       "    }\n",
       "</style>\n",
       "<table border=\"1\" class=\"dataframe\">\n",
       "  <thead>\n",
       "    <tr style=\"text-align: right;\">\n",
       "      <th></th>\n",
       "      <th>tau</th>\n",
       "      <th>eta_e</th>\n",
       "      <th>gammaDot</th>\n",
       "      <th>log_eta_e</th>\n",
       "      <th>log_gammaDot</th>\n",
       "    </tr>\n",
       "  </thead>\n",
       "  <tbody>\n",
       "    <tr>\n",
       "      <th>0</th>\n",
       "      <td>1.061</td>\n",
       "      <td>9321.803</td>\n",
       "      <td>0.000114</td>\n",
       "      <td>9.140111</td>\n",
       "      <td>-9.080899</td>\n",
       "    </tr>\n",
       "    <tr>\n",
       "      <th>1</th>\n",
       "      <td>1.257</td>\n",
       "      <td>10354.381</td>\n",
       "      <td>0.000121</td>\n",
       "      <td>9.245165</td>\n",
       "      <td>-9.016437</td>\n",
       "    </tr>\n",
       "    <tr>\n",
       "      <th>2</th>\n",
       "      <td>1.593</td>\n",
       "      <td>9805.602</td>\n",
       "      <td>0.000162</td>\n",
       "      <td>9.190709</td>\n",
       "      <td>-8.725090</td>\n",
       "    </tr>\n",
       "    <tr>\n",
       "      <th>3</th>\n",
       "      <td>1.885</td>\n",
       "      <td>9993.431</td>\n",
       "      <td>0.000189</td>\n",
       "      <td>9.209683</td>\n",
       "      <td>-8.575755</td>\n",
       "    </tr>\n",
       "    <tr>\n",
       "      <th>4</th>\n",
       "      <td>2.184</td>\n",
       "      <td>9889.684</td>\n",
       "      <td>0.000221</td>\n",
       "      <td>9.199247</td>\n",
       "      <td>-8.418089</td>\n",
       "    </tr>\n",
       "    <tr>\n",
       "      <th>5</th>\n",
       "      <td>2.557</td>\n",
       "      <td>9787.014</td>\n",
       "      <td>0.000261</td>\n",
       "      <td>9.188812</td>\n",
       "      <td>-8.249977</td>\n",
       "    </tr>\n",
       "    <tr>\n",
       "      <th>6</th>\n",
       "      <td>2.994</td>\n",
       "      <td>9787.014</td>\n",
       "      <td>0.000306</td>\n",
       "      <td>9.188812</td>\n",
       "      <td>-8.092201</td>\n",
       "    </tr>\n",
       "    <tr>\n",
       "      <th>7</th>\n",
       "      <td>3.418</td>\n",
       "      <td>9386.883</td>\n",
       "      <td>0.000364</td>\n",
       "      <td>9.147069</td>\n",
       "      <td>-7.918013</td>\n",
       "    </tr>\n",
       "    <tr>\n",
       "      <th>8</th>\n",
       "      <td>4.017</td>\n",
       "      <td>8303.630</td>\n",
       "      <td>0.000484</td>\n",
       "      <td>9.024448</td>\n",
       "      <td>-7.633913</td>\n",
       "    </tr>\n",
       "    <tr>\n",
       "      <th>9</th>\n",
       "      <td>5.016</td>\n",
       "      <td>7583.383</td>\n",
       "      <td>0.000661</td>\n",
       "      <td>8.933715</td>\n",
       "      <td>-7.321082</td>\n",
       "    </tr>\n",
       "    <tr>\n",
       "      <th>10</th>\n",
       "      <td>6.265</td>\n",
       "      <td>6068.415</td>\n",
       "      <td>0.001032</td>\n",
       "      <td>8.710853</td>\n",
       "      <td>-6.875874</td>\n",
       "    </tr>\n",
       "    <tr>\n",
       "      <th>11</th>\n",
       "      <td>7.937</td>\n",
       "      <td>4266.662</td>\n",
       "      <td>0.001860</td>\n",
       "      <td>8.358587</td>\n",
       "      <td>-6.287052</td>\n",
       "    </tr>\n",
       "    <tr>\n",
       "      <th>12</th>\n",
       "      <td>9.984</td>\n",
       "      <td>2479.782</td>\n",
       "      <td>0.004026</td>\n",
       "      <td>7.815926</td>\n",
       "      <td>-5.514942</td>\n",
       "    </tr>\n",
       "    <tr>\n",
       "      <th>13</th>\n",
       "      <td>12.559</td>\n",
       "      <td>934.658</td>\n",
       "      <td>0.013437</td>\n",
       "      <td>6.840181</td>\n",
       "      <td>-4.309743</td>\n",
       "    </tr>\n",
       "    <tr>\n",
       "      <th>14</th>\n",
       "      <td>14.086</td>\n",
       "      <td>436.570</td>\n",
       "      <td>0.032265</td>\n",
       "      <td>6.078949</td>\n",
       "      <td>-3.433767</td>\n",
       "    </tr>\n",
       "    <tr>\n",
       "      <th>15</th>\n",
       "      <td>15.799</td>\n",
       "      <td>202.974</td>\n",
       "      <td>0.077838</td>\n",
       "      <td>5.313078</td>\n",
       "      <td>-2.553131</td>\n",
       "    </tr>\n",
       "    <tr>\n",
       "      <th>16</th>\n",
       "      <td>18.235</td>\n",
       "      <td>83.939</td>\n",
       "      <td>0.217241</td>\n",
       "      <td>4.430090</td>\n",
       "      <td>-1.526748</td>\n",
       "    </tr>\n",
       "    <tr>\n",
       "      <th>17</th>\n",
       "      <td>19.873</td>\n",
       "      <td>48.785</td>\n",
       "      <td>0.407359</td>\n",
       "      <td>3.887423</td>\n",
       "      <td>-0.898061</td>\n",
       "    </tr>\n",
       "    <tr>\n",
       "      <th>18</th>\n",
       "      <td>24.998</td>\n",
       "      <td>14.108</td>\n",
       "      <td>1.771902</td>\n",
       "      <td>2.646742</td>\n",
       "      <td>0.572054</td>\n",
       "    </tr>\n",
       "    <tr>\n",
       "      <th>19</th>\n",
       "      <td>31.445</td>\n",
       "      <td>5.619</td>\n",
       "      <td>5.596191</td>\n",
       "      <td>1.726154</td>\n",
       "      <td>1.722086</td>\n",
       "    </tr>\n",
       "    <tr>\n",
       "      <th>20</th>\n",
       "      <td>39.840</td>\n",
       "      <td>2.631</td>\n",
       "      <td>15.142531</td>\n",
       "      <td>0.967364</td>\n",
       "      <td>2.717507</td>\n",
       "    </tr>\n",
       "    <tr>\n",
       "      <th>21</th>\n",
       "      <td>50.114</td>\n",
       "      <td>1.533</td>\n",
       "      <td>32.690150</td>\n",
       "      <td>0.427227</td>\n",
       "      <td>3.487074</td>\n",
       "    </tr>\n",
       "    <tr>\n",
       "      <th>22</th>\n",
       "      <td>63.039</td>\n",
       "      <td>0.927</td>\n",
       "      <td>68.003236</td>\n",
       "      <td>-0.075802</td>\n",
       "      <td>4.219555</td>\n",
       "    </tr>\n",
       "    <tr>\n",
       "      <th>23</th>\n",
       "      <td>79.296</td>\n",
       "      <td>0.613</td>\n",
       "      <td>129.357259</td>\n",
       "      <td>-0.489390</td>\n",
       "      <td>4.862578</td>\n",
       "    </tr>\n",
       "    <tr>\n",
       "      <th>24</th>\n",
       "      <td>99.552</td>\n",
       "      <td>0.423</td>\n",
       "      <td>235.347518</td>\n",
       "      <td>-0.860383</td>\n",
       "      <td>5.461063</td>\n",
       "    </tr>\n",
       "    <tr>\n",
       "      <th>25</th>\n",
       "      <td>125.471</td>\n",
       "      <td>0.314</td>\n",
       "      <td>399.589172</td>\n",
       "      <td>-1.158362</td>\n",
       "      <td>5.990437</td>\n",
       "    </tr>\n",
       "  </tbody>\n",
       "</table>\n",
       "</div>"
      ],
      "text/plain": [
       "        tau      eta_e    gammaDot  log_eta_e  log_gammaDot\n",
       "0     1.061   9321.803    0.000114   9.140111     -9.080899\n",
       "1     1.257  10354.381    0.000121   9.245165     -9.016437\n",
       "2     1.593   9805.602    0.000162   9.190709     -8.725090\n",
       "3     1.885   9993.431    0.000189   9.209683     -8.575755\n",
       "4     2.184   9889.684    0.000221   9.199247     -8.418089\n",
       "5     2.557   9787.014    0.000261   9.188812     -8.249977\n",
       "6     2.994   9787.014    0.000306   9.188812     -8.092201\n",
       "7     3.418   9386.883    0.000364   9.147069     -7.918013\n",
       "8     4.017   8303.630    0.000484   9.024448     -7.633913\n",
       "9     5.016   7583.383    0.000661   8.933715     -7.321082\n",
       "10    6.265   6068.415    0.001032   8.710853     -6.875874\n",
       "11    7.937   4266.662    0.001860   8.358587     -6.287052\n",
       "12    9.984   2479.782    0.004026   7.815926     -5.514942\n",
       "13   12.559    934.658    0.013437   6.840181     -4.309743\n",
       "14   14.086    436.570    0.032265   6.078949     -3.433767\n",
       "15   15.799    202.974    0.077838   5.313078     -2.553131\n",
       "16   18.235     83.939    0.217241   4.430090     -1.526748\n",
       "17   19.873     48.785    0.407359   3.887423     -0.898061\n",
       "18   24.998     14.108    1.771902   2.646742      0.572054\n",
       "19   31.445      5.619    5.596191   1.726154      1.722086\n",
       "20   39.840      2.631   15.142531   0.967364      2.717507\n",
       "21   50.114      1.533   32.690150   0.427227      3.487074\n",
       "22   63.039      0.927   68.003236  -0.075802      4.219555\n",
       "23   79.296      0.613  129.357259  -0.489390      4.862578\n",
       "24   99.552      0.423  235.347518  -0.860383      5.461063\n",
       "25  125.471      0.314  399.589172  -1.158362      5.990437"
      ]
     },
     "execution_count": 8,
     "metadata": {},
     "output_type": "execute_result"
    }
   ],
   "source": [
    "bodyLotionC[\"log_eta_e\"] = np.log(bodyLotionC[\"eta_e\"])\n",
    "bodyLotionC[\"log_gammaDot\"] = np.log(bodyLotionC[\"gammaDot\"])\n",
    "bodyLotionC"
   ]
  },
  {
   "cell_type": "code",
   "execution_count": 9,
   "id": "reliable-vessel",
   "metadata": {},
   "outputs": [
    {
     "data": {
      "text/plain": [
       "<matplotlib.collections.PathCollection at 0x7fc35c437220>"
      ]
     },
     "execution_count": 9,
     "metadata": {},
     "output_type": "execute_result"
    },
    {
     "data": {
      "image/png": "[encoded data removed]",
      "text/plain": [
       "<Figure size 432x288 with 1 Axes>"
      ]
     },
     "metadata": {
      "needs_background": "light"
     },
     "output_type": "display_data"
    }
   ],
   "source": [
    "fig,ac = plt.subplots()\n",
    "ac.set_xlabel(r'$\\log(\\dot{\\gamma})$')\n",
    "ac.set_ylabel(r'$\\log(\\eta_{eff})$')\n",
    "ac.scatter(bodyLotionC[\"log_gammaDot\"],bodyLotionC[\"log_eta_e\"])"
   ]
  },
  {
   "cell_type": "code",
   "execution_count": 10,
   "id": "based-armor",
   "metadata": {},
   "outputs": [],
   "source": [
    "PLmodel = smf.ols('np.log(eta_e)~np.log(gammaDot)',bodyLotionC)"
   ]
  },
  {
   "cell_type": "code",
   "execution_count": 11,
   "id": "phantom-creature",
   "metadata": {},
   "outputs": [],
   "source": [
    "PLResult = PLmodel.fit()"
   ]
  },
  {
   "cell_type": "code",
   "execution_count": 12,
   "id": "imported-ridge",
   "metadata": {},
   "outputs": [
    {
     "data": {
      "text/html": [
       "<table class=\"simpletable\">\n",
       "<caption>OLS Regression Results</caption>\n",
       "<tr>\n",
       "  <th>Dep. Variable:</th>      <td>np.log(eta_e)</td>  <th>  R-squared:         </th> <td>   0.993</td>\n",
       "</tr>\n",
       "<tr>\n",
       "  <th>Model:</th>                   <td>OLS</td>       <th>  Adj. R-squared:    </th> <td>   0.992</td>\n",
       "</tr>\n",
       "<tr>\n",
       "  <th>Method:</th>             <td>Least Squares</td>  <th>  F-statistic:       </th> <td>   3249.</td>\n",
       "</tr>\n",
       "<tr>\n",
       "  <th>Date:</th>             <td>Wed, 24 Feb 2021</td> <th>  Prob (F-statistic):</th> <td>3.90e-27</td>\n",
       "</tr>\n",
       "<tr>\n",
       "  <th>Time:</th>                 <td>13:48:28</td>     <th>  Log-Likelihood:    </th> <td> -7.9554</td>\n",
       "</tr>\n",
       "<tr>\n",
       "  <th>No. Observations:</th>      <td>    26</td>      <th>  AIC:               </th> <td>   19.91</td>\n",
       "</tr>\n",
       "<tr>\n",
       "  <th>Df Residuals:</th>          <td>    24</td>      <th>  BIC:               </th> <td>   22.43</td>\n",
       "</tr>\n",
       "<tr>\n",
       "  <th>Df Model:</th>              <td>     1</td>      <th>                     </th>     <td> </td>   \n",
       "</tr>\n",
       "<tr>\n",
       "  <th>Covariance Type:</th>      <td>nonrobust</td>    <th>                     </th>     <td> </td>   \n",
       "</tr>\n",
       "</table>\n",
       "<table class=\"simpletable\">\n",
       "<tr>\n",
       "          <td></td>            <th>coef</th>     <th>std err</th>      <th>t</th>      <th>P>|t|</th>  <th>[0.025</th>    <th>0.975]</th>  \n",
       "</tr>\n",
       "<tr>\n",
       "  <th>Intercept</th>        <td>    3.1970</td> <td>    0.079</td> <td>   40.267</td> <td> 0.000</td> <td>    3.033</td> <td>    3.361</td>\n",
       "</tr>\n",
       "<tr>\n",
       "  <th>np.log(gammaDot)</th> <td>   -0.7373</td> <td>    0.013</td> <td>  -57.003</td> <td> 0.000</td> <td>   -0.764</td> <td>   -0.711</td>\n",
       "</tr>\n",
       "</table>\n",
       "<table class=\"simpletable\">\n",
       "<tr>\n",
       "  <th>Omnibus:</th>       <td> 0.263</td> <th>  Durbin-Watson:     </th> <td>   0.094</td>\n",
       "</tr>\n",
       "<tr>\n",
       "  <th>Prob(Omnibus):</th> <td> 0.877</td> <th>  Jarque-Bera (JB):  </th> <td>   0.344</td>\n",
       "</tr>\n",
       "<tr>\n",
       "  <th>Skew:</th>          <td>-0.208</td> <th>  Prob(JB):          </th> <td>   0.842</td>\n",
       "</tr>\n",
       "<tr>\n",
       "  <th>Kurtosis:</th>      <td> 2.619</td> <th>  Cond. No.          </th> <td>    7.32</td>\n",
       "</tr>\n",
       "</table><br/><br/>Notes:<br/>[1] Standard Errors assume that the covariance matrix of the errors is correctly specified."
      ],
      "text/plain": [
       "<class 'statsmodels.iolib.summary.Summary'>\n",
       "\"\"\"\n",
       "                            OLS Regression Results                            \n",
       "==============================================================================\n",
       "Dep. Variable:          np.log(eta_e)   R-squared:                       0.993\n",
       "Model:                            OLS   Adj. R-squared:                  0.992\n",
       "Method:                 Least Squares   F-statistic:                     3249.\n",
       "Date:                Wed, 24 Feb 2021   Prob (F-statistic):           3.90e-27\n",
       "Time:                        13:48:28   Log-Likelihood:                -7.9554\n",
       "No. Observations:                  26   AIC:                             19.91\n",
       "Df Residuals:                      24   BIC:                             22.43\n",
       "Df Model:                           1                                         \n",
       "Covariance Type:            nonrobust                                         \n",
       "====================================================================================\n",
       "                       coef    std err          t      P>|t|      [0.025      0.975]\n",
       "------------------------------------------------------------------------------------\n",
       "Intercept            3.1970      0.079     40.267      0.000       3.033       3.361\n",
       "np.log(gammaDot)    -0.7373      0.013    -57.003      0.000      -0.764      -0.711\n",
       "==============================================================================\n",
       "Omnibus:                        0.263   Durbin-Watson:                   0.094\n",
       "Prob(Omnibus):                  0.877   Jarque-Bera (JB):                0.344\n",
       "Skew:                          -0.208   Prob(JB):                        0.842\n",
       "Kurtosis:                       2.619   Cond. No.                         7.32\n",
       "==============================================================================\n",
       "\n",
       "Notes:\n",
       "[1] Standard Errors assume that the covariance matrix of the errors is correctly specified.\n",
       "\"\"\""
      ]
     },
     "execution_count": 12,
     "metadata": {},
     "output_type": "execute_result"
    }
   ],
   "source": [
    "PLResult.summary()"
   ]
  },
  {
   "cell_type": "code",
   "execution_count": 13,
   "id": "breeding-telescope",
   "metadata": {},
   "outputs": [],
   "source": [
    "K = np.exp(PLResult.params[0])\n",
    "n = PLResult.params[1]+1"
   ]
  },
  {
   "cell_type": "code",
   "execution_count": 14,
   "id": "controlled-original",
   "metadata": {},
   "outputs": [
    {
     "data": {
      "text/plain": [
       "24.459127902648824"
      ]
     },
     "execution_count": 14,
     "metadata": {},
     "output_type": "execute_result"
    }
   ],
   "source": [
    "K"
   ]
  },
  {
   "cell_type": "code",
   "execution_count": 15,
   "id": "contrary-infrastructure",
   "metadata": {},
   "outputs": [
    {
     "data": {
      "text/plain": [
       "0.26269929651676516"
      ]
     },
     "execution_count": 15,
     "metadata": {},
     "output_type": "execute_result"
    }
   ],
   "source": [
    "n"
   ]
  },
  {
   "cell_type": "code",
   "execution_count": 16,
   "id": "removable-thriller",
   "metadata": {},
   "outputs": [
    {
     "data": {
      "text/plain": [
       "[<matplotlib.lines.Line2D at 0x7fc35c3af1f0>]"
      ]
     },
     "execution_count": 16,
     "metadata": {},
     "output_type": "execute_result"
    },
    {
     "data": {
      "image/png": "[encoded data removed]",
      "text/plain": [
       "<Figure size 432x288 with 1 Axes>"
      ]
     },
     "metadata": {
      "needs_background": "light"
     },
     "output_type": "display_data"
    }
   ],
   "source": [
    "gammaDot_plot = np.logspace(-4,3,250)\n",
    "eta_e_plot = K*np.power(gammaDot_plot,n-1)\n",
    "fig,ac = plt.subplots()\n",
    "ac.loglog()\n",
    "ac.set_xlabel(r'$\\dot{\\gamma}$')\n",
    "ac.set_ylabel(r'$\\eta_{eff}$')\n",
    "ac.scatter(bodyLotionC[\"gammaDot\"],bodyLotionC[\"eta_e\"])\n",
    "ac.plot(gammaDot_plot,eta_e_plot,color=\"red\")"
   ]
  },
  {
   "cell_type": "code",
   "execution_count": 17,
   "id": "noted-penny",
   "metadata": {},
   "outputs": [],
   "source": [
    "import scipy.optimize as opt"
   ]
  },
  {
   "cell_type": "code",
   "execution_count": 20,
   "id": "yellow-twenty",
   "metadata": {},
   "outputs": [],
   "source": [
    "eta_e = bodyLotionC[\"eta_e\"].values\n",
    "gammaDot = bodyLotionC[\"gammaDot\"].values"
   ]
  },
  {
   "cell_type": "code",
   "execution_count": 32,
   "id": "seventh-princess",
   "metadata": {},
   "outputs": [],
   "source": [
    "def f(gammaDot,mu0,mu_inf,Lambda,n):\n",
    "    return mu_inf + (mu0-mu_inf)*(1+(Lambda*gammaDot)**2)**((n-1)/2)"
   ]
  },
  {
   "cell_type": "code",
   "execution_count": 37,
   "id": "given-retreat",
   "metadata": {},
   "outputs": [],
   "source": [
    "popt,pcov = opt.curve_fit(f,gammaDot,eta_e,p0=[10000,0.1,1000,1])"
   ]
  },
  {
   "cell_type": "code",
   "execution_count": 38,
   "id": "european-kennedy",
   "metadata": {},
   "outputs": [
    {
     "data": {
      "text/plain": [
       "array([ 1.02058946e+04, -6.64101161e+00,  1.55717087e+03,  2.15842347e-01])"
      ]
     },
     "execution_count": 38,
     "metadata": {},
     "output_type": "execute_result"
    }
   ],
   "source": [
    "popt"
   ]
  },
  {
   "cell_type": "code",
   "execution_count": 39,
   "id": "ignored-parameter",
   "metadata": {},
   "outputs": [
    {
     "data": {
      "text/plain": [
       "<matplotlib.collections.PathCollection at 0x7fc356dd9160>"
      ]
     },
     "execution_count": 39,
     "metadata": {},
     "output_type": "execute_result"
    },
    {
     "data": {
      "image/png": "[encoded data removed]",
      "text/plain": [
       "<Figure size 432x288 with 1 Axes>"
      ]
     },
     "metadata": {
      "needs_background": "light"
     },
     "output_type": "display_data"
    }
   ],
   "source": [
    "plt.loglog()\n",
    "plt.scatter(gammaDot,eta_e)"
   ]
  },
  {
   "cell_type": "code",
   "execution_count": 40,
   "id": "trying-services",
   "metadata": {},
   "outputs": [],
   "source": [
    "eta_e_fit = f(gammaDot,*popt)"
   ]
  },
  {
   "cell_type": "code",
   "execution_count": 41,
   "id": "hungry-sharing",
   "metadata": {},
   "outputs": [
    {
     "data": {
      "text/plain": [
       "[<matplotlib.lines.Line2D at 0x7fc3567f9760>]"
      ]
     },
     "execution_count": 41,
     "metadata": {},
     "output_type": "execute_result"
    },
    {
     "data": {
      "image/png": "[encoded data removed]",
      "text/plain": [
       "<Figure size 432x288 with 1 Axes>"
      ]
     },
     "metadata": {
      "needs_background": "light"
     },
     "output_type": "display_data"
    }
   ],
   "source": [
    "plt.loglog()\n",
    "plt.scatter(gammaDot,eta_e)\n",
    "plt.plot(gammaDot,eta_e_fit)"
   ]
  },
  {
   "cell_type": "code",
   "execution_count": 64,
   "id": "congressional-malpractice",
   "metadata": {},
   "outputs": [
    {
     "data": {
      "text/plain": [
       "[<matplotlib.lines.Line2D at 0x7fc355e62f10>]"
      ]
     },
     "execution_count": 64,
     "metadata": {},
     "output_type": "execute_result"
    },
    {
     "data": {
      "image/png": "[encoded data removed]",
      "text/plain": [
       "<Figure size 432x288 with 1 Axes>"
      ]
     },
     "metadata": {
      "needs_background": "light"
     },
     "output_type": "display_data"
    }
   ],
   "source": [
    "plt.ylim([-10,10])\n",
    "plt.scatter(gammaDot,eta_e)\n",
    "plt.plot(gammaDot,eta_e_fit)\n"
   ]
  },
  {
   "cell_type": "code",
   "execution_count": 42,
   "id": "interstate-tamil",
   "metadata": {},
   "outputs": [],
   "source": [
    "def g(gammaDot,mu0,mu_inf,Lambda,n):\n",
    "    return np.log(mu_inf + (mu0-mu_inf)*(1+(Lambda*gammaDot)**2)**((n-1)/2))"
   ]
  },
  {
   "cell_type": "code",
   "execution_count": 43,
   "id": "technical-denmark",
   "metadata": {},
   "outputs": [],
   "source": [
    "log_eta_e = np.log(eta_e)"
   ]
  },
  {
   "cell_type": "code",
   "execution_count": 45,
   "id": "dress-demonstration",
   "metadata": {},
   "outputs": [
    {
     "data": {
      "text/plain": [
       "<matplotlib.collections.PathCollection at 0x7fc35665cb20>"
      ]
     },
     "execution_count": 45,
     "metadata": {},
     "output_type": "execute_result"
    },
    {
     "data": {
      "image/png": "[encoded data removed]",
      "text/plain": [
       "<Figure size 432x288 with 1 Axes>"
      ]
     },
     "metadata": {
      "needs_background": "light"
     },
     "output_type": "display_data"
    }
   ],
   "source": [
    "plt.scatter(gammaDot,log_eta_e)"
   ]
  },
  {
   "cell_type": "code",
   "execution_count": 70,
   "id": "nutritional-essay",
   "metadata": {},
   "outputs": [],
   "source": [
    "log_popt,log_pcov = opt.curve_fit(g,gammaDot,log_eta_e,p0=[10,1,10000,0.2])"
   ]
  },
  {
   "cell_type": "code",
   "execution_count": 73,
   "id": "advanced-saint",
   "metadata": {},
   "outputs": [],
   "source": [
    "eta_e_fit = np.exp(g(gammaDot,*log_popt))"
   ]
  },
  {
   "cell_type": "code",
   "execution_count": 76,
   "id": "described-sandwich",
   "metadata": {},
   "outputs": [
    {
     "data": {
      "text/plain": [
       "[<matplotlib.lines.Line2D at 0x7fc355ae4a90>]"
      ]
     },
     "execution_count": 76,
     "metadata": {},
     "output_type": "execute_result"
    },
    {
     "data": {
      "image/png": "[encoded data removed]",
      "text/plain": [
       "<Figure size 432x288 with 1 Axes>"
      ]
     },
     "metadata": {
      "needs_background": "light"
     },
     "output_type": "display_data"
    }
   ],
   "source": [
    "plt.loglog()\n",
    "plt.scatter(gammaDot,eta_e)\n",
    "plt.plot(gammaDot,eta_e_fit,'r-')"
   ]
  },
  {
   "cell_type": "code",
   "execution_count": 75,
   "id": "distinguished-major",
   "metadata": {},
   "outputs": [
    {
     "data": {
      "text/plain": [
       "array([1.00939592e+04, 1.71245370e-01, 1.38369632e+03, 1.64522087e-01])"
      ]
     },
     "execution_count": 75,
     "metadata": {},
     "output_type": "execute_result"
    }
   ],
   "source": [
    "log_popt"
   ]
  },
  {
   "cell_type": "code",
   "execution_count": null,
   "id": "elder-houston",
   "metadata": {},
   "outputs": [],
   "source": []
  }
 ],
 "metadata": {
  "kernelspec": {
   "display_name": "Python 3 (ipykernel)",
   "language": "python",
   "name": "python3"
  },
  "language_info": {
   "codemirror_mode": {
    "name": "ipython",
    "version": 3
   },
   "file_extension": ".py",
   "mimetype": "text/x-python",
   "name": "python",
   "nbconvert_exporter": "python",
   "pygments_lexer": "ipython3",
   "version": "3.8.12"
  }
 },
 "nbformat": 4,
 "nbformat_minor": 5
}
