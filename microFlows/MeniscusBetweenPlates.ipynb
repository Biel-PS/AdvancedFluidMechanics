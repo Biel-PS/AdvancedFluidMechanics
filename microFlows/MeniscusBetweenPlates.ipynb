{
 "cells": [
  {
   "cell_type": "markdown",
   "id": "emotional-incentive",
   "metadata": {},
   "source": [
    "# Meniscus between plates "
   ]
  },
  {
   "attachments": {
    "f0aa6fb3-8c54-446e-b33c-b3bd87de3f69.png": {
     "image/png": "[encoded data removed]"
    }
   },
   "cell_type": "markdown",
   "id": "specific-canyon",
   "metadata": {},
   "source": [
    "***\n",
    "\n",
    "### Exercise\n",
    "\n",
    "Find the shape for two parallels walls separated a distance $L$\n",
    "\n",
    "Hint: In the middle point between both walls, curvature is not zero, so there is also there a pressure jump. This pressure jump is related, then, to the height of the column, $H$. I suggest to change corrdinate axes, as shown in the picture, and change the first equation as\n",
    "\n",
    "$$ \\frac{\\rho g (z+H)}{\\gamma} - \\frac{z''}{\\left(1 + {z'}^2\\right)^{3/2}} = 0 $$\n",
    "\n",
    "Also, there are 2 boundary conditions: the derivative of $z(x)$ for $x=-\\frac{L}{2}$ and for $x=\\frac{L}{2}$\n",
    "\n",
    "![image.png](attachment:f0aa6fb3-8c54-446e-b33c-b3bd87de3f69.png)\n",
    "\n",
    "***"
   ]
  },
  {
   "cell_type": "markdown",
   "id": "headed-effort",
   "metadata": {},
   "source": [
    "The exact solution of this problems can be found, both for planar and axisymmetric (capillary tube) can be found in [this paper by Liu et al.(2018)](https://link.springer.com/article/10.1140/epje/i2018-11648-1). We are going to find the shape with numerical integration, in a similar way as we have done with the shape with only one \n",
    "plate."
   ]
  },
  {
   "cell_type": "markdown",
   "id": "textile-korea",
   "metadata": {},
   "source": [
    "We ca consider two method. In the first, we perform one integration of the second order ODE and the second is numerically integrated. In the second method, that is left as exercise, the second order ODE is written as a system of two first order ODE's and both are numerically integrated"
   ]
  },
  {
   "cell_type": "markdown",
   "id": "elementary-courage",
   "metadata": {},
   "source": [
    "## Method 1"
   ]
  },
  {
   "cell_type": "markdown",
   "id": "cathedral-working",
   "metadata": {},
   "source": [
    "In this method the origin of $x$ is at the wall and the numerical integration is done until the middle point between plates. All the variables are normalized with capillary length \n",
    "$ l_s = \\frac{\\rho g}{\\gamma} $ (see [microflows notebook](https://nbviewer.jupyter.org/github/rclUPC/AdvancedFluidMechanics/blob/main/microFlows/Microflows.ipynb#Example-:-Shape-of-fluid-interface-near-a-wall)). Hence,\n",
    "\n",
    "\\begin{eqnarray}\n",
    "\\xi &=& \\frac{x}{l_s} \\\\\n",
    "\\eta &=& \\frac{z}{l_s} \\\\\n",
    "\\beta &=& \\frac{H}{l_s} \\\\\n",
    "\\lambda &=& \\frac{L}{l_s} \n",
    "\\end{eqnarray}"
   ]
  },
  {
   "cell_type": "code",
   "execution_count": null,
   "id": "desirable-meaning",
   "metadata": {},
   "outputs": [],
   "source": [
    "from IPython.display import display, Markdown\n",
    "import numpy as np\n",
    "import sympy as sp\n",
    "sp.init_printing()"
   ]
  },
  {
   "cell_type": "code",
   "execution_count": null,
   "id": "native-participation",
   "metadata": {},
   "outputs": [],
   "source": [
    "xi,theta, beta = sp.symbols('xi,theta,beta',positive=True)\n",
    "eta = sp.Function('eta')\n",
    "exp = (eta(xi)+beta)-eta(xi).diff(xi,2)/(1+eta(xi).diff(xi)**2)**(3/2)\n",
    "display(exp)"
   ]
  },
  {
   "cell_type": "markdown",
   "id": "institutional-cricket",
   "metadata": {},
   "source": [
    "As in the case of one plate, this equation can be integrated with an integration factor $\\eta'$."
   ]
  },
  {
   "cell_type": "code",
   "execution_count": null,
   "id": "blond-princess",
   "metadata": {},
   "outputs": [],
   "source": [
    "exp = exp*eta(xi).diff(xi)\n",
    "display(exp)"
   ]
  },
  {
   "cell_type": "code",
   "execution_count": null,
   "id": "expired-luther",
   "metadata": {},
   "outputs": [],
   "source": [
    "exp2 = exp.integrate(xi)\n",
    "display(exp2)"
   ]
  },
  {
   "cell_type": "markdown",
   "id": "sustainable-implement",
   "metadata": {},
   "source": [
    "Again, when $\\eta=0$, the first derivative is $0$ too, so, this is again 1. And $delta$, the normalized height of water in the wall (above center of meniscus) can be calculated by imposing its derivative."
   ]
  },
  {
   "cell_type": "code",
   "execution_count": null,
   "id": "least-hygiene",
   "metadata": {},
   "outputs": [],
   "source": [
    "dEq = sp.Eq(exp2,1)\n",
    "display(dEq)\n",
    "delta = sp.symbols('delta')\n",
    "deltaEq = dEq.replace(eta(xi).diff(xi),-1/sp.tan(theta)).replace(eta(xi),delta)\n",
    "display(deltaEq)"
   ]
  },
  {
   "cell_type": "markdown",
   "id": "hired-cocktail",
   "metadata": {},
   "source": [
    "We keep the second solution, which is the positive one"
   ]
  },
  {
   "cell_type": "code",
   "execution_count": null,
   "id": "refined-territory",
   "metadata": {},
   "outputs": [],
   "source": [
    "deltaSol=sp.solve(deltaEq,delta)[1]\n",
    "deltaSol.simplify().trigsimp()\n",
    "display(deltaSol)"
   ]
  },
  {
   "cell_type": "markdown",
   "id": "cubic-activation",
   "metadata": {},
   "source": [
    "This is function of the contact angle ($\\theta$) but also of the height of the column, $\\beta$. The higher is $\\beta$, the lower is $\\delta$. This is because also $\\lambda$ will be lower, and the meniscus is narrower.\n",
    "\n",
    "We construct a function to calculate the numerical value of $\\delta$ (initial value of $\\eta$) with $\\beta$ and $\\theta$."
   ]
  },
  {
   "cell_type": "code",
   "execution_count": null,
   "id": "supposed-federation",
   "metadata": {},
   "outputs": [],
   "source": [
    "eta0_n = sp.lambdify((beta,theta),deltaSol)"
   ]
  },
  {
   "cell_type": "markdown",
   "id": "equipped-shirt",
   "metadata": {},
   "source": [
    "and also, we construct the first order that we want to integrate, by defining the first derivative of $\\eta$."
   ]
  },
  {
   "cell_type": "code",
   "execution_count": null,
   "id": "higher-census",
   "metadata": {},
   "outputs": [],
   "source": [
    "f = sp.solve(dEq,eta(xi).diff(xi))[0]\n",
    "display(f)"
   ]
  },
  {
   "cell_type": "markdown",
   "id": "noticed-modeling",
   "metadata": {},
   "source": [
    "and its numerical version"
   ]
  },
  {
   "cell_type": "code",
   "execution_count": null,
   "id": "sealed-fiber",
   "metadata": {},
   "outputs": [],
   "source": [
    "f_np = sp.lambdify((eta(xi),xi,beta),f)"
   ]
  },
  {
   "cell_type": "markdown",
   "id": "comic-moment",
   "metadata": {},
   "source": [
    "and now we can integrate it, choosing input values for contact angle $\\theta$ and for $\\beta$ (height of column)."
   ]
  },
  {
   "cell_type": "code",
   "execution_count": null,
   "id": "numerous-throw",
   "metadata": {},
   "outputs": [],
   "source": [
    "from scipy.integrate import odeint\n",
    "theta_n = np.deg2rad(30)\n",
    "beta_n = 1.5\n",
    "eta0 = sp.N(eta0_n(beta_n,theta_n),4)\n",
    "display(eta0)"
   ]
  },
  {
   "cell_type": "markdown",
   "id": "adult-productivity",
   "metadata": {},
   "source": [
    "An estimation of distance between plates can be done easily with the circular approximation, yielding $\\lambda = \\frac{2\\cos{\\theta}}{\\beta}$. So, the distance to the middle point will be around $\\frac{\\cos{\\theta}}{\\beta}$. We use a slightly larger value for the limit of numerical integration"
   ]
  },
  {
   "cell_type": "code",
   "execution_count": null,
   "id": "revised-justice",
   "metadata": {},
   "outputs": [],
   "source": [
    "l_2_est = np.cos(theta_n)/beta_n\n",
    "xi_p = np.linspace(0,1.1*l_2_est,1000) # long enough for our case\n",
    "eta_np = odeint(f_np,eta0,xi_p,args=(beta_n,))[:,0] #odeint returns an 2-D array (one for each equation of the system) with only one row. We only need the 1-D array."
   ]
  },
  {
   "cell_type": "markdown",
   "id": "arbitrary-country",
   "metadata": {},
   "source": [
    "It gives a warning because beyond the middle point of meniscus the derivative gives imaginary values (negative argument in the root square of `f`. A trick is to detect this `NaN` \n",
    "and drop them from `eta_np` and `xi_p`. Then, the last value of `xi_p` is the numerical result for $\\lambda/2$. "
   ]
  },
  {
   "cell_type": "code",
   "execution_count": null,
   "id": "alert-advice",
   "metadata": {},
   "outputs": [],
   "source": [
    "xi_p = xi_p[~np.isnan(eta_np)]\n",
    "eta_np = eta_np[~np.isnan(eta_np)]\n",
    "l_2 = xi_p[-1]\n",
    "display(Markdown(r'numerical value for $\\lambda$: {:.3g}'.format(l_2*2)))\n",
    "display(Markdown(r'estimated value for $\\lambda$: {:.3g}'.format(l_2_est*2)))"
   ]
  },
  {
   "cell_type": "code",
   "execution_count": null,
   "id": "reverse-clark",
   "metadata": {},
   "outputs": [],
   "source": [
    "R = l_2/np.cos(theta_n)\n",
    "eta_circ = R - np.sqrt(R**2 - (l_2-xi_p)**2)"
   ]
  },
  {
   "cell_type": "code",
   "execution_count": null,
   "id": "greatest-atmosphere",
   "metadata": {},
   "outputs": [],
   "source": [
    "import matplotlib.pyplot as plt\n",
    "fig,ax = plt.subplots(figsize=(12,4))\n",
    "plt.gca().set_aspect('equal', adjustable='box')\n",
    "ax.plot(xi_p,eta_np,scaley=True, label='numerical')\n",
    "ax.plot(xi_p,eta_circ,scaley=True, label ='cercle')\n",
    "ax.legend()"
   ]
  },
  {
   "cell_type": "markdown",
   "id": "expanded-outreach",
   "metadata": {},
   "source": [
    "## Method 2"
   ]
  },
  {
   "cell_type": "markdown",
   "id": "industrial-recommendation",
   "metadata": {},
   "source": [
    "In this method, we write the second order ODE as a system of two first order ODE's:\n",
    "\n",
    "\\begin{eqnarray}\n",
    "\\zeta'(\\zeta,\\eta,\\xi) &=& (\\eta(\\xi) + \\beta)\\left(1+\\zeta(\\xi)^2\\right)^\\frac{3}{2} \\\\\n",
    "\\eta'(\\zeta,\\eta,\\xi) &=& \\zeta(\\xi)\n",
    "\\end{eqnarray}\n",
    "\n",
    "and, if the coordinates are centered in the middle point (as indicated in the figure), the initial conditions are $\\eta(\\xi=0)=\\zeta(\\xi=0)=0$.\n",
    "\n",
    "_Question:_ How do we calculate the value of $\\lambda$?"
   ]
  }
 ],
 "metadata": {
  "kernelspec": {
   "display_name": "Python 3",
   "language": "python",
   "name": "python3"
  },
  "language_info": {
   "codemirror_mode": {
    "name": "ipython",
    "version": 3
   },
   "file_extension": ".py",
   "mimetype": "text/x-python",
   "name": "python",
   "nbconvert_exporter": "python",
   "pygments_lexer": "ipython3",
   "version": "3.8.5"
  }
 },
 "nbformat": 4,
 "nbformat_minor": 5
}
