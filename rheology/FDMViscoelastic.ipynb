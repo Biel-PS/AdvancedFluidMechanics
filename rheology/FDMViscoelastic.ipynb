{
 "cells": [
  {
   "cell_type": "markdown",
   "metadata": {},
   "source": [
    "# Viscoelastic fluid in a pipe (Maxwell model)"
   ]
  },
  {
   "cell_type": "markdown",
   "metadata": {},
   "source": [
    "We are going to consider the problem of transient flow of viscoelastic flow in a pipe.\n",
    "\n",
    "The transient equation for laminar flow, with velocity only in radial equation is\n",
    "\n",
    "$$ \\rho \\frac{\\partial u}{\\partial t} = P + \\frac{1}{r}\\frac{\\partial r\\tau}{\\partial r} $$\n",
    "\n",
    "where we denote $P = -\\frac{\\partial p}{\\partial z}$, where $z$ is the axis of the pipe. \n",
    "\n",
    "For a **Newtonian flow**, stress tensor is computed with\n",
    "\n",
    "$$ \\tau = \\eta \\frac{\\partial u}{\\partial r}$$\n",
    "\n",
    "and the solution is the well known [Hagen-Poiseuille flow](https://en.wikipedia.org/wiki/Hagen%E2%80%93Poiseuille_equation). However, if a **viscoelastic fluid** is considered, the stress is computed with\n",
    "\n",
    "$$ \\tau + \\lambda \\frac{\\partial \\tau}{\\partial t} = \\eta \\frac{\\partial u}{\\partial r} $$\n",
    "\n",
    "where $\\lambda$ is the relaxation time."
   ]
  },
  {
   "cell_type": "markdown",
   "metadata": {},
   "source": [
    "We can write this equations with dimensionless variables, by defining\n",
    "\n",
    "\\begin{eqnarray}\n",
    "r^* &=& \\frac{r}{R} \\\\\n",
    "t^* &=& \\frac{\\eta}{\\rho R^2}t \\\\\n",
    "u^* &=& \\frac{4\\eta}{R^2P}u \\\\\n",
    "\\tau^* &=& \\frac{4}{RP}\\tau \\\\\n",
    "\\xi &=& \\frac{\\eta}{\\rho R^2}\\lambda\n",
    "\\end{eqnarray}\n",
    "\n",
    "With these variables, the dimensionless equations are (we drop the \"*\" for the sake of simplicity):\n",
    "\n",
    "\\begin{eqnarray}\n",
    "\\frac{\\partial u}{\\partial t} &=& 4 + \\frac{\\partial \\tau}{\\partial r} + \\frac{\\tau}{r} \\\\\n",
    "\\tau + \\xi\\frac{\\partial \\tau}{\\partial t} &=& \\frac{\\partial u}{\\partial r}\n",
    "\\end{eqnarray}\n",
    "\n",
    "The boundary conditions are:\n",
    "\n",
    "$$ u(r=1) = 0 \\;\\forall t $$\n",
    "$$ \\left(\\frac{\\partial u}{\\partial r}\\right)_{r=0} = 0\\;\\forall t$$\n",
    "\n",
    "and the initial conditions are \n",
    "\n",
    "$$ u(r) = \\tau(r) = 0 \\;\\text{for}\\,t=0$$"
   ]
  },
  {
   "cell_type": "markdown",
   "metadata": {},
   "source": [
    "This is a system of PDE that cannot be solved analytically (at least, not easily).\n",
    "\n",
    "The more easier method is to use the [Finite Difference Method](https://en.wikipedia.org/wiki/Finite_difference_method) (FD) Method\n",
    "\n",
    "Translating the previous equations to FD language, with explicit scheme, with central difference in space and forward in time, we get\n",
    "\n",
    "\\begin{eqnarray}\n",
    "\\frac{u_i^{n+1} - u_i^n}{\\Delta t} &=& 4 + \\frac{\\tau_i^{n+1} - \\tau_i^{n-1}}{2\\Delta r} + \\frac{\\tau_i^n}{r_i} \\\\\n",
    "\\tau_i^n + \\xi\\frac{\\tau_i^{n+1} - \\tau_i^n}{\\Delta t} &=& \\frac{u_{i+1}^n-u_{i-1}^n}{2\\Delta r}\n",
    "\\end{eqnarray}\n",
    "\n",
    "and, in terms of previous time step,\n",
    "\n",
    "\\begin{eqnarray}\n",
    "u_i^{n+1} &=& u_i^n + \\Delta t\\left( 4 + \\frac{\\tau_i^{n+1} - \\tau_i^{n-1}}{2\\Delta r} + \\frac{\\tau_i^n}{r_i} \\right) \\\\\n",
    "\\tau_i^{n+1} &=& \\tau_i^n + \\frac{\\Delta t}{\\xi}\\left(\\frac{u_{i+1}^n-u_{i-1}^n}{2\\Delta r} - \\tau_i^n  \\right) \n",
    "\\end{eqnarray}"
   ]
  },
  {
   "cell_type": "code",
   "execution_count": 1,
   "metadata": {},
   "outputs": [],
   "source": [
    "def uNew(u,tau,tauS,tauN,r):\n",
    "    return (u + deltat*(4+(tauN-tauS)/(2*deltar)+tau/r))\n",
    "\n",
    "def tauNew(tau,uS,uN):\n",
    "    #return (xi/(xi+deltat)*tau+deltat/(2*deltar*(deltat+xi))*(uN-uS))\n",
    "    return (tau + deltat/xi*((uN-uS)/(2*deltar)-tau))\n",
    "    \n",
    "def tauNewNew(uS,uN):\n",
    "    return (1/(2*deltar)*(uN-uS))"
   ]
  },
  {
   "cell_type": "code",
   "execution_count": 2,
   "metadata": {},
   "outputs": [],
   "source": [
    "import numpy as np"
   ]
  },
  {
   "cell_type": "code",
   "execution_count": 8,
   "metadata": {},
   "outputs": [],
   "source": [
    "N = 100\n",
    "T = 1 #dimensionless\n",
    "K = 100\n",
    "deltar = 1/N\n",
    "deltat = T/K\n",
    "xi = 1"
   ]
  },
  {
   "cell_type": "code",
   "execution_count": 9,
   "metadata": {},
   "outputs": [],
   "source": [
    "u = np.zeros((N,K))\n",
    "tau = np.zeros((N,K))"
   ]
  },
  {
   "cell_type": "code",
   "execution_count": 10,
   "metadata": {},
   "outputs": [],
   "source": [
    "for k in range(1,K-1):\n",
    "    for i in range(1,N-1):\n",
    "        tau[i,k] = tauNew(tau[i,k-1],u[i-1,k],u[i+1,k])\n",
    "    for i in range(1,N-1):\n",
    "        u[i,k+1] = uNew(u[i,k],tau[i,k],tau[i-1,k],tau[i+1,k],i*deltar)\n",
    "    u[0,k] = u[1,k]\n",
    "    u[N-1,k] = 0"
   ]
  },
  {
   "cell_type": "code",
   "execution_count": 11,
   "metadata": {},
   "outputs": [
    {
     "data": {
      "text/plain": [
       "0.01"
      ]
     },
     "execution_count": 11,
     "metadata": {},
     "output_type": "execute_result"
    }
   ],
   "source": [
    "deltar"
   ]
  },
  {
   "cell_type": "code",
   "execution_count": 17,
   "metadata": {},
   "outputs": [
    {
     "data": {
      "text/plain": [
       "[<matplotlib.lines.Line2D at 0x7fcf27437670>]"
      ]
     },
     "execution_count": 17,
     "metadata": {},
     "output_type": "execute_result"
    },
    {
     "data": {
      "image/png": "[encoded data removed]",
      "text/plain": [
       "<Figure size 432x288 with 1 Axes>"
      ]
     },
     "metadata": {
      "needs_background": "light"
     },
     "output_type": "display_data"
    }
   ],
   "source": [
    "import matplotlib.pyplot as plt\n",
    "plt.plot(u[0,:50],'o-')\n",
    "#plt.plot(tau[:,0])"
   ]
  },
  {
   "cell_type": "code",
   "execution_count": 13,
   "metadata": {},
   "outputs": [
    {
     "data": {
      "text/plain": [
       "[<matplotlib.lines.Line2D at 0x7fcf275c55b0>]"
      ]
     },
     "execution_count": 13,
     "metadata": {},
     "output_type": "execute_result"
    },
    {
     "data": {
      "image/png": "[encoded data removed]",
      "text/plain": [
       "<Figure size 432x288 with 1 Axes>"
      ]
     },
     "metadata": {
      "needs_background": "light"
     },
     "output_type": "display_data"
    }
   ],
   "source": [
    "plt.plot(u[:,5],'o-')"
   ]
  },
  {
   "cell_type": "code",
   "execution_count": 45,
   "metadata": {},
   "outputs": [
    {
     "data": {
      "text/plain": [
       "array([0.16, 0.16, 0.16, 0.16, 0.16, 0.16, 0.16, 0.16, 0.16, 0.16, 0.16,\n",
       "       0.16, 0.16, 0.16, 0.16, 0.16, 0.16, 0.16, 0.16, 0.16, 0.16, 0.16,\n",
       "       0.16, 0.16, 0.16, 0.16, 0.16, 0.16, 0.16, 0.16, 0.16, 0.16, 0.16,\n",
       "       0.16, 0.16, 0.16, 0.16, 0.16, 0.16, 0.16, 0.16, 0.16, 0.16, 0.16,\n",
       "       0.16, 0.16, 0.16, 0.16, 0.16, 0.16, 0.16, 0.16, 0.16, 0.16, 0.16,\n",
       "       0.16, 0.16, 0.16, 0.16, 0.16, 0.16, 0.16, 0.16, 0.16, 0.16, 0.16,\n",
       "       0.16, 0.16, 0.16, 0.16, 0.16, 0.16, 0.16, 0.16, 0.16, 0.16, 0.16,\n",
       "       0.16, 0.16, 0.16, 0.16, 0.16, 0.16, 0.16, 0.16, 0.16, 0.16, 0.16,\n",
       "       0.16, 0.16, 0.16, 0.16, 0.16, 0.16, 0.16, 0.16, 0.16, 0.16, 0.16,\n",
       "       0.  ])"
      ]
     },
     "execution_count": 45,
     "metadata": {},
     "output_type": "execute_result"
    }
   ],
   "source": [
    "u[3,:]"
   ]
  },
  {
   "cell_type": "code",
   "execution_count": 80,
   "metadata": {},
   "outputs": [
    {
     "data": {
      "text/plain": [
       "array([ 0.00000000e+00,  9.38322955e-03, -3.82468596e-04,  1.91234298e-04,\n",
       "        0.00000000e+00,  0.00000000e+00,  0.00000000e+00,  0.00000000e+00,\n",
       "        0.00000000e+00,  0.00000000e+00,  0.00000000e+00,  0.00000000e+00,\n",
       "        0.00000000e+00,  0.00000000e+00,  0.00000000e+00,  0.00000000e+00,\n",
       "        0.00000000e+00,  0.00000000e+00,  0.00000000e+00,  0.00000000e+00,\n",
       "        0.00000000e+00,  0.00000000e+00,  0.00000000e+00,  0.00000000e+00,\n",
       "        0.00000000e+00,  0.00000000e+00,  0.00000000e+00,  0.00000000e+00,\n",
       "        0.00000000e+00,  0.00000000e+00,  0.00000000e+00,  0.00000000e+00,\n",
       "        0.00000000e+00,  0.00000000e+00,  0.00000000e+00,  0.00000000e+00,\n",
       "        0.00000000e+00,  0.00000000e+00,  0.00000000e+00,  0.00000000e+00,\n",
       "        0.00000000e+00,  0.00000000e+00,  0.00000000e+00,  0.00000000e+00,\n",
       "        0.00000000e+00,  0.00000000e+00,  0.00000000e+00,  0.00000000e+00,\n",
       "        0.00000000e+00,  0.00000000e+00,  0.00000000e+00,  0.00000000e+00,\n",
       "        0.00000000e+00,  0.00000000e+00,  0.00000000e+00,  0.00000000e+00,\n",
       "        0.00000000e+00,  0.00000000e+00,  0.00000000e+00,  0.00000000e+00,\n",
       "        0.00000000e+00,  0.00000000e+00,  0.00000000e+00,  0.00000000e+00,\n",
       "        0.00000000e+00,  0.00000000e+00,  0.00000000e+00,  0.00000000e+00,\n",
       "        0.00000000e+00,  0.00000000e+00,  0.00000000e+00,  0.00000000e+00,\n",
       "        0.00000000e+00,  0.00000000e+00,  0.00000000e+00,  0.00000000e+00,\n",
       "        0.00000000e+00,  0.00000000e+00,  0.00000000e+00,  0.00000000e+00,\n",
       "        0.00000000e+00,  0.00000000e+00,  0.00000000e+00,  0.00000000e+00,\n",
       "        0.00000000e+00,  0.00000000e+00,  0.00000000e+00,  0.00000000e+00,\n",
       "        0.00000000e+00,  0.00000000e+00,  0.00000000e+00,  0.00000000e+00,\n",
       "        0.00000000e+00,  0.00000000e+00,  0.00000000e+00,  0.00000000e+00,\n",
       "       -1.91234298e-04, -3.90274077e-06, -9.38322955e-03,  0.00000000e+00])"
      ]
     },
     "execution_count": 80,
     "metadata": {},
     "output_type": "execute_result"
    }
   ],
   "source": [
    "tau[6,:]"
   ]
  },
  {
   "cell_type": "code",
   "execution_count": null,
   "metadata": {},
   "outputs": [],
   "source": []
  }
 ],
 "metadata": {
  "kernelspec": {
   "display_name": "Python 3",
   "language": "python",
   "name": "python3"
  },
  "language_info": {
   "codemirror_mode": {
    "name": "ipython",
    "version": 3
   },
   "file_extension": ".py",
   "mimetype": "text/x-python",
   "name": "python",
   "nbconvert_exporter": "python",
   "pygments_lexer": "ipython3",
   "version": "3.8.5"
  }
 },
 "nbformat": 4,
 "nbformat_minor": 4
}
